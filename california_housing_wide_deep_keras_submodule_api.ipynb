{
  "nbformat": 4,
  "nbformat_minor": 0,
  "metadata": {
    "colab": {
      "provenance": [],
      "authorship_tag": "ABX9TyOCoa2KitKmFv2mgKuZ7p4j",
      "include_colab_link": true
    },
    "kernelspec": {
      "name": "python3",
      "display_name": "Python 3"
    },
    "language_info": {
      "name": "python"
    }
  },
  "cells": [
    {
      "cell_type": "markdown",
      "metadata": {
        "id": "view-in-github",
        "colab_type": "text"
      },
      "source": [
        "<a href=\"https://colab.research.google.com/github/SandeeeeeeeeepDey/data-science-11-weeks-progg/blob/main/california_housing_wide_deep_keras_submodule_api.ipynb\" target=\"_parent\"><img src=\"https://colab.research.google.com/assets/colab-badge.svg\" alt=\"Open In Colab\"/></a>"
      ]
    },
    {
      "cell_type": "markdown",
      "source": [
        "To avoid static graph type usage in keras\n",
        "> We use this dynamic graph structure to include\n",
        "> *   Looping\n",
        "*   Verity of shapes\n",
        "*   Conditional branching\n",
        "\n"
      ],
      "metadata": {
        "id": "ZH_H-8q_Dznk"
      }
    },
    {
      "cell_type": "markdown",
      "source": [
        "#Subclassing API in keras"
      ],
      "metadata": {
        "id": "yn61_JaBFQyt"
      }
    },
    {
      "cell_type": "markdown",
      "source": [
        "##Pre"
      ],
      "metadata": {
        "id": "V0yGcDImgOsg"
      }
    },
    {
      "cell_type": "code",
      "execution_count": 1,
      "metadata": {
        "id": "zOKGymyQDl5H"
      },
      "outputs": [],
      "source": [
        "import tensorflow as tf\n",
        "from sklearn.datasets import fetch_california_housing\n",
        "import pandas as pd"
      ]
    },
    {
      "cell_type": "code",
      "source": [
        "fetch = fetch_california_housing()"
      ],
      "metadata": {
        "id": "ZdGUcQYkFyFQ"
      },
      "execution_count": 2,
      "outputs": []
    },
    {
      "cell_type": "code",
      "source": [
        "data = pd.DataFrame(fetch[\"data\"], columns=fetch[\"feature_names\"])\n",
        "target = pd.Series(fetch[\"target\"], name = fetch[\"target_names\"][0])"
      ],
      "metadata": {
        "id": "BCbTKi_fF7pV"
      },
      "execution_count": 6,
      "outputs": []
    },
    {
      "cell_type": "code",
      "source": [
        "train_size = int(len(data)*0.8)\n",
        "test_size = round(len(data)*0.1)"
      ],
      "metadata": {
        "id": "B2DFQktaGj_o"
      },
      "execution_count": 7,
      "outputs": []
    },
    {
      "cell_type": "code",
      "source": [
        "X_train, y_train = data[:train_size], target[:train_size]\n",
        "X_valid, y_valid = data[train_size: train_size+test_size], target[train_size: train_size+test_size]\n",
        "X_test, y_valid = data[train_size+test_size:], target[train_size+test_size:]"
      ],
      "metadata": {
        "id": "-QPGoH7cGPuf"
      },
      "execution_count": 20,
      "outputs": []
    },
    {
      "cell_type": "code",
      "source": [
        "X_train = X_train.iloc[:, :5], X_train.iloc[:, 2:]\n",
        "X_valid = X_valid.iloc[:, :5], X_valid.iloc[:, 2:]\n",
        "X_test = X_test.iloc[:, :5], X_test.iloc[:, 2:]"
      ],
      "metadata": {
        "id": "B7qgSHR1Ga6B"
      },
      "execution_count": 21,
      "outputs": []
    },
    {
      "cell_type": "markdown",
      "source": [
        "##Model"
      ],
      "metadata": {
        "id": "hWnGh2qigRSl"
      }
    },
    {
      "cell_type": "code",
      "source": [
        "class WnD(tf.keras.Model):\n",
        "  def __init__(self, units = 30, activation = \"relu\", **kwargs):\n",
        "    super().__init__(**kwargs)\n",
        "    self.norm_layer_wide = tf.keras.layers.Normalization()\n",
        "    self.norm_layer_deep = tf.keras.layers.Normalization()\n",
        "    self.hidden1 = tf.keras.layers.Dense(units, activation = activation)\n",
        "    self.hidden2 = tf.keras.layers.Dense(units, activation = activation)\n",
        "    self.main_output = tf.keras.layers.Dense(1)\n",
        "    self.aux_output = tf.keras.layers.Dense(1)\n",
        "  def call(self, inputs):\n",
        "    input_wide, input_deep = inputs\n",
        "    norm_wide = self.norm_layer_wide(input_wide)\n",
        "    norm_deep = self.norm_layer_deep(input_deep)\n",
        "    hidden1 = self.hidden1(norm_deep)\n",
        "    hidden2 = self.hidden2(hidden1)\n",
        "    concat = tf.keras.layers.concatenate([norm_wide, hidden2])\n",
        "    output = self.main_output(concat)\n",
        "    aux_output = self.aux_output(hidden2)\n",
        "    return output, aux_output\n",
        "\n",
        "model = WnD(name = \"subclass_api\")"
      ],
      "metadata": {
        "id": "Yl6ac0XCKFZI"
      },
      "execution_count": 37,
      "outputs": []
    },
    {
      "cell_type": "code",
      "source": [
        "optimizer = tf.keras.optimizers.Adam(learning_rate = 1e-3)"
      ],
      "metadata": {
        "id": "B8_0ad_qYw7W"
      },
      "execution_count": 38,
      "outputs": []
    },
    {
      "cell_type": "code",
      "source": [
        "model.compile(loss=\"mse\", optimizer = optimizer, metrics = \"RootMeanSquaredError\")"
      ],
      "metadata": {
        "id": "O19ovFCRZHtu"
      },
      "execution_count": 39,
      "outputs": []
    },
    {
      "cell_type": "code",
      "source": [
        "wide_t, deep_t = X_train\n",
        "model.norm_layer_wide.adapt(wide_t)\n",
        "model.norm_layer_deep.adapt(deep_t)"
      ],
      "metadata": {
        "id": "Wd7K9fPMab_V"
      },
      "execution_count": 40,
      "outputs": []
    },
    {
      "cell_type": "code",
      "source": [
        "history = model.fit(X_train, y_train, epochs = 20, validation_data = (X_valid, y_valid))"
      ],
      "metadata": {
        "colab": {
          "base_uri": "https://localhost:8080/"
        },
        "id": "-5TVFq6oa3h8",
        "outputId": "2af5ba4e-457c-45a3-a4e7-f06b795f10c7"
      },
      "execution_count": 41,
      "outputs": [
        {
          "output_type": "stream",
          "name": "stdout",
          "text": [
            "Epoch 1/20\n",
            "516/516 [==============================] - 4s 4ms/step - loss: 2.6940 - output_1_loss: 1.3477 - output_2_loss: 1.3463 - output_1_root_mean_squared_error: 1.1609 - output_2_root_mean_squared_error: 1.1603 - val_loss: 4.6870 - val_output_1_loss: 2.6327 - val_output_2_loss: 2.0544 - val_output_1_root_mean_squared_error: 1.6226 - val_output_2_root_mean_squared_error: 1.4333\n",
            "Epoch 2/20\n",
            "516/516 [==============================] - 2s 3ms/step - loss: 1.0844 - output_1_loss: 0.5026 - output_2_loss: 0.5819 - output_1_root_mean_squared_error: 0.7089 - output_2_root_mean_squared_error: 0.7628 - val_loss: 6.4172 - val_output_1_loss: 3.2972 - val_output_2_loss: 3.1200 - val_output_1_root_mean_squared_error: 1.8158 - val_output_2_root_mean_squared_error: 1.7664\n",
            "Epoch 3/20\n",
            "516/516 [==============================] - 2s 4ms/step - loss: 0.9465 - output_1_loss: 0.4269 - output_2_loss: 0.5195 - output_1_root_mean_squared_error: 0.6534 - output_2_root_mean_squared_error: 0.7208 - val_loss: 6.6647 - val_output_1_loss: 3.3297 - val_output_2_loss: 3.3349 - val_output_1_root_mean_squared_error: 1.8248 - val_output_2_root_mean_squared_error: 1.8262\n",
            "Epoch 4/20\n",
            "516/516 [==============================] - 2s 3ms/step - loss: 0.8692 - output_1_loss: 0.3906 - output_2_loss: 0.4785 - output_1_root_mean_squared_error: 0.6250 - output_2_root_mean_squared_error: 0.6918 - val_loss: 6.2116 - val_output_1_loss: 3.0769 - val_output_2_loss: 3.1346 - val_output_1_root_mean_squared_error: 1.7541 - val_output_2_root_mean_squared_error: 1.7705\n",
            "Epoch 5/20\n",
            "516/516 [==============================] - 2s 4ms/step - loss: 0.8023 - output_1_loss: 0.3622 - output_2_loss: 0.4401 - output_1_root_mean_squared_error: 0.6018 - output_2_root_mean_squared_error: 0.6634 - val_loss: 6.3613 - val_output_1_loss: 3.1325 - val_output_2_loss: 3.2288 - val_output_1_root_mean_squared_error: 1.7699 - val_output_2_root_mean_squared_error: 1.7969\n",
            "Epoch 6/20\n",
            "516/516 [==============================] - 2s 5ms/step - loss: 0.7712 - output_1_loss: 0.3487 - output_2_loss: 0.4224 - output_1_root_mean_squared_error: 0.5905 - output_2_root_mean_squared_error: 0.6499 - val_loss: 6.3279 - val_output_1_loss: 3.1238 - val_output_2_loss: 3.2040 - val_output_1_root_mean_squared_error: 1.7674 - val_output_2_root_mean_squared_error: 1.7900\n",
            "Epoch 7/20\n",
            "516/516 [==============================] - 2s 4ms/step - loss: 0.7675 - output_1_loss: 0.3501 - output_2_loss: 0.4173 - output_1_root_mean_squared_error: 0.5917 - output_2_root_mean_squared_error: 0.6460 - val_loss: 6.5076 - val_output_1_loss: 3.2594 - val_output_2_loss: 3.2482 - val_output_1_root_mean_squared_error: 1.8054 - val_output_2_root_mean_squared_error: 1.8023\n",
            "Epoch 8/20\n",
            "516/516 [==============================] - 2s 4ms/step - loss: 0.7391 - output_1_loss: 0.3372 - output_2_loss: 0.4018 - output_1_root_mean_squared_error: 0.5807 - output_2_root_mean_squared_error: 0.6339 - val_loss: 6.1178 - val_output_1_loss: 2.9771 - val_output_2_loss: 3.1407 - val_output_1_root_mean_squared_error: 1.7254 - val_output_2_root_mean_squared_error: 1.7722\n",
            "Epoch 9/20\n",
            "516/516 [==============================] - 2s 4ms/step - loss: 0.7267 - output_1_loss: 0.3310 - output_2_loss: 0.3957 - output_1_root_mean_squared_error: 0.5754 - output_2_root_mean_squared_error: 0.6290 - val_loss: 5.5768 - val_output_1_loss: 2.8325 - val_output_2_loss: 2.7442 - val_output_1_root_mean_squared_error: 1.6830 - val_output_2_root_mean_squared_error: 1.6566\n",
            "Epoch 10/20\n",
            "516/516 [==============================] - 2s 4ms/step - loss: 0.7170 - output_1_loss: 0.3270 - output_2_loss: 0.3900 - output_1_root_mean_squared_error: 0.5718 - output_2_root_mean_squared_error: 0.6245 - val_loss: 5.3742 - val_output_1_loss: 2.8028 - val_output_2_loss: 2.5714 - val_output_1_root_mean_squared_error: 1.6742 - val_output_2_root_mean_squared_error: 1.6036\n",
            "Epoch 11/20\n",
            "516/516 [==============================] - 2s 4ms/step - loss: 0.7182 - output_1_loss: 0.3297 - output_2_loss: 0.3885 - output_1_root_mean_squared_error: 0.5742 - output_2_root_mean_squared_error: 0.6233 - val_loss: 5.6236 - val_output_1_loss: 2.8261 - val_output_2_loss: 2.7975 - val_output_1_root_mean_squared_error: 1.6811 - val_output_2_root_mean_squared_error: 1.6726\n",
            "Epoch 12/20\n",
            "516/516 [==============================] - 3s 6ms/step - loss: 0.7290 - output_1_loss: 0.3372 - output_2_loss: 0.3918 - output_1_root_mean_squared_error: 0.5807 - output_2_root_mean_squared_error: 0.6259 - val_loss: 5.1597 - val_output_1_loss: 2.5960 - val_output_2_loss: 2.5637 - val_output_1_root_mean_squared_error: 1.6112 - val_output_2_root_mean_squared_error: 1.6012\n",
            "Epoch 13/20\n",
            "516/516 [==============================] - 2s 3ms/step - loss: 0.6955 - output_1_loss: 0.3175 - output_2_loss: 0.3780 - output_1_root_mean_squared_error: 0.5635 - output_2_root_mean_squared_error: 0.6148 - val_loss: 5.1586 - val_output_1_loss: 2.6523 - val_output_2_loss: 2.5063 - val_output_1_root_mean_squared_error: 1.6286 - val_output_2_root_mean_squared_error: 1.5831\n",
            "Epoch 14/20\n",
            "516/516 [==============================] - 1s 3ms/step - loss: 0.6877 - output_1_loss: 0.3148 - output_2_loss: 0.3729 - output_1_root_mean_squared_error: 0.5611 - output_2_root_mean_squared_error: 0.6106 - val_loss: 5.4903 - val_output_1_loss: 2.7948 - val_output_2_loss: 2.6955 - val_output_1_root_mean_squared_error: 1.6718 - val_output_2_root_mean_squared_error: 1.6418\n",
            "Epoch 15/20\n",
            "516/516 [==============================] - 2s 3ms/step - loss: 0.6828 - output_1_loss: 0.3134 - output_2_loss: 0.3694 - output_1_root_mean_squared_error: 0.5598 - output_2_root_mean_squared_error: 0.6078 - val_loss: 4.8997 - val_output_1_loss: 2.5170 - val_output_2_loss: 2.3827 - val_output_1_root_mean_squared_error: 1.5865 - val_output_2_root_mean_squared_error: 1.5436\n",
            "Epoch 16/20\n",
            "516/516 [==============================] - 2s 3ms/step - loss: 0.6822 - output_1_loss: 0.3139 - output_2_loss: 0.3683 - output_1_root_mean_squared_error: 0.5602 - output_2_root_mean_squared_error: 0.6069 - val_loss: 4.6519 - val_output_1_loss: 2.4033 - val_output_2_loss: 2.2486 - val_output_1_root_mean_squared_error: 1.5503 - val_output_2_root_mean_squared_error: 1.4995\n",
            "Epoch 17/20\n",
            "516/516 [==============================] - 2s 4ms/step - loss: 0.6768 - output_1_loss: 0.3113 - output_2_loss: 0.3655 - output_1_root_mean_squared_error: 0.5580 - output_2_root_mean_squared_error: 0.6046 - val_loss: 5.3556 - val_output_1_loss: 2.7699 - val_output_2_loss: 2.5856 - val_output_1_root_mean_squared_error: 1.6643 - val_output_2_root_mean_squared_error: 1.6080\n",
            "Epoch 18/20\n",
            "516/516 [==============================] - 2s 4ms/step - loss: 0.6728 - output_1_loss: 0.3097 - output_2_loss: 0.3631 - output_1_root_mean_squared_error: 0.5565 - output_2_root_mean_squared_error: 0.6026 - val_loss: 5.3230 - val_output_1_loss: 2.6886 - val_output_2_loss: 2.6344 - val_output_1_root_mean_squared_error: 1.6397 - val_output_2_root_mean_squared_error: 1.6231\n",
            "Epoch 19/20\n",
            "516/516 [==============================] - 3s 6ms/step - loss: 0.6664 - output_1_loss: 0.3068 - output_2_loss: 0.3595 - output_1_root_mean_squared_error: 0.5539 - output_2_root_mean_squared_error: 0.5996 - val_loss: 4.3639 - val_output_1_loss: 2.2558 - val_output_2_loss: 2.1081 - val_output_1_root_mean_squared_error: 1.5019 - val_output_2_root_mean_squared_error: 1.4519\n",
            "Epoch 20/20\n",
            "516/516 [==============================] - 2s 3ms/step - loss: 0.6603 - output_1_loss: 0.3044 - output_2_loss: 0.3558 - output_1_root_mean_squared_error: 0.5518 - output_2_root_mean_squared_error: 0.5965 - val_loss: 4.6848 - val_output_1_loss: 2.4106 - val_output_2_loss: 2.2742 - val_output_1_root_mean_squared_error: 1.5526 - val_output_2_root_mean_squared_error: 1.5080\n"
          ]
        }
      ]
    },
    {
      "cell_type": "code",
      "source": [
        "l, mse_main, rmse_main, mse_aux, mse_aux = model.evaluate(X_valid, y_valid)"
      ],
      "metadata": {
        "colab": {
          "base_uri": "https://localhost:8080/"
        },
        "id": "bq7neGLfciMs",
        "outputId": "64d629b6-562f-4631-81f1-5bea06f928e4"
      },
      "execution_count": 45,
      "outputs": [
        {
          "output_type": "stream",
          "name": "stdout",
          "text": [
            "65/65 [==============================] - 0s 3ms/step - loss: 4.6848 - output_1_loss: 2.4106 - output_2_loss: 2.2742 - output_1_root_mean_squared_error: 1.5526 - output_2_root_mean_squared_error: 1.5080\n"
          ]
        }
      ]
    },
    {
      "cell_type": "markdown",
      "source": [
        "##Predict, Save and Use"
      ],
      "metadata": {
        "id": "dmDY0XXxgDsj"
      }
    },
    {
      "cell_type": "code",
      "source": [
        "y_pred_main, y_pred_aux = model.predict((X_test))\n",
        "print(y_pred_main,\"\\n\", y_pred_aux)"
      ],
      "metadata": {
        "colab": {
          "base_uri": "https://localhost:8080/"
        },
        "id": "H1C3Av3Tc_VX",
        "outputId": "53e08945-dc24-45d4-cebe-8406d8fde629"
      },
      "execution_count": 52,
      "outputs": [
        {
          "output_type": "stream",
          "name": "stdout",
          "text": [
            "65/65 [==============================] - 0s 2ms/step\n",
            "[[1.5743339 ]\n",
            " [1.8083241 ]\n",
            " [1.5315026 ]\n",
            " ...\n",
            " [0.7220373 ]\n",
            " [0.80612284]\n",
            " [0.78847456]] [[1.4250487 ]\n",
            " [2.2338011 ]\n",
            " [1.5747901 ]\n",
            " ...\n",
            " [0.9812301 ]\n",
            " [1.0145442 ]\n",
            " [0.80554473]]\n"
          ]
        }
      ]
    },
    {
      "cell_type": "markdown",
      "source": [
        "Save"
      ],
      "metadata": {
        "id": "g4X9n0cngVjs"
      }
    },
    {
      "cell_type": "code",
      "source": [
        "model.save(\"DnW\", save_format=\"tf\")"
      ],
      "metadata": {
        "id": "XJc7At05eG6q"
      },
      "execution_count": 49,
      "outputs": []
    },
    {
      "cell_type": "markdown",
      "source": [
        "Reuse"
      ],
      "metadata": {
        "id": "V_2LusKygWrJ"
      }
    },
    {
      "cell_type": "code",
      "source": [
        "model_in = tf.keras.models.load_model(\"DnW\")\n",
        "y_pred_main, y_pred_aux = model_in.predict(X_test)\n",
        "print(y_pred_main,\"\\n\", y_pred_aux)"
      ],
      "metadata": {
        "colab": {
          "base_uri": "https://localhost:8080/"
        },
        "id": "nDS1ICFxe_dG",
        "outputId": "00bd2248-de67-4cf8-b997-bb19fb403dd3"
      },
      "execution_count": 53,
      "outputs": [
        {
          "output_type": "stream",
          "name": "stdout",
          "text": [
            "65/65 [==============================] - 0s 2ms/step\n",
            "[[1.5743339 ]\n",
            " [1.8083241 ]\n",
            " [1.5315025 ]\n",
            " ...\n",
            " [0.7220374 ]\n",
            " [0.80612284]\n",
            " [0.78847456]] \n",
            " [[1.4250487 ]\n",
            " [2.2338011 ]\n",
            " [1.5747901 ]\n",
            " ...\n",
            " [0.9812301 ]\n",
            " [1.0145442 ]\n",
            " [0.80554473]]\n"
          ]
        }
      ]
    }
  ]
}