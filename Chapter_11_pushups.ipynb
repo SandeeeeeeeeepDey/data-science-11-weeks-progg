{
  "nbformat": 4,
  "nbformat_minor": 0,
  "metadata": {
    "colab": {
      "provenance": [],
      "gpuType": "T4",
      "authorship_tag": "ABX9TyOiyPi4+0XRveV2ePqkQJ6Y",
      "include_colab_link": true
    },
    "kernelspec": {
      "name": "python3",
      "display_name": "Python 3"
    },
    "language_info": {
      "name": "python"
    },
    "accelerator": "GPU",
    "widgets": {
      "application/vnd.jupyter.widget-state+json": {
        "5da68c040cd54a60bc4b2579949c531c": {
          "model_module": "@jupyter-widgets/controls",
          "model_name": "VBoxModel",
          "model_module_version": "1.5.0",
          "state": {
            "_dom_classes": [],
            "_model_module": "@jupyter-widgets/controls",
            "_model_module_version": "1.5.0",
            "_model_name": "VBoxModel",
            "_view_count": null,
            "_view_module": "@jupyter-widgets/controls",
            "_view_module_version": "1.5.0",
            "_view_name": "VBoxView",
            "box_style": "",
            "children": [
              "IPY_MODEL_e8d18154b0774790a84df92b32e97ae7",
              "IPY_MODEL_6b8f3d0ea4374e24811551e3db5a438d"
            ],
            "layout": "IPY_MODEL_cc0f05e4ab3841cdb509bfbfe86eb546"
          }
        },
        "e8d18154b0774790a84df92b32e97ae7": {
          "model_module": "@jupyter-widgets/controls",
          "model_name": "LabelModel",
          "model_module_version": "1.5.0",
          "state": {
            "_dom_classes": [],
            "_model_module": "@jupyter-widgets/controls",
            "_model_module_version": "1.5.0",
            "_model_name": "LabelModel",
            "_view_count": null,
            "_view_module": "@jupyter-widgets/controls",
            "_view_module_version": "1.5.0",
            "_view_name": "LabelView",
            "description": "",
            "description_tooltip": null,
            "layout": "IPY_MODEL_2e4f00ef7b4f4eadb9dfd0cc5cc0c30d",
            "placeholder": "​",
            "style": "IPY_MODEL_edc57b2abdf24fbdb1623607fc9a7a6e",
            "value": "0.010 MB of 0.010 MB uploaded\r"
          }
        },
        "6b8f3d0ea4374e24811551e3db5a438d": {
          "model_module": "@jupyter-widgets/controls",
          "model_name": "FloatProgressModel",
          "model_module_version": "1.5.0",
          "state": {
            "_dom_classes": [],
            "_model_module": "@jupyter-widgets/controls",
            "_model_module_version": "1.5.0",
            "_model_name": "FloatProgressModel",
            "_view_count": null,
            "_view_module": "@jupyter-widgets/controls",
            "_view_module_version": "1.5.0",
            "_view_name": "ProgressView",
            "bar_style": "",
            "description": "",
            "description_tooltip": null,
            "layout": "IPY_MODEL_38641fb009c64fe7b640c4d0ec03f2af",
            "max": 1,
            "min": 0,
            "orientation": "horizontal",
            "style": "IPY_MODEL_dcc366637a784f9493e666cf51dfa24c",
            "value": 1
          }
        },
        "cc0f05e4ab3841cdb509bfbfe86eb546": {
          "model_module": "@jupyter-widgets/base",
          "model_name": "LayoutModel",
          "model_module_version": "1.2.0",
          "state": {
            "_model_module": "@jupyter-widgets/base",
            "_model_module_version": "1.2.0",
            "_model_name": "LayoutModel",
            "_view_count": null,
            "_view_module": "@jupyter-widgets/base",
            "_view_module_version": "1.2.0",
            "_view_name": "LayoutView",
            "align_content": null,
            "align_items": null,
            "align_self": null,
            "border": null,
            "bottom": null,
            "display": null,
            "flex": null,
            "flex_flow": null,
            "grid_area": null,
            "grid_auto_columns": null,
            "grid_auto_flow": null,
            "grid_auto_rows": null,
            "grid_column": null,
            "grid_gap": null,
            "grid_row": null,
            "grid_template_areas": null,
            "grid_template_columns": null,
            "grid_template_rows": null,
            "height": null,
            "justify_content": null,
            "justify_items": null,
            "left": null,
            "margin": null,
            "max_height": null,
            "max_width": null,
            "min_height": null,
            "min_width": null,
            "object_fit": null,
            "object_position": null,
            "order": null,
            "overflow": null,
            "overflow_x": null,
            "overflow_y": null,
            "padding": null,
            "right": null,
            "top": null,
            "visibility": null,
            "width": null
          }
        },
        "2e4f00ef7b4f4eadb9dfd0cc5cc0c30d": {
          "model_module": "@jupyter-widgets/base",
          "model_name": "LayoutModel",
          "model_module_version": "1.2.0",
          "state": {
            "_model_module": "@jupyter-widgets/base",
            "_model_module_version": "1.2.0",
            "_model_name": "LayoutModel",
            "_view_count": null,
            "_view_module": "@jupyter-widgets/base",
            "_view_module_version": "1.2.0",
            "_view_name": "LayoutView",
            "align_content": null,
            "align_items": null,
            "align_self": null,
            "border": null,
            "bottom": null,
            "display": null,
            "flex": null,
            "flex_flow": null,
            "grid_area": null,
            "grid_auto_columns": null,
            "grid_auto_flow": null,
            "grid_auto_rows": null,
            "grid_column": null,
            "grid_gap": null,
            "grid_row": null,
            "grid_template_areas": null,
            "grid_template_columns": null,
            "grid_template_rows": null,
            "height": null,
            "justify_content": null,
            "justify_items": null,
            "left": null,
            "margin": null,
            "max_height": null,
            "max_width": null,
            "min_height": null,
            "min_width": null,
            "object_fit": null,
            "object_position": null,
            "order": null,
            "overflow": null,
            "overflow_x": null,
            "overflow_y": null,
            "padding": null,
            "right": null,
            "top": null,
            "visibility": null,
            "width": null
          }
        },
        "edc57b2abdf24fbdb1623607fc9a7a6e": {
          "model_module": "@jupyter-widgets/controls",
          "model_name": "DescriptionStyleModel",
          "model_module_version": "1.5.0",
          "state": {
            "_model_module": "@jupyter-widgets/controls",
            "_model_module_version": "1.5.0",
            "_model_name": "DescriptionStyleModel",
            "_view_count": null,
            "_view_module": "@jupyter-widgets/base",
            "_view_module_version": "1.2.0",
            "_view_name": "StyleView",
            "description_width": ""
          }
        },
        "38641fb009c64fe7b640c4d0ec03f2af": {
          "model_module": "@jupyter-widgets/base",
          "model_name": "LayoutModel",
          "model_module_version": "1.2.0",
          "state": {
            "_model_module": "@jupyter-widgets/base",
            "_model_module_version": "1.2.0",
            "_model_name": "LayoutModel",
            "_view_count": null,
            "_view_module": "@jupyter-widgets/base",
            "_view_module_version": "1.2.0",
            "_view_name": "LayoutView",
            "align_content": null,
            "align_items": null,
            "align_self": null,
            "border": null,
            "bottom": null,
            "display": null,
            "flex": null,
            "flex_flow": null,
            "grid_area": null,
            "grid_auto_columns": null,
            "grid_auto_flow": null,
            "grid_auto_rows": null,
            "grid_column": null,
            "grid_gap": null,
            "grid_row": null,
            "grid_template_areas": null,
            "grid_template_columns": null,
            "grid_template_rows": null,
            "height": null,
            "justify_content": null,
            "justify_items": null,
            "left": null,
            "margin": null,
            "max_height": null,
            "max_width": null,
            "min_height": null,
            "min_width": null,
            "object_fit": null,
            "object_position": null,
            "order": null,
            "overflow": null,
            "overflow_x": null,
            "overflow_y": null,
            "padding": null,
            "right": null,
            "top": null,
            "visibility": null,
            "width": null
          }
        },
        "dcc366637a784f9493e666cf51dfa24c": {
          "model_module": "@jupyter-widgets/controls",
          "model_name": "ProgressStyleModel",
          "model_module_version": "1.5.0",
          "state": {
            "_model_module": "@jupyter-widgets/controls",
            "_model_module_version": "1.5.0",
            "_model_name": "ProgressStyleModel",
            "_view_count": null,
            "_view_module": "@jupyter-widgets/base",
            "_view_module_version": "1.2.0",
            "_view_name": "StyleView",
            "bar_color": null,
            "description_width": ""
          }
        },
        "8c4f69d44cd94bea8be14aa2c4f72634": {
          "model_module": "@jupyter-widgets/controls",
          "model_name": "VBoxModel",
          "model_module_version": "1.5.0",
          "state": {
            "_dom_classes": [],
            "_model_module": "@jupyter-widgets/controls",
            "_model_module_version": "1.5.0",
            "_model_name": "VBoxModel",
            "_view_count": null,
            "_view_module": "@jupyter-widgets/controls",
            "_view_module_version": "1.5.0",
            "_view_name": "VBoxView",
            "box_style": "",
            "children": [
              "IPY_MODEL_9918430980c9496b844fe92ec1c88295",
              "IPY_MODEL_de5a918bab774ca88d7fce1d58fb7bd9"
            ],
            "layout": "IPY_MODEL_dbb3a7bcd85b409fbcd53f402efbba72"
          }
        },
        "9918430980c9496b844fe92ec1c88295": {
          "model_module": "@jupyter-widgets/controls",
          "model_name": "LabelModel",
          "model_module_version": "1.5.0",
          "state": {
            "_dom_classes": [],
            "_model_module": "@jupyter-widgets/controls",
            "_model_module_version": "1.5.0",
            "_model_name": "LabelModel",
            "_view_count": null,
            "_view_module": "@jupyter-widgets/controls",
            "_view_module_version": "1.5.0",
            "_view_name": "LabelView",
            "description": "",
            "description_tooltip": null,
            "layout": "IPY_MODEL_c1c237eba9b8411290210255097246e0",
            "placeholder": "​",
            "style": "IPY_MODEL_1351531428624255883dcc626a32b706",
            "value": "51.027 MB of 51.027 MB uploaded (0.255 MB deduped)\r"
          }
        },
        "de5a918bab774ca88d7fce1d58fb7bd9": {
          "model_module": "@jupyter-widgets/controls",
          "model_name": "FloatProgressModel",
          "model_module_version": "1.5.0",
          "state": {
            "_dom_classes": [],
            "_model_module": "@jupyter-widgets/controls",
            "_model_module_version": "1.5.0",
            "_model_name": "FloatProgressModel",
            "_view_count": null,
            "_view_module": "@jupyter-widgets/controls",
            "_view_module_version": "1.5.0",
            "_view_name": "ProgressView",
            "bar_style": "",
            "description": "",
            "description_tooltip": null,
            "layout": "IPY_MODEL_7121583b82b743b7a57e24915ade0b5f",
            "max": 1,
            "min": 0,
            "orientation": "horizontal",
            "style": "IPY_MODEL_68d7378d378942db9cddbad49b7da842",
            "value": 1
          }
        },
        "dbb3a7bcd85b409fbcd53f402efbba72": {
          "model_module": "@jupyter-widgets/base",
          "model_name": "LayoutModel",
          "model_module_version": "1.2.0",
          "state": {
            "_model_module": "@jupyter-widgets/base",
            "_model_module_version": "1.2.0",
            "_model_name": "LayoutModel",
            "_view_count": null,
            "_view_module": "@jupyter-widgets/base",
            "_view_module_version": "1.2.0",
            "_view_name": "LayoutView",
            "align_content": null,
            "align_items": null,
            "align_self": null,
            "border": null,
            "bottom": null,
            "display": null,
            "flex": null,
            "flex_flow": null,
            "grid_area": null,
            "grid_auto_columns": null,
            "grid_auto_flow": null,
            "grid_auto_rows": null,
            "grid_column": null,
            "grid_gap": null,
            "grid_row": null,
            "grid_template_areas": null,
            "grid_template_columns": null,
            "grid_template_rows": null,
            "height": null,
            "justify_content": null,
            "justify_items": null,
            "left": null,
            "margin": null,
            "max_height": null,
            "max_width": null,
            "min_height": null,
            "min_width": null,
            "object_fit": null,
            "object_position": null,
            "order": null,
            "overflow": null,
            "overflow_x": null,
            "overflow_y": null,
            "padding": null,
            "right": null,
            "top": null,
            "visibility": null,
            "width": null
          }
        },
        "c1c237eba9b8411290210255097246e0": {
          "model_module": "@jupyter-widgets/base",
          "model_name": "LayoutModel",
          "model_module_version": "1.2.0",
          "state": {
            "_model_module": "@jupyter-widgets/base",
            "_model_module_version": "1.2.0",
            "_model_name": "LayoutModel",
            "_view_count": null,
            "_view_module": "@jupyter-widgets/base",
            "_view_module_version": "1.2.0",
            "_view_name": "LayoutView",
            "align_content": null,
            "align_items": null,
            "align_self": null,
            "border": null,
            "bottom": null,
            "display": null,
            "flex": null,
            "flex_flow": null,
            "grid_area": null,
            "grid_auto_columns": null,
            "grid_auto_flow": null,
            "grid_auto_rows": null,
            "grid_column": null,
            "grid_gap": null,
            "grid_row": null,
            "grid_template_areas": null,
            "grid_template_columns": null,
            "grid_template_rows": null,
            "height": null,
            "justify_content": null,
            "justify_items": null,
            "left": null,
            "margin": null,
            "max_height": null,
            "max_width": null,
            "min_height": null,
            "min_width": null,
            "object_fit": null,
            "object_position": null,
            "order": null,
            "overflow": null,
            "overflow_x": null,
            "overflow_y": null,
            "padding": null,
            "right": null,
            "top": null,
            "visibility": null,
            "width": null
          }
        },
        "1351531428624255883dcc626a32b706": {
          "model_module": "@jupyter-widgets/controls",
          "model_name": "DescriptionStyleModel",
          "model_module_version": "1.5.0",
          "state": {
            "_model_module": "@jupyter-widgets/controls",
            "_model_module_version": "1.5.0",
            "_model_name": "DescriptionStyleModel",
            "_view_count": null,
            "_view_module": "@jupyter-widgets/base",
            "_view_module_version": "1.2.0",
            "_view_name": "StyleView",
            "description_width": ""
          }
        },
        "7121583b82b743b7a57e24915ade0b5f": {
          "model_module": "@jupyter-widgets/base",
          "model_name": "LayoutModel",
          "model_module_version": "1.2.0",
          "state": {
            "_model_module": "@jupyter-widgets/base",
            "_model_module_version": "1.2.0",
            "_model_name": "LayoutModel",
            "_view_count": null,
            "_view_module": "@jupyter-widgets/base",
            "_view_module_version": "1.2.0",
            "_view_name": "LayoutView",
            "align_content": null,
            "align_items": null,
            "align_self": null,
            "border": null,
            "bottom": null,
            "display": null,
            "flex": null,
            "flex_flow": null,
            "grid_area": null,
            "grid_auto_columns": null,
            "grid_auto_flow": null,
            "grid_auto_rows": null,
            "grid_column": null,
            "grid_gap": null,
            "grid_row": null,
            "grid_template_areas": null,
            "grid_template_columns": null,
            "grid_template_rows": null,
            "height": null,
            "justify_content": null,
            "justify_items": null,
            "left": null,
            "margin": null,
            "max_height": null,
            "max_width": null,
            "min_height": null,
            "min_width": null,
            "object_fit": null,
            "object_position": null,
            "order": null,
            "overflow": null,
            "overflow_x": null,
            "overflow_y": null,
            "padding": null,
            "right": null,
            "top": null,
            "visibility": null,
            "width": null
          }
        },
        "68d7378d378942db9cddbad49b7da842": {
          "model_module": "@jupyter-widgets/controls",
          "model_name": "ProgressStyleModel",
          "model_module_version": "1.5.0",
          "state": {
            "_model_module": "@jupyter-widgets/controls",
            "_model_module_version": "1.5.0",
            "_model_name": "ProgressStyleModel",
            "_view_count": null,
            "_view_module": "@jupyter-widgets/base",
            "_view_module_version": "1.2.0",
            "_view_name": "StyleView",
            "bar_color": null,
            "description_width": ""
          }
        },
        "824e8980d5024186a08d93880b2e164b": {
          "model_module": "@jupyter-widgets/controls",
          "model_name": "VBoxModel",
          "model_module_version": "1.5.0",
          "state": {
            "_dom_classes": [],
            "_model_module": "@jupyter-widgets/controls",
            "_model_module_version": "1.5.0",
            "_model_name": "VBoxModel",
            "_view_count": null,
            "_view_module": "@jupyter-widgets/controls",
            "_view_module_version": "1.5.0",
            "_view_name": "VBoxView",
            "box_style": "",
            "children": [
              "IPY_MODEL_7cb042aadce343d6969e80f452ce55bc",
              "IPY_MODEL_4ee48eeb55944da4b95314aaea39c3db"
            ],
            "layout": "IPY_MODEL_2fcd52eb9b314cf9886bb0a25d765473"
          }
        },
        "7cb042aadce343d6969e80f452ce55bc": {
          "model_module": "@jupyter-widgets/controls",
          "model_name": "LabelModel",
          "model_module_version": "1.5.0",
          "state": {
            "_dom_classes": [],
            "_model_module": "@jupyter-widgets/controls",
            "_model_module_version": "1.5.0",
            "_model_name": "LabelModel",
            "_view_count": null,
            "_view_module": "@jupyter-widgets/controls",
            "_view_module_version": "1.5.0",
            "_view_name": "LabelView",
            "description": "",
            "description_tooltip": null,
            "layout": "IPY_MODEL_b4aa3f159f1d4101922487a7399dcd96",
            "placeholder": "​",
            "style": "IPY_MODEL_ff1a3c1767ca40d888850d6ab582c61a",
            "value": "0.010 MB of 0.010 MB uploaded\r"
          }
        },
        "4ee48eeb55944da4b95314aaea39c3db": {
          "model_module": "@jupyter-widgets/controls",
          "model_name": "FloatProgressModel",
          "model_module_version": "1.5.0",
          "state": {
            "_dom_classes": [],
            "_model_module": "@jupyter-widgets/controls",
            "_model_module_version": "1.5.0",
            "_model_name": "FloatProgressModel",
            "_view_count": null,
            "_view_module": "@jupyter-widgets/controls",
            "_view_module_version": "1.5.0",
            "_view_name": "ProgressView",
            "bar_style": "",
            "description": "",
            "description_tooltip": null,
            "layout": "IPY_MODEL_38adb3f7a46b4b8f87ca7f034832b460",
            "max": 1,
            "min": 0,
            "orientation": "horizontal",
            "style": "IPY_MODEL_9e5f67247cd148949ad85c13a9cd276d",
            "value": 1
          }
        },
        "2fcd52eb9b314cf9886bb0a25d765473": {
          "model_module": "@jupyter-widgets/base",
          "model_name": "LayoutModel",
          "model_module_version": "1.2.0",
          "state": {
            "_model_module": "@jupyter-widgets/base",
            "_model_module_version": "1.2.0",
            "_model_name": "LayoutModel",
            "_view_count": null,
            "_view_module": "@jupyter-widgets/base",
            "_view_module_version": "1.2.0",
            "_view_name": "LayoutView",
            "align_content": null,
            "align_items": null,
            "align_self": null,
            "border": null,
            "bottom": null,
            "display": null,
            "flex": null,
            "flex_flow": null,
            "grid_area": null,
            "grid_auto_columns": null,
            "grid_auto_flow": null,
            "grid_auto_rows": null,
            "grid_column": null,
            "grid_gap": null,
            "grid_row": null,
            "grid_template_areas": null,
            "grid_template_columns": null,
            "grid_template_rows": null,
            "height": null,
            "justify_content": null,
            "justify_items": null,
            "left": null,
            "margin": null,
            "max_height": null,
            "max_width": null,
            "min_height": null,
            "min_width": null,
            "object_fit": null,
            "object_position": null,
            "order": null,
            "overflow": null,
            "overflow_x": null,
            "overflow_y": null,
            "padding": null,
            "right": null,
            "top": null,
            "visibility": null,
            "width": null
          }
        },
        "b4aa3f159f1d4101922487a7399dcd96": {
          "model_module": "@jupyter-widgets/base",
          "model_name": "LayoutModel",
          "model_module_version": "1.2.0",
          "state": {
            "_model_module": "@jupyter-widgets/base",
            "_model_module_version": "1.2.0",
            "_model_name": "LayoutModel",
            "_view_count": null,
            "_view_module": "@jupyter-widgets/base",
            "_view_module_version": "1.2.0",
            "_view_name": "LayoutView",
            "align_content": null,
            "align_items": null,
            "align_self": null,
            "border": null,
            "bottom": null,
            "display": null,
            "flex": null,
            "flex_flow": null,
            "grid_area": null,
            "grid_auto_columns": null,
            "grid_auto_flow": null,
            "grid_auto_rows": null,
            "grid_column": null,
            "grid_gap": null,
            "grid_row": null,
            "grid_template_areas": null,
            "grid_template_columns": null,
            "grid_template_rows": null,
            "height": null,
            "justify_content": null,
            "justify_items": null,
            "left": null,
            "margin": null,
            "max_height": null,
            "max_width": null,
            "min_height": null,
            "min_width": null,
            "object_fit": null,
            "object_position": null,
            "order": null,
            "overflow": null,
            "overflow_x": null,
            "overflow_y": null,
            "padding": null,
            "right": null,
            "top": null,
            "visibility": null,
            "width": null
          }
        },
        "ff1a3c1767ca40d888850d6ab582c61a": {
          "model_module": "@jupyter-widgets/controls",
          "model_name": "DescriptionStyleModel",
          "model_module_version": "1.5.0",
          "state": {
            "_model_module": "@jupyter-widgets/controls",
            "_model_module_version": "1.5.0",
            "_model_name": "DescriptionStyleModel",
            "_view_count": null,
            "_view_module": "@jupyter-widgets/base",
            "_view_module_version": "1.2.0",
            "_view_name": "StyleView",
            "description_width": ""
          }
        },
        "38adb3f7a46b4b8f87ca7f034832b460": {
          "model_module": "@jupyter-widgets/base",
          "model_name": "LayoutModel",
          "model_module_version": "1.2.0",
          "state": {
            "_model_module": "@jupyter-widgets/base",
            "_model_module_version": "1.2.0",
            "_model_name": "LayoutModel",
            "_view_count": null,
            "_view_module": "@jupyter-widgets/base",
            "_view_module_version": "1.2.0",
            "_view_name": "LayoutView",
            "align_content": null,
            "align_items": null,
            "align_self": null,
            "border": null,
            "bottom": null,
            "display": null,
            "flex": null,
            "flex_flow": null,
            "grid_area": null,
            "grid_auto_columns": null,
            "grid_auto_flow": null,
            "grid_auto_rows": null,
            "grid_column": null,
            "grid_gap": null,
            "grid_row": null,
            "grid_template_areas": null,
            "grid_template_columns": null,
            "grid_template_rows": null,
            "height": null,
            "justify_content": null,
            "justify_items": null,
            "left": null,
            "margin": null,
            "max_height": null,
            "max_width": null,
            "min_height": null,
            "min_width": null,
            "object_fit": null,
            "object_position": null,
            "order": null,
            "overflow": null,
            "overflow_x": null,
            "overflow_y": null,
            "padding": null,
            "right": null,
            "top": null,
            "visibility": null,
            "width": null
          }
        },
        "9e5f67247cd148949ad85c13a9cd276d": {
          "model_module": "@jupyter-widgets/controls",
          "model_name": "ProgressStyleModel",
          "model_module_version": "1.5.0",
          "state": {
            "_model_module": "@jupyter-widgets/controls",
            "_model_module_version": "1.5.0",
            "_model_name": "ProgressStyleModel",
            "_view_count": null,
            "_view_module": "@jupyter-widgets/base",
            "_view_module_version": "1.2.0",
            "_view_name": "StyleView",
            "bar_color": null,
            "description_width": ""
          }
        },
        "4c37acd9393c426094e3f92491eaa4d8": {
          "model_module": "@jupyter-widgets/controls",
          "model_name": "VBoxModel",
          "model_module_version": "1.5.0",
          "state": {
            "_dom_classes": [],
            "_model_module": "@jupyter-widgets/controls",
            "_model_module_version": "1.5.0",
            "_model_name": "VBoxModel",
            "_view_count": null,
            "_view_module": "@jupyter-widgets/controls",
            "_view_module_version": "1.5.0",
            "_view_name": "VBoxView",
            "box_style": "",
            "children": [
              "IPY_MODEL_d8399d601c2b485d97e0caaa3192f7fe",
              "IPY_MODEL_3fe7ed591d2b4c27b5b6886f4a627d94"
            ],
            "layout": "IPY_MODEL_55f5da4c168a49af8cc16409b077a71a"
          }
        },
        "d8399d601c2b485d97e0caaa3192f7fe": {
          "model_module": "@jupyter-widgets/controls",
          "model_name": "LabelModel",
          "model_module_version": "1.5.0",
          "state": {
            "_dom_classes": [],
            "_model_module": "@jupyter-widgets/controls",
            "_model_module_version": "1.5.0",
            "_model_name": "LabelModel",
            "_view_count": null,
            "_view_module": "@jupyter-widgets/controls",
            "_view_module_version": "1.5.0",
            "_view_name": "LabelView",
            "description": "",
            "description_tooltip": null,
            "layout": "IPY_MODEL_abacc0b371a4473d974f471c819b58f8",
            "placeholder": "​",
            "style": "IPY_MODEL_910fba61547d447989e4e9fcec8e3139",
            "value": "0.010 MB of 0.010 MB uploaded\r"
          }
        },
        "3fe7ed591d2b4c27b5b6886f4a627d94": {
          "model_module": "@jupyter-widgets/controls",
          "model_name": "FloatProgressModel",
          "model_module_version": "1.5.0",
          "state": {
            "_dom_classes": [],
            "_model_module": "@jupyter-widgets/controls",
            "_model_module_version": "1.5.0",
            "_model_name": "FloatProgressModel",
            "_view_count": null,
            "_view_module": "@jupyter-widgets/controls",
            "_view_module_version": "1.5.0",
            "_view_name": "ProgressView",
            "bar_style": "",
            "description": "",
            "description_tooltip": null,
            "layout": "IPY_MODEL_32765a3c22e341cba934ab915c40202c",
            "max": 1,
            "min": 0,
            "orientation": "horizontal",
            "style": "IPY_MODEL_66b3aa39ec7f42d095b281101cdda355",
            "value": 1
          }
        },
        "55f5da4c168a49af8cc16409b077a71a": {
          "model_module": "@jupyter-widgets/base",
          "model_name": "LayoutModel",
          "model_module_version": "1.2.0",
          "state": {
            "_model_module": "@jupyter-widgets/base",
            "_model_module_version": "1.2.0",
            "_model_name": "LayoutModel",
            "_view_count": null,
            "_view_module": "@jupyter-widgets/base",
            "_view_module_version": "1.2.0",
            "_view_name": "LayoutView",
            "align_content": null,
            "align_items": null,
            "align_self": null,
            "border": null,
            "bottom": null,
            "display": null,
            "flex": null,
            "flex_flow": null,
            "grid_area": null,
            "grid_auto_columns": null,
            "grid_auto_flow": null,
            "grid_auto_rows": null,
            "grid_column": null,
            "grid_gap": null,
            "grid_row": null,
            "grid_template_areas": null,
            "grid_template_columns": null,
            "grid_template_rows": null,
            "height": null,
            "justify_content": null,
            "justify_items": null,
            "left": null,
            "margin": null,
            "max_height": null,
            "max_width": null,
            "min_height": null,
            "min_width": null,
            "object_fit": null,
            "object_position": null,
            "order": null,
            "overflow": null,
            "overflow_x": null,
            "overflow_y": null,
            "padding": null,
            "right": null,
            "top": null,
            "visibility": null,
            "width": null
          }
        },
        "abacc0b371a4473d974f471c819b58f8": {
          "model_module": "@jupyter-widgets/base",
          "model_name": "LayoutModel",
          "model_module_version": "1.2.0",
          "state": {
            "_model_module": "@jupyter-widgets/base",
            "_model_module_version": "1.2.0",
            "_model_name": "LayoutModel",
            "_view_count": null,
            "_view_module": "@jupyter-widgets/base",
            "_view_module_version": "1.2.0",
            "_view_name": "LayoutView",
            "align_content": null,
            "align_items": null,
            "align_self": null,
            "border": null,
            "bottom": null,
            "display": null,
            "flex": null,
            "flex_flow": null,
            "grid_area": null,
            "grid_auto_columns": null,
            "grid_auto_flow": null,
            "grid_auto_rows": null,
            "grid_column": null,
            "grid_gap": null,
            "grid_row": null,
            "grid_template_areas": null,
            "grid_template_columns": null,
            "grid_template_rows": null,
            "height": null,
            "justify_content": null,
            "justify_items": null,
            "left": null,
            "margin": null,
            "max_height": null,
            "max_width": null,
            "min_height": null,
            "min_width": null,
            "object_fit": null,
            "object_position": null,
            "order": null,
            "overflow": null,
            "overflow_x": null,
            "overflow_y": null,
            "padding": null,
            "right": null,
            "top": null,
            "visibility": null,
            "width": null
          }
        },
        "910fba61547d447989e4e9fcec8e3139": {
          "model_module": "@jupyter-widgets/controls",
          "model_name": "DescriptionStyleModel",
          "model_module_version": "1.5.0",
          "state": {
            "_model_module": "@jupyter-widgets/controls",
            "_model_module_version": "1.5.0",
            "_model_name": "DescriptionStyleModel",
            "_view_count": null,
            "_view_module": "@jupyter-widgets/base",
            "_view_module_version": "1.2.0",
            "_view_name": "StyleView",
            "description_width": ""
          }
        },
        "32765a3c22e341cba934ab915c40202c": {
          "model_module": "@jupyter-widgets/base",
          "model_name": "LayoutModel",
          "model_module_version": "1.2.0",
          "state": {
            "_model_module": "@jupyter-widgets/base",
            "_model_module_version": "1.2.0",
            "_model_name": "LayoutModel",
            "_view_count": null,
            "_view_module": "@jupyter-widgets/base",
            "_view_module_version": "1.2.0",
            "_view_name": "LayoutView",
            "align_content": null,
            "align_items": null,
            "align_self": null,
            "border": null,
            "bottom": null,
            "display": null,
            "flex": null,
            "flex_flow": null,
            "grid_area": null,
            "grid_auto_columns": null,
            "grid_auto_flow": null,
            "grid_auto_rows": null,
            "grid_column": null,
            "grid_gap": null,
            "grid_row": null,
            "grid_template_areas": null,
            "grid_template_columns": null,
            "grid_template_rows": null,
            "height": null,
            "justify_content": null,
            "justify_items": null,
            "left": null,
            "margin": null,
            "max_height": null,
            "max_width": null,
            "min_height": null,
            "min_width": null,
            "object_fit": null,
            "object_position": null,
            "order": null,
            "overflow": null,
            "overflow_x": null,
            "overflow_y": null,
            "padding": null,
            "right": null,
            "top": null,
            "visibility": null,
            "width": null
          }
        },
        "66b3aa39ec7f42d095b281101cdda355": {
          "model_module": "@jupyter-widgets/controls",
          "model_name": "ProgressStyleModel",
          "model_module_version": "1.5.0",
          "state": {
            "_model_module": "@jupyter-widgets/controls",
            "_model_module_version": "1.5.0",
            "_model_name": "ProgressStyleModel",
            "_view_count": null,
            "_view_module": "@jupyter-widgets/base",
            "_view_module_version": "1.2.0",
            "_view_name": "StyleView",
            "bar_color": null,
            "description_width": ""
          }
        },
        "996e67c443a244488c4deb7823c7a7a2": {
          "model_module": "@jupyter-widgets/controls",
          "model_name": "VBoxModel",
          "model_module_version": "1.5.0",
          "state": {
            "_dom_classes": [],
            "_model_module": "@jupyter-widgets/controls",
            "_model_module_version": "1.5.0",
            "_model_name": "VBoxModel",
            "_view_count": null,
            "_view_module": "@jupyter-widgets/controls",
            "_view_module_version": "1.5.0",
            "_view_name": "VBoxView",
            "box_style": "",
            "children": [
              "IPY_MODEL_6f39a28731264ca884433af1489211c7",
              "IPY_MODEL_473becae0fff4453be468514c0fb2907"
            ],
            "layout": "IPY_MODEL_129a7a229e1a443c9a1b2dbb4c148e51"
          }
        },
        "6f39a28731264ca884433af1489211c7": {
          "model_module": "@jupyter-widgets/controls",
          "model_name": "LabelModel",
          "model_module_version": "1.5.0",
          "state": {
            "_dom_classes": [],
            "_model_module": "@jupyter-widgets/controls",
            "_model_module_version": "1.5.0",
            "_model_name": "LabelModel",
            "_view_count": null,
            "_view_module": "@jupyter-widgets/controls",
            "_view_module_version": "1.5.0",
            "_view_name": "LabelView",
            "description": "",
            "description_tooltip": null,
            "layout": "IPY_MODEL_25395189b0814b8ca503d2d308f6dd75",
            "placeholder": "​",
            "style": "IPY_MODEL_c9a021815041422cb613b743043e35ef",
            "value": "0.010 MB of 0.010 MB uploaded\r"
          }
        },
        "473becae0fff4453be468514c0fb2907": {
          "model_module": "@jupyter-widgets/controls",
          "model_name": "FloatProgressModel",
          "model_module_version": "1.5.0",
          "state": {
            "_dom_classes": [],
            "_model_module": "@jupyter-widgets/controls",
            "_model_module_version": "1.5.0",
            "_model_name": "FloatProgressModel",
            "_view_count": null,
            "_view_module": "@jupyter-widgets/controls",
            "_view_module_version": "1.5.0",
            "_view_name": "ProgressView",
            "bar_style": "",
            "description": "",
            "description_tooltip": null,
            "layout": "IPY_MODEL_5172b641871448e29138edc3dae77a26",
            "max": 1,
            "min": 0,
            "orientation": "horizontal",
            "style": "IPY_MODEL_0caca423a67c4b75a393bba83c941ec5",
            "value": 1
          }
        },
        "129a7a229e1a443c9a1b2dbb4c148e51": {
          "model_module": "@jupyter-widgets/base",
          "model_name": "LayoutModel",
          "model_module_version": "1.2.0",
          "state": {
            "_model_module": "@jupyter-widgets/base",
            "_model_module_version": "1.2.0",
            "_model_name": "LayoutModel",
            "_view_count": null,
            "_view_module": "@jupyter-widgets/base",
            "_view_module_version": "1.2.0",
            "_view_name": "LayoutView",
            "align_content": null,
            "align_items": null,
            "align_self": null,
            "border": null,
            "bottom": null,
            "display": null,
            "flex": null,
            "flex_flow": null,
            "grid_area": null,
            "grid_auto_columns": null,
            "grid_auto_flow": null,
            "grid_auto_rows": null,
            "grid_column": null,
            "grid_gap": null,
            "grid_row": null,
            "grid_template_areas": null,
            "grid_template_columns": null,
            "grid_template_rows": null,
            "height": null,
            "justify_content": null,
            "justify_items": null,
            "left": null,
            "margin": null,
            "max_height": null,
            "max_width": null,
            "min_height": null,
            "min_width": null,
            "object_fit": null,
            "object_position": null,
            "order": null,
            "overflow": null,
            "overflow_x": null,
            "overflow_y": null,
            "padding": null,
            "right": null,
            "top": null,
            "visibility": null,
            "width": null
          }
        },
        "25395189b0814b8ca503d2d308f6dd75": {
          "model_module": "@jupyter-widgets/base",
          "model_name": "LayoutModel",
          "model_module_version": "1.2.0",
          "state": {
            "_model_module": "@jupyter-widgets/base",
            "_model_module_version": "1.2.0",
            "_model_name": "LayoutModel",
            "_view_count": null,
            "_view_module": "@jupyter-widgets/base",
            "_view_module_version": "1.2.0",
            "_view_name": "LayoutView",
            "align_content": null,
            "align_items": null,
            "align_self": null,
            "border": null,
            "bottom": null,
            "display": null,
            "flex": null,
            "flex_flow": null,
            "grid_area": null,
            "grid_auto_columns": null,
            "grid_auto_flow": null,
            "grid_auto_rows": null,
            "grid_column": null,
            "grid_gap": null,
            "grid_row": null,
            "grid_template_areas": null,
            "grid_template_columns": null,
            "grid_template_rows": null,
            "height": null,
            "justify_content": null,
            "justify_items": null,
            "left": null,
            "margin": null,
            "max_height": null,
            "max_width": null,
            "min_height": null,
            "min_width": null,
            "object_fit": null,
            "object_position": null,
            "order": null,
            "overflow": null,
            "overflow_x": null,
            "overflow_y": null,
            "padding": null,
            "right": null,
            "top": null,
            "visibility": null,
            "width": null
          }
        },
        "c9a021815041422cb613b743043e35ef": {
          "model_module": "@jupyter-widgets/controls",
          "model_name": "DescriptionStyleModel",
          "model_module_version": "1.5.0",
          "state": {
            "_model_module": "@jupyter-widgets/controls",
            "_model_module_version": "1.5.0",
            "_model_name": "DescriptionStyleModel",
            "_view_count": null,
            "_view_module": "@jupyter-widgets/base",
            "_view_module_version": "1.2.0",
            "_view_name": "StyleView",
            "description_width": ""
          }
        },
        "5172b641871448e29138edc3dae77a26": {
          "model_module": "@jupyter-widgets/base",
          "model_name": "LayoutModel",
          "model_module_version": "1.2.0",
          "state": {
            "_model_module": "@jupyter-widgets/base",
            "_model_module_version": "1.2.0",
            "_model_name": "LayoutModel",
            "_view_count": null,
            "_view_module": "@jupyter-widgets/base",
            "_view_module_version": "1.2.0",
            "_view_name": "LayoutView",
            "align_content": null,
            "align_items": null,
            "align_self": null,
            "border": null,
            "bottom": null,
            "display": null,
            "flex": null,
            "flex_flow": null,
            "grid_area": null,
            "grid_auto_columns": null,
            "grid_auto_flow": null,
            "grid_auto_rows": null,
            "grid_column": null,
            "grid_gap": null,
            "grid_row": null,
            "grid_template_areas": null,
            "grid_template_columns": null,
            "grid_template_rows": null,
            "height": null,
            "justify_content": null,
            "justify_items": null,
            "left": null,
            "margin": null,
            "max_height": null,
            "max_width": null,
            "min_height": null,
            "min_width": null,
            "object_fit": null,
            "object_position": null,
            "order": null,
            "overflow": null,
            "overflow_x": null,
            "overflow_y": null,
            "padding": null,
            "right": null,
            "top": null,
            "visibility": null,
            "width": null
          }
        },
        "0caca423a67c4b75a393bba83c941ec5": {
          "model_module": "@jupyter-widgets/controls",
          "model_name": "ProgressStyleModel",
          "model_module_version": "1.5.0",
          "state": {
            "_model_module": "@jupyter-widgets/controls",
            "_model_module_version": "1.5.0",
            "_model_name": "ProgressStyleModel",
            "_view_count": null,
            "_view_module": "@jupyter-widgets/base",
            "_view_module_version": "1.2.0",
            "_view_name": "StyleView",
            "bar_color": null,
            "description_width": ""
          }
        },
        "e8e26c9561f948e2a4035b4a4f2114b2": {
          "model_module": "@jupyter-widgets/controls",
          "model_name": "VBoxModel",
          "model_module_version": "1.5.0",
          "state": {
            "_dom_classes": [],
            "_model_module": "@jupyter-widgets/controls",
            "_model_module_version": "1.5.0",
            "_model_name": "VBoxModel",
            "_view_count": null,
            "_view_module": "@jupyter-widgets/controls",
            "_view_module_version": "1.5.0",
            "_view_name": "VBoxView",
            "box_style": "",
            "children": [
              "IPY_MODEL_74678977e6a44fc7a936a933f6c1e3ec",
              "IPY_MODEL_f975441f66aa4aa880fc45096157bea9"
            ],
            "layout": "IPY_MODEL_c619a60564914f138f90226765dc9c9c"
          }
        },
        "74678977e6a44fc7a936a933f6c1e3ec": {
          "model_module": "@jupyter-widgets/controls",
          "model_name": "LabelModel",
          "model_module_version": "1.5.0",
          "state": {
            "_dom_classes": [],
            "_model_module": "@jupyter-widgets/controls",
            "_model_module_version": "1.5.0",
            "_model_name": "LabelModel",
            "_view_count": null,
            "_view_module": "@jupyter-widgets/controls",
            "_view_module_version": "1.5.0",
            "_view_name": "LabelView",
            "description": "",
            "description_tooltip": null,
            "layout": "IPY_MODEL_5c0c597f058d471ba8a5cf16e07a3e32",
            "placeholder": "​",
            "style": "IPY_MODEL_2a0ab2388ef244f1b9ff143046463dc4",
            "value": "0.010 MB of 0.010 MB uploaded\r"
          }
        },
        "f975441f66aa4aa880fc45096157bea9": {
          "model_module": "@jupyter-widgets/controls",
          "model_name": "FloatProgressModel",
          "model_module_version": "1.5.0",
          "state": {
            "_dom_classes": [],
            "_model_module": "@jupyter-widgets/controls",
            "_model_module_version": "1.5.0",
            "_model_name": "FloatProgressModel",
            "_view_count": null,
            "_view_module": "@jupyter-widgets/controls",
            "_view_module_version": "1.5.0",
            "_view_name": "ProgressView",
            "bar_style": "",
            "description": "",
            "description_tooltip": null,
            "layout": "IPY_MODEL_8d2ad218fa814090af8852b3f3c69e7e",
            "max": 1,
            "min": 0,
            "orientation": "horizontal",
            "style": "IPY_MODEL_6db7c31e971c4c378404324b3197b394",
            "value": 1
          }
        },
        "c619a60564914f138f90226765dc9c9c": {
          "model_module": "@jupyter-widgets/base",
          "model_name": "LayoutModel",
          "model_module_version": "1.2.0",
          "state": {
            "_model_module": "@jupyter-widgets/base",
            "_model_module_version": "1.2.0",
            "_model_name": "LayoutModel",
            "_view_count": null,
            "_view_module": "@jupyter-widgets/base",
            "_view_module_version": "1.2.0",
            "_view_name": "LayoutView",
            "align_content": null,
            "align_items": null,
            "align_self": null,
            "border": null,
            "bottom": null,
            "display": null,
            "flex": null,
            "flex_flow": null,
            "grid_area": null,
            "grid_auto_columns": null,
            "grid_auto_flow": null,
            "grid_auto_rows": null,
            "grid_column": null,
            "grid_gap": null,
            "grid_row": null,
            "grid_template_areas": null,
            "grid_template_columns": null,
            "grid_template_rows": null,
            "height": null,
            "justify_content": null,
            "justify_items": null,
            "left": null,
            "margin": null,
            "max_height": null,
            "max_width": null,
            "min_height": null,
            "min_width": null,
            "object_fit": null,
            "object_position": null,
            "order": null,
            "overflow": null,
            "overflow_x": null,
            "overflow_y": null,
            "padding": null,
            "right": null,
            "top": null,
            "visibility": null,
            "width": null
          }
        },
        "5c0c597f058d471ba8a5cf16e07a3e32": {
          "model_module": "@jupyter-widgets/base",
          "model_name": "LayoutModel",
          "model_module_version": "1.2.0",
          "state": {
            "_model_module": "@jupyter-widgets/base",
            "_model_module_version": "1.2.0",
            "_model_name": "LayoutModel",
            "_view_count": null,
            "_view_module": "@jupyter-widgets/base",
            "_view_module_version": "1.2.0",
            "_view_name": "LayoutView",
            "align_content": null,
            "align_items": null,
            "align_self": null,
            "border": null,
            "bottom": null,
            "display": null,
            "flex": null,
            "flex_flow": null,
            "grid_area": null,
            "grid_auto_columns": null,
            "grid_auto_flow": null,
            "grid_auto_rows": null,
            "grid_column": null,
            "grid_gap": null,
            "grid_row": null,
            "grid_template_areas": null,
            "grid_template_columns": null,
            "grid_template_rows": null,
            "height": null,
            "justify_content": null,
            "justify_items": null,
            "left": null,
            "margin": null,
            "max_height": null,
            "max_width": null,
            "min_height": null,
            "min_width": null,
            "object_fit": null,
            "object_position": null,
            "order": null,
            "overflow": null,
            "overflow_x": null,
            "overflow_y": null,
            "padding": null,
            "right": null,
            "top": null,
            "visibility": null,
            "width": null
          }
        },
        "2a0ab2388ef244f1b9ff143046463dc4": {
          "model_module": "@jupyter-widgets/controls",
          "model_name": "DescriptionStyleModel",
          "model_module_version": "1.5.0",
          "state": {
            "_model_module": "@jupyter-widgets/controls",
            "_model_module_version": "1.5.0",
            "_model_name": "DescriptionStyleModel",
            "_view_count": null,
            "_view_module": "@jupyter-widgets/base",
            "_view_module_version": "1.2.0",
            "_view_name": "StyleView",
            "description_width": ""
          }
        },
        "8d2ad218fa814090af8852b3f3c69e7e": {
          "model_module": "@jupyter-widgets/base",
          "model_name": "LayoutModel",
          "model_module_version": "1.2.0",
          "state": {
            "_model_module": "@jupyter-widgets/base",
            "_model_module_version": "1.2.0",
            "_model_name": "LayoutModel",
            "_view_count": null,
            "_view_module": "@jupyter-widgets/base",
            "_view_module_version": "1.2.0",
            "_view_name": "LayoutView",
            "align_content": null,
            "align_items": null,
            "align_self": null,
            "border": null,
            "bottom": null,
            "display": null,
            "flex": null,
            "flex_flow": null,
            "grid_area": null,
            "grid_auto_columns": null,
            "grid_auto_flow": null,
            "grid_auto_rows": null,
            "grid_column": null,
            "grid_gap": null,
            "grid_row": null,
            "grid_template_areas": null,
            "grid_template_columns": null,
            "grid_template_rows": null,
            "height": null,
            "justify_content": null,
            "justify_items": null,
            "left": null,
            "margin": null,
            "max_height": null,
            "max_width": null,
            "min_height": null,
            "min_width": null,
            "object_fit": null,
            "object_position": null,
            "order": null,
            "overflow": null,
            "overflow_x": null,
            "overflow_y": null,
            "padding": null,
            "right": null,
            "top": null,
            "visibility": null,
            "width": null
          }
        },
        "6db7c31e971c4c378404324b3197b394": {
          "model_module": "@jupyter-widgets/controls",
          "model_name": "ProgressStyleModel",
          "model_module_version": "1.5.0",
          "state": {
            "_model_module": "@jupyter-widgets/controls",
            "_model_module_version": "1.5.0",
            "_model_name": "ProgressStyleModel",
            "_view_count": null,
            "_view_module": "@jupyter-widgets/base",
            "_view_module_version": "1.2.0",
            "_view_name": "StyleView",
            "bar_color": null,
            "description_width": ""
          }
        },
        "75361c9c7c2840d298fee7fe8c64386b": {
          "model_module": "@jupyter-widgets/controls",
          "model_name": "VBoxModel",
          "model_module_version": "1.5.0",
          "state": {
            "_dom_classes": [],
            "_model_module": "@jupyter-widgets/controls",
            "_model_module_version": "1.5.0",
            "_model_name": "VBoxModel",
            "_view_count": null,
            "_view_module": "@jupyter-widgets/controls",
            "_view_module_version": "1.5.0",
            "_view_name": "VBoxView",
            "box_style": "",
            "children": [
              "IPY_MODEL_db5aeaeed60c456bb4e21b7e0be98847",
              "IPY_MODEL_b78601ed89e24a16965309cfd43f7498"
            ],
            "layout": "IPY_MODEL_fcf3614390284852a03990f35a08a9c5"
          }
        },
        "db5aeaeed60c456bb4e21b7e0be98847": {
          "model_module": "@jupyter-widgets/controls",
          "model_name": "LabelModel",
          "model_module_version": "1.5.0",
          "state": {
            "_dom_classes": [],
            "_model_module": "@jupyter-widgets/controls",
            "_model_module_version": "1.5.0",
            "_model_name": "LabelModel",
            "_view_count": null,
            "_view_module": "@jupyter-widgets/controls",
            "_view_module_version": "1.5.0",
            "_view_name": "LabelView",
            "description": "",
            "description_tooltip": null,
            "layout": "IPY_MODEL_c7888c06badc4fbe821d3a4d138dfe63",
            "placeholder": "​",
            "style": "IPY_MODEL_453a00bc7e694fce87e471e6d88b961b",
            "value": "0.011 MB of 0.011 MB uploaded\r"
          }
        },
        "b78601ed89e24a16965309cfd43f7498": {
          "model_module": "@jupyter-widgets/controls",
          "model_name": "FloatProgressModel",
          "model_module_version": "1.5.0",
          "state": {
            "_dom_classes": [],
            "_model_module": "@jupyter-widgets/controls",
            "_model_module_version": "1.5.0",
            "_model_name": "FloatProgressModel",
            "_view_count": null,
            "_view_module": "@jupyter-widgets/controls",
            "_view_module_version": "1.5.0",
            "_view_name": "ProgressView",
            "bar_style": "",
            "description": "",
            "description_tooltip": null,
            "layout": "IPY_MODEL_b48fe03631664db79cd9f61167bbf6c9",
            "max": 1,
            "min": 0,
            "orientation": "horizontal",
            "style": "IPY_MODEL_f3e13623b45845e2a1e3d317151c2967",
            "value": 1
          }
        },
        "fcf3614390284852a03990f35a08a9c5": {
          "model_module": "@jupyter-widgets/base",
          "model_name": "LayoutModel",
          "model_module_version": "1.2.0",
          "state": {
            "_model_module": "@jupyter-widgets/base",
            "_model_module_version": "1.2.0",
            "_model_name": "LayoutModel",
            "_view_count": null,
            "_view_module": "@jupyter-widgets/base",
            "_view_module_version": "1.2.0",
            "_view_name": "LayoutView",
            "align_content": null,
            "align_items": null,
            "align_self": null,
            "border": null,
            "bottom": null,
            "display": null,
            "flex": null,
            "flex_flow": null,
            "grid_area": null,
            "grid_auto_columns": null,
            "grid_auto_flow": null,
            "grid_auto_rows": null,
            "grid_column": null,
            "grid_gap": null,
            "grid_row": null,
            "grid_template_areas": null,
            "grid_template_columns": null,
            "grid_template_rows": null,
            "height": null,
            "justify_content": null,
            "justify_items": null,
            "left": null,
            "margin": null,
            "max_height": null,
            "max_width": null,
            "min_height": null,
            "min_width": null,
            "object_fit": null,
            "object_position": null,
            "order": null,
            "overflow": null,
            "overflow_x": null,
            "overflow_y": null,
            "padding": null,
            "right": null,
            "top": null,
            "visibility": null,
            "width": null
          }
        },
        "c7888c06badc4fbe821d3a4d138dfe63": {
          "model_module": "@jupyter-widgets/base",
          "model_name": "LayoutModel",
          "model_module_version": "1.2.0",
          "state": {
            "_model_module": "@jupyter-widgets/base",
            "_model_module_version": "1.2.0",
            "_model_name": "LayoutModel",
            "_view_count": null,
            "_view_module": "@jupyter-widgets/base",
            "_view_module_version": "1.2.0",
            "_view_name": "LayoutView",
            "align_content": null,
            "align_items": null,
            "align_self": null,
            "border": null,
            "bottom": null,
            "display": null,
            "flex": null,
            "flex_flow": null,
            "grid_area": null,
            "grid_auto_columns": null,
            "grid_auto_flow": null,
            "grid_auto_rows": null,
            "grid_column": null,
            "grid_gap": null,
            "grid_row": null,
            "grid_template_areas": null,
            "grid_template_columns": null,
            "grid_template_rows": null,
            "height": null,
            "justify_content": null,
            "justify_items": null,
            "left": null,
            "margin": null,
            "max_height": null,
            "max_width": null,
            "min_height": null,
            "min_width": null,
            "object_fit": null,
            "object_position": null,
            "order": null,
            "overflow": null,
            "overflow_x": null,
            "overflow_y": null,
            "padding": null,
            "right": null,
            "top": null,
            "visibility": null,
            "width": null
          }
        },
        "453a00bc7e694fce87e471e6d88b961b": {
          "model_module": "@jupyter-widgets/controls",
          "model_name": "DescriptionStyleModel",
          "model_module_version": "1.5.0",
          "state": {
            "_model_module": "@jupyter-widgets/controls",
            "_model_module_version": "1.5.0",
            "_model_name": "DescriptionStyleModel",
            "_view_count": null,
            "_view_module": "@jupyter-widgets/base",
            "_view_module_version": "1.2.0",
            "_view_name": "StyleView",
            "description_width": ""
          }
        },
        "b48fe03631664db79cd9f61167bbf6c9": {
          "model_module": "@jupyter-widgets/base",
          "model_name": "LayoutModel",
          "model_module_version": "1.2.0",
          "state": {
            "_model_module": "@jupyter-widgets/base",
            "_model_module_version": "1.2.0",
            "_model_name": "LayoutModel",
            "_view_count": null,
            "_view_module": "@jupyter-widgets/base",
            "_view_module_version": "1.2.0",
            "_view_name": "LayoutView",
            "align_content": null,
            "align_items": null,
            "align_self": null,
            "border": null,
            "bottom": null,
            "display": null,
            "flex": null,
            "flex_flow": null,
            "grid_area": null,
            "grid_auto_columns": null,
            "grid_auto_flow": null,
            "grid_auto_rows": null,
            "grid_column": null,
            "grid_gap": null,
            "grid_row": null,
            "grid_template_areas": null,
            "grid_template_columns": null,
            "grid_template_rows": null,
            "height": null,
            "justify_content": null,
            "justify_items": null,
            "left": null,
            "margin": null,
            "max_height": null,
            "max_width": null,
            "min_height": null,
            "min_width": null,
            "object_fit": null,
            "object_position": null,
            "order": null,
            "overflow": null,
            "overflow_x": null,
            "overflow_y": null,
            "padding": null,
            "right": null,
            "top": null,
            "visibility": null,
            "width": null
          }
        },
        "f3e13623b45845e2a1e3d317151c2967": {
          "model_module": "@jupyter-widgets/controls",
          "model_name": "ProgressStyleModel",
          "model_module_version": "1.5.0",
          "state": {
            "_model_module": "@jupyter-widgets/controls",
            "_model_module_version": "1.5.0",
            "_model_name": "ProgressStyleModel",
            "_view_count": null,
            "_view_module": "@jupyter-widgets/base",
            "_view_module_version": "1.2.0",
            "_view_name": "StyleView",
            "bar_color": null,
            "description_width": ""
          }
        }
      }
    }
  },
  "cells": [
    {
      "cell_type": "markdown",
      "metadata": {
        "id": "view-in-github",
        "colab_type": "text"
      },
      "source": [
        "<a href=\"https://colab.research.google.com/github/SandeeeeeeeeepDey/data-science-11-weeks-progg/blob/main/Chapter_11_pushups.ipynb\" target=\"_parent\"><img src=\"https://colab.research.google.com/assets/colab-badge.svg\" alt=\"Open In Colab\"/></a>"
      ]
    },
    {
      "cell_type": "markdown",
      "source": [
        "1. What is the problem that Glorot initialization and He initialization aim\n",
        "to fix?"
      ],
      "metadata": {
        "id": "1XTdx3OAvdP0"
      }
    },
    {
      "cell_type": "code",
      "source": [
        "# ans post first fast read\n",
        "\n",
        "    '''\n",
        "        To tackle the vanishing and/or exploding gradients, we randomly\n",
        "        initialize the weights for all layer such that it\n",
        "        follows these initialization rules, where the mean is 0 and SD is 1.\n",
        "\n",
        "        It also helps with regularization.\n",
        "    '''"
      ],
      "metadata": {
        "id": "Jw7rNp-Jvczh"
      },
      "execution_count": null,
      "outputs": []
    },
    {
      "cell_type": "markdown",
      "source": [
        "2. Is it OK to initialize all the weights to the same value as long as that\n",
        "value is selected randomly using He initialization?"
      ],
      "metadata": {
        "id": "fnDFgnH7vlgJ"
      }
    },
    {
      "cell_type": "code",
      "execution_count": null,
      "metadata": {
        "id": "PF_BXGBmuYji"
      },
      "outputs": [],
      "source": [
        "# ans post first fast read\n",
        "\n",
        "    '''\n",
        "        I think yes.\n",
        "    '''"
      ]
    },
    {
      "cell_type": "markdown",
      "source": [
        "3. Is it OK to initialize the bias terms to 0?"
      ],
      "metadata": {
        "id": "rEYHhK4lvosb"
      }
    },
    {
      "cell_type": "code",
      "source": [
        "# ans post first fast read\n",
        "\n",
        "    '''\n",
        "        I think yes.\n",
        "    '''"
      ],
      "metadata": {
        "id": "YwHc6lUYvq6Q"
      },
      "execution_count": null,
      "outputs": []
    },
    {
      "cell_type": "markdown",
      "source": [
        "4. In which cases would you want to use each of the activation functions\n",
        "we discussed in this chapter?"
      ],
      "metadata": {
        "id": "oGjGmVPqvrpX"
      }
    },
    {
      "cell_type": "code",
      "source": [
        "# ans post first fast read\n",
        "\n",
        "    '''\n",
        "        Fast- ReLU or Leaky ReLU\n",
        "        Deep- Smooth relu\n",
        "    '''"
      ],
      "metadata": {
        "id": "gFULMy1gvuoU"
      },
      "execution_count": null,
      "outputs": []
    },
    {
      "cell_type": "markdown",
      "source": [
        "5. What may happen if you set the momentum hyperparameter too close to\n",
        "1 (e.g., 0.99999) when using an SGD optimizer?"
      ],
      "metadata": {
        "id": "IWwGogx1vvEI"
      }
    },
    {
      "cell_type": "code",
      "source": [
        "# ans post first fast read\n",
        "\n",
        "    '''\n",
        "        Convergence will become very slow or may keep going back and forth\n",
        "        around the global optimum\n",
        "    '''"
      ],
      "metadata": {
        "id": "QQLdBHtdvxt8"
      },
      "execution_count": null,
      "outputs": []
    },
    {
      "cell_type": "markdown",
      "source": [
        "6. Name three ways you can produce a sparse model."
      ],
      "metadata": {
        "id": "JSSCgqwRvyTt"
      }
    },
    {
      "cell_type": "code",
      "source": [
        "# ans post first fast read\n",
        "\n",
        "    '''\n",
        "        Lasso,\n",
        "\n",
        "    '''"
      ],
      "metadata": {
        "id": "KhWX_OmJv0N8"
      },
      "execution_count": null,
      "outputs": []
    },
    {
      "cell_type": "markdown",
      "source": [
        "7. Does dropout slow down training? Does it slow down inference (i.e.,\n",
        "making predictions on new instances)? What about MC dropout?"
      ],
      "metadata": {
        "id": "rvxxIS2Sv0_t"
      }
    },
    {
      "cell_type": "code",
      "source": [
        "# ans post first fast read\n",
        "\n",
        "    '''\n",
        "        It does show down the training because each neuron have to learn more.\n",
        "\n",
        "        It dosent slow down on inference.\n",
        "\n",
        "        for MC dropout, it slows down quiet a lot, but only during training\n",
        "    '''"
      ],
      "metadata": {
        "id": "12xxGLISv3Qi"
      },
      "execution_count": null,
      "outputs": []
    },
    {
      "cell_type": "code",
      "source": [],
      "metadata": {
        "id": "IB3_9VIkpEYo"
      },
      "execution_count": null,
      "outputs": []
    },
    {
      "cell_type": "markdown",
      "metadata": {
        "id": "hAonX-Yb-Ce8"
      },
      "source": [
        "## 8. Deep Learning on CIFAR10"
      ]
    },
    {
      "cell_type": "markdown",
      "metadata": {
        "id": "fy0hjbBr-Ce9"
      },
      "source": [
        "### a.\n",
        "*Exercise: Build a DNN with 20 hidden layers of 100 neurons each (that's too many, but it's the point of this exercise). Use He initialization and the Swish activation function.*"
      ]
    },
    {
      "cell_type": "code",
      "source": [
        "tf.random.set_seed(24)\n",
        "\n",
        "model = tf.keras.Sequential()\n",
        "model.add(tf.keras.layers.Flatten(input_shape = [32,32,3]))\n",
        "for i in range(20):\n",
        "    model.add(tf.keras.layers.Dense(100, activation = 'swish', kernel_initializer = \"he_normal\"))"
      ],
      "metadata": {
        "id": "5k5_eRHNpNeL"
      },
      "execution_count": null,
      "outputs": []
    },
    {
      "cell_type": "code",
      "execution_count": null,
      "metadata": {
        "id": "byIj93tt-Ce9"
      },
      "outputs": [],
      "source": [
        "tf.random.set_seed(42)\n",
        "\n",
        "model = tf.keras.Sequential()\n",
        "model.add(tf.keras.layers.Flatten(input_shape=[32, 32, 3]))\n",
        "for _ in range(20):\n",
        "    model.add(tf.keras.layers.Dense(100,\n",
        "                                    activation=\"swish\",\n",
        "                                    kernel_initializer=\"he_normal\"))"
      ]
    },
    {
      "cell_type": "markdown",
      "metadata": {
        "id": "b-Dnf7Lf-Ce9"
      },
      "source": [
        "### b.\n",
        "*Exercise: Using Nadam optimization and early stopping, train the network on the CIFAR10 dataset. You can load it with `tf.keras.datasets.cifar10.load_data()`. The dataset is composed of 60,000 32 × 32–pixel color images (50,000 for training, 10,000 for testing) with 10 classes, so you'll need a softmax output layer with 10 neurons. Remember to search for the right learning rate each time you change the model's architecture or hyperparameters.*"
      ]
    },
    {
      "cell_type": "markdown",
      "metadata": {
        "id": "zI0EY21n-CfA"
      },
      "source": [
        "Let's add the output layer to the model:"
      ]
    },
    {
      "cell_type": "code",
      "execution_count": null,
      "metadata": {
        "id": "7R6MoKNW-CfB"
      },
      "outputs": [],
      "source": [
        "model.add(tf.keras.layers.Dense(10, activation=\"softmax\"))"
      ]
    },
    {
      "cell_type": "markdown",
      "metadata": {
        "id": "cX--_-GM-CfB"
      },
      "source": [
        "Let's use a Nadam optimizer with a learning rate of 5e-5. I tried learning rates 1e-5, 3e-5, 1e-4, 3e-4, 1e-3, 3e-3 and 1e-2, and I compared their learning curves for 10 epochs each (using the TensorBoard callback, below). The learning rates 3e-5 and 1e-4 were pretty good, so I tried 5e-5, which turned out to be slightly better."
      ]
    },
    {
      "cell_type": "code",
      "execution_count": null,
      "metadata": {
        "id": "vs-LWxRF-CfB"
      },
      "outputs": [],
      "source": [
        "optimizer = tf.keras.optimizers.Nadam(learning_rate=5e-5)\n",
        "model.compile(loss=\"sparse_categorical_crossentropy\",\n",
        "              optimizer=optimizer,\n",
        "              metrics=[\"accuracy\"])"
      ]
    },
    {
      "cell_type": "code",
      "source": [
        "model.add(tf.keras.layers.Dense(10, activation = \"softmax\"))\n",
        "\n",
        "optimizer = tf.keras.optimizers.Nadam(learning_rate = 5e-5, )"
      ],
      "metadata": {
        "id": "JeTDB4girLp5"
      },
      "execution_count": null,
      "outputs": []
    },
    {
      "cell_type": "markdown",
      "metadata": {
        "id": "Bt87nNGz-CfB"
      },
      "source": [
        "Let's load the CIFAR10 dataset. We also want to use early stopping, so we need a validation set. Let's use the first 5,000 images of the original training set as the validation set:"
      ]
    },
    {
      "cell_type": "code",
      "execution_count": null,
      "metadata": {
        "id": "le18CzNq-CfW"
      },
      "outputs": [],
      "source": [
        "cifar10 = tf.keras.datasets.cifar10.load_data()\n",
        "(X_train_full, y_train_full), (X_test, y_test) = cifar10\n",
        "\n",
        "X_train = X_train_full[5000:]\n",
        "y_train = y_train_full[5000:]\n",
        "X_valid = X_train_full[:5000]\n",
        "y_valid = y_train_full[:5000]"
      ]
    },
    {
      "cell_type": "markdown",
      "metadata": {
        "id": "sLZM_oNn-CfX"
      },
      "source": [
        "Now we can create the callbacks we need and train the model:"
      ]
    },
    {
      "cell_type": "code",
      "execution_count": null,
      "metadata": {
        "id": "urYIRLlN-CfX"
      },
      "outputs": [],
      "source": [
        "early_stopping_cb = tf.keras.callbacks.EarlyStopping(patience=20,\n",
        "                                                     restore_best_weights=True)\n",
        "model_checkpoint_cb = tf.keras.callbacks.ModelCheckpoint(\"my_cifar10_model\",\n",
        "                                                         save_best_only=True)\n",
        "run_index = 1 # increment every time you train the model\n",
        "run_logdir = Path() / \"my_cifar10_logs\" / f\"run_{run_index:03d}\"\n",
        "tensorboard_cb = tf.keras.callbacks.TensorBoard(run_logdir)\n",
        "callbacks = [early_stopping_cb, model_checkpoint_cb, tensorboard_cb]"
      ]
    },
    {
      "cell_type": "code",
      "execution_count": null,
      "metadata": {
        "id": "OP7edJYG-CfX",
        "outputId": "6d4f67f8-7ff4-4ea1-aaf6-69198dc90d36"
      },
      "outputs": [
        {
          "data": {
            "text/html": [
              "\n",
              "      <iframe id=\"tensorboard-frame-d05c16b556c70d97\" width=\"100%\" height=\"800\" frameborder=\"0\">\n",
              "      </iframe>\n",
              "      <script>\n",
              "        (function() {\n",
              "          const frame = document.getElementById(\"tensorboard-frame-d05c16b556c70d97\");\n",
              "          const url = new URL(\"/\", window.location);\n",
              "          const port = 6006;\n",
              "          if (port) {\n",
              "            url.port = port;\n",
              "          }\n",
              "          frame.src = url;\n",
              "        })();\n",
              "      </script>\n",
              "    "
            ],
            "text/plain": [
              "<IPython.core.display.HTML object>"
            ]
          },
          "metadata": {},
          "output_type": "display_data"
        }
      ],
      "source": [
        "%load_ext tensorboard\n",
        "%tensorboard --logdir=./my_cifar10_logs"
      ]
    },
    {
      "cell_type": "code",
      "execution_count": null,
      "metadata": {
        "id": "ovPg6HNd-CfX",
        "outputId": "ae4c7b82-af3e-4e5a-9c4c-db43d2df1433"
      },
      "outputs": [
        {
          "name": "stdout",
          "output_type": "stream",
          "text": [
            "Epoch 1/100\n",
            "1404/1407 [============================>.] - ETA: 0s - loss: 4.0493 - accuracy: 0.1598INFO:tensorflow:Assets written to: my_cifar10_model/assets\n",
            "1407/1407 [==============================] - 17s 10ms/step - loss: 4.0462 - accuracy: 0.1597 - val_loss: 2.1441 - val_accuracy: 0.2036\n",
            "Epoch 2/100\n",
            "1407/1407 [==============================] - ETA: 0s - loss: 2.0667 - accuracy: 0.2320INFO:tensorflow:Assets written to: my_cifar10_model/assets\n",
            "1407/1407 [==============================] - 12s 9ms/step - loss: 2.0667 - accuracy: 0.2320 - val_loss: 2.0134 - val_accuracy: 0.2472\n",
            "Epoch 3/100\n",
            "1407/1407 [==============================] - ETA: 0s - loss: 1.9472 - accuracy: 0.2819INFO:tensorflow:Assets written to: my_cifar10_model/assets\n",
            "1407/1407 [==============================] - 14s 10ms/step - loss: 1.9472 - accuracy: 0.2819 - val_loss: 1.9427 - val_accuracy: 0.2796\n",
            "Epoch 4/100\n",
            "1405/1407 [============================>.] - ETA: 0s - loss: 1.8636 - accuracy: 0.3182INFO:tensorflow:Assets written to: my_cifar10_model/assets\n",
            "1407/1407 [==============================] - 14s 10ms/step - loss: 1.8637 - accuracy: 0.3182 - val_loss: 1.8934 - val_accuracy: 0.3222\n",
            "Epoch 5/100\n",
            "1402/1407 [============================>.] - ETA: 0s - loss: 1.7975 - accuracy: 0.3464INFO:tensorflow:Assets written to: my_cifar10_model/assets\n",
            "1407/1407 [==============================] - 14s 10ms/step - loss: 1.7974 - accuracy: 0.3465 - val_loss: 1.8389 - val_accuracy: 0.3284\n",
            "Epoch 6/100\n",
            "1407/1407 [==============================] - 9s 7ms/step - loss: 1.7446 - accuracy: 0.3664 - val_loss: 2.0006 - val_accuracy: 0.3030\n",
            "Epoch 7/100\n",
            "1407/1407 [==============================] - ETA: 0s - loss: 1.6974 - accuracy: 0.3852INFO:tensorflow:Assets written to: my_cifar10_model/assets\n",
            "1407/1407 [==============================] - 12s 8ms/step - loss: 1.6974 - accuracy: 0.3852 - val_loss: 1.7075 - val_accuracy: 0.3738\n",
            "Epoch 8/100\n",
            "1405/1407 [============================>.] - ETA: 0s - loss: 1.6605 - accuracy: 0.3984INFO:tensorflow:Assets written to: my_cifar10_model/assets\n",
            "1407/1407 [==============================] - 12s 8ms/step - loss: 1.6604 - accuracy: 0.3984 - val_loss: 1.6788 - val_accuracy: 0.3836\n",
            "Epoch 9/100\n",
            "1405/1407 [============================>.] - ETA: 0s - loss: 1.6322 - accuracy: 0.4114INFO:tensorflow:Assets written to: my_cifar10_model/assets\n",
            "1407/1407 [==============================] - 14s 10ms/step - loss: 1.6321 - accuracy: 0.4114 - val_loss: 1.6477 - val_accuracy: 0.4014\n",
            "Epoch 10/100\n",
            "1407/1407 [==============================] - 12s 8ms/step - loss: 1.6065 - accuracy: 0.4205 - val_loss: 1.6623 - val_accuracy: 0.3980\n",
            "Epoch 11/100\n",
            "1401/1407 [============================>.] - ETA: 0s - loss: 1.5843 - accuracy: 0.4287INFO:tensorflow:Assets written to: my_cifar10_model/assets\n",
            "1407/1407 [==============================] - 14s 10ms/step - loss: 1.5845 - accuracy: 0.4285 - val_loss: 1.6032 - val_accuracy: 0.4198\n",
            "Epoch 12/100\n",
            "1407/1407 [==============================] - 9s 6ms/step - loss: 1.5634 - accuracy: 0.4367 - val_loss: 1.6063 - val_accuracy: 0.4258\n",
            "Epoch 13/100\n",
            "1401/1407 [============================>.] - ETA: 0s - loss: 1.5443 - accuracy: 0.4420INFO:tensorflow:Assets written to: my_cifar10_model/assets\n",
            "<<47 more lines>>\n",
            "1407/1407 [==============================] - 12s 8ms/step - loss: 1.3247 - accuracy: 0.5256 - val_loss: 1.5130 - val_accuracy: 0.4616\n",
            "Epoch 33/100\n",
            "1407/1407 [==============================] - 13s 9ms/step - loss: 1.3164 - accuracy: 0.5286 - val_loss: 1.5284 - val_accuracy: 0.4686\n",
            "Epoch 34/100\n",
            "1407/1407 [==============================] - 12s 9ms/step - loss: 1.3091 - accuracy: 0.5303 - val_loss: 1.5208 - val_accuracy: 0.4682\n",
            "Epoch 35/100\n",
            "1407/1407 [==============================] - 12s 8ms/step - loss: 1.3026 - accuracy: 0.5319 - val_loss: 1.5479 - val_accuracy: 0.4604\n",
            "Epoch 36/100\n",
            "1407/1407 [==============================] - 11s 8ms/step - loss: 1.2930 - accuracy: 0.5378 - val_loss: 1.5443 - val_accuracy: 0.4580\n",
            "Epoch 37/100\n",
            "1407/1407 [==============================] - 12s 8ms/step - loss: 1.2833 - accuracy: 0.5406 - val_loss: 1.5165 - val_accuracy: 0.4710\n",
            "Epoch 38/100\n",
            "1407/1407 [==============================] - 11s 8ms/step - loss: 1.2763 - accuracy: 0.5433 - val_loss: 1.5345 - val_accuracy: 0.4672\n",
            "Epoch 39/100\n",
            "1407/1407 [==============================] - 12s 9ms/step - loss: 1.2687 - accuracy: 0.5437 - val_loss: 1.5162 - val_accuracy: 0.4712\n",
            "Epoch 40/100\n",
            "1407/1407 [==============================] - 11s 7ms/step - loss: 1.2623 - accuracy: 0.5490 - val_loss: 1.5717 - val_accuracy: 0.4566\n",
            "Epoch 41/100\n",
            "1407/1407 [==============================] - 14s 10ms/step - loss: 1.2580 - accuracy: 0.5467 - val_loss: 1.5296 - val_accuracy: 0.4738\n",
            "Epoch 42/100\n",
            "1407/1407 [==============================] - 13s 9ms/step - loss: 1.2469 - accuracy: 0.5532 - val_loss: 1.5179 - val_accuracy: 0.4690\n",
            "Epoch 43/100\n",
            "1407/1407 [==============================] - 11s 8ms/step - loss: 1.2404 - accuracy: 0.5542 - val_loss: 1.5542 - val_accuracy: 0.4566\n",
            "Epoch 44/100\n",
            "1407/1407 [==============================] - 12s 8ms/step - loss: 1.2292 - accuracy: 0.5605 - val_loss: 1.5536 - val_accuracy: 0.4608\n",
            "Epoch 45/100\n",
            "1407/1407 [==============================] - 12s 9ms/step - loss: 1.2276 - accuracy: 0.5606 - val_loss: 1.5522 - val_accuracy: 0.4624\n",
            "Epoch 46/100\n",
            "1407/1407 [==============================] - 13s 9ms/step - loss: 1.2200 - accuracy: 0.5637 - val_loss: 1.5339 - val_accuracy: 0.4794\n",
            "Epoch 47/100\n",
            "1407/1407 [==============================] - 13s 9ms/step - loss: 1.2080 - accuracy: 0.5677 - val_loss: 1.5451 - val_accuracy: 0.4688\n",
            "Epoch 48/100\n",
            "1407/1407 [==============================] - 15s 10ms/step - loss: 1.2050 - accuracy: 0.5675 - val_loss: 1.5209 - val_accuracy: 0.4770\n",
            "Epoch 49/100\n",
            "1407/1407 [==============================] - 10s 7ms/step - loss: 1.1947 - accuracy: 0.5718 - val_loss: 1.5435 - val_accuracy: 0.4736\n"
          ]
        },
        {
          "data": {
            "text/plain": [
              "<keras.callbacks.History at 0x7fb9f02fc070>"
            ]
          },
          "execution_count": 124,
          "metadata": {},
          "output_type": "execute_result"
        }
      ],
      "source": [
        "model.fit(X_train, y_train, epochs=100,\n",
        "          validation_data=(X_valid, y_valid),\n",
        "          callbacks=callbacks)"
      ]
    },
    {
      "cell_type": "code",
      "execution_count": null,
      "metadata": {
        "id": "PShYTvJW-CfX",
        "outputId": "182c666d-27a2-493a-8f89-ebe914dca393"
      },
      "outputs": [
        {
          "name": "stdout",
          "output_type": "stream",
          "text": [
            "157/157 [==============================] - 0s 2ms/step - loss: 1.5062 - accuracy: 0.4676\n"
          ]
        },
        {
          "data": {
            "text/plain": [
              "[1.5061508417129517, 0.4675999879837036]"
            ]
          },
          "execution_count": 125,
          "metadata": {},
          "output_type": "execute_result"
        }
      ],
      "source": [
        "model.evaluate(X_valid, y_valid)"
      ]
    },
    {
      "cell_type": "markdown",
      "metadata": {
        "id": "Hpd7lfvo-CfY"
      },
      "source": [
        "The model with the lowest validation loss gets about 46.8% accuracy on the validation set. It took 29 epochs to reach the lowest validation loss, with roughly 10 seconds per epoch on my laptop (without a GPU). Let's see if we can improve the model using Batch Normalization."
      ]
    },
    {
      "cell_type": "markdown",
      "metadata": {
        "id": "wUSWnrAT-CfY"
      },
      "source": [
        "### c.\n",
        "*Exercise: Now try adding Batch Normalization and compare the learning curves: Is it converging faster than before? Does it produce a better model? How does it affect training speed?*"
      ]
    },
    {
      "cell_type": "markdown",
      "metadata": {
        "id": "Lx1u2ZFP-CfY"
      },
      "source": [
        "The code below is very similar to the code above, with a few changes:\n",
        "\n",
        "* I added a BN layer after every Dense layer (before the activation function), except for the output layer.\n",
        "* I changed the learning rate to 5e-4. I experimented with 1e-5, 3e-5, 5e-5, 1e-4, 3e-4, 5e-4, 1e-3 and 3e-3, and I chose the one with the best validation performance after 20 epochs.\n",
        "* I renamed the run directories to run_bn_* and the model file name to `my_cifar10_bn_model`."
      ]
    },
    {
      "cell_type": "code",
      "execution_count": null,
      "metadata": {
        "id": "_Ht1H1j5-CfY",
        "outputId": "3f9a03db-a35c-4b10-b05b-2dc167f8c523"
      },
      "outputs": [
        {
          "name": "stdout",
          "output_type": "stream",
          "text": [
            "Epoch 1/100\n",
            "1403/1407 [============================>.] - ETA: 0s - loss: 2.0377 - accuracy: 0.2523INFO:tensorflow:Assets written to: my_cifar10_bn_model/assets\n",
            "1407/1407 [==============================] - 32s 18ms/step - loss: 2.0374 - accuracy: 0.2525 - val_loss: 1.8766 - val_accuracy: 0.3154\n",
            "Epoch 2/100\n",
            "1407/1407 [==============================] - 17s 12ms/step - loss: 1.7874 - accuracy: 0.3542 - val_loss: 1.8784 - val_accuracy: 0.3268\n",
            "Epoch 3/100\n",
            "1407/1407 [==============================] - 20s 15ms/step - loss: 1.6806 - accuracy: 0.3969 - val_loss: 1.9764 - val_accuracy: 0.3252\n",
            "Epoch 4/100\n",
            "1403/1407 [============================>.] - ETA: 0s - loss: 1.6111 - accuracy: 0.4229INFO:tensorflow:Assets written to: my_cifar10_bn_model/assets\n",
            "1407/1407 [==============================] - 24s 17ms/step - loss: 1.6112 - accuracy: 0.4228 - val_loss: 1.7087 - val_accuracy: 0.3750\n",
            "Epoch 5/100\n",
            "1402/1407 [============================>.] - ETA: 0s - loss: 1.5520 - accuracy: 0.4478INFO:tensorflow:Assets written to: my_cifar10_bn_model/assets\n",
            "1407/1407 [==============================] - 21s 15ms/step - loss: 1.5521 - accuracy: 0.4476 - val_loss: 1.6272 - val_accuracy: 0.4176\n",
            "Epoch 6/100\n",
            "1406/1407 [============================>.] - ETA: 0s - loss: 1.5030 - accuracy: 0.4659INFO:tensorflow:Assets written to: my_cifar10_bn_model/assets\n",
            "1407/1407 [==============================] - 23s 16ms/step - loss: 1.5030 - accuracy: 0.4660 - val_loss: 1.5401 - val_accuracy: 0.4452\n",
            "Epoch 7/100\n",
            "1407/1407 [==============================] - 15s 11ms/step - loss: 1.4559 - accuracy: 0.4812 - val_loss: 1.6990 - val_accuracy: 0.3952\n",
            "Epoch 8/100\n",
            "1403/1407 [============================>.] - ETA: 0s - loss: 1.4169 - accuracy: 0.4987INFO:tensorflow:Assets written to: my_cifar10_bn_model/assets\n",
            "1407/1407 [==============================] - 21s 15ms/step - loss: 1.4168 - accuracy: 0.4987 - val_loss: 1.5078 - val_accuracy: 0.4652\n",
            "Epoch 9/100\n",
            "1407/1407 [==============================] - 15s 11ms/step - loss: 1.3863 - accuracy: 0.5123 - val_loss: 1.5513 - val_accuracy: 0.4470\n",
            "Epoch 10/100\n",
            "1407/1407 [==============================] - 17s 12ms/step - loss: 1.3514 - accuracy: 0.5216 - val_loss: 1.5208 - val_accuracy: 0.4562\n",
            "Epoch 11/100\n",
            "1407/1407 [==============================] - 16s 12ms/step - loss: 1.3220 - accuracy: 0.5314 - val_loss: 1.7301 - val_accuracy: 0.4206\n",
            "Epoch 12/100\n",
            "1404/1407 [============================>.] - ETA: 0s - loss: 1.2933 - accuracy: 0.5410INFO:tensorflow:Assets written to: my_cifar10_bn_model/assets\n",
            "1407/1407 [==============================] - 25s 18ms/step - loss: 1.2931 - accuracy: 0.5410 - val_loss: 1.4909 - val_accuracy: 0.4734\n",
            "Epoch 13/100\n",
            "1407/1407 [==============================] - 16s 11ms/step - loss: 1.2702 - accuracy: 0.5490 - val_loss: 1.5256 - val_accuracy: 0.4636\n",
            "Epoch 14/100\n",
            "1407/1407 [==============================] - 17s 12ms/step - loss: 1.2424 - accuracy: 0.5591 - val_loss: 1.5569 - val_accuracy: 0.4624\n",
            "Epoch 15/100\n",
            "<<12 more lines>>\n",
            "Epoch 21/100\n",
            "1407/1407 [==============================] - 15s 11ms/step - loss: 1.1174 - accuracy: 0.6066 - val_loss: 1.5241 - val_accuracy: 0.4828\n",
            "Epoch 22/100\n",
            "1407/1407 [==============================] - 18s 13ms/step - loss: 1.0978 - accuracy: 0.6128 - val_loss: 1.5313 - val_accuracy: 0.4772\n",
            "Epoch 23/100\n",
            "1407/1407 [==============================] - 17s 12ms/step - loss: 1.0844 - accuracy: 0.6198 - val_loss: 1.4993 - val_accuracy: 0.4924\n",
            "Epoch 24/100\n",
            "1407/1407 [==============================] - 17s 12ms/step - loss: 1.0677 - accuracy: 0.6244 - val_loss: 1.4622 - val_accuracy: 0.5078\n",
            "Epoch 25/100\n",
            "1407/1407 [==============================] - 18s 13ms/step - loss: 1.0571 - accuracy: 0.6297 - val_loss: 1.4917 - val_accuracy: 0.4990\n",
            "Epoch 26/100\n",
            "1407/1407 [==============================] - 19s 14ms/step - loss: 1.0395 - accuracy: 0.6327 - val_loss: 1.4888 - val_accuracy: 0.4896\n",
            "Epoch 27/100\n",
            "1407/1407 [==============================] - 18s 13ms/step - loss: 1.0298 - accuracy: 0.6370 - val_loss: 1.5358 - val_accuracy: 0.5024\n",
            "Epoch 28/100\n",
            "1407/1407 [==============================] - 18s 13ms/step - loss: 1.0150 - accuracy: 0.6444 - val_loss: 1.5219 - val_accuracy: 0.5030\n",
            "Epoch 29/100\n",
            "1407/1407 [==============================] - 16s 12ms/step - loss: 1.0100 - accuracy: 0.6456 - val_loss: 1.4933 - val_accuracy: 0.5098\n",
            "Epoch 30/100\n",
            "1407/1407 [==============================] - 20s 14ms/step - loss: 0.9956 - accuracy: 0.6492 - val_loss: 1.4756 - val_accuracy: 0.5012\n",
            "Epoch 31/100\n",
            "1407/1407 [==============================] - 16s 11ms/step - loss: 0.9787 - accuracy: 0.6576 - val_loss: 1.5181 - val_accuracy: 0.4936\n",
            "Epoch 32/100\n",
            "1407/1407 [==============================] - 17s 12ms/step - loss: 0.9710 - accuracy: 0.6565 - val_loss: 1.7510 - val_accuracy: 0.4568\n",
            "Epoch 33/100\n",
            "1407/1407 [==============================] - 20s 14ms/step - loss: 0.9613 - accuracy: 0.6628 - val_loss: 1.5576 - val_accuracy: 0.4910\n",
            "Epoch 34/100\n",
            "1407/1407 [==============================] - 19s 14ms/step - loss: 0.9530 - accuracy: 0.6651 - val_loss: 1.5087 - val_accuracy: 0.5046\n",
            "Epoch 35/100\n",
            "1407/1407 [==============================] - 19s 13ms/step - loss: 0.9388 - accuracy: 0.6701 - val_loss: 1.5534 - val_accuracy: 0.4950\n",
            "Epoch 36/100\n",
            "1407/1407 [==============================] - 17s 12ms/step - loss: 0.9331 - accuracy: 0.6743 - val_loss: 1.5033 - val_accuracy: 0.5046\n",
            "Epoch 37/100\n",
            "1407/1407 [==============================] - 19s 14ms/step - loss: 0.9144 - accuracy: 0.6808 - val_loss: 1.5679 - val_accuracy: 0.5028\n",
            "157/157 [==============================] - 0s 2ms/step - loss: 1.4236 - accuracy: 0.5074\n"
          ]
        },
        {
          "data": {
            "text/plain": [
              "[1.4236289262771606, 0.5073999762535095]"
            ]
          },
          "execution_count": 126,
          "metadata": {},
          "output_type": "execute_result"
        }
      ],
      "source": [
        "tf.random.set_seed(42)\n",
        "\n",
        "model = tf.keras.Sequential()\n",
        "model.add(tf.keras.layers.Flatten(input_shape=[32, 32, 3]))\n",
        "for _ in range(20):\n",
        "    model.add(tf.keras.layers.Dense(100, kernel_initializer=\"he_normal\"))\n",
        "    model.add(tf.keras.layers.BatchNormalization())\n",
        "    model.add(tf.keras.layers.Activation(\"swish\"))\n",
        "\n",
        "model.add(tf.keras.layers.Dense(10, activation=\"softmax\"))\n",
        "\n",
        "optimizer = tf.keras.optimizers.Nadam(learning_rate=5e-4)\n",
        "model.compile(loss=\"sparse_categorical_crossentropy\",\n",
        "              optimizer=optimizer,\n",
        "              metrics=[\"accuracy\"])\n",
        "\n",
        "early_stopping_cb = tf.keras.callbacks.EarlyStopping(patience=20,\n",
        "                                                     restore_best_weights=True)\n",
        "model_checkpoint_cb = tf.keras.callbacks.ModelCheckpoint(\"my_cifar10_bn_model\",\n",
        "                                                         save_best_only=True)\n",
        "run_index = 1 # increment every time you train the model\n",
        "run_logdir = Path() / \"my_cifar10_logs\" / f\"run_bn_{run_index:03d}\"\n",
        "tensorboard_cb = tf.keras.callbacks.TensorBoard(run_logdir)\n",
        "callbacks = [early_stopping_cb, model_checkpoint_cb, tensorboard_cb]\n",
        "\n",
        "model.fit(X_train, y_train, epochs=100,\n",
        "          validation_data=(X_valid, y_valid),\n",
        "          callbacks=callbacks)\n",
        "\n",
        "model.evaluate(X_valid, y_valid)"
      ]
    },
    {
      "cell_type": "markdown",
      "metadata": {
        "id": "02KC_3n6-CfY"
      },
      "source": [
        "* *Is the model converging faster than before?* Much faster! The previous model took 29 epochs to reach the lowest validation loss, while the new model achieved that same loss in just 12 epochs and continued to make progress until the 17th epoch. The BN layers stabilized training and allowed us to use a much larger learning rate, so convergence was faster.\n",
        "* *Does BN produce a better model?* Yes! The final model is also much better, with 50.7% validation accuracy instead of 46.7%. It's still not a very good model, but at least it's much better than before (a Convolutional Neural Network would do much better, but that's a different topic, see chapter 14).\n",
        "* *How does BN affect training speed?* Although the model converged much faster, each epoch took about 15s instead of 10s, because of the extra computations required by the BN layers. But overall the training time (wall time) to reach the best model was shortened by about 10%."
      ]
    },
    {
      "cell_type": "markdown",
      "metadata": {
        "id": "5s034Uvr-CfY"
      },
      "source": [
        "### d.\n",
        "*Exercise: Try replacing Batch Normalization with SELU, and make the necessary adjustements to ensure the network self-normalizes (i.e., standardize the input features, use LeCun normal initialization, make sure the DNN contains only a sequence of dense layers, etc.).*"
      ]
    },
    {
      "cell_type": "code",
      "execution_count": null,
      "metadata": {
        "scrolled": true,
        "id": "sJ0_wT-E-CfY",
        "outputId": "68ff276e-b390-4d8c-d3c0-b19592f1cb0a"
      },
      "outputs": [
        {
          "name": "stdout",
          "output_type": "stream",
          "text": [
            "Epoch 1/100\n",
            "1403/1407 [============================>.] - ETA: 0s - loss: 1.9386 - accuracy: 0.3045INFO:tensorflow:Assets written to: my_cifar10_selu_model/assets\n",
            "1407/1407 [==============================] - 20s 13ms/step - loss: 1.9385 - accuracy: 0.3046 - val_loss: 1.8175 - val_accuracy: 0.3510\n",
            "Epoch 2/100\n",
            "1405/1407 [============================>.] - ETA: 0s - loss: 1.7241 - accuracy: 0.3869INFO:tensorflow:Assets written to: my_cifar10_selu_model/assets\n",
            "1407/1407 [==============================] - 16s 11ms/step - loss: 1.7241 - accuracy: 0.3869 - val_loss: 1.7677 - val_accuracy: 0.3614\n",
            "Epoch 3/100\n",
            "1407/1407 [==============================] - ETA: 0s - loss: 1.6272 - accuracy: 0.4263INFO:tensorflow:Assets written to: my_cifar10_selu_model/assets\n",
            "1407/1407 [==============================] - 18s 13ms/step - loss: 1.6272 - accuracy: 0.4263 - val_loss: 1.6878 - val_accuracy: 0.4054\n",
            "Epoch 4/100\n",
            "1406/1407 [============================>.] - ETA: 0s - loss: 1.5644 - accuracy: 0.4492INFO:tensorflow:Assets written to: my_cifar10_selu_model/assets\n",
            "1407/1407 [==============================] - 18s 13ms/step - loss: 1.5643 - accuracy: 0.4492 - val_loss: 1.6589 - val_accuracy: 0.4304\n",
            "Epoch 5/100\n",
            "1404/1407 [============================>.] - ETA: 0s - loss: 1.5080 - accuracy: 0.4712INFO:tensorflow:Assets written to: my_cifar10_selu_model/assets\n",
            "1407/1407 [==============================] - 16s 11ms/step - loss: 1.5080 - accuracy: 0.4712 - val_loss: 1.5651 - val_accuracy: 0.4538\n",
            "Epoch 6/100\n",
            "1404/1407 [============================>.] - ETA: 0s - loss: 1.4611 - accuracy: 0.4873INFO:tensorflow:Assets written to: my_cifar10_selu_model/assets\n",
            "1407/1407 [==============================] - 17s 12ms/step - loss: 1.4613 - accuracy: 0.4872 - val_loss: 1.5305 - val_accuracy: 0.4678\n",
            "Epoch 7/100\n",
            "1407/1407 [==============================] - 17s 12ms/step - loss: 1.4174 - accuracy: 0.5077 - val_loss: 1.5346 - val_accuracy: 0.4558\n",
            "Epoch 8/100\n",
            "1406/1407 [============================>.] - ETA: 0s - loss: 1.3781 - accuracy: 0.5175INFO:tensorflow:Assets written to: my_cifar10_selu_model/assets\n",
            "1407/1407 [==============================] - 17s 12ms/step - loss: 1.3781 - accuracy: 0.5175 - val_loss: 1.4773 - val_accuracy: 0.4882\n",
            "Epoch 9/100\n",
            "1407/1407 [==============================] - 16s 11ms/step - loss: 1.3413 - accuracy: 0.5345 - val_loss: 1.5021 - val_accuracy: 0.4764\n",
            "Epoch 10/100\n",
            "1407/1407 [==============================] - 15s 10ms/step - loss: 1.3182 - accuracy: 0.5422 - val_loss: 1.5709 - val_accuracy: 0.4762\n",
            "Epoch 11/100\n",
            "1407/1407 [==============================] - 15s 11ms/step - loss: 1.2832 - accuracy: 0.5571 - val_loss: 1.5345 - val_accuracy: 0.4868\n",
            "Epoch 12/100\n",
            "1407/1407 [==============================] - 15s 11ms/step - loss: 1.2557 - accuracy: 0.5667 - val_loss: 1.5024 - val_accuracy: 0.4900\n",
            "Epoch 13/100\n",
            "1407/1407 [==============================] - 15s 11ms/step - loss: 1.2373 - accuracy: 0.5710 - val_loss: 1.5114 - val_accuracy: 0.5028\n",
            "Epoch 14/100\n",
            "1404/1407 [============================>.] - ETA: 0s - loss: 1.2071 - accuracy: 0.5846INFO:tensorflow:Assets written to: my_cifar10_selu_model/assets\n",
            "1407/1407 [==============================] - 17s 12ms/step - loss: 1.2073 - accuracy: 0.5847 - val_loss: 1.4608 - val_accuracy: 0.5026\n",
            "Epoch 15/100\n",
            "1407/1407 [==============================] - 16s 11ms/step - loss: 1.1843 - accuracy: 0.5940 - val_loss: 1.4962 - val_accuracy: 0.5038\n",
            "Epoch 16/100\n",
            "1407/1407 [==============================] - 16s 12ms/step - loss: 1.1617 - accuracy: 0.6026 - val_loss: 1.5255 - val_accuracy: 0.5062\n",
            "Epoch 17/100\n",
            "1407/1407 [==============================] - 16s 11ms/step - loss: 1.1452 - accuracy: 0.6084 - val_loss: 1.5057 - val_accuracy: 0.5036\n",
            "Epoch 18/100\n",
            "1407/1407 [==============================] - 17s 12ms/step - loss: 1.1297 - accuracy: 0.6145 - val_loss: 1.5097 - val_accuracy: 0.5010\n",
            "Epoch 19/100\n",
            "1407/1407 [==============================] - 16s 12ms/step - loss: 1.1004 - accuracy: 0.6245 - val_loss: 1.5218 - val_accuracy: 0.5014\n",
            "Epoch 20/100\n",
            "1407/1407 [==============================] - 15s 11ms/step - loss: 1.0971 - accuracy: 0.6304 - val_loss: 1.5253 - val_accuracy: 0.5090\n",
            "Epoch 21/100\n",
            "1407/1407 [==============================] - 16s 11ms/step - loss: 1.0670 - accuracy: 0.6345 - val_loss: 1.5006 - val_accuracy: 0.5034\n",
            "Epoch 22/100\n",
            "1407/1407 [==============================] - 16s 11ms/step - loss: 1.0544 - accuracy: 0.6407 - val_loss: 1.5244 - val_accuracy: 0.5010\n",
            "Epoch 23/100\n",
            "1407/1407 [==============================] - 15s 11ms/step - loss: 1.0338 - accuracy: 0.6502 - val_loss: 1.5355 - val_accuracy: 0.5096\n",
            "Epoch 24/100\n",
            "1407/1407 [==============================] - 14s 10ms/step - loss: 1.0281 - accuracy: 0.6514 - val_loss: 1.5257 - val_accuracy: 0.5164\n",
            "Epoch 25/100\n",
            "1407/1407 [==============================] - 14s 10ms/step - loss: 1.4097 - accuracy: 0.6478 - val_loss: 1.8203 - val_accuracy: 0.3514\n",
            "Epoch 26/100\n",
            "1407/1407 [==============================] - 16s 11ms/step - loss: 1.3733 - accuracy: 0.5157 - val_loss: 1.5600 - val_accuracy: 0.4664\n",
            "Epoch 27/100\n",
            "1407/1407 [==============================] - 15s 11ms/step - loss: 1.2032 - accuracy: 0.5814 - val_loss: 1.5367 - val_accuracy: 0.4944\n",
            "Epoch 28/100\n",
            "1407/1407 [==============================] - 16s 11ms/step - loss: 1.1291 - accuracy: 0.6121 - val_loss: 1.5333 - val_accuracy: 0.4852\n",
            "Epoch 29/100\n",
            "1407/1407 [==============================] - 15s 11ms/step - loss: 1.0734 - accuracy: 0.6317 - val_loss: 1.5475 - val_accuracy: 0.5032\n",
            "Epoch 30/100\n",
            "1407/1407 [==============================] - 15s 11ms/step - loss: 1.0294 - accuracy: 0.6469 - val_loss: 1.5400 - val_accuracy: 0.5052\n",
            "Epoch 31/100\n",
            "1407/1407 [==============================] - 15s 11ms/step - loss: 1.0081 - accuracy: 0.6605 - val_loss: 1.5617 - val_accuracy: 0.4856\n",
            "Epoch 32/100\n",
            "1407/1407 [==============================] - 15s 11ms/step - loss: 1.0109 - accuracy: 0.6603 - val_loss: 1.5727 - val_accuracy: 0.5124\n",
            "Epoch 33/100\n",
            "1407/1407 [==============================] - 17s 12ms/step - loss: 0.9646 - accuracy: 0.6762 - val_loss: 1.5333 - val_accuracy: 0.5174\n",
            "Epoch 34/100\n",
            "1407/1407 [==============================] - 16s 11ms/step - loss: 0.9597 - accuracy: 0.6789 - val_loss: 1.5601 - val_accuracy: 0.5016\n",
            "157/157 [==============================] - 0s 1ms/step - loss: 1.4608 - accuracy: 0.5026\n"
          ]
        },
        {
          "data": {
            "text/plain": [
              "[1.4607702493667603, 0.5026000142097473]"
            ]
          },
          "execution_count": 127,
          "metadata": {},
          "output_type": "execute_result"
        }
      ],
      "source": [
        "tf.random.set_seed(42)\n",
        "\n",
        "model = tf.keras.Sequential()\n",
        "model.add(tf.keras.layers.Flatten(input_shape=[32, 32, 3]))\n",
        "for _ in range(20):\n",
        "    model.add(tf.keras.layers.Dense(100,\n",
        "                                    kernel_initializer=\"lecun_normal\",\n",
        "                                    activation=\"selu\"))\n",
        "\n",
        "model.add(tf.keras.layers.Dense(10, activation=\"softmax\"))\n",
        "\n",
        "optimizer = tf.keras.optimizers.Nadam(learning_rate=7e-4)\n",
        "model.compile(loss=\"sparse_categorical_crossentropy\",\n",
        "              optimizer=optimizer,\n",
        "              metrics=[\"accuracy\"])\n",
        "\n",
        "early_stopping_cb = tf.keras.callbacks.EarlyStopping(\n",
        "    patience=20, restore_best_weights=True)\n",
        "model_checkpoint_cb = tf.keras.callbacks.ModelCheckpoint(\n",
        "    \"my_cifar10_selu_model\", save_best_only=True)\n",
        "run_index = 1 # increment every time you train the model\n",
        "run_logdir = Path() / \"my_cifar10_logs\" / f\"run_selu_{run_index:03d}\"\n",
        "tensorboard_cb = tf.keras.callbacks.TensorBoard(run_logdir)\n",
        "callbacks = [early_stopping_cb, model_checkpoint_cb, tensorboard_cb]\n",
        "\n",
        "X_means = X_train.mean(axis=0)\n",
        "X_stds = X_train.std(axis=0)\n",
        "X_train_scaled = (X_train - X_means) / X_stds\n",
        "X_valid_scaled = (X_valid - X_means) / X_stds\n",
        "X_test_scaled = (X_test - X_means) / X_stds\n",
        "\n",
        "model.fit(X_train_scaled, y_train, epochs=100,\n",
        "          validation_data=(X_valid_scaled, y_valid),\n",
        "          callbacks=callbacks)\n",
        "\n",
        "model.evaluate(X_valid_scaled, y_valid)"
      ]
    },
    {
      "cell_type": "markdown",
      "metadata": {
        "id": "yWL9GJoE-CfY"
      },
      "source": [
        "This model reached the first model's validation loss in just 8 epochs. After 14 epochs, it reached its lowest validation loss, with about 50.3% accuracy, which is better than the original model (46.7%), but not quite as good as the model using batch normalization (50.7%). Each epoch took only 9 seconds. So it's the fastest model to train so far."
      ]
    },
    {
      "cell_type": "markdown",
      "metadata": {
        "id": "LvIMTgPK-CfZ"
      },
      "source": [
        "### e.\n",
        "*Exercise: Try regularizing the model with alpha dropout. Then, without retraining your model, see if you can achieve better accuracy using MC Dropout.*"
      ]
    },
    {
      "cell_type": "code",
      "execution_count": null,
      "metadata": {
        "id": "YFqoaBqX-CfZ",
        "outputId": "13459171-a4c6-42e3-9ff4-cc0446e87eb3"
      },
      "outputs": [
        {
          "name": "stdout",
          "output_type": "stream",
          "text": [
            "Epoch 1/100\n",
            "1405/1407 [============================>.] - ETA: 0s - loss: 1.8953 - accuracy: 0.3240INFO:tensorflow:Assets written to: my_cifar10_alpha_dropout_model/assets\n",
            "1407/1407 [==============================] - 18s 11ms/step - loss: 1.8950 - accuracy: 0.3239 - val_loss: 1.7556 - val_accuracy: 0.3812\n",
            "Epoch 2/100\n",
            "1403/1407 [============================>.] - ETA: 0s - loss: 1.6618 - accuracy: 0.4129INFO:tensorflow:Assets written to: my_cifar10_alpha_dropout_model/assets\n",
            "1407/1407 [==============================] - 16s 11ms/step - loss: 1.6618 - accuracy: 0.4130 - val_loss: 1.6563 - val_accuracy: 0.4114\n",
            "Epoch 3/100\n",
            "1402/1407 [============================>.] - ETA: 0s - loss: 1.5772 - accuracy: 0.4431INFO:tensorflow:Assets written to: my_cifar10_alpha_dropout_model/assets\n",
            "1407/1407 [==============================] - 16s 11ms/step - loss: 1.5770 - accuracy: 0.4432 - val_loss: 1.6507 - val_accuracy: 0.4232\n",
            "Epoch 4/100\n",
            "1406/1407 [============================>.] - ETA: 0s - loss: 1.5081 - accuracy: 0.4673INFO:tensorflow:Assets written to: my_cifar10_alpha_dropout_model/assets\n",
            "1407/1407 [==============================] - 15s 10ms/step - loss: 1.5081 - accuracy: 0.4672 - val_loss: 1.5892 - val_accuracy: 0.4566\n",
            "Epoch 5/100\n",
            "1403/1407 [============================>.] - ETA: 0s - loss: 1.4560 - accuracy: 0.4902INFO:tensorflow:Assets written to: my_cifar10_alpha_dropout_model/assets\n",
            "1407/1407 [==============================] - 14s 10ms/step - loss: 1.4561 - accuracy: 0.4902 - val_loss: 1.5382 - val_accuracy: 0.4696\n",
            "Epoch 6/100\n",
            "1401/1407 [============================>.] - ETA: 0s - loss: 1.4095 - accuracy: 0.5050INFO:tensorflow:Assets written to: my_cifar10_alpha_dropout_model/assets\n",
            "1407/1407 [==============================] - 16s 11ms/step - loss: 1.4094 - accuracy: 0.5050 - val_loss: 1.5236 - val_accuracy: 0.4818\n",
            "Epoch 7/100\n",
            "1401/1407 [============================>.] - ETA: 0s - loss: 1.3634 - accuracy: 0.5234INFO:tensorflow:Assets written to: my_cifar10_alpha_dropout_model/assets\n",
            "1407/1407 [==============================] - 14s 10ms/step - loss: 1.3636 - accuracy: 0.5232 - val_loss: 1.5139 - val_accuracy: 0.4840\n",
            "Epoch 8/100\n",
            "1405/1407 [============================>.] - ETA: 0s - loss: 1.3297 - accuracy: 0.5377INFO:tensorflow:Assets written to: my_cifar10_alpha_dropout_model/assets\n",
            "1407/1407 [==============================] - 15s 11ms/step - loss: 1.3296 - accuracy: 0.5378 - val_loss: 1.4780 - val_accuracy: 0.4982\n",
            "Epoch 9/100\n",
            "1407/1407 [==============================] - 15s 11ms/step - loss: 1.2907 - accuracy: 0.5485 - val_loss: 1.5151 - val_accuracy: 0.4854\n",
            "Epoch 10/100\n",
            "1407/1407 [==============================] - 13s 10ms/step - loss: 1.2559 - accuracy: 0.5646 - val_loss: 1.4980 - val_accuracy: 0.4976\n",
            "Epoch 11/100\n",
            "1407/1407 [==============================] - 14s 10ms/step - loss: 1.2221 - accuracy: 0.5767 - val_loss: 1.5199 - val_accuracy: 0.4990\n",
            "Epoch 12/100\n",
            "1407/1407 [==============================] - 13s 9ms/step - loss: 1.1960 - accuracy: 0.5870 - val_loss: 1.5167 - val_accuracy: 0.5030\n",
            "Epoch 13/100\n",
            "1407/1407 [==============================] - 14s 10ms/step - loss: 1.1684 - accuracy: 0.5955 - val_loss: 1.5815 - val_accuracy: 0.5014\n",
            "Epoch 14/100\n",
            "1407/1407 [==============================] - 15s 11ms/step - loss: 1.1463 - accuracy: 0.6025 - val_loss: 1.5427 - val_accuracy: 0.5112\n",
            "Epoch 15/100\n",
            "1407/1407 [==============================] - 13s 9ms/step - loss: 1.1125 - accuracy: 0.6169 - val_loss: 1.5868 - val_accuracy: 0.5212\n",
            "Epoch 16/100\n",
            "1407/1407 [==============================] - 12s 8ms/step - loss: 1.0854 - accuracy: 0.6243 - val_loss: 1.6234 - val_accuracy: 0.5090\n",
            "Epoch 17/100\n",
            "1407/1407 [==============================] - 15s 11ms/step - loss: 1.0668 - accuracy: 0.6328 - val_loss: 1.6162 - val_accuracy: 0.5072\n",
            "Epoch 18/100\n",
            "1407/1407 [==============================] - 15s 10ms/step - loss: 1.0440 - accuracy: 0.6442 - val_loss: 1.5748 - val_accuracy: 0.5162\n",
            "Epoch 19/100\n",
            "1407/1407 [==============================] - 12s 9ms/step - loss: 1.0272 - accuracy: 0.6477 - val_loss: 1.6518 - val_accuracy: 0.5200\n",
            "Epoch 20/100\n",
            "1407/1407 [==============================] - 13s 10ms/step - loss: 1.0007 - accuracy: 0.6594 - val_loss: 1.6224 - val_accuracy: 0.5186\n",
            "Epoch 21/100\n",
            "1407/1407 [==============================] - 15s 10ms/step - loss: 0.9824 - accuracy: 0.6639 - val_loss: 1.6972 - val_accuracy: 0.5136\n",
            "Epoch 22/100\n",
            "1407/1407 [==============================] - 12s 9ms/step - loss: 0.9660 - accuracy: 0.6714 - val_loss: 1.7210 - val_accuracy: 0.5278\n",
            "Epoch 23/100\n",
            "1407/1407 [==============================] - 13s 10ms/step - loss: 0.9472 - accuracy: 0.6780 - val_loss: 1.6436 - val_accuracy: 0.5006\n",
            "Epoch 24/100\n",
            "1407/1407 [==============================] - 14s 10ms/step - loss: 0.9314 - accuracy: 0.6819 - val_loss: 1.7059 - val_accuracy: 0.5160\n",
            "Epoch 25/100\n",
            "1407/1407 [==============================] - 13s 9ms/step - loss: 0.9172 - accuracy: 0.6888 - val_loss: 1.6926 - val_accuracy: 0.5200\n",
            "Epoch 26/100\n",
            "1407/1407 [==============================] - 14s 10ms/step - loss: 0.8990 - accuracy: 0.6947 - val_loss: 1.7705 - val_accuracy: 0.5148\n",
            "Epoch 27/100\n",
            "1407/1407 [==============================] - 13s 9ms/step - loss: 0.8758 - accuracy: 0.7028 - val_loss: 1.7023 - val_accuracy: 0.5198\n",
            "Epoch 28/100\n",
            "1407/1407 [==============================] - 12s 8ms/step - loss: 0.8622 - accuracy: 0.7090 - val_loss: 1.7567 - val_accuracy: 0.5184\n",
            "157/157 [==============================] - 0s 1ms/step - loss: 1.4780 - accuracy: 0.4982\n"
          ]
        },
        {
          "data": {
            "text/plain": [
              "[1.4779616594314575, 0.498199999332428]"
            ]
          },
          "execution_count": 128,
          "metadata": {},
          "output_type": "execute_result"
        }
      ],
      "source": [
        "tf.random.set_seed(42)\n",
        "\n",
        "model = tf.keras.Sequential()\n",
        "model.add(tf.keras.layers.Flatten(input_shape=[32, 32, 3]))\n",
        "for _ in range(20):\n",
        "    model.add(tf.keras.layers.Dense(100,\n",
        "                                    kernel_initializer=\"lecun_normal\",\n",
        "                                    activation=\"selu\"))\n",
        "\n",
        "model.add(tf.keras.layers.AlphaDropout(rate=0.1))\n",
        "model.add(tf.keras.layers.Dense(10, activation=\"softmax\"))\n",
        "\n",
        "optimizer = tf.keras.optimizers.Nadam(learning_rate=5e-4)\n",
        "model.compile(loss=\"sparse_categorical_crossentropy\",\n",
        "              optimizer=optimizer,\n",
        "              metrics=[\"accuracy\"])\n",
        "\n",
        "early_stopping_cb = tf.keras.callbacks.EarlyStopping(\n",
        "    patience=20, restore_best_weights=True)\n",
        "model_checkpoint_cb = tf.keras.callbacks.ModelCheckpoint(\n",
        "    \"my_cifar10_alpha_dropout_model\", save_best_only=True)\n",
        "run_index = 1 # increment every time you train the model\n",
        "run_logdir = Path() / \"my_cifar10_logs\" / f\"run_alpha_dropout_{run_index:03d}\"\n",
        "tensorboard_cb = tf.keras.callbacks.TensorBoard(run_logdir)\n",
        "callbacks = [early_stopping_cb, model_checkpoint_cb, tensorboard_cb]\n",
        "\n",
        "X_means = X_train.mean(axis=0)\n",
        "X_stds = X_train.std(axis=0)\n",
        "X_train_scaled = (X_train - X_means) / X_stds\n",
        "X_valid_scaled = (X_valid - X_means) / X_stds\n",
        "X_test_scaled = (X_test - X_means) / X_stds\n",
        "\n",
        "model.fit(X_train_scaled, y_train, epochs=100,\n",
        "          validation_data=(X_valid_scaled, y_valid),\n",
        "          callbacks=callbacks)\n",
        "\n",
        "model.evaluate(X_valid_scaled, y_valid)"
      ]
    },
    {
      "cell_type": "markdown",
      "metadata": {
        "id": "p7OLsM9R-CfZ"
      },
      "source": [
        "The model reaches 48.1% accuracy on the validation set. That's worse than without dropout (50.3%). With an extensive hyperparameter search, it might be possible to do better (I tried dropout rates of 5%, 10%, 20% and 40%, and learning rates 1e-4, 3e-4, 5e-4, and 1e-3), but probably not much better in this case."
      ]
    },
    {
      "cell_type": "markdown",
      "metadata": {
        "id": "M5tGS5zT-CfZ"
      },
      "source": [
        "Let's use MC Dropout now. We will need the `MCAlphaDropout` class we used earlier, so let's just copy it here for convenience:"
      ]
    },
    {
      "cell_type": "code",
      "execution_count": null,
      "metadata": {
        "id": "oW3o04Bq-CfZ"
      },
      "outputs": [],
      "source": [
        "class MCAlphaDropout(tf.keras.layers.AlphaDropout):\n",
        "    def call(self, inputs):\n",
        "        return super().call(inputs, training=True)"
      ]
    },
    {
      "cell_type": "markdown",
      "metadata": {
        "id": "SD3ZR0jt-CfZ"
      },
      "source": [
        "Now let's create a new model, identical to the one we just trained (with the same weights), but with `MCAlphaDropout` dropout layers instead of `AlphaDropout` layers:"
      ]
    },
    {
      "cell_type": "code",
      "execution_count": null,
      "metadata": {
        "id": "yceCuPzR-CfZ"
      },
      "outputs": [],
      "source": [
        "mc_model = tf.keras.Sequential([\n",
        "    (\n",
        "        MCAlphaDropout(layer.rate)\n",
        "        if isinstance(layer, tf.keras.layers.AlphaDropout)\n",
        "        else layer\n",
        "    )\n",
        "    for layer in model.layers\n",
        "])"
      ]
    },
    {
      "cell_type": "markdown",
      "metadata": {
        "id": "8Xvdsv7h-CfZ"
      },
      "source": [
        "Then let's add a couple utility functions. The first will run the model many times (10 by default) and it will return the mean predicted class probabilities. The second will use these mean probabilities to predict the most likely class for each instance:"
      ]
    },
    {
      "cell_type": "code",
      "execution_count": null,
      "metadata": {
        "id": "9r7NnCMU-CfZ"
      },
      "outputs": [],
      "source": [
        "def mc_dropout_predict_probas(mc_model, X, n_samples=10):\n",
        "    Y_probas = [mc_model.predict(X) for sample in range(n_samples)]\n",
        "    return np.mean(Y_probas, axis=0)\n",
        "\n",
        "def mc_dropout_predict_classes(mc_model, X, n_samples=10):\n",
        "    Y_probas = mc_dropout_predict_probas(mc_model, X, n_samples)\n",
        "    return Y_probas.argmax(axis=1)"
      ]
    },
    {
      "cell_type": "markdown",
      "metadata": {
        "id": "eCTePucS-Cfa"
      },
      "source": [
        "Now let's make predictions for all the instances in the validation set, and compute the accuracy:"
      ]
    },
    {
      "cell_type": "code",
      "execution_count": null,
      "metadata": {
        "id": "9cKs9AyS-Cfa",
        "outputId": "64b8fdcb-a5c9-49a0-8c35-b5c13a2e0a3d"
      },
      "outputs": [
        {
          "data": {
            "text/plain": [
              "0.4984"
            ]
          },
          "execution_count": 132,
          "metadata": {},
          "output_type": "execute_result"
        }
      ],
      "source": [
        "tf.random.set_seed(42)\n",
        "\n",
        "y_pred = mc_dropout_predict_classes(mc_model, X_valid_scaled)\n",
        "accuracy = (y_pred == y_valid[:, 0]).mean()\n",
        "accuracy"
      ]
    },
    {
      "cell_type": "markdown",
      "metadata": {
        "id": "k1Mjc9cd-Cfa"
      },
      "source": [
        "We get back to roughly the accuracy of the model without dropout in this case (about 50.3% accuracy).\n",
        "\n",
        "So the best model we got in this exercise is the Batch Normalization model."
      ]
    },
    {
      "cell_type": "markdown",
      "metadata": {
        "id": "Gw2Op0lp-Cfa"
      },
      "source": [
        "### f.\n",
        "*Exercise: Retrain your model using 1cycle scheduling and see if it improves training speed and model accuracy.*"
      ]
    },
    {
      "cell_type": "code",
      "execution_count": null,
      "metadata": {
        "id": "Nag6ktcJ-Cfa"
      },
      "outputs": [],
      "source": [
        "tf.random.set_seed(42)\n",
        "\n",
        "model = tf.keras.Sequential()\n",
        "model.add(tf.keras.layers.Flatten(input_shape=[32, 32, 3]))\n",
        "for _ in range(20):\n",
        "    model.add(tf.keras.layers.Dense(100,\n",
        "                                    kernel_initializer=\"lecun_normal\",\n",
        "                                    activation=\"selu\"))\n",
        "\n",
        "model.add(tf.keras.layers.AlphaDropout(rate=0.1))\n",
        "model.add(tf.keras.layers.Dense(10, activation=\"softmax\"))\n",
        "\n",
        "optimizer = tf.keras.optimizers.SGD()\n",
        "model.compile(loss=\"sparse_categorical_crossentropy\",\n",
        "              optimizer=optimizer,\n",
        "              metrics=[\"accuracy\"])"
      ]
    },
    {
      "cell_type": "code",
      "execution_count": null,
      "metadata": {
        "id": "CApJKt23-Cfa",
        "outputId": "31c61489-662c-4e2a-80bf-f41afa77257f"
      },
      "outputs": [
        {
          "name": "stdout",
          "output_type": "stream",
          "text": [
            "352/352 [==============================] - 3s 8ms/step - loss: nan - accuracy: 0.1706\n"
          ]
        },
        {
          "data": {
            "image/png": "[encoded data removed]",
            "text/plain": [
              "<Figure size 432x288 with 1 Axes>"
            ]
          },
          "metadata": {
            "needs_background": "light"
          },
          "output_type": "display_data"
        }
      ],
      "source": [
        "batch_size = 128\n",
        "rates, losses = find_learning_rate(model, X_train_scaled, y_train, epochs=1,\n",
        "                                   batch_size=batch_size)\n",
        "plot_lr_vs_loss(rates, losses)"
      ]
    },
    {
      "cell_type": "code",
      "execution_count": null,
      "metadata": {
        "id": "FE-HoNya-Cfa"
      },
      "outputs": [],
      "source": [
        "tf.random.set_seed(42)\n",
        "\n",
        "model = tf.keras.Sequential()\n",
        "model.add(tf.keras.layers.Flatten(input_shape=[32, 32, 3]))\n",
        "for _ in range(20):\n",
        "    model.add(tf.keras.layers.Dense(100,\n",
        "                                 kernel_initializer=\"lecun_normal\",\n",
        "                                 activation=\"selu\"))\n",
        "\n",
        "model.add(tf.keras.layers.AlphaDropout(rate=0.1))\n",
        "model.add(tf.keras.layers.Dense(10, activation=\"softmax\"))\n",
        "\n",
        "optimizer = tf.keras.optimizers.SGD(learning_rate=2e-2)\n",
        "model.compile(loss=\"sparse_categorical_crossentropy\",\n",
        "              optimizer=optimizer,\n",
        "              metrics=[\"accuracy\"])"
      ]
    },
    {
      "cell_type": "code",
      "execution_count": null,
      "metadata": {
        "id": "w4q83kcr-Cfb",
        "outputId": "f35dd092-1fe8-45d1-de1d-6f790d4218e3"
      },
      "outputs": [
        {
          "name": "stdout",
          "output_type": "stream",
          "text": [
            "Epoch 1/15\n",
            "352/352 [==============================] - 3s 9ms/step - loss: 2.0559 - accuracy: 0.2839 - val_loss: 1.7917 - val_accuracy: 0.3768\n",
            "Epoch 2/15\n",
            "352/352 [==============================] - 3s 8ms/step - loss: 1.7596 - accuracy: 0.3797 - val_loss: 1.6566 - val_accuracy: 0.4258\n",
            "Epoch 3/15\n",
            "352/352 [==============================] - 3s 8ms/step - loss: 1.6199 - accuracy: 0.4247 - val_loss: 1.6395 - val_accuracy: 0.4260\n",
            "Epoch 4/15\n",
            "352/352 [==============================] - 3s 9ms/step - loss: 1.5451 - accuracy: 0.4524 - val_loss: 1.6202 - val_accuracy: 0.4408\n",
            "Epoch 5/15\n",
            "352/352 [==============================] - 3s 8ms/step - loss: 1.4952 - accuracy: 0.4691 - val_loss: 1.5981 - val_accuracy: 0.4488\n",
            "Epoch 6/15\n",
            "352/352 [==============================] - 3s 9ms/step - loss: 1.4541 - accuracy: 0.4842 - val_loss: 1.5720 - val_accuracy: 0.4490\n",
            "Epoch 7/15\n",
            "352/352 [==============================] - 3s 9ms/step - loss: 1.4171 - accuracy: 0.4967 - val_loss: 1.6035 - val_accuracy: 0.4470\n",
            "Epoch 8/15\n",
            "352/352 [==============================] - 3s 9ms/step - loss: 1.3497 - accuracy: 0.5194 - val_loss: 1.4918 - val_accuracy: 0.4864\n",
            "Epoch 9/15\n",
            "352/352 [==============================] - 3s 9ms/step - loss: 1.2788 - accuracy: 0.5459 - val_loss: 1.5597 - val_accuracy: 0.4672\n",
            "Epoch 10/15\n",
            "352/352 [==============================] - 3s 9ms/step - loss: 1.2070 - accuracy: 0.5707 - val_loss: 1.5845 - val_accuracy: 0.4864\n",
            "Epoch 11/15\n",
            "352/352 [==============================] - 3s 10ms/step - loss: 1.1433 - accuracy: 0.5926 - val_loss: 1.5293 - val_accuracy: 0.4998\n",
            "Epoch 12/15\n",
            "352/352 [==============================] - 3s 9ms/step - loss: 1.0745 - accuracy: 0.6182 - val_loss: 1.5118 - val_accuracy: 0.5072\n",
            "Epoch 13/15\n",
            "352/352 [==============================] - 3s 10ms/step - loss: 1.0030 - accuracy: 0.6413 - val_loss: 1.5388 - val_accuracy: 0.5204\n",
            "Epoch 14/15\n",
            "352/352 [==============================] - 3s 10ms/step - loss: 0.9388 - accuracy: 0.6654 - val_loss: 1.5547 - val_accuracy: 0.5210\n",
            "Epoch 15/15\n",
            "352/352 [==============================] - 3s 9ms/step - loss: 0.8989 - accuracy: 0.6805 - val_loss: 1.5835 - val_accuracy: 0.5242\n"
          ]
        }
      ],
      "source": [
        "n_epochs = 15\n",
        "n_iterations = math.ceil(len(X_train_scaled) / batch_size) * n_epochs\n",
        "onecycle = OneCycleScheduler(n_iterations, max_lr=0.05)\n",
        "history = model.fit(X_train_scaled, y_train, epochs=n_epochs, batch_size=batch_size,\n",
        "                    validation_data=(X_valid_scaled, y_valid),\n",
        "                    callbacks=[onecycle])"
      ]
    },
    {
      "cell_type": "markdown",
      "metadata": {
        "id": "uwecjV6X-Cfe"
      },
      "source": [
        "One cycle allowed us to train the model in just 15 epochs, each taking only 2 seconds (thanks to the larger batch size). This is several times faster than the fastest model we trained so far. Moreover, we improved the model's performance (from 50.7% to 52.0%)."
      ]
    },
    {
      "cell_type": "code",
      "source": [],
      "metadata": {
        "id": "5p7bw6cfo85w"
      },
      "execution_count": null,
      "outputs": []
    },
    {
      "cell_type": "markdown",
      "source": [
        "##8. Practice training a deep neural network on the CIFAR10 image dataset:\n",
        "\n",
        ">a. Build a DNN with 20 hidden layers of 100 neurons each (that’s\n",
        "too many, but it’s the point of this exercise). Use He initialization\n",
        "and the Swish activation function.\n",
        "\n",
        "> b. Using Nadam optimization and early stopping, train the network\n",
        "on the CIFAR10 dataset. You can load it with\n",
        "tf.keras.datasets.cifar10.load_data(). The dataset is\n",
        "composed of 60,000 32 × 32–pixel color images (50,000 for\n",
        "training, 10,000 for testing) with 10 classes, so you’ll need a\n",
        "softmax output layer with 10 neurons. Remember to search for\n",
        "the right learning rate each time you change the model’s\n",
        "architecture or hyperparameters.\n",
        "\n",
        "> c. Now try adding batch normalization and compare the learning\n",
        "curves: is it converging faster than before? Does it produce a\n",
        "better model? How does it affect training speed?\n",
        "\n",
        "> d. Try replacing batch normalization with SELU, and make the\n",
        "necessary adjustments to ensure the network self-normalizes (i.e.,\n",
        "standardize the input features, use LeCun normal initialization,\n",
        "make sure the DNN contains only a sequence of dense layers,\n",
        "etc.).\n",
        "\n",
        "> e. Try regularizing the model with alpha dropout. Then, without\n",
        "retraining your model, see if you can achieve better accuracy\n",
        "using MC dropout.\n",
        "\n",
        "> f. Retrain your model using 1cycle scheduling and see if it improves\n",
        "training speed and model accuracy."
      ],
      "metadata": {
        "id": "sQr33EXQv4Fe"
      }
    },
    {
      "cell_type": "code",
      "source": [
        "import tensorflow as tf\n",
        "import matplotlib.pyplot as plt\n",
        "# %%capture\n",
        "!pip install wandb\n",
        "\n",
        "import wandb\n",
        "from wandb.keras import WandbCallback\n",
        "!wandb login"
      ],
      "metadata": {
        "id": "SXQtvOGgBHrm",
        "colab": {
          "base_uri": "https://localhost:8080/"
        },
        "outputId": "ec41d626-1731-4b87-b14a-de0250119554"
      },
      "execution_count": null,
      "outputs": [
        {
          "output_type": "stream",
          "name": "stdout",
          "text": [
            "Collecting wandb\n",
            "  Downloading wandb-0.16.6-py3-none-any.whl (2.2 MB)\n",
            "\u001b[2K     \u001b[90m━━━━━━━━━━━━━━━━━━━━━━━━━━━━━━━━━━━━━━━━\u001b[0m \u001b[32m2.2/2.2 MB\u001b[0m \u001b[31m8.4 MB/s\u001b[0m eta \u001b[36m0:00:00\u001b[0m\n",
            "\u001b[?25hRequirement already satisfied: Click!=8.0.0,>=7.1 in /usr/local/lib/python3.10/dist-packages (from wandb) (8.1.7)\n",
            "Collecting GitPython!=3.1.29,>=1.0.0 (from wandb)\n",
            "  Downloading GitPython-3.1.43-py3-none-any.whl (207 kB)\n",
            "\u001b[2K     \u001b[90m━━━━━━━━━━━━━━━━━━━━━━━━━━━━━━━━━━━━━━━━\u001b[0m \u001b[32m207.3/207.3 kB\u001b[0m \u001b[31m10.8 MB/s\u001b[0m eta \u001b[36m0:00:00\u001b[0m\n",
            "\u001b[?25hRequirement already satisfied: requests<3,>=2.0.0 in /usr/local/lib/python3.10/dist-packages (from wandb) (2.31.0)\n",
            "Requirement already satisfied: psutil>=5.0.0 in /usr/local/lib/python3.10/dist-packages (from wandb) (5.9.5)\n",
            "Collecting sentry-sdk>=1.0.0 (from wandb)\n",
            "  Downloading sentry_sdk-1.44.1-py2.py3-none-any.whl (266 kB)\n",
            "\u001b[2K     \u001b[90m━━━━━━━━━━━━━━━━━━━━━━━━━━━━━━━━━━━━━━━━\u001b[0m \u001b[32m266.1/266.1 kB\u001b[0m \u001b[31m17.8 MB/s\u001b[0m eta \u001b[36m0:00:00\u001b[0m\n",
            "\u001b[?25hCollecting docker-pycreds>=0.4.0 (from wandb)\n",
            "  Downloading docker_pycreds-0.4.0-py2.py3-none-any.whl (9.0 kB)\n",
            "Requirement already satisfied: PyYAML in /usr/local/lib/python3.10/dist-packages (from wandb) (6.0.1)\n",
            "Collecting setproctitle (from wandb)\n",
            "  Downloading setproctitle-1.3.3-cp310-cp310-manylinux_2_5_x86_64.manylinux1_x86_64.manylinux_2_17_x86_64.manylinux2014_x86_64.whl (30 kB)\n",
            "Requirement already satisfied: setuptools in /usr/local/lib/python3.10/dist-packages (from wandb) (67.7.2)\n",
            "Requirement already satisfied: appdirs>=1.4.3 in /usr/local/lib/python3.10/dist-packages (from wandb) (1.4.4)\n",
            "Requirement already satisfied: protobuf!=4.21.0,<5,>=3.19.0 in /usr/local/lib/python3.10/dist-packages (from wandb) (3.20.3)\n",
            "Requirement already satisfied: six>=1.4.0 in /usr/local/lib/python3.10/dist-packages (from docker-pycreds>=0.4.0->wandb) (1.16.0)\n",
            "Collecting gitdb<5,>=4.0.1 (from GitPython!=3.1.29,>=1.0.0->wandb)\n",
            "  Downloading gitdb-4.0.11-py3-none-any.whl (62 kB)\n",
            "\u001b[2K     \u001b[90m━━━━━━━━━━━━━━━━━━━━━━━━━━━━━━━━━━━━━━━━\u001b[0m \u001b[32m62.7/62.7 kB\u001b[0m \u001b[31m8.5 MB/s\u001b[0m eta \u001b[36m0:00:00\u001b[0m\n",
            "\u001b[?25hRequirement already satisfied: charset-normalizer<4,>=2 in /usr/local/lib/python3.10/dist-packages (from requests<3,>=2.0.0->wandb) (3.3.2)\n",
            "Requirement already satisfied: idna<4,>=2.5 in /usr/local/lib/python3.10/dist-packages (from requests<3,>=2.0.0->wandb) (3.6)\n",
            "Requirement already satisfied: urllib3<3,>=1.21.1 in /usr/local/lib/python3.10/dist-packages (from requests<3,>=2.0.0->wandb) (2.0.7)\n",
            "Requirement already satisfied: certifi>=2017.4.17 in /usr/local/lib/python3.10/dist-packages (from requests<3,>=2.0.0->wandb) (2024.2.2)\n",
            "Collecting smmap<6,>=3.0.1 (from gitdb<5,>=4.0.1->GitPython!=3.1.29,>=1.0.0->wandb)\n",
            "  Downloading smmap-5.0.1-py3-none-any.whl (24 kB)\n",
            "Installing collected packages: smmap, setproctitle, sentry-sdk, docker-pycreds, gitdb, GitPython, wandb\n",
            "Successfully installed GitPython-3.1.43 docker-pycreds-0.4.0 gitdb-4.0.11 sentry-sdk-1.44.1 setproctitle-1.3.3 smmap-5.0.1 wandb-0.16.6\n",
            "\u001b[34m\u001b[1mwandb\u001b[0m: Logging into wandb.ai. (Learn how to deploy a W&B server locally: https://wandb.me/wandb-server)\n",
            "\u001b[34m\u001b[1mwandb\u001b[0m: You can find your API key in your browser here: https://wandb.ai/authorize\n",
            "\u001b[34m\u001b[1mwandb\u001b[0m: Paste an API key from your profile and hit enter, or press ctrl+c to quit: \n",
            "\u001b[34m\u001b[1mwandb\u001b[0m: Appending key for api.wandb.ai to your netrc file: /root/.netrc\n"
          ]
        }
      ]
    },
    {
      "cell_type": "code",
      "source": [
        "data = tf.keras.datasets.cifar10.load_data()\n",
        "(X_train_full, y_train_full), (X_test, y_test) = data\n",
        "X_train_full.shape"
      ],
      "metadata": {
        "colab": {
          "base_uri": "https://localhost:8080/"
        },
        "id": "2yLBmRuXv3t1",
        "outputId": "9098655b-2288-48a8-fd49-e375070e2ff3"
      },
      "execution_count": null,
      "outputs": [
        {
          "output_type": "stream",
          "name": "stdout",
          "text": [
            "Downloading data from https://www.cs.toronto.edu/~kriz/cifar-10-python.tar.gz\n",
            "170498071/170498071 [==============================] - 5s 0us/step\n"
          ]
        },
        {
          "output_type": "execute_result",
          "data": {
            "text/plain": [
              "(50000, 32, 32, 3)"
            ]
          },
          "metadata": {},
          "execution_count": 3
        }
      ]
    },
    {
      "cell_type": "code",
      "source": [
        "X_valid, X_train = X_train_full[:5000]/255, X_train_full[5000:]/255\n",
        "y_valid, y_train = y_train_full[:5000], y_train_full[5000:]\n",
        "plt.imshow(X_train[0])"
      ],
      "metadata": {
        "id": "GBII_Jb04ULz",
        "colab": {
          "base_uri": "https://localhost:8080/",
          "height": 447
        },
        "outputId": "a9b03f50-6281-4a3c-bed0-00ea8b646a89"
      },
      "execution_count": null,
      "outputs": [
        {
          "output_type": "execute_result",
          "data": {
            "text/plain": [
              "<matplotlib.image.AxesImage at 0x7fd55f538970>"
            ]
          },
          "metadata": {},
          "execution_count": 4
        },
        {
          "output_type": "display_data",
          "data": {
            "text/plain": [
              "<Figure size 640x480 with 1 Axes>"
            ],
            "image/png": "[encoded data removed]"
          },
          "metadata": {}
        }
      ]
    },
    {
      "cell_type": "code",
      "source": [
        "tf.random.set_seed(24)\n",
        "model = tf.keras.Sequential()\n",
        "model.add(tf.keras.layers.Flatten(input_shape = [32,32,3]))\n",
        "for i in range(20):\n",
        "    model.add(tf.keras.layers.Dense(100, activation = 'swish', kernel_initializer = 'he_normal'))\n",
        "model.add(tf.keras.layers.Dense(10, activation = 'softmax'))"
      ],
      "metadata": {
        "id": "rLbPB84Jt-y7"
      },
      "execution_count": null,
      "outputs": []
    },
    {
      "cell_type": "code",
      "source": [
        "class CIFAR10(tf.keras.Model):\n",
        "    def __init__(self, num_layers=20, num_units=100, activation=\"swish\", kernel_initializer=\"he_normal\", **kwargs):\n",
        "        super().__init__()\n",
        "        self.flatten = tf.keras.layers.Flatten()\n",
        "        self.dense_layers = [tf.keras.layers.Dense(num_units, activation=activation, kernel_initializer=kernel_initializer)\n",
        "                             for _ in range(num_layers)]\n",
        "        self.output_layer = tf.keras.layers.Dense(10, activation=\"softmax\")\n",
        "\n",
        "    def call(self, input):\n",
        "        x = self.flatten(input)\n",
        "        for dense_layer in self.dense_layers:\n",
        "            x = dense_layer(x)\n",
        "        return self.output_layer(x)\n",
        "\n",
        "cifar = CIFAR10()"
      ],
      "metadata": {
        "id": "f9anHreC8qc1"
      },
      "execution_count": null,
      "outputs": []
    },
    {
      "cell_type": "code",
      "source": [
        "optimizer = tf.keras.optimizers.Nadam(learning_rate = 5e-5, beta_1 = 0.9, beta_2 = 0.999)"
      ],
      "metadata": {
        "id": "P_qXa_JSFL_g"
      },
      "execution_count": null,
      "outputs": []
    },
    {
      "cell_type": "code",
      "source": [
        "wandb.init(\n",
        "    # set the wandb project where this run will be logged\n",
        "    project=\"chapter11-take-2\",\n",
        "    name = \"question-a-5e-5lr-sub\",\n",
        "\n",
        "    # track hyperparameters and run metadata\n",
        "    config={\n",
        "    \"learning_rate\": 5e-5,\n",
        "    \"architecture\": \"Basic DNN\",\n",
        "    \"dataset\": \"CIFAR-10\",\n",
        "    \"epochs\": 20,\n",
        "    \"loss\" : \"sparse_categorical_crossentropy\",\n",
        "\n",
        "    }\n",
        ")\n",
        "\n",
        "config = wandb.config"
      ],
      "metadata": {
        "colab": {
          "base_uri": "https://localhost:8080/",
          "height": 193,
          "referenced_widgets": [
            "4c37acd9393c426094e3f92491eaa4d8",
            "d8399d601c2b485d97e0caaa3192f7fe",
            "3fe7ed591d2b4c27b5b6886f4a627d94",
            "55f5da4c168a49af8cc16409b077a71a",
            "abacc0b371a4473d974f471c819b58f8",
            "910fba61547d447989e4e9fcec8e3139",
            "32765a3c22e341cba934ab915c40202c",
            "66b3aa39ec7f42d095b281101cdda355"
          ]
        },
        "id": "kkX3GfPoXHTB",
        "outputId": "c22720b0-f69b-4d9c-e720-a70530c8bc0c"
      },
      "execution_count": null,
      "outputs": [
        {
          "output_type": "display_data",
          "data": {
            "text/plain": [
              "<IPython.core.display.HTML object>"
            ],
            "text/html": [
              "Finishing last run (ID:bsieax8p) before initializing another..."
            ]
          },
          "metadata": {}
        },
        {
          "output_type": "display_data",
          "data": {
            "text/plain": [
              "VBox(children=(Label(value='0.010 MB of 0.010 MB uploaded\\r'), FloatProgress(value=1.0, max=1.0)))"
            ],
            "application/vnd.jupyter.widget-view+json": {
              "version_major": 2,
              "version_minor": 0,
              "model_id": "4c37acd9393c426094e3f92491eaa4d8"
            }
          },
          "metadata": {}
        },
        {
          "output_type": "display_data",
          "data": {
            "text/plain": [
              "<IPython.core.display.HTML object>"
            ],
            "text/html": [
              " View run <strong style=\"color:#cdcd00\">question-a-5e-5lr-bookish</strong> at: <a href='https://wandb.ai/thecommon/chapter11-take-2/runs/bsieax8p/workspace' target=\"_blank\">https://wandb.ai/thecommon/chapter11-take-2/runs/bsieax8p/workspace</a><br/>Synced 4 W&B file(s), 0 media file(s), 0 artifact file(s) and 0 other file(s)"
            ]
          },
          "metadata": {}
        },
        {
          "output_type": "display_data",
          "data": {
            "text/plain": [
              "<IPython.core.display.HTML object>"
            ],
            "text/html": [
              "Find logs at: <code>./wandb/run-20240403_082459-bsieax8p/logs</code>"
            ]
          },
          "metadata": {}
        },
        {
          "output_type": "display_data",
          "data": {
            "text/plain": [
              "<IPython.core.display.HTML object>"
            ],
            "text/html": [
              "Successfully finished last run (ID:bsieax8p). Initializing new run:<br/>"
            ]
          },
          "metadata": {}
        },
        {
          "output_type": "display_data",
          "data": {
            "text/plain": [
              "<IPython.core.display.HTML object>"
            ],
            "text/html": [
              "Tracking run with wandb version 0.16.5"
            ]
          },
          "metadata": {}
        },
        {
          "output_type": "display_data",
          "data": {
            "text/plain": [
              "<IPython.core.display.HTML object>"
            ],
            "text/html": [
              "Run data is saved locally in <code>/content/wandb/run-20240403_082652-8vq0999a</code>"
            ]
          },
          "metadata": {}
        },
        {
          "output_type": "display_data",
          "data": {
            "text/plain": [
              "<IPython.core.display.HTML object>"
            ],
            "text/html": [
              "Syncing run <strong><a href='https://wandb.ai/thecommon/chapter11-take-2/runs/8vq0999a/workspace' target=\"_blank\">question-a-5e-5lr-sub</a></strong> to <a href='https://wandb.ai/thecommon/chapter11-take-2' target=\"_blank\">Weights & Biases</a> (<a href='https://wandb.me/run' target=\"_blank\">docs</a>)<br/>"
            ]
          },
          "metadata": {}
        },
        {
          "output_type": "display_data",
          "data": {
            "text/plain": [
              "<IPython.core.display.HTML object>"
            ],
            "text/html": [
              " View project at <a href='https://wandb.ai/thecommon/chapter11-take-2' target=\"_blank\">https://wandb.ai/thecommon/chapter11-take-2</a>"
            ]
          },
          "metadata": {}
        },
        {
          "output_type": "display_data",
          "data": {
            "text/plain": [
              "<IPython.core.display.HTML object>"
            ],
            "text/html": [
              " View run at <a href='https://wandb.ai/thecommon/chapter11-take-2/runs/8vq0999a/workspace' target=\"_blank\">https://wandb.ai/thecommon/chapter11-take-2/runs/8vq0999a/workspace</a>"
            ]
          },
          "metadata": {}
        }
      ]
    },
    {
      "cell_type": "code",
      "source": [
        "cifar.compile(loss = config.loss, optimizer = optimizer, metrics = [\"accuracy\"])"
      ],
      "metadata": {
        "id": "m8P8diTb_h6s"
      },
      "execution_count": null,
      "outputs": []
    },
    {
      "cell_type": "code",
      "source": [
        "wandb.init(\n",
        "    # set the wandb project where this run will be logged\n",
        "    project=\"chapter11-take-2\",\n",
        "    name = \"question-a-5e-5lr-bookish\",\n",
        "\n",
        "    # track hyperparameters and run metadata\n",
        "    config={\n",
        "    \"learning_rate\": 5e-5,\n",
        "    \"architecture\": \"Basic DNN\",\n",
        "    \"dataset\": \"CIFAR-10\",\n",
        "    \"epochs\": 20,\n",
        "    \"loss\": \"sparse_categorical_crossentropy\"\n",
        "    }\n",
        ")\n",
        "\n",
        "config = wandb.config"
      ],
      "metadata": {
        "colab": {
          "base_uri": "https://localhost:8080/",
          "height": 193,
          "referenced_widgets": [
            "996e67c443a244488c4deb7823c7a7a2",
            "6f39a28731264ca884433af1489211c7",
            "473becae0fff4453be468514c0fb2907",
            "129a7a229e1a443c9a1b2dbb4c148e51",
            "25395189b0814b8ca503d2d308f6dd75",
            "c9a021815041422cb613b743043e35ef",
            "5172b641871448e29138edc3dae77a26",
            "0caca423a67c4b75a393bba83c941ec5"
          ]
        },
        "id": "EQJ9Yz94_aBn",
        "outputId": "5e43273e-b751-4344-8e11-c2b241589c57"
      },
      "execution_count": null,
      "outputs": [
        {
          "output_type": "display_data",
          "data": {
            "text/plain": [
              "<IPython.core.display.HTML object>"
            ],
            "text/html": [
              "Finishing last run (ID:8vq0999a) before initializing another..."
            ]
          },
          "metadata": {}
        },
        {
          "output_type": "display_data",
          "data": {
            "text/plain": [
              "VBox(children=(Label(value='0.001 MB of 0.010 MB uploaded\\r'), FloatProgress(value=0.1128604118993135, max=1.0…"
            ],
            "application/vnd.jupyter.widget-view+json": {
              "version_major": 2,
              "version_minor": 0,
              "model_id": "996e67c443a244488c4deb7823c7a7a2"
            }
          },
          "metadata": {}
        },
        {
          "output_type": "display_data",
          "data": {
            "text/plain": [
              "<IPython.core.display.HTML object>"
            ],
            "text/html": [
              " View run <strong style=\"color:#cdcd00\">question-a-5e-5lr-sub</strong> at: <a href='https://wandb.ai/thecommon/chapter11-take-2/runs/8vq0999a/workspace' target=\"_blank\">https://wandb.ai/thecommon/chapter11-take-2/runs/8vq0999a/workspace</a><br/>Synced 4 W&B file(s), 0 media file(s), 0 artifact file(s) and 0 other file(s)"
            ]
          },
          "metadata": {}
        },
        {
          "output_type": "display_data",
          "data": {
            "text/plain": [
              "<IPython.core.display.HTML object>"
            ],
            "text/html": [
              "Find logs at: <code>./wandb/run-20240403_082652-8vq0999a/logs</code>"
            ]
          },
          "metadata": {}
        },
        {
          "output_type": "display_data",
          "data": {
            "text/plain": [
              "<IPython.core.display.HTML object>"
            ],
            "text/html": [
              "Successfully finished last run (ID:8vq0999a). Initializing new run:<br/>"
            ]
          },
          "metadata": {}
        },
        {
          "output_type": "display_data",
          "data": {
            "text/plain": [
              "<IPython.core.display.HTML object>"
            ],
            "text/html": [
              "Tracking run with wandb version 0.16.5"
            ]
          },
          "metadata": {}
        },
        {
          "output_type": "display_data",
          "data": {
            "text/plain": [
              "<IPython.core.display.HTML object>"
            ],
            "text/html": [
              "Run data is saved locally in <code>/content/wandb/run-20240403_082659-7mowu88u</code>"
            ]
          },
          "metadata": {}
        },
        {
          "output_type": "display_data",
          "data": {
            "text/plain": [
              "<IPython.core.display.HTML object>"
            ],
            "text/html": [
              "Syncing run <strong><a href='https://wandb.ai/thecommon/chapter11-take-2/runs/7mowu88u/workspace' target=\"_blank\">question-a-5e-5lr-bookish</a></strong> to <a href='https://wandb.ai/thecommon/chapter11-take-2' target=\"_blank\">Weights & Biases</a> (<a href='https://wandb.me/run' target=\"_blank\">docs</a>)<br/>"
            ]
          },
          "metadata": {}
        },
        {
          "output_type": "display_data",
          "data": {
            "text/plain": [
              "<IPython.core.display.HTML object>"
            ],
            "text/html": [
              " View project at <a href='https://wandb.ai/thecommon/chapter11-take-2' target=\"_blank\">https://wandb.ai/thecommon/chapter11-take-2</a>"
            ]
          },
          "metadata": {}
        },
        {
          "output_type": "display_data",
          "data": {
            "text/plain": [
              "<IPython.core.display.HTML object>"
            ],
            "text/html": [
              " View run at <a href='https://wandb.ai/thecommon/chapter11-take-2/runs/7mowu88u/workspace' target=\"_blank\">https://wandb.ai/thecommon/chapter11-take-2/runs/7mowu88u/workspace</a>"
            ]
          },
          "metadata": {}
        }
      ]
    },
    {
      "cell_type": "code",
      "source": [
        "model.compile(loss = config.loss, optimizer = optimizer, metrics = [\"accuracy\"])"
      ],
      "metadata": {
        "id": "YEmwGOBZD8qb"
      },
      "execution_count": null,
      "outputs": []
    },
    {
      "cell_type": "code",
      "source": [
        "early_stop = tf.keras.callbacks.EarlyStopping(monitor = 'val_loss', patience = 5)"
      ],
      "metadata": {
        "id": "mjJWFmlgE9nP"
      },
      "execution_count": null,
      "outputs": []
    },
    {
      "cell_type": "code",
      "source": [
        "history = cifar.fit(X_train,y_train, epochs = 20, validation_data = (X_valid, y_valid), callbacks = [early_stop, WandbCallback()])"
      ],
      "metadata": {
        "id": "yWgxGvByCOLt"
      },
      "execution_count": null,
      "outputs": []
    },
    {
      "cell_type": "markdown",
      "source": [
        "## With normalization\n"
      ],
      "metadata": {
        "id": "bU5DXu5gKX-U"
      }
    },
    {
      "cell_type": "code",
      "source": [],
      "metadata": {
        "id": "Wgd7v6AcFINS"
      },
      "execution_count": null,
      "outputs": []
    },
    {
      "cell_type": "code",
      "source": [
        "class CIFAR10Normalized(tf.keras.Model):\n",
        "    def __init__(self, activation = \"swish\", num_units=100, kernel_initializer = \"he_normal\", num_layer = 20, **kwargs):\n",
        "        super().__init__(**kwargs)\n",
        "        self.flatten = tf.keras.layers.Flatten(input_shape = [32,32]) # input_size, 1024\n",
        "        self.norm = [tf.keras.layers.BatchNormalization() for i in range(num_layer)]\n",
        "        self.dense = [tf.keras.layers.Dense(num_units, kernel_initializer = kernel_initializer) for i in range(num_layer)]# 100, 1024 and 100,100\n",
        "        self.activation = [tf.keras.layers.Activation(activation) for i in range(num_layer)]\n",
        "        self.op = tf.keras.layers.Dense(10, activation = \"softmax\") #100, 10\n",
        "\n",
        "    def call(self, input):\n",
        "        input = self.flatten(input)\n",
        "        for i, j, k in zip(self.dense, self.norm, self.activation):\n",
        "            input = j(input)\n",
        "            input = i(input)\n",
        "            input = k(input)\n",
        "            # print(self.op(input))\n",
        "        return self.op(input)\n",
        "\n",
        "lass0 = CIFAR10Normalized()\n",
        "lass0\n"
      ],
      "metadata": {
        "id": "ikcKmDxgIV4P",
        "colab": {
          "base_uri": "https://localhost:8080/"
        },
        "outputId": "be310e36-5041-4c93-bff3-b06781ae33d5"
      },
      "execution_count": null,
      "outputs": [
        {
          "output_type": "execute_result",
          "data": {
            "text/plain": [
              "<__main__.CIFAR10Normalized at 0x797db26c1510>"
            ]
          },
          "metadata": {},
          "execution_count": 34
        }
      ]
    },
    {
      "cell_type": "code",
      "source": [
        "optimizer = tf.keras.optimizers.Nadam(learning_rate = 5e-4, beta_1 = 0.9, beta_2= 0.999)"
      ],
      "metadata": {
        "id": "M2WjwY8DOFo_"
      },
      "execution_count": null,
      "outputs": []
    },
    {
      "cell_type": "code",
      "source": [
        "wandb.init(\n",
        "    # set the wandb project where this run will be logged\n",
        "    project=\"Chapter_11_CIFAR10_c\",\n",
        "    name = \"question-c-5e-4lr\",\n",
        "\n",
        "    # track hyperparameters and run metadata\n",
        "    config={\n",
        "    \"learning_rate\": 5e-4,\n",
        "    \"architecture\": \"Basic DNN\",\n",
        "    \"dataset\": \"CIFAR-10\",\n",
        "    \"epochs\": 20,\n",
        "    }\n",
        ")\n",
        "\n",
        "config = wandb.config"
      ],
      "metadata": {
        "colab": {
          "base_uri": "https://localhost:8080/",
          "height": 193,
          "referenced_widgets": [
            "5da68c040cd54a60bc4b2579949c531c",
            "e8d18154b0774790a84df92b32e97ae7",
            "6b8f3d0ea4374e24811551e3db5a438d",
            "cc0f05e4ab3841cdb509bfbfe86eb546",
            "2e4f00ef7b4f4eadb9dfd0cc5cc0c30d",
            "edc57b2abdf24fbdb1623607fc9a7a6e",
            "38641fb009c64fe7b640c4d0ec03f2af",
            "dcc366637a784f9493e666cf51dfa24c"
          ]
        },
        "id": "prZNvExLemSz",
        "outputId": "2a5c6d40-27fb-4737-ca2d-71582f73f353"
      },
      "execution_count": null,
      "outputs": [
        {
          "output_type": "display_data",
          "data": {
            "text/plain": [
              "<IPython.core.display.HTML object>"
            ],
            "text/html": [
              "Finishing last run (ID:apv3ot39) before initializing another..."
            ]
          },
          "metadata": {}
        },
        {
          "output_type": "display_data",
          "data": {
            "text/plain": [
              "VBox(children=(Label(value='0.001 MB of 0.010 MB uploaded\\r'), FloatProgress(value=0.1136845990587801, max=1.0…"
            ],
            "application/vnd.jupyter.widget-view+json": {
              "version_major": 2,
              "version_minor": 0,
              "model_id": "5da68c040cd54a60bc4b2579949c531c"
            }
          },
          "metadata": {}
        },
        {
          "output_type": "display_data",
          "data": {
            "text/plain": [
              "<IPython.core.display.HTML object>"
            ],
            "text/html": [
              " View run <strong style=\"color:#cdcd00\">question-c-4e-4lr</strong> at: <a href='https://wandb.ai/thecommon/Chapter_11_CIFAR10_c/runs/apv3ot39/workspace' target=\"_blank\">https://wandb.ai/thecommon/Chapter_11_CIFAR10_c/runs/apv3ot39/workspace</a><br/>Synced 4 W&B file(s), 0 media file(s), 0 artifact file(s) and 0 other file(s)"
            ]
          },
          "metadata": {}
        },
        {
          "output_type": "display_data",
          "data": {
            "text/plain": [
              "<IPython.core.display.HTML object>"
            ],
            "text/html": [
              "Find logs at: <code>./wandb/run-20240327_104824-apv3ot39/logs</code>"
            ]
          },
          "metadata": {}
        },
        {
          "output_type": "display_data",
          "data": {
            "text/plain": [
              "<IPython.core.display.HTML object>"
            ],
            "text/html": [
              "Successfully finished last run (ID:apv3ot39). Initializing new run:<br/>"
            ]
          },
          "metadata": {}
        },
        {
          "output_type": "display_data",
          "data": {
            "text/plain": [
              "<IPython.core.display.HTML object>"
            ],
            "text/html": [
              "Tracking run with wandb version 0.16.5"
            ]
          },
          "metadata": {}
        },
        {
          "output_type": "display_data",
          "data": {
            "text/plain": [
              "<IPython.core.display.HTML object>"
            ],
            "text/html": [
              "Run data is saved locally in <code>/content/wandb/run-20240327_105412-em6po592</code>"
            ]
          },
          "metadata": {}
        },
        {
          "output_type": "display_data",
          "data": {
            "text/plain": [
              "<IPython.core.display.HTML object>"
            ],
            "text/html": [
              "Syncing run <strong><a href='https://wandb.ai/thecommon/Chapter_11_CIFAR10_c/runs/em6po592/workspace' target=\"_blank\">question-c-5e-4lr</a></strong> to <a href='https://wandb.ai/thecommon/Chapter_11_CIFAR10_c' target=\"_blank\">Weights & Biases</a> (<a href='https://wandb.me/run' target=\"_blank\">docs</a>)<br/>"
            ]
          },
          "metadata": {}
        },
        {
          "output_type": "display_data",
          "data": {
            "text/plain": [
              "<IPython.core.display.HTML object>"
            ],
            "text/html": [
              " View project at <a href='https://wandb.ai/thecommon/Chapter_11_CIFAR10_c' target=\"_blank\">https://wandb.ai/thecommon/Chapter_11_CIFAR10_c</a>"
            ]
          },
          "metadata": {}
        },
        {
          "output_type": "display_data",
          "data": {
            "text/plain": [
              "<IPython.core.display.HTML object>"
            ],
            "text/html": [
              " View run at <a href='https://wandb.ai/thecommon/Chapter_11_CIFAR10_c/runs/em6po592/workspace' target=\"_blank\">https://wandb.ai/thecommon/Chapter_11_CIFAR10_c/runs/em6po592/workspace</a>"
            ]
          },
          "metadata": {}
        }
      ]
    },
    {
      "cell_type": "code",
      "source": [
        "lass0.compile(loss = \"sparse_categorical_crossentropy\", optimizer = optimizer, metrics = [\"accuracy\"])"
      ],
      "metadata": {
        "id": "qlVcf-90QRUA"
      },
      "execution_count": null,
      "outputs": []
    },
    {
      "cell_type": "code",
      "source": [
        "history = lass0.fit(X_train, y_train, epochs = config.epochs, validation_data = (X_test, y_test), callbacks = [early_stop, WandbCallback()])"
      ],
      "metadata": {
        "colab": {
          "base_uri": "https://localhost:8080/"
        },
        "id": "Elft1rWFRaJ_",
        "outputId": "7ff39080-c397-4356-a496-474ad6e0034e"
      },
      "execution_count": null,
      "outputs": [
        {
          "output_type": "stream",
          "name": "stdout",
          "text": [
            "Epoch 1/20\n",
            "1406/1407 [============================>.] - ETA: 0s - loss: 2.2365 - accuracy: 0.1792"
          ]
        },
        {
          "output_type": "stream",
          "name": "stderr",
          "text": [
            "/usr/local/lib/python3.10/dist-packages/keras/src/engine/training.py:3103: UserWarning: You are saving your model as an HDF5 file via `model.save()`. This file format is considered legacy. We recommend using instead the native Keras format, e.g. `model.save('my_model.keras')`.\n",
            "  saving_api.save_model(\n",
            "\u001b[34m\u001b[1mwandb\u001b[0m: \u001b[32m\u001b[41mERROR\u001b[0m Can't save model in the h5py format. The model will be saved as as an W&B Artifact in the 'tf' format.\n",
            "\u001b[34m\u001b[1mwandb\u001b[0m: Adding directory to artifact (/content/wandb/run-20240327_105412-em6po592/files/model-best)... Done. 0.0s\n"
          ]
        },
        {
          "output_type": "stream",
          "name": "stdout",
          "text": [
            "\b\b\b\b\b\b\b\b\b\b\b\b\b\b\b\b\b\b\b\b\b\b\b\b\b\b\b\b\b\b\b\b\b\b\b\b\b\b\b\b\b\b\b\b\b\b\b\b\b\b\b\b\b\b\b\b\b\b\b\b\b\b\b\b\b\b\b\b\b\b\b\b\b\b\b\b\b\b\b\b\b\b\b\b\b\b\r1407/1407 [==============================] - 73s 38ms/step - loss: 2.2364 - accuracy: 0.1792 - val_loss: 548.0206 - val_accuracy: 0.1180\n",
            "Epoch 2/20\n",
            "1407/1407 [==============================] - ETA: 0s - loss: 1.9394 - accuracy: 0.2929"
          ]
        },
        {
          "output_type": "stream",
          "name": "stderr",
          "text": [
            "/usr/local/lib/python3.10/dist-packages/keras/src/engine/training.py:3103: UserWarning: You are saving your model as an HDF5 file via `model.save()`. This file format is considered legacy. We recommend using instead the native Keras format, e.g. `model.save('my_model.keras')`.\n",
            "  saving_api.save_model(\n",
            "\u001b[34m\u001b[1mwandb\u001b[0m: \u001b[32m\u001b[41mERROR\u001b[0m Can't save model in the h5py format. The model will be saved as as an W&B Artifact in the 'tf' format.\n",
            "\u001b[34m\u001b[1mwandb\u001b[0m: Adding directory to artifact (/content/wandb/run-20240327_105412-em6po592/files/model-best)... Done. 0.0s\n"
          ]
        },
        {
          "output_type": "stream",
          "name": "stdout",
          "text": [
            "\b\b\b\b\b\b\b\b\b\b\b\b\b\b\b\b\b\b\b\b\b\b\b\b\b\b\b\b\b\b\b\b\b\b\b\b\b\b\b\b\b\b\b\b\b\b\b\b\b\b\b\b\b\b\b\b\b\b\b\b\b\b\b\b\b\b\b\b\b\b\b\b\b\b\b\b\b\b\b\b\b\b\b\b\b\b\r1407/1407 [==============================] - 54s 38ms/step - loss: 1.9394 - accuracy: 0.2929 - val_loss: 234.6631 - val_accuracy: 0.1474\n",
            "Epoch 3/20\n",
            "1407/1407 [==============================] - ETA: 0s - loss: 1.8218 - accuracy: 0.3432"
          ]
        },
        {
          "output_type": "stream",
          "name": "stderr",
          "text": [
            "/usr/local/lib/python3.10/dist-packages/keras/src/engine/training.py:3103: UserWarning: You are saving your model as an HDF5 file via `model.save()`. This file format is considered legacy. We recommend using instead the native Keras format, e.g. `model.save('my_model.keras')`.\n",
            "  saving_api.save_model(\n",
            "\u001b[34m\u001b[1mwandb\u001b[0m: \u001b[32m\u001b[41mERROR\u001b[0m Can't save model in the h5py format. The model will be saved as as an W&B Artifact in the 'tf' format.\n",
            "\u001b[34m\u001b[1mwandb\u001b[0m: Adding directory to artifact (/content/wandb/run-20240327_105412-em6po592/files/model-best)... Done. 0.0s\n"
          ]
        },
        {
          "output_type": "stream",
          "name": "stdout",
          "text": [
            "\b\b\b\b\b\b\b\b\b\b\b\b\b\b\b\b\b\b\b\b\b\b\b\b\b\b\b\b\b\b\b\b\b\b\b\b\b\b\b\b\b\b\b\b\b\b\b\b\b\b\b\b\b\b\b\b\b\b\b\b\b\b\b\b\b\b\b\b\b\b\b\b\b\b\b\b\b\b\b\b\b\b\b\b\b\b\r1407/1407 [==============================] - 53s 38ms/step - loss: 1.8218 - accuracy: 0.3432 - val_loss: 120.0418 - val_accuracy: 0.1567\n",
            "Epoch 4/20\n",
            "1406/1407 [============================>.] - ETA: 0s - loss: 1.7416 - accuracy: 0.3791"
          ]
        },
        {
          "output_type": "stream",
          "name": "stderr",
          "text": [
            "/usr/local/lib/python3.10/dist-packages/keras/src/engine/training.py:3103: UserWarning: You are saving your model as an HDF5 file via `model.save()`. This file format is considered legacy. We recommend using instead the native Keras format, e.g. `model.save('my_model.keras')`.\n",
            "  saving_api.save_model(\n",
            "\u001b[34m\u001b[1mwandb\u001b[0m: \u001b[32m\u001b[41mERROR\u001b[0m Can't save model in the h5py format. The model will be saved as as an W&B Artifact in the 'tf' format.\n",
            "\u001b[34m\u001b[1mwandb\u001b[0m: Adding directory to artifact (/content/wandb/run-20240327_105412-em6po592/files/model-best)... Done. 0.0s\n"
          ]
        },
        {
          "output_type": "stream",
          "name": "stdout",
          "text": [
            "\b\b\b\b\b\b\b\b\b\b\b\b\b\b\b\b\b\b\b\b\b\b\b\b\b\b\b\b\b\b\b\b\b\b\b\b\b\b\b\b\b\b\b\b\b\b\b\b\b\b\b\b\b\b\b\b\b\b\b\b\b\b\b\b\b\b\b\b\b\b\b\b\b\b\b\b\b\b\b\b\b\b\b\b\b\b\r1407/1407 [==============================] - 54s 38ms/step - loss: 1.7417 - accuracy: 0.3790 - val_loss: 65.6545 - val_accuracy: 0.1509\n",
            "Epoch 5/20\n",
            "1407/1407 [==============================] - 44s 31ms/step - loss: 1.6920 - accuracy: 0.3984 - val_loss: 398.8511 - val_accuracy: 0.1041\n",
            "Epoch 6/20\n",
            "1407/1407 [==============================] - 48s 34ms/step - loss: 1.6380 - accuracy: 0.4163 - val_loss: 168.4453 - val_accuracy: 0.1374\n",
            "Epoch 7/20\n",
            "1407/1407 [==============================] - 44s 31ms/step - loss: 1.5981 - accuracy: 0.4338 - val_loss: 181.4198 - val_accuracy: 0.1542\n",
            "Epoch 8/20\n",
            "1407/1407 [==============================] - 43s 31ms/step - loss: 1.5652 - accuracy: 0.4459 - val_loss: 267.4036 - val_accuracy: 0.1639\n",
            "Epoch 9/20\n",
            "1407/1407 [==============================] - 52s 37ms/step - loss: 1.5299 - accuracy: 0.4589 - val_loss: 186.8361 - val_accuracy: 0.1566\n"
          ]
        }
      ]
    },
    {
      "cell_type": "markdown",
      "source": [
        "##SELU, leCun norm for self normalization"
      ],
      "metadata": {
        "id": "3WZRKoUGRvzD"
      }
    },
    {
      "cell_type": "code",
      "source": [
        "class WithSeLU(tf.keras.Model):\n",
        "    def __init__(self, activation = \"selu\",num_layers = 20, num_units = 100, kernel_initializer = \"lecun_normal\", **kwargs):\n",
        "        super().__init__(**kwargs)\n",
        "        self.flatten = tf.keras.layers.Flatten()\n",
        "        self.dense = [tf.keras.layers.Dense(num_units, activation = activation, kernel_initializer = kernel_initializer) for i in range(num_layers)]\n",
        "        # self.norm - [tf.keras.layers.Normalization()]\n",
        "        self.op = tf.keras.layers.Dense(10, activation = \"softmax\")\n",
        "\n",
        "    def call(self, input):\n",
        "        input = self.flatten(input)\n",
        "        for i in self.dense:\n",
        "            input = i(input)\n",
        "        return self.op(input)\n",
        "with_selu = WithSeLU()"
      ],
      "metadata": {
        "id": "Ur43MrfpSCEy"
      },
      "execution_count": null,
      "outputs": []
    },
    {
      "cell_type": "code",
      "source": [
        "import os\n",
        "import random\n",
        "import matplotlib.pyplot as plt\n",
        "import numpy as np\n",
        "import pandas as pd\n",
        "import tensorflow as tf\n",
        "os.environ['No_IDEA'] = '1'\n",
        "random.seed(hash(\"settng random seeds\")%2**32-1)\n",
        "np.random.seed(hash(\"Improves reproducability\")%2**32-1)\n",
        "tf.random.set_seed(hash(\"removes stochasticity\")%2**32-1)"
      ],
      "metadata": {
        "id": "iRtbN3zymk2Z"
      },
      "execution_count": null,
      "outputs": []
    },
    {
      "cell_type": "code",
      "source": [
        "wandb.init(\n",
        "    # set the wandb project where this run will be logged\n",
        "    project=\"Chapter_11_CIFAR10_d\",\n",
        "    name = \"question-d-7e-4lr-nadam\",\n",
        "\n",
        "    # track hyperparameters and run metadata\n",
        "    config={\n",
        "    \"learning_rate\": 7e-4,\n",
        "    \"architecture\": \"Basic DNN\",\n",
        "    \"dataset\": \"CIFAR-10\",\n",
        "    \"epochs\": 90,\n",
        "    }\n",
        ")\n",
        "\n",
        "config = wandb.config"
      ],
      "metadata": {
        "colab": {
          "base_uri": "https://localhost:8080/",
          "height": 432,
          "referenced_widgets": [
            "8c4f69d44cd94bea8be14aa2c4f72634",
            "9918430980c9496b844fe92ec1c88295",
            "de5a918bab774ca88d7fce1d58fb7bd9",
            "dbb3a7bcd85b409fbcd53f402efbba72",
            "c1c237eba9b8411290210255097246e0",
            "1351531428624255883dcc626a32b706",
            "7121583b82b743b7a57e24915ade0b5f",
            "68d7378d378942db9cddbad49b7da842"
          ]
        },
        "id": "KepXhXbYrJor",
        "outputId": "db99cff0-d201-499f-bcd3-98d786576add"
      },
      "execution_count": null,
      "outputs": [
        {
          "output_type": "display_data",
          "data": {
            "text/plain": [
              "<IPython.core.display.HTML object>"
            ],
            "text/html": [
              "Finishing last run (ID:ctpv096m) before initializing another..."
            ]
          },
          "metadata": {}
        },
        {
          "output_type": "display_data",
          "data": {
            "text/plain": [
              "VBox(children=(Label(value='51.007 MB of 51.007 MB uploaded (0.255 MB deduped)\\r'), FloatProgress(value=1.0, m…"
            ],
            "application/vnd.jupyter.widget-view+json": {
              "version_major": 2,
              "version_minor": 0,
              "model_id": "8c4f69d44cd94bea8be14aa2c4f72634"
            }
          },
          "metadata": {}
        },
        {
          "output_type": "display_data",
          "data": {
            "text/plain": [
              "<IPython.core.display.HTML object>"
            ],
            "text/html": [
              "<style>\n",
              "    table.wandb td:nth-child(1) { padding: 0 10px; text-align: left ; width: auto;} td:nth-child(2) {text-align: left ; width: 100%}\n",
              "    .wandb-row { display: flex; flex-direction: row; flex-wrap: wrap; justify-content: flex-start; width: 100% }\n",
              "    .wandb-col { display: flex; flex-direction: column; flex-basis: 100%; flex: 1; padding: 10px; }\n",
              "    </style>\n",
              "<div class=\"wandb-row\"><div class=\"wandb-col\"><h3>Run history:</h3><br/><table class=\"wandb\"><tr><td>accuracy</td><td>▁▃▃▄▄▄▅▅▅▅▅▆▆▆▆▆▆▆▆▇▇▇▇▇▇▇▇▇▇▇████</td></tr><tr><td>epoch</td><td>▁▁▁▂▂▂▂▂▃▃▃▃▄▄▄▄▄▅▅▅▅▅▆▆▆▆▇▇▇▇▇███</td></tr><tr><td>loss</td><td>█▇▆▅▅▅▄▄▄▄▄▄▃▃▃▃▃▃▃▂▂▂▂▂▂▂▂▂▂▁▁▁▁▁</td></tr><tr><td>val_accuracy</td><td>▁▂▄▄▅▅▄▆▆▅▆▇▆▇▇▇▆▇▇▇▇▇▇████▇█▇████</td></tr><tr><td>val_loss</td><td>█▆▅▅▄▄▄▃▃▄▃▂▄▂▁▂▃▁▂▁▁▂▁▁▂▂▂▂▁▃▂▂▂▂</td></tr></table><br/></div><div class=\"wandb-col\"><h3>Run summary:</h3><br/><table class=\"wandb\"><tr><td>accuracy</td><td>0.62053</td></tr><tr><td>best_epoch</td><td>23</td></tr><tr><td>best_val_loss</td><td>1.42329</td></tr><tr><td>epoch</td><td>33</td></tr><tr><td>loss</td><td>1.06064</td></tr><tr><td>val_accuracy</td><td>0.501</td></tr><tr><td>val_loss</td><td>1.45967</td></tr></table><br/></div></div>"
            ]
          },
          "metadata": {}
        },
        {
          "output_type": "display_data",
          "data": {
            "text/plain": [
              "<IPython.core.display.HTML object>"
            ],
            "text/html": [
              " View run <strong style=\"color:#cdcd00\">question-d-7e-4lr</strong> at: <a href='https://wandb.ai/thecommon/Chapter_11_CIFAR10_d/runs/ctpv096m/workspace' target=\"_blank\">https://wandb.ai/thecommon/Chapter_11_CIFAR10_d/runs/ctpv096m/workspace</a><br/>Synced 5 W&B file(s), 1 media file(s), 60 artifact file(s) and 0 other file(s)"
            ]
          },
          "metadata": {}
        },
        {
          "output_type": "display_data",
          "data": {
            "text/plain": [
              "<IPython.core.display.HTML object>"
            ],
            "text/html": [
              "Find logs at: <code>./wandb/run-20240327_112158-ctpv096m/logs</code>"
            ]
          },
          "metadata": {}
        },
        {
          "output_type": "display_data",
          "data": {
            "text/plain": [
              "<IPython.core.display.HTML object>"
            ],
            "text/html": [
              "Successfully finished last run (ID:ctpv096m). Initializing new run:<br/>"
            ]
          },
          "metadata": {}
        },
        {
          "output_type": "display_data",
          "data": {
            "text/plain": [
              "<IPython.core.display.HTML object>"
            ],
            "text/html": [
              "Tracking run with wandb version 0.16.5"
            ]
          },
          "metadata": {}
        },
        {
          "output_type": "display_data",
          "data": {
            "text/plain": [
              "<IPython.core.display.HTML object>"
            ],
            "text/html": [
              "Run data is saved locally in <code>/content/wandb/run-20240327_112954-a2efv0wi</code>"
            ]
          },
          "metadata": {}
        },
        {
          "output_type": "display_data",
          "data": {
            "text/plain": [
              "<IPython.core.display.HTML object>"
            ],
            "text/html": [
              "Syncing run <strong><a href='https://wandb.ai/thecommon/Chapter_11_CIFAR10_d/runs/a2efv0wi/workspace' target=\"_blank\">question-d-7e-4lr-nadam</a></strong> to <a href='https://wandb.ai/thecommon/Chapter_11_CIFAR10_d' target=\"_blank\">Weights & Biases</a> (<a href='https://wandb.me/run' target=\"_blank\">docs</a>)<br/>"
            ]
          },
          "metadata": {}
        },
        {
          "output_type": "display_data",
          "data": {
            "text/plain": [
              "<IPython.core.display.HTML object>"
            ],
            "text/html": [
              " View project at <a href='https://wandb.ai/thecommon/Chapter_11_CIFAR10_d' target=\"_blank\">https://wandb.ai/thecommon/Chapter_11_CIFAR10_d</a>"
            ]
          },
          "metadata": {}
        },
        {
          "output_type": "display_data",
          "data": {
            "text/plain": [
              "<IPython.core.display.HTML object>"
            ],
            "text/html": [
              " View run at <a href='https://wandb.ai/thecommon/Chapter_11_CIFAR10_d/runs/a2efv0wi/workspace' target=\"_blank\">https://wandb.ai/thecommon/Chapter_11_CIFAR10_d/runs/a2efv0wi/workspace</a>"
            ]
          },
          "metadata": {}
        }
      ]
    },
    {
      "cell_type": "code",
      "source": [
        "early = tf.keras.callbacks.EarlyStopping(patience = 10, monitor = \"val_loss\")\n",
        "# optimizer = tf.keras.optimizers.SGD(learning_rate = config.learning_rate, momentum = 0.9, nesterov = True)\n",
        "optimizer = tf.keras.optimizers.Nadam(learning_rate = config.learning_rate)\n",
        "with_selu.compile(loss = \"sparse_categorical_crossentropy\", optimizer = optimizer, metrics = [\"accuracy\"])\n",
        "history = with_selu.fit(X_train,y_train, epochs = config.epochs, validation_data = (X_valid, y_valid), callbacks = [WandbCallback(), early])"
      ],
      "metadata": {
        "colab": {
          "base_uri": "https://localhost:8080/"
        },
        "id": "pOHwe-vUfL8s",
        "outputId": "c6304016-4c19-4ad1-e2ee-908515231cfc"
      },
      "execution_count": null,
      "outputs": [
        {
          "output_type": "stream",
          "name": "stdout",
          "text": [
            "Epoch 1/90\n",
            "1407/1407 [==============================] - ETA: 0s - loss: 2.0176 - accuracy: 0.2534"
          ]
        },
        {
          "output_type": "stream",
          "name": "stderr",
          "text": [
            "/usr/local/lib/python3.10/dist-packages/keras/src/engine/training.py:3103: UserWarning: You are saving your model as an HDF5 file via `model.save()`. This file format is considered legacy. We recommend using instead the native Keras format, e.g. `model.save('my_model.keras')`.\n",
            "  saving_api.save_model(\n",
            "\u001b[34m\u001b[1mwandb\u001b[0m: \u001b[32m\u001b[41mERROR\u001b[0m Can't save model in the h5py format. The model will be saved as as an W&B Artifact in the 'tf' format.\n",
            "\u001b[34m\u001b[1mwandb\u001b[0m: Adding directory to artifact (/content/wandb/run-20240327_112954-a2efv0wi/files/model-best)... Done. 0.0s\n"
          ]
        },
        {
          "output_type": "stream",
          "name": "stdout",
          "text": [
            "\b\b\b\b\b\b\b\b\b\b\b\b\b\b\b\b\b\b\b\b\b\b\b\b\b\b\b\b\b\b\b\b\b\b\b\b\b\b\b\b\b\b\b\b\b\b\b\b\b\b\b\b\b\b\b\b\b\b\b\b\b\b\b\b\b\b\b\b\b\b\b\b\b\b\b\b\b\b\b\b\b\b\b\b\b\b\r1407/1407 [==============================] - 28s 14ms/step - loss: 2.0176 - accuracy: 0.2534 - val_loss: 1.9142 - val_accuracy: 0.2942\n",
            "Epoch 2/90\n",
            "1405/1407 [============================>.] - ETA: 0s - loss: 1.8511 - accuracy: 0.3269"
          ]
        },
        {
          "output_type": "stream",
          "name": "stderr",
          "text": [
            "/usr/local/lib/python3.10/dist-packages/keras/src/engine/training.py:3103: UserWarning: You are saving your model as an HDF5 file via `model.save()`. This file format is considered legacy. We recommend using instead the native Keras format, e.g. `model.save('my_model.keras')`.\n",
            "  saving_api.save_model(\n",
            "\u001b[34m\u001b[1mwandb\u001b[0m: \u001b[32m\u001b[41mERROR\u001b[0m Can't save model in the h5py format. The model will be saved as as an W&B Artifact in the 'tf' format.\n",
            "\u001b[34m\u001b[1mwandb\u001b[0m: Adding directory to artifact (/content/wandb/run-20240327_112954-a2efv0wi/files/model-best)... Done. 0.0s\n"
          ]
        },
        {
          "output_type": "stream",
          "name": "stdout",
          "text": [
            "\b\b\b\b\b\b\b\b\b\b\b\b\b\b\b\b\b\b\b\b\b\b\b\b\b\b\b\b\b\b\b\b\b\b\b\b\b\b\b\b\b\b\b\b\b\b\b\b\b\b\b\b\b\b\b\b\b\b\b\b\b\b\b\b\b\b\b\b\b\b\b\b\b\b\b\b\b\b\b\b\b\b\b\b\b\b\r1407/1407 [==============================] - 20s 14ms/step - loss: 1.8508 - accuracy: 0.3270 - val_loss: 1.8541 - val_accuracy: 0.3378\n",
            "Epoch 3/90\n",
            "1403/1407 [============================>.] - ETA: 0s - loss: 1.7926 - accuracy: 0.3534"
          ]
        },
        {
          "output_type": "stream",
          "name": "stderr",
          "text": [
            "/usr/local/lib/python3.10/dist-packages/keras/src/engine/training.py:3103: UserWarning: You are saving your model as an HDF5 file via `model.save()`. This file format is considered legacy. We recommend using instead the native Keras format, e.g. `model.save('my_model.keras')`.\n",
            "  saving_api.save_model(\n",
            "\u001b[34m\u001b[1mwandb\u001b[0m: \u001b[32m\u001b[41mERROR\u001b[0m Can't save model in the h5py format. The model will be saved as as an W&B Artifact in the 'tf' format.\n",
            "\u001b[34m\u001b[1mwandb\u001b[0m: Adding directory to artifact (/content/wandb/run-20240327_112954-a2efv0wi/files/model-best)... Done. 0.0s\n"
          ]
        },
        {
          "output_type": "stream",
          "name": "stdout",
          "text": [
            "\b\b\b\b\b\b\b\b\b\b\b\b\b\b\b\b\b\b\b\b\b\b\b\b\b\b\b\b\b\b\b\b\b\b\b\b\b\b\b\b\b\b\b\b\b\b\b\b\b\b\b\b\b\b\b\b\b\b\b\b\b\b\b\b\b\b\b\b\b\b\b\b\b\b\b\b\b\b\b\b\b\b\b\b\b\b\r1407/1407 [==============================] - 20s 14ms/step - loss: 1.7923 - accuracy: 0.3535 - val_loss: 1.7228 - val_accuracy: 0.3820\n",
            "Epoch 4/90\n",
            "1407/1407 [==============================] - 17s 12ms/step - loss: 1.7291 - accuracy: 0.3766 - val_loss: 1.7263 - val_accuracy: 0.3752\n",
            "Epoch 5/90\n",
            "1407/1407 [==============================] - 17s 12ms/step - loss: 1.6882 - accuracy: 0.3915 - val_loss: 1.8423 - val_accuracy: 0.3446\n",
            "Epoch 6/90\n",
            "1403/1407 [============================>.] - ETA: 0s - loss: 1.6585 - accuracy: 0.4077"
          ]
        },
        {
          "output_type": "stream",
          "name": "stderr",
          "text": [
            "/usr/local/lib/python3.10/dist-packages/keras/src/engine/training.py:3103: UserWarning: You are saving your model as an HDF5 file via `model.save()`. This file format is considered legacy. We recommend using instead the native Keras format, e.g. `model.save('my_model.keras')`.\n",
            "  saving_api.save_model(\n",
            "\u001b[34m\u001b[1mwandb\u001b[0m: \u001b[32m\u001b[41mERROR\u001b[0m Can't save model in the h5py format. The model will be saved as as an W&B Artifact in the 'tf' format.\n",
            "\u001b[34m\u001b[1mwandb\u001b[0m: Adding directory to artifact (/content/wandb/run-20240327_112954-a2efv0wi/files/model-best)... Done. 0.0s\n"
          ]
        },
        {
          "output_type": "stream",
          "name": "stdout",
          "text": [
            "\b\b\b\b\b\b\b\b\b\b\b\b\b\b\b\b\b\b\b\b\b\b\b\b\b\b\b\b\b\b\b\b\b\b\b\b\b\b\b\b\b\b\b\b\b\b\b\b\b\b\b\b\b\b\b\b\b\b\b\b\b\b\b\b\b\b\b\b\b\b\b\b\b\b\b\b\b\b\b\b\b\b\b\b\b\b\r1407/1407 [==============================] - 20s 14ms/step - loss: 1.6584 - accuracy: 0.4078 - val_loss: 1.6922 - val_accuracy: 0.4004\n",
            "Epoch 7/90\n",
            "1403/1407 [============================>.] - ETA: 0s - loss: 1.6216 - accuracy: 0.4198"
          ]
        },
        {
          "output_type": "stream",
          "name": "stderr",
          "text": [
            "/usr/local/lib/python3.10/dist-packages/keras/src/engine/training.py:3103: UserWarning: You are saving your model as an HDF5 file via `model.save()`. This file format is considered legacy. We recommend using instead the native Keras format, e.g. `model.save('my_model.keras')`.\n",
            "  saving_api.save_model(\n",
            "\u001b[34m\u001b[1mwandb\u001b[0m: \u001b[32m\u001b[41mERROR\u001b[0m Can't save model in the h5py format. The model will be saved as as an W&B Artifact in the 'tf' format.\n",
            "\u001b[34m\u001b[1mwandb\u001b[0m: Adding directory to artifact (/content/wandb/run-20240327_112954-a2efv0wi/files/model-best)... Done. 0.0s\n"
          ]
        },
        {
          "output_type": "stream",
          "name": "stdout",
          "text": [
            "\b\b\b\b\b\b\b\b\b\b\b\b\b\b\b\b\b\b\b\b\b\b\b\b\b\b\b\b\b\b\b\b\b\b\b\b\b\b\b\b\b\b\b\b\b\b\b\b\b\b\b\b\b\b\b\b\b\b\b\b\b\b\b\b\b\b\b\b\b\b\b\b\b\b\b\b\b\b\b\b\b\b\b\b\b\b\r1407/1407 [==============================] - 20s 14ms/step - loss: 1.6214 - accuracy: 0.4199 - val_loss: 1.6896 - val_accuracy: 0.3986\n",
            "Epoch 8/90\n",
            "1404/1407 [============================>.] - ETA: 0s - loss: 1.6030 - accuracy: 0.4300"
          ]
        },
        {
          "output_type": "stream",
          "name": "stderr",
          "text": [
            "/usr/local/lib/python3.10/dist-packages/keras/src/engine/training.py:3103: UserWarning: You are saving your model as an HDF5 file via `model.save()`. This file format is considered legacy. We recommend using instead the native Keras format, e.g. `model.save('my_model.keras')`.\n",
            "  saving_api.save_model(\n",
            "\u001b[34m\u001b[1mwandb\u001b[0m: \u001b[32m\u001b[41mERROR\u001b[0m Can't save model in the h5py format. The model will be saved as as an W&B Artifact in the 'tf' format.\n",
            "\u001b[34m\u001b[1mwandb\u001b[0m: Adding directory to artifact (/content/wandb/run-20240327_112954-a2efv0wi/files/model-best)... Done. 0.0s\n"
          ]
        },
        {
          "output_type": "stream",
          "name": "stdout",
          "text": [
            "\b\b\b\b\b\b\b\b\b\b\b\b\b\b\b\b\b\b\b\b\b\b\b\b\b\b\b\b\b\b\b\b\b\b\b\b\b\b\b\b\b\b\b\b\b\b\b\b\b\b\b\b\b\b\b\b\b\b\b\b\b\b\b\b\b\b\b\b\b\b\b\b\b\b\b\b\b\b\b\b\b\b\b\b\b\b\r1407/1407 [==============================] - 20s 14ms/step - loss: 1.6030 - accuracy: 0.4300 - val_loss: 1.6521 - val_accuracy: 0.4092\n",
            "Epoch 9/90\n",
            "1407/1407 [==============================] - 17s 12ms/step - loss: 1.5737 - accuracy: 0.4380 - val_loss: 1.6807 - val_accuracy: 0.3938\n",
            "Epoch 10/90\n",
            "1407/1407 [==============================] - 16s 12ms/step - loss: 1.5499 - accuracy: 0.4480 - val_loss: 1.7232 - val_accuracy: 0.4120\n",
            "Epoch 11/90\n",
            "1407/1407 [==============================] - 17s 12ms/step - loss: 1.5346 - accuracy: 0.4538 - val_loss: 1.8737 - val_accuracy: 0.3984\n",
            "Epoch 12/90\n",
            "1407/1407 [==============================] - 17s 12ms/step - loss: 1.5060 - accuracy: 0.4640 - val_loss: 1.6831 - val_accuracy: 0.4456\n",
            "Epoch 13/90\n",
            "1407/1407 [==============================] - 16s 12ms/step - loss: 1.7674 - accuracy: 0.3764 - val_loss: 1.6877 - val_accuracy: 0.3940\n",
            "Epoch 14/90\n",
            "1407/1407 [==============================] - ETA: 0s - loss: 1.5731 - accuracy: 0.4381"
          ]
        },
        {
          "output_type": "stream",
          "name": "stderr",
          "text": [
            "/usr/local/lib/python3.10/dist-packages/keras/src/engine/training.py:3103: UserWarning: You are saving your model as an HDF5 file via `model.save()`. This file format is considered legacy. We recommend using instead the native Keras format, e.g. `model.save('my_model.keras')`.\n",
            "  saving_api.save_model(\n",
            "\u001b[34m\u001b[1mwandb\u001b[0m: \u001b[32m\u001b[41mERROR\u001b[0m Can't save model in the h5py format. The model will be saved as as an W&B Artifact in the 'tf' format.\n",
            "\u001b[34m\u001b[1mwandb\u001b[0m: Adding directory to artifact (/content/wandb/run-20240327_112954-a2efv0wi/files/model-best)... Done. 0.0s\n"
          ]
        },
        {
          "output_type": "stream",
          "name": "stdout",
          "text": [
            "\b\b\b\b\b\b\b\b\b\b\b\b\b\b\b\b\b\b\b\b\b\b\b\b\b\b\b\b\b\b\b\b\b\b\b\b\b\b\b\b\b\b\b\b\b\b\b\b\b\b\b\b\b\b\b\b\b\b\b\b\b\b\b\b\b\b\b\b\b\b\b\b\b\b\b\b\b\b\b\b\b\b\b\b\b\b\r1407/1407 [==============================] - 19s 14ms/step - loss: 1.5731 - accuracy: 0.4381 - val_loss: 1.5554 - val_accuracy: 0.4400\n",
            "Epoch 15/90\n",
            "1407/1407 [==============================] - 16s 12ms/step - loss: 1.7623 - accuracy: 0.3521 - val_loss: 1.7884 - val_accuracy: 0.3564\n",
            "Epoch 16/90\n",
            "1407/1407 [==============================] - 16s 12ms/step - loss: 1.6327 - accuracy: 0.4113 - val_loss: 1.6380 - val_accuracy: 0.4146\n",
            "Epoch 17/90\n",
            "1407/1407 [==============================] - 16s 12ms/step - loss: 1.5717 - accuracy: 0.4374 - val_loss: 1.6877 - val_accuracy: 0.4046\n",
            "Epoch 18/90\n",
            "1407/1407 [==============================] - 17s 12ms/step - loss: 1.5347 - accuracy: 0.4518 - val_loss: 1.5866 - val_accuracy: 0.4348\n",
            "Epoch 19/90\n",
            "1407/1407 [==============================] - 18s 13ms/step - loss: 1.5121 - accuracy: 0.4588 - val_loss: 1.5789 - val_accuracy: 0.4216\n",
            "Epoch 20/90\n",
            "1407/1407 [==============================] - 16s 11ms/step - loss: 1.4898 - accuracy: 0.4686 - val_loss: 1.5589 - val_accuracy: 0.4496\n",
            "Epoch 21/90\n",
            "1407/1407 [==============================] - 16s 12ms/step - loss: 1.4721 - accuracy: 0.4762 - val_loss: 1.5793 - val_accuracy: 0.4450\n",
            "Epoch 22/90\n",
            "1405/1407 [============================>.] - ETA: 0s - loss: 1.4541 - accuracy: 0.4827"
          ]
        },
        {
          "output_type": "stream",
          "name": "stderr",
          "text": [
            "/usr/local/lib/python3.10/dist-packages/keras/src/engine/training.py:3103: UserWarning: You are saving your model as an HDF5 file via `model.save()`. This file format is considered legacy. We recommend using instead the native Keras format, e.g. `model.save('my_model.keras')`.\n",
            "  saving_api.save_model(\n",
            "\u001b[34m\u001b[1mwandb\u001b[0m: \u001b[32m\u001b[41mERROR\u001b[0m Can't save model in the h5py format. The model will be saved as as an W&B Artifact in the 'tf' format.\n",
            "\u001b[34m\u001b[1mwandb\u001b[0m: Adding directory to artifact (/content/wandb/run-20240327_112954-a2efv0wi/files/model-best)... Done. 0.0s\n"
          ]
        },
        {
          "output_type": "stream",
          "name": "stdout",
          "text": [
            "\b\b\b\b\b\b\b\b\b\b\b\b\b\b\b\b\b\b\b\b\b\b\b\b\b\b\b\b\b\b\b\b\b\b\b\b\b\b\b\b\b\b\b\b\b\b\b\b\b\b\b\b\b\b\b\b\b\b\b\b\b\b\b\b\b\b\b\b\b\b\b\b\b\b\b\b\b\b\b\b\b\b\b\b\b\b\r1407/1407 [==============================] - 20s 14ms/step - loss: 1.4540 - accuracy: 0.4827 - val_loss: 1.5425 - val_accuracy: 0.4540\n",
            "Epoch 23/90\n",
            "1403/1407 [============================>.] - ETA: 0s - loss: 1.4408 - accuracy: 0.4871"
          ]
        },
        {
          "output_type": "stream",
          "name": "stderr",
          "text": [
            "/usr/local/lib/python3.10/dist-packages/keras/src/engine/training.py:3103: UserWarning: You are saving your model as an HDF5 file via `model.save()`. This file format is considered legacy. We recommend using instead the native Keras format, e.g. `model.save('my_model.keras')`.\n",
            "  saving_api.save_model(\n",
            "\u001b[34m\u001b[1mwandb\u001b[0m: \u001b[32m\u001b[41mERROR\u001b[0m Can't save model in the h5py format. The model will be saved as as an W&B Artifact in the 'tf' format.\n",
            "\u001b[34m\u001b[1mwandb\u001b[0m: Adding directory to artifact (/content/wandb/run-20240327_112954-a2efv0wi/files/model-best)... Done. 0.0s\n"
          ]
        },
        {
          "output_type": "stream",
          "name": "stdout",
          "text": [
            "\b\b\b\b\b\b\b\b\b\b\b\b\b\b\b\b\b\b\b\b\b\b\b\b\b\b\b\b\b\b\b\b\b\b\b\b\b\b\b\b\b\b\b\b\b\b\b\b\b\b\b\b\b\b\b\b\b\b\b\b\b\b\b\b\b\b\b\b\b\b\b\b\b\b\b\b\b\b\b\b\b\b\b\b\b\b\r1407/1407 [==============================] - 20s 14ms/step - loss: 1.4405 - accuracy: 0.4872 - val_loss: 1.4947 - val_accuracy: 0.4632\n",
            "Epoch 24/90\n",
            "1407/1407 [==============================] - 17s 12ms/step - loss: 1.4207 - accuracy: 0.4964 - val_loss: 1.5205 - val_accuracy: 0.4640\n",
            "Epoch 25/90\n",
            "1407/1407 [==============================] - 16s 12ms/step - loss: 1.3997 - accuracy: 0.5038 - val_loss: 1.5515 - val_accuracy: 0.4504\n",
            "Epoch 26/90\n",
            "1405/1407 [============================>.] - ETA: 0s - loss: 1.4316 - accuracy: 0.4922"
          ]
        },
        {
          "output_type": "stream",
          "name": "stderr",
          "text": [
            "/usr/local/lib/python3.10/dist-packages/keras/src/engine/training.py:3103: UserWarning: You are saving your model as an HDF5 file via `model.save()`. This file format is considered legacy. We recommend using instead the native Keras format, e.g. `model.save('my_model.keras')`.\n",
            "  saving_api.save_model(\n",
            "\u001b[34m\u001b[1mwandb\u001b[0m: \u001b[32m\u001b[41mERROR\u001b[0m Can't save model in the h5py format. The model will be saved as as an W&B Artifact in the 'tf' format.\n",
            "\u001b[34m\u001b[1mwandb\u001b[0m: Adding directory to artifact (/content/wandb/run-20240327_112954-a2efv0wi/files/model-best)... Done. 0.0s\n"
          ]
        },
        {
          "output_type": "stream",
          "name": "stdout",
          "text": [
            "\b\b\b\b\b\b\b\b\b\b\b\b\b\b\b\b\b\b\b\b\b\b\b\b\b\b\b\b\b\b\b\b\b\b\b\b\b\b\b\b\b\b\b\b\b\b\b\b\b\b\b\b\b\b\b\b\b\b\b\b\b\b\b\b\b\b\b\b\b\b\b\b\b\b\b\b\b\b\b\b\b\b\b\b\b\b\r1407/1407 [==============================] - 23s 16ms/step - loss: 1.4316 - accuracy: 0.4922 - val_loss: 1.4756 - val_accuracy: 0.4856\n",
            "Epoch 27/90\n",
            "1407/1407 [==============================] - 16s 12ms/step - loss: 1.3783 - accuracy: 0.5112 - val_loss: 1.5023 - val_accuracy: 0.4676\n",
            "Epoch 28/90\n",
            "1407/1407 [==============================] - 16s 11ms/step - loss: 1.3585 - accuracy: 0.5188 - val_loss: 1.5026 - val_accuracy: 0.4688\n",
            "Epoch 29/90\n",
            "1407/1407 [==============================] - 16s 11ms/step - loss: 1.3480 - accuracy: 0.5208 - val_loss: 1.5183 - val_accuracy: 0.4720\n",
            "Epoch 30/90\n",
            "1407/1407 [==============================] - 16s 12ms/step - loss: 1.3348 - accuracy: 0.5272 - val_loss: 1.5487 - val_accuracy: 0.4528\n",
            "Epoch 31/90\n",
            "1407/1407 [==============================] - 17s 12ms/step - loss: 1.3208 - accuracy: 0.5303 - val_loss: 1.5229 - val_accuracy: 0.4688\n",
            "Epoch 32/90\n",
            "1407/1407 [==============================] - 16s 11ms/step - loss: 2.4072 - accuracy: 0.4093 - val_loss: 1.7952 - val_accuracy: 0.3228\n",
            "Epoch 33/90\n",
            "1407/1407 [==============================] - 17s 12ms/step - loss: 1.6753 - accuracy: 0.3771 - val_loss: 1.6730 - val_accuracy: 0.3902\n",
            "Epoch 34/90\n",
            "1407/1407 [==============================] - 16s 11ms/step - loss: 1.5871 - accuracy: 0.4209 - val_loss: 1.6297 - val_accuracy: 0.4052\n",
            "Epoch 35/90\n",
            "1407/1407 [==============================] - 16s 11ms/step - loss: 1.5344 - accuracy: 0.4474 - val_loss: 1.6201 - val_accuracy: 0.4294\n",
            "Epoch 36/90\n",
            "1407/1407 [==============================] - 17s 12ms/step - loss: 1.5425 - accuracy: 0.4431 - val_loss: 1.6257 - val_accuracy: 0.4088\n"
          ]
        }
      ]
    },
    {
      "cell_type": "markdown",
      "source": [
        "## Alpha Dropout and then MC dropout without retrain"
      ],
      "metadata": {
        "id": "m7vHm0z4SNEl"
      }
    },
    {
      "cell_type": "markdown",
      "source": [
        "###AlphaDropout"
      ],
      "metadata": {
        "id": "fB0CwCdqvmQQ"
      }
    },
    {
      "cell_type": "code",
      "source": [
        "wandb.init(\n",
        "    project = \"Chapter_11_CIFAR_10_e\",\n",
        "    name = \"question_e_alpha_dropout_lr5e-4\",\n",
        "\n",
        "    config = {\n",
        "        \"dataset\": \"CIFAR_10\",\n",
        "        \"lr\": 5e-4,\n",
        "        \"archetecture\": \"Basic DNN\",\n",
        "        \"loss\": \"sparse_categorical_crossentropy\",\n",
        "        \"epochs\": 20,\n",
        "        \"num_layer\":20,\n",
        "        \"num_units\": 100,\n",
        "        \"activation\": \"selu\",\n",
        "        \"kernel_init\": \"lecun_normal\"\n",
        "    }\n",
        ")"
      ],
      "metadata": {
        "id": "fbYq4SzWxHGC",
        "colab": {
          "base_uri": "https://localhost:8080/",
          "height": 141
        },
        "outputId": "e3f54ba7-478c-4aad-ed1b-b79a70a344e3"
      },
      "execution_count": null,
      "outputs": [
        {
          "output_type": "stream",
          "name": "stderr",
          "text": [
            "\u001b[34m\u001b[1mwandb\u001b[0m: Currently logged in as: \u001b[33m1999sandeepdey\u001b[0m (\u001b[33mthecommon\u001b[0m). Use \u001b[1m`wandb login --relogin`\u001b[0m to force relogin\n"
          ]
        },
        {
          "output_type": "display_data",
          "data": {
            "text/plain": [
              "<IPython.core.display.HTML object>"
            ],
            "text/html": [
              "Tracking run with wandb version 0.16.6"
            ]
          },
          "metadata": {}
        },
        {
          "output_type": "display_data",
          "data": {
            "text/plain": [
              "<IPython.core.display.HTML object>"
            ],
            "text/html": [
              "Run data is saved locally in <code>/content/wandb/run-20240409_102633-l62ayltt</code>"
            ]
          },
          "metadata": {}
        },
        {
          "output_type": "display_data",
          "data": {
            "text/plain": [
              "<IPython.core.display.HTML object>"
            ],
            "text/html": [
              "Syncing run <strong><a href='https://wandb.ai/thecommon/Chapter_11_CIFAR_10_e/runs/l62ayltt' target=\"_blank\">question_e_alpha_dropout_lr5e-4</a></strong> to <a href='https://wandb.ai/thecommon/Chapter_11_CIFAR_10_e' target=\"_blank\">Weights & Biases</a> (<a href='https://wandb.me/run' target=\"_blank\">docs</a>)<br/>"
            ]
          },
          "metadata": {}
        },
        {
          "output_type": "display_data",
          "data": {
            "text/plain": [
              "<IPython.core.display.HTML object>"
            ],
            "text/html": [
              " View project at <a href='https://wandb.ai/thecommon/Chapter_11_CIFAR_10_e' target=\"_blank\">https://wandb.ai/thecommon/Chapter_11_CIFAR_10_e</a>"
            ]
          },
          "metadata": {}
        },
        {
          "output_type": "display_data",
          "data": {
            "text/plain": [
              "<IPython.core.display.HTML object>"
            ],
            "text/html": [
              " View run at <a href='https://wandb.ai/thecommon/Chapter_11_CIFAR_10_e/runs/l62ayltt' target=\"_blank\">https://wandb.ai/thecommon/Chapter_11_CIFAR_10_e/runs/l62ayltt</a>"
            ]
          },
          "metadata": {}
        },
        {
          "output_type": "execute_result",
          "data": {
            "text/html": [
              "<button onClick=\"this.nextSibling.style.display='block';this.style.display='none';\">Display W&B run</button><iframe src='https://wandb.ai/thecommon/Chapter_11_CIFAR_10_e/runs/l62ayltt?jupyter=true' style='border:none;width:100%;height:420px;display:none;'></iframe>"
            ],
            "text/plain": [
              "<wandb.sdk.wandb_run.Run at 0x7f6d8e233a00>"
            ]
          },
          "metadata": {},
          "execution_count": 6
        }
      ]
    },
    {
      "cell_type": "code",
      "source": [
        "config  = wandb.config"
      ],
      "metadata": {
        "id": "z-KxhZ8dZZoF"
      },
      "execution_count": null,
      "outputs": []
    },
    {
      "cell_type": "code",
      "source": [
        "class AlphaSeLU(tf.keras.Model):\n",
        "    def __init__(self, num_layers = config.num_layer, num_units = config.num_units, activation = config.activation, kernel_initializer = config.kernel_init, **kwargs):\n",
        "        super().__init__(**kwargs)\n",
        "        self.flatten = tf.keras.layers.Flatten(input_shape = [32, 32, 3])\n",
        "        self.dense = [tf.keras.layers.Dense(num_units, kernel_initializer = kernel_initializer, activation = activation) for i in range(num_layers)]\n",
        "        self.dropout = tf.keras.layers.AlphaDropout(rate = 0.1)\n",
        "        self.op = tf.keras.layers.Dense(10, activation = \"softmax\")\n",
        "\n",
        "    def call(self, input):\n",
        "        input = self.flatten(input)\n",
        "        for dense in self.dense:\n",
        "            input = dense(input)\n",
        "\n",
        "        input = self.dropout(input)\n",
        "        return self.op(input)\n",
        "\n",
        "model = AlphaSeLU(name = \"Alpha_model\")\n",
        "\n",
        "optimizer = tf.keras.optimizers.Nadam(learning_rate = config.lr, beta_1 = 0.9, beta_2 = 0.999)\n",
        "\n",
        "early_stop = tf.keras.callbacks.EarlyStopping(patience=5, restore_best_weights = True, monitor = \"val_loss\")\n",
        "model_check = tf.keras.callbacks.ModelCheckpoint(\"aplha_model\", save_best_only = True)\n",
        "\n",
        "model.compile(loss = config.loss, optimizer = optimizer, metrics = ['accuracy'])\n",
        "\n",
        "history = model.fit(X_train, y_train, epochs = config.epochs, validation_data = (X_valid, y_valid), callbacks = [early_stop, model_check, WandbCallback()])\n"
      ],
      "metadata": {
        "id": "hVOYT1B_wv08",
        "colab": {
          "base_uri": "https://localhost:8080/"
        },
        "outputId": "752bfa03-011b-4a9c-d8e4-cea78797f2c0"
      },
      "execution_count": null,
      "outputs": [
        {
          "output_type": "stream",
          "name": "stdout",
          "text": [
            "Epoch 1/20\n",
            "1407/1407 [==============================] - 33s 17ms/step - loss: 2.0061 - accuracy: 0.2685 - val_loss: 1.8834 - val_accuracy: 0.3216\n",
            "Epoch 2/20\n",
            "1407/1407 [==============================] - 23s 16ms/step - loss: 1.8437 - accuracy: 0.3345 - val_loss: 1.9484 - val_accuracy: 0.3144\n",
            "Epoch 3/20\n",
            "1407/1407 [==============================] - 22s 16ms/step - loss: 1.7809 - accuracy: 0.3555 - val_loss: 1.9312 - val_accuracy: 0.3292\n",
            "Epoch 4/20\n",
            "1407/1407 [==============================] - 27s 19ms/step - loss: 1.7293 - accuracy: 0.3779 - val_loss: 1.7517 - val_accuracy: 0.3812\n",
            "Epoch 5/20\n",
            "1407/1407 [==============================] - 24s 17ms/step - loss: 1.6814 - accuracy: 0.3971 - val_loss: 1.6913 - val_accuracy: 0.4140\n",
            "Epoch 6/20\n",
            "1407/1407 [==============================] - 21s 15ms/step - loss: 1.6450 - accuracy: 0.4136 - val_loss: 1.6701 - val_accuracy: 0.4056\n",
            "Epoch 7/20\n",
            "1407/1407 [==============================] - 19s 14ms/step - loss: 1.6143 - accuracy: 0.4264 - val_loss: 1.6123 - val_accuracy: 0.4356\n",
            "Epoch 8/20\n",
            "1407/1407 [==============================] - 19s 14ms/step - loss: 1.5853 - accuracy: 0.4371 - val_loss: 1.5920 - val_accuracy: 0.4390\n",
            "Epoch 9/20\n",
            "1407/1407 [==============================] - 17s 12ms/step - loss: 1.5642 - accuracy: 0.4454 - val_loss: 1.6086 - val_accuracy: 0.4480\n",
            "Epoch 10/20\n",
            "1407/1407 [==============================] - 19s 14ms/step - loss: 1.5383 - accuracy: 0.4537 - val_loss: 1.5532 - val_accuracy: 0.4508\n",
            "Epoch 11/20\n",
            "1407/1407 [==============================] - 16s 12ms/step - loss: 1.5170 - accuracy: 0.4629 - val_loss: 1.6693 - val_accuracy: 0.4370\n",
            "Epoch 12/20\n",
            "1407/1407 [==============================] - 17s 12ms/step - loss: 1.4981 - accuracy: 0.4698 - val_loss: 1.5934 - val_accuracy: 0.4348\n",
            "Epoch 13/20\n",
            "1407/1407 [==============================] - 19s 13ms/step - loss: 1.4817 - accuracy: 0.4759 - val_loss: 1.7221 - val_accuracy: 0.4280\n",
            "Epoch 14/20\n",
            "1407/1407 [==============================] - 18s 13ms/step - loss: 1.4610 - accuracy: 0.4835 - val_loss: 1.6293 - val_accuracy: 0.4330\n",
            "Epoch 15/20\n",
            "1407/1407 [==============================] - 19s 14ms/step - loss: 1.4469 - accuracy: 0.4891 - val_loss: 1.5431 - val_accuracy: 0.4694\n",
            "Epoch 16/20\n",
            "1407/1407 [==============================] - 17s 12ms/step - loss: 1.4220 - accuracy: 0.4974 - val_loss: 1.5597 - val_accuracy: 0.4688\n",
            "Epoch 17/20\n",
            "1407/1407 [==============================] - 20s 14ms/step - loss: 1.4046 - accuracy: 0.5094 - val_loss: 1.5170 - val_accuracy: 0.4798\n",
            "Epoch 18/20\n",
            "1407/1407 [==============================] - 18s 13ms/step - loss: 1.3892 - accuracy: 0.5092 - val_loss: 1.5609 - val_accuracy: 0.4770\n",
            "Epoch 19/20\n",
            "1407/1407 [==============================] - 17s 12ms/step - loss: 1.3700 - accuracy: 0.5154 - val_loss: 1.6048 - val_accuracy: 0.4694\n",
            "Epoch 20/20\n",
            "1407/1407 [==============================] - 17s 12ms/step - loss: 1.3592 - accuracy: 0.5212 - val_loss: 1.5593 - val_accuracy: 0.4634\n"
          ]
        }
      ]
    },
    {
      "cell_type": "code",
      "source": [
        "model.evaluate(X_test, y_test)"
      ],
      "metadata": {
        "colab": {
          "base_uri": "https://localhost:8080/"
        },
        "id": "BfO4XQTuafaS",
        "outputId": "49655c9a-3e23-4b8e-be1b-8e6672674997"
      },
      "execution_count": null,
      "outputs": [
        {
          "output_type": "stream",
          "name": "stdout",
          "text": [
            "313/313 [==============================] - 2s 5ms/step - loss: 101.0467 - accuracy: 0.2959\n"
          ]
        },
        {
          "output_type": "execute_result",
          "data": {
            "text/plain": [
              "[101.04667663574219, 0.29589998722076416]"
            ]
          },
          "metadata": {},
          "execution_count": 74
        }
      ]
    },
    {
      "cell_type": "code",
      "source": [
        "class AlphaSeLU(tf.keras.Model):\n",
        "    def __init__(self, num_layers = 20, num_units = 100, activation = 'selu', kernel_initializer = \"lecun_normal\", rate = 0.1, **kwargs):\n",
        "        super().__init__(**kwargs)\n",
        "        self.flatten = tf.keras.layers.Flatten()\n",
        "        self.dense = [tf.keras.layers.Dense(num_units, activation = activation,kernel_initializer = kernel_initializer) for i in range(num_layers)]\n",
        "        self.dropout = tf.keras.layers.AlphaDropout(rate = rate)\n",
        "        self.op = tf.keras.layers.Dense(10, activation = \"softmax\")\n",
        "\n",
        "    def call(self, input):\n",
        "        input = self.flatten(input)\n",
        "        for dense in self.dense:\n",
        "            # input = dropout(input)\n",
        "            input = dense(input)\n",
        "        input = self.dropout(input)\n",
        "        return self.op(input)\n",
        "\n",
        "alpha = AlphaSeLU()"
      ],
      "metadata": {
        "id": "bRKwGLchvIjQ"
      },
      "execution_count": null,
      "outputs": []
    },
    {
      "cell_type": "code",
      "source": [
        "wandb.init(\n",
        "    # set the wandb project where this run will be logged\n",
        "    project=\"Chapter_11_CIFAR10_e\",\n",
        "    name = \"e_1e-3lr_nestrov\"\n",
        "\n",
        "    # track hyperparameters and run metadata\n",
        "    config={\n",
        "    \"learning_rate\": 1e-3,\n",
        "    \"architecture\": \"Basic DNN\",\n",
        "    \"dataset\": \"CIFAR-10\",\n",
        "    \"epochs\": 90,\n",
        "    \"loss\": \"sparse_categorical_crossentropy\"\n",
        "    }\n",
        ")\n",
        "\n",
        "config = wandb.config"
      ],
      "metadata": {
        "colab": {
          "base_uri": "https://localhost:8080/",
          "height": 193,
          "referenced_widgets": [
            "824e8980d5024186a08d93880b2e164b",
            "7cb042aadce343d6969e80f452ce55bc",
            "4ee48eeb55944da4b95314aaea39c3db",
            "2fcd52eb9b314cf9886bb0a25d765473",
            "b4aa3f159f1d4101922487a7399dcd96",
            "ff1a3c1767ca40d888850d6ab582c61a",
            "38adb3f7a46b4b8f87ca7f034832b460",
            "9e5f67247cd148949ad85c13a9cd276d"
          ]
        },
        "id": "e7oiHUWkO3xF",
        "outputId": "6adc9e4c-18c3-41f1-d04e-08431245ed9f"
      },
      "execution_count": null,
      "outputs": [
        {
          "output_type": "display_data",
          "data": {
            "text/plain": [
              "<IPython.core.display.HTML object>"
            ],
            "text/html": [
              "Finishing last run (ID:n6sff6g2) before initializing another..."
            ]
          },
          "metadata": {}
        },
        {
          "output_type": "display_data",
          "data": {
            "text/plain": [
              "VBox(children=(Label(value='0.001 MB of 0.001 MB uploaded\\r'), FloatProgress(value=1.0, max=1.0)))"
            ],
            "application/vnd.jupyter.widget-view+json": {
              "version_major": 2,
              "version_minor": 0,
              "model_id": "824e8980d5024186a08d93880b2e164b"
            }
          },
          "metadata": {}
        },
        {
          "output_type": "display_data",
          "data": {
            "text/plain": [
              "<IPython.core.display.HTML object>"
            ],
            "text/html": [
              " View run <strong style=\"color:#cdcd00\">drawn-valley-8</strong> at: <a href='https://wandb.ai/thecommon/Chapter_11_CIFAR10/runs/n6sff6g2/workspace' target=\"_blank\">https://wandb.ai/thecommon/Chapter_11_CIFAR10/runs/n6sff6g2/workspace</a><br/>Synced 5 W&B file(s), 0 media file(s), 0 artifact file(s) and 0 other file(s)"
            ]
          },
          "metadata": {}
        },
        {
          "output_type": "display_data",
          "data": {
            "text/plain": [
              "<IPython.core.display.HTML object>"
            ],
            "text/html": [
              "Find logs at: <code>./wandb/run-20240327_121206-n6sff6g2/logs</code>"
            ]
          },
          "metadata": {}
        },
        {
          "output_type": "display_data",
          "data": {
            "text/plain": [
              "<IPython.core.display.HTML object>"
            ],
            "text/html": [
              "Successfully finished last run (ID:n6sff6g2). Initializing new run:<br/>"
            ]
          },
          "metadata": {}
        },
        {
          "output_type": "display_data",
          "data": {
            "text/plain": [
              "<IPython.core.display.HTML object>"
            ],
            "text/html": [
              "Tracking run with wandb version 0.16.5"
            ]
          },
          "metadata": {}
        },
        {
          "output_type": "display_data",
          "data": {
            "text/plain": [
              "<IPython.core.display.HTML object>"
            ],
            "text/html": [
              "Run data is saved locally in <code>/content/wandb/run-20240327_121434-i3zylg43</code>"
            ]
          },
          "metadata": {}
        },
        {
          "output_type": "display_data",
          "data": {
            "text/plain": [
              "<IPython.core.display.HTML object>"
            ],
            "text/html": [
              "Syncing run <strong><a href='https://wandb.ai/thecommon/Chapter_11_CIFAR10/runs/i3zylg43/workspace' target=\"_blank\">amber-wave-9</a></strong> to <a href='https://wandb.ai/thecommon/Chapter_11_CIFAR10' target=\"_blank\">Weights & Biases</a> (<a href='https://wandb.me/run' target=\"_blank\">docs</a>)<br/>"
            ]
          },
          "metadata": {}
        },
        {
          "output_type": "display_data",
          "data": {
            "text/plain": [
              "<IPython.core.display.HTML object>"
            ],
            "text/html": [
              " View project at <a href='https://wandb.ai/thecommon/Chapter_11_CIFAR10' target=\"_blank\">https://wandb.ai/thecommon/Chapter_11_CIFAR10</a>"
            ]
          },
          "metadata": {}
        },
        {
          "output_type": "display_data",
          "data": {
            "text/plain": [
              "<IPython.core.display.HTML object>"
            ],
            "text/html": [
              " View run at <a href='https://wandb.ai/thecommon/Chapter_11_CIFAR10/runs/i3zylg43/workspace' target=\"_blank\">https://wandb.ai/thecommon/Chapter_11_CIFAR10/runs/i3zylg43/workspace</a>"
            ]
          },
          "metadata": {}
        }
      ]
    },
    {
      "cell_type": "code",
      "source": [
        "optimizer = tf.keras.optimizers.SGD(learning_rate = config.learning_rate, momentum = 0.9, nesterov = True)\n",
        "\n",
        "alpha.compile(loss = config.loss, optimizer = optimizer, metrics = [\"accuracy\"])\n",
        "\n",
        "history = alpha.fit(X_train, y_train, epochs = config.epochs, validation_data = (X_valid, y_valid), callbacks = [WandbCallback()])"
      ],
      "metadata": {
        "colab": {
          "base_uri": "https://localhost:8080/"
        },
        "id": "YOcUaoJ5Xma6",
        "outputId": "bb3170c7-ae22-4d7d-bedb-fe96ab338477"
      },
      "execution_count": null,
      "outputs": [
        {
          "output_type": "stream",
          "name": "stdout",
          "text": [
            "Epoch 1/90\n",
            "1402/1407 [============================>.] - ETA: 0s - loss: 1.9384 - accuracy: 0.2913"
          ]
        },
        {
          "output_type": "stream",
          "name": "stderr",
          "text": [
            "/usr/local/lib/python3.10/dist-packages/keras/src/engine/training.py:3103: UserWarning: You are saving your model as an HDF5 file via `model.save()`. This file format is considered legacy. We recommend using instead the native Keras format, e.g. `model.save('my_model.keras')`.\n",
            "  saving_api.save_model(\n",
            "\u001b[34m\u001b[1mwandb\u001b[0m: \u001b[32m\u001b[41mERROR\u001b[0m Can't save model in the h5py format. The model will be saved as as an W&B Artifact in the 'tf' format.\n",
            "\u001b[34m\u001b[1mwandb\u001b[0m: Adding directory to artifact (/content/wandb/run-20240327_121434-i3zylg43/files/model-best)... Done. 0.0s\n"
          ]
        },
        {
          "output_type": "stream",
          "name": "stdout",
          "text": [
            "\b\b\b\b\b\b\b\b\b\b\b\b\b\b\b\b\b\b\b\b\b\b\b\b\b\b\b\b\b\b\b\b\b\b\b\b\b\b\b\b\b\b\b\b\b\b\b\b\b\b\b\b\b\b\b\b\b\b\b\b\b\b\b\b\b\b\b\b\b\b\b\b\b\b\b\b\b\b\b\b\b\b\b\b\b\b\r1407/1407 [==============================] - 17s 10ms/step - loss: 1.9382 - accuracy: 0.2913 - val_loss: 1.7850 - val_accuracy: 0.3548\n",
            "Epoch 2/90\n",
            "1407/1407 [==============================] - 15s 11ms/step - loss: 1.7591 - accuracy: 0.3608 - val_loss: 1.9032 - val_accuracy: 0.3406\n",
            "Epoch 3/90\n",
            "1403/1407 [============================>.] - ETA: 0s - loss: 1.6825 - accuracy: 0.3898"
          ]
        },
        {
          "output_type": "stream",
          "name": "stderr",
          "text": [
            "/usr/local/lib/python3.10/dist-packages/keras/src/engine/training.py:3103: UserWarning: You are saving your model as an HDF5 file via `model.save()`. This file format is considered legacy. We recommend using instead the native Keras format, e.g. `model.save('my_model.keras')`.\n",
            "  saving_api.save_model(\n",
            "\u001b[34m\u001b[1mwandb\u001b[0m: \u001b[32m\u001b[41mERROR\u001b[0m Can't save model in the h5py format. The model will be saved as as an W&B Artifact in the 'tf' format.\n",
            "\u001b[34m\u001b[1mwandb\u001b[0m: Adding directory to artifact (/content/wandb/run-20240327_121434-i3zylg43/files/model-best)... Done. 0.1s\n"
          ]
        },
        {
          "output_type": "stream",
          "name": "stdout",
          "text": [
            "\b\b\b\b\b\b\b\b\b\b\b\b\b\b\b\b\b\b\b\b\b\b\b\b\b\b\b\b\b\b\b\b\b\b\b\b\b\b\b\b\b\b\b\b\b\b\b\b\b\b\b\b\b\b\b\b\b\b\b\b\b\b\b\b\b\b\b\b\b\b\b\b\b\b\b\b\b\b\b\b\b\b\b\b\b\b\r1407/1407 [==============================] - 19s 14ms/step - loss: 1.6821 - accuracy: 0.3898 - val_loss: 1.6845 - val_accuracy: 0.4014\n",
            "Epoch 4/90\n",
            "1403/1407 [============================>.] - ETA: 0s - loss: 1.6255 - accuracy: 0.4138"
          ]
        },
        {
          "output_type": "stream",
          "name": "stderr",
          "text": [
            "/usr/local/lib/python3.10/dist-packages/keras/src/engine/training.py:3103: UserWarning: You are saving your model as an HDF5 file via `model.save()`. This file format is considered legacy. We recommend using instead the native Keras format, e.g. `model.save('my_model.keras')`.\n",
            "  saving_api.save_model(\n",
            "\u001b[34m\u001b[1mwandb\u001b[0m: \u001b[32m\u001b[41mERROR\u001b[0m Can't save model in the h5py format. The model will be saved as as an W&B Artifact in the 'tf' format.\n",
            "\u001b[34m\u001b[1mwandb\u001b[0m: Adding directory to artifact (/content/wandb/run-20240327_121434-i3zylg43/files/model-best)... Done. 0.0s\n"
          ]
        },
        {
          "output_type": "stream",
          "name": "stdout",
          "text": [
            "\b\b\b\b\b\b\b\b\b\b\b\b\b\b\b\b\b\b\b\b\b\b\b\b\b\b\b\b\b\b\b\b\b\b\b\b\b\b\b\b\b\b\b\b\b\b\b\b\b\b\b\b\b\b\b\b\b\b\b\b\b\b\b\b\b\b\b\b\b\b\b\b\b\b\b\b\b\b\b\b\b\b\b\b\b\b\r1407/1407 [==============================] - 15s 10ms/step - loss: 1.6251 - accuracy: 0.4140 - val_loss: 1.6647 - val_accuracy: 0.4100\n",
            "Epoch 5/90\n",
            "1407/1407 [==============================] - 11s 8ms/step - loss: 1.5847 - accuracy: 0.4306 - val_loss: 1.6716 - val_accuracy: 0.4052\n",
            "Epoch 6/90\n",
            "1407/1407 [==============================] - ETA: 0s - loss: 1.5482 - accuracy: 0.4458"
          ]
        },
        {
          "output_type": "stream",
          "name": "stderr",
          "text": [
            "/usr/local/lib/python3.10/dist-packages/keras/src/engine/training.py:3103: UserWarning: You are saving your model as an HDF5 file via `model.save()`. This file format is considered legacy. We recommend using instead the native Keras format, e.g. `model.save('my_model.keras')`.\n",
            "  saving_api.save_model(\n",
            "\u001b[34m\u001b[1mwandb\u001b[0m: \u001b[32m\u001b[41mERROR\u001b[0m Can't save model in the h5py format. The model will be saved as as an W&B Artifact in the 'tf' format.\n",
            "\u001b[34m\u001b[1mwandb\u001b[0m: Adding directory to artifact (/content/wandb/run-20240327_121434-i3zylg43/files/model-best)... Done. 0.0s\n"
          ]
        },
        {
          "output_type": "stream",
          "name": "stdout",
          "text": [
            "\b\b\b\b\b\b\b\b\b\b\b\b\b\b\b\b\b\b\b\b\b\b\b\b\b\b\b\b\b\b\b\b\b\b\b\b\b\b\b\b\b\b\b\b\b\b\b\b\b\b\b\b\b\b\b\b\b\b\b\b\b\b\b\b\b\b\b\b\b\b\b\b\b\b\b\b\b\b\b\b\b\b\b\b\b\b\r1407/1407 [==============================] - 14s 10ms/step - loss: 1.5482 - accuracy: 0.4458 - val_loss: 1.6119 - val_accuracy: 0.4160\n",
            "Epoch 7/90\n",
            "1407/1407 [==============================] - 14s 10ms/step - loss: 1.5188 - accuracy: 0.4530 - val_loss: 1.6699 - val_accuracy: 0.4144\n",
            "Epoch 8/90\n",
            "1404/1407 [============================>.] - ETA: 0s - loss: 1.4923 - accuracy: 0.4621"
          ]
        },
        {
          "output_type": "stream",
          "name": "stderr",
          "text": [
            "/usr/local/lib/python3.10/dist-packages/keras/src/engine/training.py:3103: UserWarning: You are saving your model as an HDF5 file via `model.save()`. This file format is considered legacy. We recommend using instead the native Keras format, e.g. `model.save('my_model.keras')`.\n",
            "  saving_api.save_model(\n",
            "\u001b[34m\u001b[1mwandb\u001b[0m: \u001b[32m\u001b[41mERROR\u001b[0m Can't save model in the h5py format. The model will be saved as as an W&B Artifact in the 'tf' format.\n",
            "\u001b[34m\u001b[1mwandb\u001b[0m: Adding directory to artifact (/content/wandb/run-20240327_121434-i3zylg43/files/model-best)... Done. 0.0s\n"
          ]
        },
        {
          "output_type": "stream",
          "name": "stdout",
          "text": [
            "\b\b\b\b\b\b\b\b\b\b\b\b\b\b\b\b\b\b\b\b\b\b\b\b\b\b\b\b\b\b\b\b\b\b\b\b\b\b\b\b\b\b\b\b\b\b\b\b\b\b\b\b\b\b\b\b\b\b\b\b\b\b\b\b\b\b\b\b\b\b\b\b\b\b\b\b\b\b\b\b\b\b\b\b\b\b\r1407/1407 [==============================] - 15s 11ms/step - loss: 1.4923 - accuracy: 0.4621 - val_loss: 1.5515 - val_accuracy: 0.4624\n",
            "Epoch 9/90\n",
            "1407/1407 [==============================] - 11s 8ms/step - loss: 1.4664 - accuracy: 0.4708 - val_loss: 1.5616 - val_accuracy: 0.4508\n",
            "Epoch 10/90\n",
            "1407/1407 [==============================] - 12s 8ms/step - loss: 1.4447 - accuracy: 0.4792 - val_loss: 1.6602 - val_accuracy: 0.4422\n",
            "Epoch 11/90\n",
            "1400/1407 [============================>.] - ETA: 0s - loss: 1.4215 - accuracy: 0.4870"
          ]
        },
        {
          "output_type": "stream",
          "name": "stderr",
          "text": [
            "/usr/local/lib/python3.10/dist-packages/keras/src/engine/training.py:3103: UserWarning: You are saving your model as an HDF5 file via `model.save()`. This file format is considered legacy. We recommend using instead the native Keras format, e.g. `model.save('my_model.keras')`.\n",
            "  saving_api.save_model(\n",
            "\u001b[34m\u001b[1mwandb\u001b[0m: \u001b[32m\u001b[41mERROR\u001b[0m Can't save model in the h5py format. The model will be saved as as an W&B Artifact in the 'tf' format.\n",
            "\u001b[34m\u001b[1mwandb\u001b[0m: Adding directory to artifact (/content/wandb/run-20240327_121434-i3zylg43/files/model-best)... Done. 0.0s\n"
          ]
        },
        {
          "output_type": "stream",
          "name": "stdout",
          "text": [
            "\b\b\b\b\b\b\b\b\b\b\b\b\b\b\b\b\b\b\b\b\b\b\b\b\b\b\b\b\b\b\b\b\b\b\b\b\b\b\b\b\b\b\b\b\b\b\b\b\b\b\b\b\b\b\b\b\b\b\b\b\b\b\b\b\b\b\b\b\b\b\b\b\b\b\b\b\b\b\b\b\b\b\b\b\b\b\r1407/1407 [==============================] - 14s 10ms/step - loss: 1.4210 - accuracy: 0.4872 - val_loss: 1.5068 - val_accuracy: 0.4574\n",
            "Epoch 12/90\n",
            "1405/1407 [============================>.] - ETA: 0s - loss: 1.3988 - accuracy: 0.4946"
          ]
        },
        {
          "output_type": "stream",
          "name": "stderr",
          "text": [
            "/usr/local/lib/python3.10/dist-packages/keras/src/engine/training.py:3103: UserWarning: You are saving your model as an HDF5 file via `model.save()`. This file format is considered legacy. We recommend using instead the native Keras format, e.g. `model.save('my_model.keras')`.\n",
            "  saving_api.save_model(\n",
            "\u001b[34m\u001b[1mwandb\u001b[0m: \u001b[32m\u001b[41mERROR\u001b[0m Can't save model in the h5py format. The model will be saved as as an W&B Artifact in the 'tf' format.\n",
            "\u001b[34m\u001b[1mwandb\u001b[0m: Adding directory to artifact (/content/wandb/run-20240327_121434-i3zylg43/files/model-best)... Done. 0.0s\n"
          ]
        },
        {
          "output_type": "stream",
          "name": "stdout",
          "text": [
            "\b\b\b\b\b\b\b\b\b\b\b\b\b\b\b\b\b\b\b\b\b\b\b\b\b\b\b\b\b\b\b\b\b\b\b\b\b\b\b\b\b\b\b\b\b\b\b\b\b\b\b\b\b\b\b\b\b\b\b\b\b\b\b\b\b\b\b\b\b\b\b\b\b\b\b\b\b\b\b\b\b\b\b\b\b\b\r1407/1407 [==============================] - 16s 11ms/step - loss: 1.3991 - accuracy: 0.4945 - val_loss: 1.4784 - val_accuracy: 0.4828\n",
            "Epoch 13/90\n",
            "1407/1407 [==============================] - 13s 9ms/step - loss: 1.3826 - accuracy: 0.5006 - val_loss: 1.5828 - val_accuracy: 0.4490\n",
            "Epoch 14/90\n",
            "1407/1407 [==============================] - 11s 8ms/step - loss: 1.3606 - accuracy: 0.5094 - val_loss: 1.4846 - val_accuracy: 0.4736\n",
            "Epoch 15/90\n",
            "1407/1407 [==============================] - 11s 8ms/step - loss: 1.3455 - accuracy: 0.5149 - val_loss: 1.4967 - val_accuracy: 0.4868\n",
            "Epoch 16/90\n",
            "1400/1407 [============================>.] - ETA: 0s - loss: 1.3274 - accuracy: 0.5209"
          ]
        },
        {
          "output_type": "stream",
          "name": "stderr",
          "text": [
            "/usr/local/lib/python3.10/dist-packages/keras/src/engine/training.py:3103: UserWarning: You are saving your model as an HDF5 file via `model.save()`. This file format is considered legacy. We recommend using instead the native Keras format, e.g. `model.save('my_model.keras')`.\n",
            "  saving_api.save_model(\n",
            "\u001b[34m\u001b[1mwandb\u001b[0m: \u001b[32m\u001b[41mERROR\u001b[0m Can't save model in the h5py format. The model will be saved as as an W&B Artifact in the 'tf' format.\n",
            "\u001b[34m\u001b[1mwandb\u001b[0m: Adding directory to artifact (/content/wandb/run-20240327_121434-i3zylg43/files/model-best)... Done. 0.0s\n"
          ]
        },
        {
          "output_type": "stream",
          "name": "stdout",
          "text": [
            "\b\b\b\b\b\b\b\b\b\b\b\b\b\b\b\b\b\b\b\b\b\b\b\b\b\b\b\b\b\b\b\b\b\b\b\b\b\b\b\b\b\b\b\b\b\b\b\b\b\b\b\b\b\b\b\b\b\b\b\b\b\b\b\b\b\b\b\b\b\b\b\b\b\b\b\b\b\b\b\b\b\b\b\b\b\b\r1407/1407 [==============================] - 14s 10ms/step - loss: 1.3275 - accuracy: 0.5209 - val_loss: 1.4734 - val_accuracy: 0.4852\n",
            "Epoch 17/90\n",
            "1407/1407 [==============================] - 12s 8ms/step - loss: 1.3087 - accuracy: 0.5261 - val_loss: 1.5464 - val_accuracy: 0.4768\n",
            "Epoch 18/90\n",
            "1407/1407 [==============================] - 12s 8ms/step - loss: 1.2950 - accuracy: 0.5328 - val_loss: 1.5073 - val_accuracy: 0.4790\n",
            "Epoch 19/90\n",
            "1404/1407 [============================>.] - ETA: 0s - loss: 1.2806 - accuracy: 0.5382"
          ]
        },
        {
          "output_type": "stream",
          "name": "stderr",
          "text": [
            "/usr/local/lib/python3.10/dist-packages/keras/src/engine/training.py:3103: UserWarning: You are saving your model as an HDF5 file via `model.save()`. This file format is considered legacy. We recommend using instead the native Keras format, e.g. `model.save('my_model.keras')`.\n",
            "  saving_api.save_model(\n",
            "\u001b[34m\u001b[1mwandb\u001b[0m: \u001b[32m\u001b[41mERROR\u001b[0m Can't save model in the h5py format. The model will be saved as as an W&B Artifact in the 'tf' format.\n",
            "\u001b[34m\u001b[1mwandb\u001b[0m: Adding directory to artifact (/content/wandb/run-20240327_121434-i3zylg43/files/model-best)... Done. 0.0s\n"
          ]
        },
        {
          "output_type": "stream",
          "name": "stdout",
          "text": [
            "\b\b\b\b\b\b\b\b\b\b\b\b\b\b\b\b\b\b\b\b\b\b\b\b\b\b\b\b\b\b\b\b\b\b\b\b\b\b\b\b\b\b\b\b\b\b\b\b\b\b\b\b\b\b\b\b\b\b\b\b\b\b\b\b\b\b\b\b\b\b\b\b\b\b\b\b\b\b\b\b\b\b\b\b\b\b\r1407/1407 [==============================] - 14s 10ms/step - loss: 1.2807 - accuracy: 0.5382 - val_loss: 1.4486 - val_accuracy: 0.4918\n",
            "Epoch 20/90\n",
            "1405/1407 [============================>.] - ETA: 0s - loss: 1.2639 - accuracy: 0.5430"
          ]
        },
        {
          "output_type": "stream",
          "name": "stderr",
          "text": [
            "/usr/local/lib/python3.10/dist-packages/keras/src/engine/training.py:3103: UserWarning: You are saving your model as an HDF5 file via `model.save()`. This file format is considered legacy. We recommend using instead the native Keras format, e.g. `model.save('my_model.keras')`.\n",
            "  saving_api.save_model(\n",
            "\u001b[34m\u001b[1mwandb\u001b[0m: \u001b[32m\u001b[41mERROR\u001b[0m Can't save model in the h5py format. The model will be saved as as an W&B Artifact in the 'tf' format.\n",
            "\u001b[34m\u001b[1mwandb\u001b[0m: Adding directory to artifact (/content/wandb/run-20240327_121434-i3zylg43/files/model-best)... Done. 0.0s\n"
          ]
        },
        {
          "output_type": "stream",
          "name": "stdout",
          "text": [
            "\b\b\b\b\b\b\b\b\b\b\b\b\b\b\b\b\b\b\b\b\b\b\b\b\b\b\b\b\b\b\b\b\b\b\b\b\b\b\b\b\b\b\b\b\b\b\b\b\b\b\b\b\b\b\b\b\b\b\b\b\b\b\b\b\b\b\b\b\b\b\b\b\b\b\b\b\b\b\b\b\b\b\b\b\b\b\r1407/1407 [==============================] - 15s 10ms/step - loss: 1.2642 - accuracy: 0.5429 - val_loss: 1.4411 - val_accuracy: 0.4918\n",
            "Epoch 21/90\n",
            "1407/1407 [==============================] - 12s 8ms/step - loss: 1.2495 - accuracy: 0.5486 - val_loss: 1.4539 - val_accuracy: 0.5050\n",
            "Epoch 22/90\n",
            "1407/1407 [==============================] - 11s 8ms/step - loss: 1.2337 - accuracy: 0.5566 - val_loss: 1.4682 - val_accuracy: 0.4954\n",
            "Epoch 23/90\n",
            "1407/1407 [==============================] - 12s 8ms/step - loss: 1.2201 - accuracy: 0.5603 - val_loss: 1.4854 - val_accuracy: 0.4962\n",
            "Epoch 24/90\n",
            "1400/1407 [============================>.] - ETA: 0s - loss: 1.2052 - accuracy: 0.5660"
          ]
        },
        {
          "output_type": "stream",
          "name": "stderr",
          "text": [
            "/usr/local/lib/python3.10/dist-packages/keras/src/engine/training.py:3103: UserWarning: You are saving your model as an HDF5 file via `model.save()`. This file format is considered legacy. We recommend using instead the native Keras format, e.g. `model.save('my_model.keras')`.\n",
            "  saving_api.save_model(\n",
            "\u001b[34m\u001b[1mwandb\u001b[0m: \u001b[32m\u001b[41mERROR\u001b[0m Can't save model in the h5py format. The model will be saved as as an W&B Artifact in the 'tf' format.\n",
            "\u001b[34m\u001b[1mwandb\u001b[0m: Adding directory to artifact (/content/wandb/run-20240327_121434-i3zylg43/files/model-best)... Done. 0.0s\n"
          ]
        },
        {
          "output_type": "stream",
          "name": "stdout",
          "text": [
            "\b\b\b\b\b\b\b\b\b\b\b\b\b\b\b\b\b\b\b\b\b\b\b\b\b\b\b\b\b\b\b\b\b\b\b\b\b\b\b\b\b\b\b\b\b\b\b\b\b\b\b\b\b\b\b\b\b\b\b\b\b\b\b\b\b\b\b\b\b\b\b\b\b\b\b\b\b\b\b\b\b\b\b\b\b\b\r1407/1407 [==============================] - 16s 11ms/step - loss: 1.2048 - accuracy: 0.5662 - val_loss: 1.4410 - val_accuracy: 0.5170\n",
            "Epoch 25/90\n",
            "1407/1407 [==============================] - 12s 8ms/step - loss: 1.1861 - accuracy: 0.5722 - val_loss: 1.4553 - val_accuracy: 0.5194\n",
            "Epoch 26/90\n",
            "1407/1407 [==============================] - 11s 8ms/step - loss: 1.1732 - accuracy: 0.5779 - val_loss: 1.5093 - val_accuracy: 0.5010\n",
            "Epoch 27/90\n",
            "1407/1407 [==============================] - 11s 8ms/step - loss: 1.1635 - accuracy: 0.5804 - val_loss: 1.5136 - val_accuracy: 0.5106\n",
            "Epoch 28/90\n",
            "1407/1407 [==============================] - 11s 8ms/step - loss: 1.1512 - accuracy: 0.5867 - val_loss: 1.5328 - val_accuracy: 0.5058\n",
            "Epoch 29/90\n",
            "1407/1407 [==============================] - 11s 8ms/step - loss: 1.1363 - accuracy: 0.5892 - val_loss: 1.5197 - val_accuracy: 0.5174\n",
            "Epoch 30/90\n",
            "1407/1407 [==============================] - 12s 8ms/step - loss: 1.1229 - accuracy: 0.5953 - val_loss: 1.6237 - val_accuracy: 0.4794\n",
            "Epoch 31/90\n",
            "1407/1407 [==============================] - 11s 8ms/step - loss: 1.1127 - accuracy: 0.5980 - val_loss: 1.5186 - val_accuracy: 0.5076\n",
            "Epoch 32/90\n",
            "1407/1407 [==============================] - 11s 8ms/step - loss: 1.0996 - accuracy: 0.6014 - val_loss: 1.5810 - val_accuracy: 0.5072\n",
            "Epoch 33/90\n",
            "1407/1407 [==============================] - 11s 8ms/step - loss: 1.0895 - accuracy: 0.6054 - val_loss: 1.4851 - val_accuracy: 0.5154\n",
            "Epoch 34/90\n",
            "1407/1407 [==============================] - 11s 8ms/step - loss: 1.0732 - accuracy: 0.6105 - val_loss: 1.5548 - val_accuracy: 0.5184\n",
            "Epoch 35/90\n",
            "1407/1407 [==============================] - 11s 8ms/step - loss: 1.0664 - accuracy: 0.6137 - val_loss: 1.5330 - val_accuracy: 0.5220\n",
            "Epoch 36/90\n",
            "1407/1407 [==============================] - 11s 8ms/step - loss: 1.0535 - accuracy: 0.6181 - val_loss: 1.5321 - val_accuracy: 0.5144\n",
            "Epoch 37/90\n",
            "1407/1407 [==============================] - 12s 8ms/step - loss: 1.0387 - accuracy: 0.6222 - val_loss: 1.5386 - val_accuracy: 0.5124\n",
            "Epoch 38/90\n",
            "1407/1407 [==============================] - 11s 8ms/step - loss: 1.0342 - accuracy: 0.6248 - val_loss: 1.5685 - val_accuracy: 0.5192\n",
            "Epoch 39/90\n",
            "1407/1407 [==============================] - 11s 8ms/step - loss: 1.0203 - accuracy: 0.6303 - val_loss: 1.5526 - val_accuracy: 0.5172\n",
            "Epoch 40/90\n",
            "1407/1407 [==============================] - 11s 8ms/step - loss: 1.0030 - accuracy: 0.6384 - val_loss: 1.5988 - val_accuracy: 0.5176\n",
            "Epoch 41/90\n",
            "1407/1407 [==============================] - 11s 8ms/step - loss: 0.9961 - accuracy: 0.6386 - val_loss: 1.5562 - val_accuracy: 0.5154\n",
            "Epoch 42/90\n",
            "1407/1407 [==============================] - 12s 8ms/step - loss: 0.9819 - accuracy: 0.6446 - val_loss: 1.5999 - val_accuracy: 0.5082\n",
            "Epoch 43/90\n",
            "1407/1407 [==============================] - 18s 13ms/step - loss: 0.9778 - accuracy: 0.6441 - val_loss: 1.5617 - val_accuracy: 0.5254\n",
            "Epoch 44/90\n",
            "1407/1407 [==============================] - 11s 8ms/step - loss: 0.9690 - accuracy: 0.6479 - val_loss: 1.6374 - val_accuracy: 0.5104\n",
            "Epoch 45/90\n",
            "1407/1407 [==============================] - 11s 8ms/step - loss: 0.9547 - accuracy: 0.6526 - val_loss: 1.5833 - val_accuracy: 0.5066\n",
            "Epoch 46/90\n",
            "1407/1407 [==============================] - 12s 8ms/step - loss: 0.9478 - accuracy: 0.6572 - val_loss: 1.6704 - val_accuracy: 0.5050\n",
            "Epoch 47/90\n",
            "1407/1407 [==============================] - 12s 8ms/step - loss: 0.9373 - accuracy: 0.6594 - val_loss: 1.6997 - val_accuracy: 0.5108\n",
            "Epoch 48/90\n",
            "1407/1407 [==============================] - 12s 8ms/step - loss: 0.9253 - accuracy: 0.6632 - val_loss: 1.7243 - val_accuracy: 0.5142\n",
            "Epoch 49/90\n",
            "1407/1407 [==============================] - 12s 8ms/step - loss: 0.9206 - accuracy: 0.6668 - val_loss: 1.8228 - val_accuracy: 0.4972\n",
            "Epoch 50/90\n",
            "1407/1407 [==============================] - 11s 8ms/step - loss: 0.9080 - accuracy: 0.6686 - val_loss: 1.8153 - val_accuracy: 0.5042\n",
            "Epoch 51/90\n",
            "1407/1407 [==============================] - 13s 9ms/step - loss: 0.9064 - accuracy: 0.6700 - val_loss: 1.7400 - val_accuracy: 0.5186\n",
            "Epoch 52/90\n",
            "1407/1407 [==============================] - 12s 9ms/step - loss: 0.8897 - accuracy: 0.6764 - val_loss: 1.7420 - val_accuracy: 0.5068\n",
            "Epoch 53/90\n",
            "1407/1407 [==============================] - 13s 9ms/step - loss: 0.8838 - accuracy: 0.6786 - val_loss: 1.7728 - val_accuracy: 0.5060\n",
            "Epoch 54/90\n",
            "1407/1407 [==============================] - 13s 9ms/step - loss: 0.8707 - accuracy: 0.6812 - val_loss: 1.7601 - val_accuracy: 0.5116\n",
            "Epoch 55/90\n",
            "1407/1407 [==============================] - 12s 8ms/step - loss: 0.8638 - accuracy: 0.6844 - val_loss: 1.7515 - val_accuracy: 0.5110\n",
            "Epoch 56/90\n",
            "1407/1407 [==============================] - 12s 8ms/step - loss: 0.8563 - accuracy: 0.6875 - val_loss: 1.8417 - val_accuracy: 0.5194\n",
            "Epoch 57/90\n",
            "1407/1407 [==============================] - 12s 8ms/step - loss: 0.8558 - accuracy: 0.6866 - val_loss: 1.8511 - val_accuracy: 0.4950\n",
            "Epoch 58/90\n",
            "1407/1407 [==============================] - 12s 8ms/step - loss: 0.8448 - accuracy: 0.6907 - val_loss: 1.7966 - val_accuracy: 0.5186\n",
            "Epoch 59/90\n",
            "1407/1407 [==============================] - 12s 8ms/step - loss: 0.8378 - accuracy: 0.6936 - val_loss: 1.9151 - val_accuracy: 0.4960\n",
            "Epoch 60/90\n",
            "1407/1407 [==============================] - 12s 9ms/step - loss: 0.8256 - accuracy: 0.6979 - val_loss: 1.9152 - val_accuracy: 0.5062\n",
            "Epoch 61/90\n",
            "1407/1407 [==============================] - 12s 8ms/step - loss: 0.8231 - accuracy: 0.6967 - val_loss: 1.8152 - val_accuracy: 0.5138\n",
            "Epoch 62/90\n",
            "1407/1407 [==============================] - 12s 8ms/step - loss: 0.8172 - accuracy: 0.7045 - val_loss: 1.8532 - val_accuracy: 0.5108\n",
            "Epoch 63/90\n",
            "1407/1407 [==============================] - 12s 8ms/step - loss: 0.8027 - accuracy: 0.7076 - val_loss: 1.8484 - val_accuracy: 0.5082\n",
            "Epoch 64/90\n",
            "1407/1407 [==============================] - 12s 9ms/step - loss: 0.7955 - accuracy: 0.7098 - val_loss: 1.8480 - val_accuracy: 0.5142\n",
            "Epoch 65/90\n",
            "1407/1407 [==============================] - 12s 8ms/step - loss: 0.7859 - accuracy: 0.7138 - val_loss: 1.8522 - val_accuracy: 0.5166\n",
            "Epoch 66/90\n",
            "1407/1407 [==============================] - 11s 8ms/step - loss: 0.7820 - accuracy: 0.7161 - val_loss: 1.9187 - val_accuracy: 0.4898\n",
            "Epoch 67/90\n",
            "1407/1407 [==============================] - 11s 8ms/step - loss: 0.7816 - accuracy: 0.7140 - val_loss: 1.9847 - val_accuracy: 0.5060\n",
            "Epoch 68/90\n",
            "1407/1407 [==============================] - 12s 8ms/step - loss: 0.7730 - accuracy: 0.7178 - val_loss: 1.9361 - val_accuracy: 0.4976\n",
            "Epoch 69/90\n",
            "1407/1407 [==============================] - 12s 8ms/step - loss: 0.7597 - accuracy: 0.7230 - val_loss: 1.9469 - val_accuracy: 0.4992\n",
            "Epoch 70/90\n",
            "1407/1407 [==============================] - 12s 8ms/step - loss: 0.7598 - accuracy: 0.7220 - val_loss: 1.9169 - val_accuracy: 0.5140\n",
            "Epoch 71/90\n",
            "1407/1407 [==============================] - 11s 8ms/step - loss: 0.7507 - accuracy: 0.7270 - val_loss: 1.9745 - val_accuracy: 0.5054\n",
            "Epoch 72/90\n",
            "1407/1407 [==============================] - 12s 8ms/step - loss: 0.7402 - accuracy: 0.7306 - val_loss: 1.9952 - val_accuracy: 0.5012\n",
            "Epoch 73/90\n",
            "1407/1407 [==============================] - 12s 8ms/step - loss: 0.7277 - accuracy: 0.7340 - val_loss: 1.9662 - val_accuracy: 0.5058\n",
            "Epoch 74/90\n",
            "1407/1407 [==============================] - 11s 8ms/step - loss: 0.7375 - accuracy: 0.7312 - val_loss: 1.9268 - val_accuracy: 0.5036\n",
            "Epoch 75/90\n",
            "1407/1407 [==============================] - 12s 8ms/step - loss: 0.7222 - accuracy: 0.7397 - val_loss: 2.0670 - val_accuracy: 0.4954\n",
            "Epoch 76/90\n",
            "1407/1407 [==============================] - 11s 8ms/step - loss: 0.7261 - accuracy: 0.7369 - val_loss: 2.0336 - val_accuracy: 0.5134\n",
            "Epoch 77/90\n",
            "1407/1407 [==============================] - 12s 8ms/step - loss: 0.7168 - accuracy: 0.7386 - val_loss: 1.9165 - val_accuracy: 0.5086\n",
            "Epoch 78/90\n",
            "1407/1407 [==============================] - 12s 8ms/step - loss: 0.7036 - accuracy: 0.7436 - val_loss: 2.1304 - val_accuracy: 0.4962\n",
            "Epoch 79/90\n",
            "1407/1407 [==============================] - 13s 9ms/step - loss: 0.7125 - accuracy: 0.7401 - val_loss: 2.1047 - val_accuracy: 0.5134\n",
            "Epoch 80/90\n",
            "1407/1407 [==============================] - 12s 9ms/step - loss: 0.7047 - accuracy: 0.7431 - val_loss: 2.1745 - val_accuracy: 0.4994\n",
            "Epoch 81/90\n",
            "1407/1407 [==============================] - 12s 9ms/step - loss: 0.6930 - accuracy: 0.7486 - val_loss: 1.9621 - val_accuracy: 0.5086\n",
            "Epoch 82/90\n",
            "1407/1407 [==============================] - 12s 8ms/step - loss: 0.6877 - accuracy: 0.7506 - val_loss: 1.9614 - val_accuracy: 0.5152\n",
            "Epoch 83/90\n",
            "1407/1407 [==============================] - 12s 8ms/step - loss: 0.6796 - accuracy: 0.7519 - val_loss: 1.9855 - val_accuracy: 0.5138\n",
            "Epoch 84/90\n",
            "1407/1407 [==============================] - 12s 8ms/step - loss: 0.6803 - accuracy: 0.7520 - val_loss: 2.0209 - val_accuracy: 0.5058\n",
            "Epoch 85/90\n",
            "1407/1407 [==============================] - 11s 8ms/step - loss: 0.6736 - accuracy: 0.7555 - val_loss: 2.1036 - val_accuracy: 0.4878\n",
            "Epoch 86/90\n",
            "1407/1407 [==============================] - 12s 9ms/step - loss: 0.6675 - accuracy: 0.7558 - val_loss: 1.9776 - val_accuracy: 0.5122\n",
            "Epoch 87/90\n",
            "1407/1407 [==============================] - 12s 8ms/step - loss: 0.6558 - accuracy: 0.7626 - val_loss: 2.1739 - val_accuracy: 0.5094\n",
            "Epoch 88/90\n",
            "1407/1407 [==============================] - 11s 8ms/step - loss: 0.6615 - accuracy: 0.7624 - val_loss: 2.1400 - val_accuracy: 0.4980\n",
            "Epoch 89/90\n",
            "1407/1407 [==============================] - 11s 8ms/step - loss: 0.6544 - accuracy: 0.7618 - val_loss: 2.0686 - val_accuracy: 0.5084\n",
            "Epoch 90/90\n",
            "1407/1407 [==============================] - 11s 8ms/step - loss: 0.6528 - accuracy: 0.7657 - val_loss: 2.0009 - val_accuracy: 0.5068\n"
          ]
        }
      ]
    },
    {
      "cell_type": "markdown",
      "source": [
        "###MCDropout"
      ],
      "metadata": {
        "id": "xZ6GldRSvp9_"
      }
    },
    {
      "cell_type": "code",
      "source": [
        "wandb.init(\n",
        "    project = \"Chapter_11_question_e_MC\",\n",
        "    name = \"Question_e_mc_like_prev\",\n",
        "\n",
        "    config = {\n",
        "        \"epochs\": 20,\n",
        "        \"archetechture\": \"Simple_DDN_MC\",\n",
        "        \"data_set\": \"cifar_10\",\n",
        "        \"loss\": \"sparse_categorical_crossentropy\"\n",
        "    }\n",
        ")"
      ],
      "metadata": {
        "colab": {
          "base_uri": "https://localhost:8080/",
          "height": 228,
          "referenced_widgets": [
            "e8e26c9561f948e2a4035b4a4f2114b2",
            "74678977e6a44fc7a936a933f6c1e3ec",
            "f975441f66aa4aa880fc45096157bea9",
            "c619a60564914f138f90226765dc9c9c",
            "5c0c597f058d471ba8a5cf16e07a3e32",
            "2a0ab2388ef244f1b9ff143046463dc4",
            "8d2ad218fa814090af8852b3f3c69e7e",
            "6db7c31e971c4c378404324b3197b394"
          ]
        },
        "id": "aWFMCQcZuOvX",
        "outputId": "ec3ec16c-f2f0-467a-de05-ae9288a86d62"
      },
      "execution_count": null,
      "outputs": [
        {
          "output_type": "display_data",
          "data": {
            "text/plain": [
              "<IPython.core.display.HTML object>"
            ],
            "text/html": [
              "Finishing last run (ID:0ooqudah) before initializing another..."
            ]
          },
          "metadata": {}
        },
        {
          "output_type": "display_data",
          "data": {
            "text/plain": [
              "VBox(children=(Label(value='0.010 MB of 0.010 MB uploaded\\r'), FloatProgress(value=1.0, max=1.0)))"
            ],
            "application/vnd.jupyter.widget-view+json": {
              "version_major": 2,
              "version_minor": 0,
              "model_id": "e8e26c9561f948e2a4035b4a4f2114b2"
            }
          },
          "metadata": {}
        },
        {
          "output_type": "display_data",
          "data": {
            "text/plain": [
              "<IPython.core.display.HTML object>"
            ],
            "text/html": [
              " View run <strong style=\"color:#cdcd00\">Question_e_mc_like_prev</strong> at: <a href='https://wandb.ai/thecommon/Chapter_11_question_e_MC/runs/0ooqudah' target=\"_blank\">https://wandb.ai/thecommon/Chapter_11_question_e_MC/runs/0ooqudah</a><br/> View project at: <a href='https://wandb.ai/thecommon/Chapter_11_question_e_MC' target=\"_blank\">https://wandb.ai/thecommon/Chapter_11_question_e_MC</a><br/>Synced 4 W&B file(s), 0 media file(s), 0 artifact file(s) and 0 other file(s)"
            ]
          },
          "metadata": {}
        },
        {
          "output_type": "display_data",
          "data": {
            "text/plain": [
              "<IPython.core.display.HTML object>"
            ],
            "text/html": [
              "Find logs at: <code>./wandb/run-20240409_120343-0ooqudah/logs</code>"
            ]
          },
          "metadata": {}
        },
        {
          "output_type": "display_data",
          "data": {
            "text/plain": [
              "<IPython.core.display.HTML object>"
            ],
            "text/html": [
              "Successfully finished last run (ID:0ooqudah). Initializing new run:<br/>"
            ]
          },
          "metadata": {}
        },
        {
          "output_type": "display_data",
          "data": {
            "text/plain": [
              "<IPython.core.display.HTML object>"
            ],
            "text/html": [
              "Tracking run with wandb version 0.16.6"
            ]
          },
          "metadata": {}
        },
        {
          "output_type": "display_data",
          "data": {
            "text/plain": [
              "<IPython.core.display.HTML object>"
            ],
            "text/html": [
              "Run data is saved locally in <code>/content/wandb/run-20240409_120429-cchc08wb</code>"
            ]
          },
          "metadata": {}
        },
        {
          "output_type": "display_data",
          "data": {
            "text/plain": [
              "<IPython.core.display.HTML object>"
            ],
            "text/html": [
              "Syncing run <strong><a href='https://wandb.ai/thecommon/Chapter_11_question_e_MC/runs/cchc08wb' target=\"_blank\">Question_e_mc_like_prev</a></strong> to <a href='https://wandb.ai/thecommon/Chapter_11_question_e_MC' target=\"_blank\">Weights & Biases</a> (<a href='https://wandb.me/run' target=\"_blank\">docs</a>)<br/>"
            ]
          },
          "metadata": {}
        },
        {
          "output_type": "display_data",
          "data": {
            "text/plain": [
              "<IPython.core.display.HTML object>"
            ],
            "text/html": [
              " View project at <a href='https://wandb.ai/thecommon/Chapter_11_question_e_MC' target=\"_blank\">https://wandb.ai/thecommon/Chapter_11_question_e_MC</a>"
            ]
          },
          "metadata": {}
        },
        {
          "output_type": "display_data",
          "data": {
            "text/plain": [
              "<IPython.core.display.HTML object>"
            ],
            "text/html": [
              " View run at <a href='https://wandb.ai/thecommon/Chapter_11_question_e_MC/runs/cchc08wb' target=\"_blank\">https://wandb.ai/thecommon/Chapter_11_question_e_MC/runs/cchc08wb</a>"
            ]
          },
          "metadata": {}
        },
        {
          "output_type": "execute_result",
          "data": {
            "text/html": [
              "<button onClick=\"this.nextSibling.style.display='block';this.style.display='none';\">Display W&B run</button><iframe src='https://wandb.ai/thecommon/Chapter_11_question_e_MC/runs/cchc08wb?jupyter=true' style='border:none;width:100%;height:420px;display:none;'></iframe>"
            ],
            "text/plain": [
              "<wandb.sdk.wandb_run.Run at 0x7f6c4ced0310>"
            ]
          },
          "metadata": {},
          "execution_count": 88
        }
      ]
    },
    {
      "cell_type": "code",
      "source": [
        "class MCDrop(tf.keras.layers.AlphaDropout):\n",
        "    def __init__(self, rate, **kwargs):\n",
        "        super().__init__(rate, **kwargs)\n",
        "\n",
        "    def call(self, inputs, training = False):\n",
        "        return super().call(inputs, training = True)\n",
        "\n",
        "early = tf.keras.callbacks.EarlyStopping(monitor = \"val_loss\", patience = 5)\n",
        "\n",
        "\n",
        "mc_model = tf.keras.Sequential([\n",
        "    (\n",
        "        MCDrop(0.1)\n",
        "        if isinstance(layer, tf.keras.layers.AlphaDropout)\n",
        "        else layer\n",
        "    )\n",
        "    for layer in model.layers\n",
        "])\n",
        "\n",
        "def mc_dropout_predict_probas(model, X, n_samples = 10):\n",
        "    Y_probas = [model.predict(X) for sample in range(n_samples)]\n",
        "    return np.mean(Y_probas, axis = 0)\n",
        "\n",
        "def mc_dropout_predict_classes(model, X, n_samples = 10):\n",
        "    Y_probas = mc_dropout_predict_probas(model, X, n_samples)\n",
        "    return Y_probas.argmax(axis = 1)\n",
        "\n",
        "mc_model.compile(loss = config.loss, optimizer = optimizer, metrics = [\"accuracy\"])\n",
        "\n",
        "tf.random.set_seed(37)\n",
        "\n",
        "history = mc_model.fit(X_train, y_train, epochs = config.epochs, validation_data = (X_valid, y_valid), callbacks = [WandbCallback(), early_stop])\n",
        "\n",
        "y_pred = mc_dropout_predict_classes(mc_model, X_valid)\n",
        "accuracy = (y_pred == y_valid[:, 0]).mean()\n",
        "\n"
      ],
      "metadata": {
        "colab": {
          "base_uri": "https://localhost:8080/"
        },
        "id": "46n6dHAZvpoX",
        "outputId": "2d0881f3-5277-4351-b109-d35fe542f866"
      },
      "execution_count": null,
      "outputs": [
        {
          "output_type": "stream",
          "name": "stdout",
          "text": [
            "Epoch 1/20\n",
            "1404/1407 [============================>.] - ETA: 0s - loss: 1.9147 - accuracy: 0.2952"
          ]
        },
        {
          "output_type": "stream",
          "name": "stderr",
          "text": [
            "/usr/local/lib/python3.10/dist-packages/keras/src/engine/training.py:3103: UserWarning: You are saving your model as an HDF5 file via `model.save()`. This file format is considered legacy. We recommend using instead the native Keras format, e.g. `model.save('my_model.keras')`.\n",
            "  saving_api.save_model(\n",
            "\u001b[34m\u001b[1mwandb\u001b[0m: Adding directory to artifact (/content/wandb/run-20240409_120429-cchc08wb/files/model-best)... Done. 0.0s\n"
          ]
        },
        {
          "output_type": "stream",
          "name": "stdout",
          "text": [
            "\b\b\b\b\b\b\b\b\b\b\b\b\b\b\b\b\b\b\b\b\b\b\b\b\b\b\b\b\b\b\b\b\b\b\b\b\b\b\b\b\b\b\b\b\b\b\b\b\b\b\b\b\b\b\b\b\b\b\b\b\b\b\b\b\b\b\b\b\b\b\b\b\b\b\b\b\b\b\b\b\b\b\b\b\b\b\r1407/1407 [==============================] - 23s 14ms/step - loss: 1.9144 - accuracy: 0.2953 - val_loss: 1.8563 - val_accuracy: 0.3222\n",
            "Epoch 2/20\n",
            "1406/1407 [============================>.] - ETA: 0s - loss: 1.8280 - accuracy: 0.3400"
          ]
        },
        {
          "output_type": "stream",
          "name": "stderr",
          "text": [
            "/usr/local/lib/python3.10/dist-packages/keras/src/engine/training.py:3103: UserWarning: You are saving your model as an HDF5 file via `model.save()`. This file format is considered legacy. We recommend using instead the native Keras format, e.g. `model.save('my_model.keras')`.\n",
            "  saving_api.save_model(\n",
            "\u001b[34m\u001b[1mwandb\u001b[0m: Adding directory to artifact (/content/wandb/run-20240409_120429-cchc08wb/files/model-best)... Done. 0.0s\n"
          ]
        },
        {
          "output_type": "stream",
          "name": "stdout",
          "text": [
            "\b\b\b\b\b\b\b\b\b\b\b\b\b\b\b\b\b\b\b\b\b\b\b\b\b\b\b\b\b\b\b\b\b\b\b\b\b\b\b\b\b\b\b\b\b\b\b\b\b\b\b\b\b\b\b\b\b\b\b\b\b\b\b\b\b\b\b\b\b\b\b\b\b\b\b\b\b\b\b\b\b\b\b\b\b\b\r1407/1407 [==============================] - 20s 14ms/step - loss: 1.8279 - accuracy: 0.3400 - val_loss: 1.8414 - val_accuracy: 0.3202\n",
            "Epoch 3/20\n",
            "1405/1407 [============================>.] - ETA: 0s - loss: 1.7724 - accuracy: 0.3622"
          ]
        },
        {
          "output_type": "stream",
          "name": "stderr",
          "text": [
            "/usr/local/lib/python3.10/dist-packages/keras/src/engine/training.py:3103: UserWarning: You are saving your model as an HDF5 file via `model.save()`. This file format is considered legacy. We recommend using instead the native Keras format, e.g. `model.save('my_model.keras')`.\n",
            "  saving_api.save_model(\n",
            "\u001b[34m\u001b[1mwandb\u001b[0m: Adding directory to artifact (/content/wandb/run-20240409_120429-cchc08wb/files/model-best)... Done. 0.0s\n"
          ]
        },
        {
          "output_type": "stream",
          "name": "stdout",
          "text": [
            "\b\b\b\b\b\b\b\b\b\b\b\b\b\b\b\b\b\b\b\b\b\b\b\b\b\b\b\b\b\b\b\b\b\b\b\b\b\b\b\b\b\b\b\b\b\b\b\b\b\b\b\b\b\b\b\b\b\b\b\b\b\b\b\b\b\b\b\b\b\b\b\b\b\b\b\b\b\b\b\b\b\b\b\b\b\b\r1407/1407 [==============================] - 20s 14ms/step - loss: 1.7725 - accuracy: 0.3622 - val_loss: 1.7441 - val_accuracy: 0.3732\n",
            "Epoch 4/20\n",
            "1407/1407 [==============================] - ETA: 0s - loss: 1.7230 - accuracy: 0.3814"
          ]
        },
        {
          "output_type": "stream",
          "name": "stderr",
          "text": [
            "/usr/local/lib/python3.10/dist-packages/keras/src/engine/training.py:3103: UserWarning: You are saving your model as an HDF5 file via `model.save()`. This file format is considered legacy. We recommend using instead the native Keras format, e.g. `model.save('my_model.keras')`.\n",
            "  saving_api.save_model(\n",
            "\u001b[34m\u001b[1mwandb\u001b[0m: Adding directory to artifact (/content/wandb/run-20240409_120429-cchc08wb/files/model-best)... Done. 0.0s\n"
          ]
        },
        {
          "output_type": "stream",
          "name": "stdout",
          "text": [
            "\b\b\b\b\b\b\b\b\b\b\b\b\b\b\b\b\b\b\b\b\b\b\b\b\b\b\b\b\b\b\b\b\b\b\b\b\b\b\b\b\b\b\b\b\b\b\b\b\b\b\b\b\b\b\b\b\b\b\b\b\b\b\b\b\b\b\b\b\b\b\b\b\b\b\b\b\b\b\b\b\b\b\b\b\b\b\r1407/1407 [==============================] - 20s 14ms/step - loss: 1.7230 - accuracy: 0.3814 - val_loss: 1.7353 - val_accuracy: 0.3692\n",
            "Epoch 5/20\n",
            "1406/1407 [============================>.] - ETA: 0s - loss: 1.6777 - accuracy: 0.3995"
          ]
        },
        {
          "output_type": "stream",
          "name": "stderr",
          "text": [
            "/usr/local/lib/python3.10/dist-packages/keras/src/engine/training.py:3103: UserWarning: You are saving your model as an HDF5 file via `model.save()`. This file format is considered legacy. We recommend using instead the native Keras format, e.g. `model.save('my_model.keras')`.\n",
            "  saving_api.save_model(\n",
            "\u001b[34m\u001b[1mwandb\u001b[0m: Adding directory to artifact (/content/wandb/run-20240409_120429-cchc08wb/files/model-best)... Done. 0.0s\n"
          ]
        },
        {
          "output_type": "stream",
          "name": "stdout",
          "text": [
            "\b\b\b\b\b\b\b\b\b\b\b\b\b\b\b\b\b\b\b\b\b\b\b\b\b\b\b\b\b\b\b\b\b\b\b\b\b\b\b\b\b\b\b\b\b\b\b\b\b\b\b\b\b\b\b\b\b\b\b\b\b\b\b\b\b\b\b\b\b\b\b\b\b\b\b\b\b\b\b\b\b\b\b\b\b\b\r1407/1407 [==============================] - 20s 14ms/step - loss: 1.6778 - accuracy: 0.3994 - val_loss: 1.6860 - val_accuracy: 0.3910\n",
            "Epoch 6/20\n",
            "1404/1407 [============================>.] - ETA: 0s - loss: 1.6431 - accuracy: 0.4160"
          ]
        },
        {
          "output_type": "stream",
          "name": "stderr",
          "text": [
            "/usr/local/lib/python3.10/dist-packages/keras/src/engine/training.py:3103: UserWarning: You are saving your model as an HDF5 file via `model.save()`. This file format is considered legacy. We recommend using instead the native Keras format, e.g. `model.save('my_model.keras')`.\n",
            "  saving_api.save_model(\n",
            "\u001b[34m\u001b[1mwandb\u001b[0m: Adding directory to artifact (/content/wandb/run-20240409_120429-cchc08wb/files/model-best)... Done. 0.0s\n"
          ]
        },
        {
          "output_type": "stream",
          "name": "stdout",
          "text": [
            "\b\b\b\b\b\b\b\b\b\b\b\b\b\b\b\b\b\b\b\b\b\b\b\b\b\b\b\b\b\b\b\b\b\b\b\b\b\b\b\b\b\b\b\b\b\b\b\b\b\b\b\b\b\b\b\b\b\b\b\b\b\b\b\b\b\b\b\b\b\b\b\b\b\b\b\b\b\b\b\b\b\b\b\b\b\b\r1407/1407 [==============================] - 19s 14ms/step - loss: 1.6431 - accuracy: 0.4161 - val_loss: 1.6324 - val_accuracy: 0.4256\n",
            "Epoch 7/20\n",
            "1407/1407 [==============================] - ETA: 0s - loss: 1.6080 - accuracy: 0.4266"
          ]
        },
        {
          "output_type": "stream",
          "name": "stderr",
          "text": [
            "/usr/local/lib/python3.10/dist-packages/keras/src/engine/training.py:3103: UserWarning: You are saving your model as an HDF5 file via `model.save()`. This file format is considered legacy. We recommend using instead the native Keras format, e.g. `model.save('my_model.keras')`.\n",
            "  saving_api.save_model(\n",
            "\u001b[34m\u001b[1mwandb\u001b[0m: Adding directory to artifact (/content/wandb/run-20240409_120429-cchc08wb/files/model-best)... Done. 0.0s\n"
          ]
        },
        {
          "output_type": "stream",
          "name": "stdout",
          "text": [
            "\b\b\b\b\b\b\b\b\b\b\b\b\b\b\b\b\b\b\b\b\b\b\b\b\b\b\b\b\b\b\b\b\b\b\b\b\b\b\b\b\b\b\b\b\b\b\b\b\b\b\b\b\b\b\b\b\b\b\b\b\b\b\b\b\b\b\b\b\b\b\b\b\b\b\b\b\b\b\b\b\b\b\b\b\b\b\r1407/1407 [==============================] - 22s 16ms/step - loss: 1.6080 - accuracy: 0.4266 - val_loss: 1.6184 - val_accuracy: 0.4224\n",
            "Epoch 8/20\n",
            "1403/1407 [============================>.] - ETA: 0s - loss: 1.5737 - accuracy: 0.4412"
          ]
        },
        {
          "output_type": "stream",
          "name": "stderr",
          "text": [
            "/usr/local/lib/python3.10/dist-packages/keras/src/engine/training.py:3103: UserWarning: You are saving your model as an HDF5 file via `model.save()`. This file format is considered legacy. We recommend using instead the native Keras format, e.g. `model.save('my_model.keras')`.\n",
            "  saving_api.save_model(\n",
            "\u001b[34m\u001b[1mwandb\u001b[0m: Adding directory to artifact (/content/wandb/run-20240409_120429-cchc08wb/files/model-best)... Done. 0.0s\n"
          ]
        },
        {
          "output_type": "stream",
          "name": "stdout",
          "text": [
            "\b\b\b\b\b\b\b\b\b\b\b\b\b\b\b\b\b\b\b\b\b\b\b\b\b\b\b\b\b\b\b\b\b\b\b\b\b\b\b\b\b\b\b\b\b\b\b\b\b\b\b\b\b\b\b\b\b\b\b\b\b\b\b\b\b\b\b\b\b\b\b\b\b\b\b\b\b\b\b\b\b\b\b\b\b\b\r1407/1407 [==============================] - 20s 14ms/step - loss: 1.5737 - accuracy: 0.4412 - val_loss: 1.5718 - val_accuracy: 0.4422\n",
            "Epoch 9/20\n",
            "1407/1407 [==============================] - 17s 12ms/step - loss: 1.5473 - accuracy: 0.4478 - val_loss: 1.6131 - val_accuracy: 0.4268\n",
            "Epoch 10/20\n",
            "1406/1407 [============================>.] - ETA: 0s - loss: 1.5270 - accuracy: 0.4569"
          ]
        },
        {
          "output_type": "stream",
          "name": "stderr",
          "text": [
            "/usr/local/lib/python3.10/dist-packages/keras/src/engine/training.py:3103: UserWarning: You are saving your model as an HDF5 file via `model.save()`. This file format is considered legacy. We recommend using instead the native Keras format, e.g. `model.save('my_model.keras')`.\n",
            "  saving_api.save_model(\n",
            "\u001b[34m\u001b[1mwandb\u001b[0m: Adding directory to artifact (/content/wandb/run-20240409_120429-cchc08wb/files/model-best)... Done. 0.0s\n"
          ]
        },
        {
          "output_type": "stream",
          "name": "stdout",
          "text": [
            "\b\b\b\b\b\b\b\b\b\b\b\b\b\b\b\b\b\b\b\b\b\b\b\b\b\b\b\b\b\b\b\b\b\b\b\b\b\b\b\b\b\b\b\b\b\b\b\b\b\b\b\b\b\b\b\b\b\b\b\b\b\b\b\b\b\b\b\b\b\b\b\b\b\b\b\b\b\b\b\b\b\b\b\b\b\b\r1407/1407 [==============================] - 21s 15ms/step - loss: 1.5271 - accuracy: 0.4568 - val_loss: 1.5667 - val_accuracy: 0.4380\n",
            "Epoch 11/20\n",
            "1407/1407 [==============================] - 17s 12ms/step - loss: 1.5033 - accuracy: 0.4656 - val_loss: 1.5724 - val_accuracy: 0.4396\n",
            "Epoch 12/20\n",
            "1407/1407 [==============================] - 17s 12ms/step - loss: 1.4812 - accuracy: 0.4746 - val_loss: 1.5733 - val_accuracy: 0.4378\n",
            "Epoch 13/20\n",
            "1407/1407 [==============================] - 16s 12ms/step - loss: 1.4645 - accuracy: 0.4796 - val_loss: 1.6723 - val_accuracy: 0.4328\n",
            "Epoch 14/20\n",
            "1407/1407 [==============================] - ETA: 0s - loss: 1.4458 - accuracy: 0.4900"
          ]
        },
        {
          "output_type": "stream",
          "name": "stderr",
          "text": [
            "/usr/local/lib/python3.10/dist-packages/keras/src/engine/training.py:3103: UserWarning: You are saving your model as an HDF5 file via `model.save()`. This file format is considered legacy. We recommend using instead the native Keras format, e.g. `model.save('my_model.keras')`.\n",
            "  saving_api.save_model(\n",
            "\u001b[34m\u001b[1mwandb\u001b[0m: Adding directory to artifact (/content/wandb/run-20240409_120429-cchc08wb/files/model-best)... Done. 0.0s\n"
          ]
        },
        {
          "output_type": "stream",
          "name": "stdout",
          "text": [
            "\b\b\b\b\b\b\b\b\b\b\b\b\b\b\b\b\b\b\b\b\b\b\b\b\b\b\b\b\b\b\b\b\b\b\b\b\b\b\b\b\b\b\b\b\b\b\b\b\b\b\b\b\b\b\b\b\b\b\b\b\b\b\b\b\b\b\b\b\b\b\b\b\b\b\b\b\b\b\b\b\b\b\b\b\b\b\r1407/1407 [==============================] - 20s 14ms/step - loss: 1.4458 - accuracy: 0.4900 - val_loss: 1.5423 - val_accuracy: 0.4644\n",
            "Epoch 15/20\n",
            "1406/1407 [============================>.] - ETA: 0s - loss: 1.4293 - accuracy: 0.4937"
          ]
        },
        {
          "output_type": "stream",
          "name": "stderr",
          "text": [
            "/usr/local/lib/python3.10/dist-packages/keras/src/engine/training.py:3103: UserWarning: You are saving your model as an HDF5 file via `model.save()`. This file format is considered legacy. We recommend using instead the native Keras format, e.g. `model.save('my_model.keras')`.\n",
            "  saving_api.save_model(\n",
            "\u001b[34m\u001b[1mwandb\u001b[0m: Adding directory to artifact (/content/wandb/run-20240409_120429-cchc08wb/files/model-best)... Done. 0.0s\n"
          ]
        },
        {
          "output_type": "stream",
          "name": "stdout",
          "text": [
            "\b\b\b\b\b\b\b\b\b\b\b\b\b\b\b\b\b\b\b\b\b\b\b\b\b\b\b\b\b\b\b\b\b\b\b\b\b\b\b\b\b\b\b\b\b\b\b\b\b\b\b\b\b\b\b\b\b\b\b\b\b\b\b\b\b\b\b\b\b\b\b\b\b\b\b\b\b\b\b\b\b\b\b\b\b\b\r1407/1407 [==============================] - 22s 16ms/step - loss: 1.4293 - accuracy: 0.4937 - val_loss: 1.4971 - val_accuracy: 0.4614\n",
            "Epoch 16/20\n",
            "1407/1407 [==============================] - 17s 12ms/step - loss: 1.4102 - accuracy: 0.5020 - val_loss: 1.5279 - val_accuracy: 0.4706\n",
            "Epoch 17/20\n",
            "1407/1407 [==============================] - ETA: 0s - loss: 1.3983 - accuracy: 0.5057"
          ]
        },
        {
          "output_type": "stream",
          "name": "stderr",
          "text": [
            "/usr/local/lib/python3.10/dist-packages/keras/src/engine/training.py:3103: UserWarning: You are saving your model as an HDF5 file via `model.save()`. This file format is considered legacy. We recommend using instead the native Keras format, e.g. `model.save('my_model.keras')`.\n",
            "  saving_api.save_model(\n",
            "\u001b[34m\u001b[1mwandb\u001b[0m: Adding directory to artifact (/content/wandb/run-20240409_120429-cchc08wb/files/model-best)... Done. 0.0s\n"
          ]
        },
        {
          "output_type": "stream",
          "name": "stdout",
          "text": [
            "\b\b\b\b\b\b\b\b\b\b\b\b\b\b\b\b\b\b\b\b\b\b\b\b\b\b\b\b\b\b\b\b\b\b\b\b\b\b\b\b\b\b\b\b\b\b\b\b\b\b\b\b\b\b\b\b\b\b\b\b\b\b\b\b\b\b\b\b\b\b\b\b\b\b\b\b\b\b\b\b\b\b\b\b\b\b\r1407/1407 [==============================] - 23s 17ms/step - loss: 1.3983 - accuracy: 0.5057 - val_loss: 1.4776 - val_accuracy: 0.4828\n",
            "Epoch 18/20\n",
            "1407/1407 [==============================] - 17s 12ms/step - loss: 1.3782 - accuracy: 0.5100 - val_loss: 1.5110 - val_accuracy: 0.4676\n",
            "Epoch 19/20\n",
            "1407/1407 [==============================] - 23s 16ms/step - loss: 1.3660 - accuracy: 0.5151 - val_loss: 1.5225 - val_accuracy: 0.4810\n",
            "Epoch 20/20\n",
            "1407/1407 [==============================] - 25s 18ms/step - loss: 1.3551 - accuracy: 0.5193 - val_loss: 1.5404 - val_accuracy: 0.4588\n",
            "157/157 [==============================] - 1s 3ms/step\n",
            "157/157 [==============================] - 0s 2ms/step\n",
            "157/157 [==============================] - 0s 2ms/step\n",
            "157/157 [==============================] - 0s 2ms/step\n",
            "157/157 [==============================] - 1s 3ms/step\n",
            "157/157 [==============================] - 1s 3ms/step\n",
            "157/157 [==============================] - 1s 5ms/step\n",
            "157/157 [==============================] - 0s 3ms/step\n",
            "157/157 [==============================] - 1s 4ms/step\n",
            "157/157 [==============================] - 0s 3ms/step\n"
          ]
        }
      ]
    },
    {
      "cell_type": "code",
      "source": [
        "accuracy"
      ],
      "metadata": {
        "colab": {
          "base_uri": "https://localhost:8080/"
        },
        "id": "tNtji2aL_l8D",
        "outputId": "94257c7c-480a-48d4-fa87-467826ad03db"
      },
      "execution_count": null,
      "outputs": [
        {
          "output_type": "execute_result",
          "data": {
            "text/plain": [
              "0.4564"
            ]
          },
          "metadata": {},
          "execution_count": 95
        }
      ]
    },
    {
      "cell_type": "markdown",
      "source": [
        "##1cycle rescheduling"
      ],
      "metadata": {
        "id": "DpqcEIMuSq99"
      }
    },
    {
      "cell_type": "code",
      "source": [
        "wandb.init(\n",
        "    project = \"Chapter_11_q_f_onecycle\",\n",
        "    name = \"question_f_learing_rate_4e-5\",\n",
        "\n",
        "    config = {\n",
        "        \"archetecture\": \"MLP_simple_DNN\",\n",
        "        \"dataset\" : \"cifar10\",\n",
        "        \"loss\":\"sparse_categorical_crossentropy\",\n",
        "        \"epochs\": 20,\n",
        "        \"learning_rate\": 1e-3\n",
        "    }\n",
        ")"
      ],
      "metadata": {
        "colab": {
          "base_uri": "https://localhost:8080/",
          "height": 228,
          "referenced_widgets": [
            "75361c9c7c2840d298fee7fe8c64386b",
            "db5aeaeed60c456bb4e21b7e0be98847",
            "b78601ed89e24a16965309cfd43f7498",
            "fcf3614390284852a03990f35a08a9c5",
            "c7888c06badc4fbe821d3a4d138dfe63",
            "453a00bc7e694fce87e471e6d88b961b",
            "b48fe03631664db79cd9f61167bbf6c9",
            "f3e13623b45845e2a1e3d317151c2967"
          ]
        },
        "id": "nG_sShkQy2XH",
        "outputId": "b810aec1-2e11-4878-e2fd-946fb27e3406"
      },
      "execution_count": null,
      "outputs": [
        {
          "output_type": "display_data",
          "data": {
            "text/plain": [
              "<IPython.core.display.HTML object>"
            ],
            "text/html": [
              "Finishing last run (ID:74fqsye0) before initializing another..."
            ]
          },
          "metadata": {}
        },
        {
          "output_type": "display_data",
          "data": {
            "text/plain": [
              "VBox(children=(Label(value='0.001 MB of 0.001 MB uploaded\\r'), FloatProgress(value=1.0, max=1.0)))"
            ],
            "application/vnd.jupyter.widget-view+json": {
              "version_major": 2,
              "version_minor": 0,
              "model_id": "75361c9c7c2840d298fee7fe8c64386b"
            }
          },
          "metadata": {}
        },
        {
          "output_type": "display_data",
          "data": {
            "text/plain": [
              "<IPython.core.display.HTML object>"
            ],
            "text/html": [
              " View run <strong style=\"color:#cdcd00\">question_f_learing_rate_4e-5</strong> at: <a href='https://wandb.ai/thecommon/Chapter_11_q_f_onecycle/runs/74fqsye0' target=\"_blank\">https://wandb.ai/thecommon/Chapter_11_q_f_onecycle/runs/74fqsye0</a><br/> View project at: <a href='https://wandb.ai/thecommon/Chapter_11_q_f_onecycle' target=\"_blank\">https://wandb.ai/thecommon/Chapter_11_q_f_onecycle</a><br/>Synced 5 W&B file(s), 0 media file(s), 0 artifact file(s) and 0 other file(s)"
            ]
          },
          "metadata": {}
        },
        {
          "output_type": "display_data",
          "data": {
            "text/plain": [
              "<IPython.core.display.HTML object>"
            ],
            "text/html": [
              "Find logs at: <code>./wandb/run-20240409_143834-74fqsye0/logs</code>"
            ]
          },
          "metadata": {}
        },
        {
          "output_type": "display_data",
          "data": {
            "text/plain": [
              "<IPython.core.display.HTML object>"
            ],
            "text/html": [
              "Successfully finished last run (ID:74fqsye0). Initializing new run:<br/>"
            ]
          },
          "metadata": {}
        },
        {
          "output_type": "display_data",
          "data": {
            "text/plain": [
              "<IPython.core.display.HTML object>"
            ],
            "text/html": [
              "Tracking run with wandb version 0.16.6"
            ]
          },
          "metadata": {}
        },
        {
          "output_type": "display_data",
          "data": {
            "text/plain": [
              "<IPython.core.display.HTML object>"
            ],
            "text/html": [
              "Run data is saved locally in <code>/content/wandb/run-20240409_145540-h88mqzdg</code>"
            ]
          },
          "metadata": {}
        },
        {
          "output_type": "display_data",
          "data": {
            "text/plain": [
              "<IPython.core.display.HTML object>"
            ],
            "text/html": [
              "Syncing run <strong><a href='https://wandb.ai/thecommon/Chapter_11_q_f_onecycle/runs/h88mqzdg' target=\"_blank\">question_f_learing_rate_4e-5</a></strong> to <a href='https://wandb.ai/thecommon/Chapter_11_q_f_onecycle' target=\"_blank\">Weights & Biases</a> (<a href='https://wandb.me/run' target=\"_blank\">docs</a>)<br/>"
            ]
          },
          "metadata": {}
        },
        {
          "output_type": "display_data",
          "data": {
            "text/plain": [
              "<IPython.core.display.HTML object>"
            ],
            "text/html": [
              " View project at <a href='https://wandb.ai/thecommon/Chapter_11_q_f_onecycle' target=\"_blank\">https://wandb.ai/thecommon/Chapter_11_q_f_onecycle</a>"
            ]
          },
          "metadata": {}
        },
        {
          "output_type": "display_data",
          "data": {
            "text/plain": [
              "<IPython.core.display.HTML object>"
            ],
            "text/html": [
              " View run at <a href='https://wandb.ai/thecommon/Chapter_11_q_f_onecycle/runs/h88mqzdg' target=\"_blank\">https://wandb.ai/thecommon/Chapter_11_q_f_onecycle/runs/h88mqzdg</a>"
            ]
          },
          "metadata": {}
        },
        {
          "output_type": "execute_result",
          "data": {
            "text/html": [
              "<button onClick=\"this.nextSibling.style.display='block';this.style.display='none';\">Display W&B run</button><iframe src='https://wandb.ai/thecommon/Chapter_11_q_f_onecycle/runs/h88mqzdg?jupyter=true' style='border:none;width:100%;height:420px;display:none;'></iframe>"
            ],
            "text/plain": [
              "<wandb.sdk.wandb_run.Run at 0x7fd483bd3910>"
            ]
          },
          "metadata": {},
          "execution_count": 17
        }
      ]
    },
    {
      "cell_type": "code",
      "source": [
        "config = wandb.config"
      ],
      "metadata": {
        "id": "AC8np-mZSl9X"
      },
      "execution_count": null,
      "outputs": []
    },
    {
      "cell_type": "code",
      "source": [
        "class OneCycle(tf.keras.Model):\n",
        "    def __init__(self, rate = 0.1, num_layers = 20, num_units = 100, activation = \"selu\", kernel_initializer = \"lecun_normal\", **kwargs):\n",
        "        super().__init__(**kwargs)\n",
        "        self.flatten = tf.keras.layers.Flatten()\n",
        "        self.dense = [tf.keras.layers.Dense(num_units, activation = activation, kernel_initializer = kernel_initializer) for i in range(num_layers)]\n",
        "        self.dropout = tf.keras.layers.AlphaDropout(rate = rate)\n",
        "        self.op = tf.keras.layers.Dense(10, activation = \"softmax\")\n",
        "\n",
        "    def call(self, input):\n",
        "        input = self.flatten(input)\n",
        "        for dense in self.dense:\n",
        "            input = dense(input)\n",
        "        input = self.dropout(input)\n",
        "        return self.op(input)\n",
        "\n",
        "model = OneCycle()"
      ],
      "metadata": {
        "id": "Fo8n8UmzoUXe"
      },
      "execution_count": null,
      "outputs": []
    },
    {
      "cell_type": "code",
      "source": [
        "optimizer = tf.keras.optimizers.Nadam(learning_rate = config.learning_rate, beta_1 = 0.9, beta_2 = 0.999)"
      ],
      "metadata": {
        "id": "0KbqOidEqgSI"
      },
      "execution_count": null,
      "outputs": []
    },
    {
      "cell_type": "code",
      "source": [
        "early_stop = tf.keras.callbacks.EarlyStopping(patience = 5, monitor = \"val_loss\")\n",
        "model_checkp = tf.keras.callbacks.ModelCheckpoint(\"onecycle\", save_best_only = True)"
      ],
      "metadata": {
        "id": "LOhzklvCTgsK"
      },
      "execution_count": null,
      "outputs": []
    },
    {
      "cell_type": "code",
      "source": [
        "model.compile(loss = config.loss, optimizer = optimizer, metrics = [\"accuracy\"])"
      ],
      "metadata": {
        "id": "PmqZ69LDUXhM"
      },
      "execution_count": null,
      "outputs": []
    },
    {
      "cell_type": "code",
      "source": [
        "class OneCycleScheduler(tf.keras.callbacks.Callback):\n",
        "    def __init__(self, iterations, max_lr=1e-3, start_lr=None,\n",
        "                 last_iterations=None, last_lr=None):\n",
        "        self.iterations = iterations\n",
        "        self.max_lr = max_lr\n",
        "        self.start_lr = start_lr or max_lr / 10\n",
        "        self.last_iterations = last_iterations or iterations // 10 + 1\n",
        "        self.half_iteration = (iterations - self.last_iterations) // 2\n",
        "        self.last_lr = last_lr or self.start_lr / 1000\n",
        "        self.iteration = 0\n",
        "\n",
        "    def _interpolate(self, iter1, iter2, lr1, lr2):\n",
        "        return (lr2 - lr1) * (self.iteration - iter1) / (iter2 - iter1) + lr1\n",
        "\n",
        "    def on_batch_begin(self, batch, logs):\n",
        "        if self.iteration < self.half_iteration:\n",
        "            lr = self._interpolate(0, self.half_iteration, self.start_lr,\n",
        "                                   self.max_lr)\n",
        "        elif self.iteration < 2 * self.half_iteration:\n",
        "            lr = self._interpolate(self.half_iteration, 2 * self.half_iteration,\n",
        "                                   self.max_lr, self.start_lr)\n",
        "        else:\n",
        "            lr = self._interpolate(2 * self.half_iteration, self.iterations,\n",
        "                                   self.start_lr, self.last_lr)\n",
        "        self.iteration += 1\n",
        "        K.set_value(self.model.optimizer.learning_rate, lr)"
      ],
      "metadata": {
        "id": "OMOOmmE9Ww-j"
      },
      "execution_count": null,
      "outputs": []
    },
    {
      "cell_type": "code",
      "source": [
        "import math\n",
        "batch_size = 28\n",
        "onecycle = OneCycleScheduler(math.ceil(len(X_train)/batch_size) * config.epochs, max_lr = 1e-3)"
      ],
      "metadata": {
        "id": "sS3-0brmVoI9"
      },
      "execution_count": null,
      "outputs": []
    },
    {
      "cell_type": "code",
      "source": [
        "history = model.fit(X_train, y_train, epochs = config.epochs, validation_data = (X_valid, y_valid), callbacks = [WandbCallback(), early_stop, model_checkp, ])"
      ],
      "metadata": {
        "colab": {
          "base_uri": "https://localhost:8080/"
        },
        "id": "MOHxFgzkU1EG",
        "outputId": "66ebe1e4-82ef-4145-f3b6-ec8619846d48"
      },
      "execution_count": null,
      "outputs": [
        {
          "output_type": "stream",
          "name": "stdout",
          "text": [
            "Epoch 1/20\n",
            "1407/1407 [==============================] - ETA: 0s - loss: 2.1345 - accuracy: 0.1785"
          ]
        },
        {
          "output_type": "stream",
          "name": "stderr",
          "text": [
            "/usr/local/lib/python3.10/dist-packages/keras/src/engine/training.py:3103: UserWarning: You are saving your model as an HDF5 file via `model.save()`. This file format is considered legacy. We recommend using instead the native Keras format, e.g. `model.save('my_model.keras')`.\n",
            "  saving_api.save_model(\n",
            "\u001b[34m\u001b[1mwandb\u001b[0m: \u001b[32m\u001b[41mERROR\u001b[0m Can't save model in the h5py format. The model will be saved as as an W&B Artifact in the 'tf' format.\n",
            "\u001b[34m\u001b[1mwandb\u001b[0m: Adding directory to artifact (/content/wandb/run-20240409_145540-h88mqzdg/files/model-best)... Done. 0.0s\n"
          ]
        },
        {
          "output_type": "stream",
          "name": "stdout",
          "text": [
            "\b\b\b\b\b\b\b\b\b\b\b\b\b\b\b\b\b\b\b\b\b\b\b\b\b\b\b\b\b\b\b\b\b\b\b\b\b\b\b\b\b\b\b\b\b\b\b\b\b\b\b\b\b\b\b\b\b\b\b\b\b\b\b\b\b\b\b\b\b\b\b\b\b\b\b\b\b\b\b\b\b\b\b\b\b\b\r1407/1407 [==============================] - 36s 17ms/step - loss: 2.1345 - accuracy: 0.1785 - val_loss: 2.1651 - val_accuracy: 0.2088\n",
            "Epoch 2/20\n",
            "1405/1407 [============================>.] - ETA: 0s - loss: 1.9877 - accuracy: 0.2333"
          ]
        },
        {
          "output_type": "stream",
          "name": "stderr",
          "text": [
            "/usr/local/lib/python3.10/dist-packages/keras/src/engine/training.py:3103: UserWarning: You are saving your model as an HDF5 file via `model.save()`. This file format is considered legacy. We recommend using instead the native Keras format, e.g. `model.save('my_model.keras')`.\n",
            "  saving_api.save_model(\n",
            "\u001b[34m\u001b[1mwandb\u001b[0m: \u001b[32m\u001b[41mERROR\u001b[0m Can't save model in the h5py format. The model will be saved as as an W&B Artifact in the 'tf' format.\n",
            "\u001b[34m\u001b[1mwandb\u001b[0m: Adding directory to artifact (/content/wandb/run-20240409_145540-h88mqzdg/files/model-best)... Done. 0.0s\n"
          ]
        },
        {
          "output_type": "stream",
          "name": "stdout",
          "text": [
            "\b\b\b\b\b\b\b\b\b\b\b\b\b\b\b\b\b\b\b\b\b\b\b\b\b\b\b\b\b\b\b\b\b\b\b\b\b\b\b\b\b\b\b\b\b\b\b\b\b\b\b\b\b\b\b\b\b\b\b\b\b\b\b\b\b\b\b\b\b\b\b\b\b\b\b\b\b\b\b\b\b\b\b\b\b\b\r1407/1407 [==============================] - 23s 17ms/step - loss: 1.9875 - accuracy: 0.2334 - val_loss: 1.9471 - val_accuracy: 0.2498\n",
            "Epoch 3/20\n",
            "1407/1407 [==============================] - 16s 11ms/step - loss: 1.9543 - accuracy: 0.2518 - val_loss: 1.9586 - val_accuracy: 0.2548\n",
            "Epoch 4/20\n",
            "1406/1407 [============================>.] - ETA: 0s - loss: 1.9176 - accuracy: 0.2653"
          ]
        },
        {
          "output_type": "stream",
          "name": "stderr",
          "text": [
            "/usr/local/lib/python3.10/dist-packages/keras/src/engine/training.py:3103: UserWarning: You are saving your model as an HDF5 file via `model.save()`. This file format is considered legacy. We recommend using instead the native Keras format, e.g. `model.save('my_model.keras')`.\n",
            "  saving_api.save_model(\n",
            "\u001b[34m\u001b[1mwandb\u001b[0m: \u001b[32m\u001b[41mERROR\u001b[0m Can't save model in the h5py format. The model will be saved as as an W&B Artifact in the 'tf' format.\n",
            "\u001b[34m\u001b[1mwandb\u001b[0m: Adding directory to artifact (/content/wandb/run-20240409_145540-h88mqzdg/files/model-best)... Done. 0.0s\n"
          ]
        },
        {
          "output_type": "stream",
          "name": "stdout",
          "text": [
            "\b\b\b\b\b\b\b\b\b\b\b\b\b\b\b\b\b\b\b\b\b\b\b\b\b\b\b\b\b\b\b\b\b\b\b\b\b\b\b\b\b\b\b\b\b\b\b\b\b\b\b\b\b\b\b\b\b\b\b\b\b\b\b\b\b\b\b\b\b\b\b\b\b\b\b\b\b\b\b\b\b\b\b\b\b\b\r1407/1407 [==============================] - 22s 16ms/step - loss: 1.9177 - accuracy: 0.2653 - val_loss: 1.8990 - val_accuracy: 0.2854\n",
            "Epoch 5/20\n",
            "1403/1407 [============================>.] - ETA: 0s - loss: 1.9180 - accuracy: 0.2717"
          ]
        },
        {
          "output_type": "stream",
          "name": "stderr",
          "text": [
            "/usr/local/lib/python3.10/dist-packages/keras/src/engine/training.py:3103: UserWarning: You are saving your model as an HDF5 file via `model.save()`. This file format is considered legacy. We recommend using instead the native Keras format, e.g. `model.save('my_model.keras')`.\n",
            "  saving_api.save_model(\n",
            "\u001b[34m\u001b[1mwandb\u001b[0m: \u001b[32m\u001b[41mERROR\u001b[0m Can't save model in the h5py format. The model will be saved as as an W&B Artifact in the 'tf' format.\n",
            "\u001b[34m\u001b[1mwandb\u001b[0m: Adding directory to artifact (/content/wandb/run-20240409_145540-h88mqzdg/files/model-best)... Done. 0.0s\n"
          ]
        },
        {
          "output_type": "stream",
          "name": "stdout",
          "text": [
            "\b\b\b\b\b\b\b\b\b\b\b\b\b\b\b\b\b\b\b\b\b\b\b\b\b\b\b\b\b\b\b\b\b\b\b\b\b\b\b\b\b\b\b\b\b\b\b\b\b\b\b\b\b\b\b\b\b\b\b\b\b\b\b\b\b\b\b\b\b\b\b\b\b\b\b\b\b\b\b\b\b\b\b\b\b\b\r1407/1407 [==============================] - 22s 16ms/step - loss: 1.9184 - accuracy: 0.2716 - val_loss: 1.8757 - val_accuracy: 0.2868\n",
            "Epoch 6/20\n",
            "1407/1407 [==============================] - 16s 12ms/step - loss: 1.9477 - accuracy: 0.2557 - val_loss: 1.9652 - val_accuracy: 0.2546\n",
            "Epoch 7/20\n",
            "1407/1407 [==============================] - 16s 12ms/step - loss: 1.8997 - accuracy: 0.2692 - val_loss: 1.9161 - val_accuracy: 0.2750\n",
            "Epoch 8/20\n",
            "1407/1407 [==============================] - 16s 12ms/step - loss: 2.1227 - accuracy: 0.2185 - val_loss: 2.0413 - val_accuracy: 0.2070\n",
            "Epoch 9/20\n",
            "1407/1407 [==============================] - 16s 12ms/step - loss: 1.9840 - accuracy: 0.2121 - val_loss: 2.1271 - val_accuracy: 0.2122\n",
            "Epoch 10/20\n",
            "1407/1407 [==============================] - 17s 12ms/step - loss: 2.1837 - accuracy: 0.1796 - val_loss: 2.1198 - val_accuracy: 0.1682\n"
          ]
        }
      ]
    },
    {
      "cell_type": "code",
      "source": [],
      "metadata": {
        "id": "BEJbl8DcWynM"
      },
      "execution_count": null,
      "outputs": []
    }
  ]
}