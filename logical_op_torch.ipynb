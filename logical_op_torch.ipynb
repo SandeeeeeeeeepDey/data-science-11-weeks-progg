{
  "nbformat": 4,
  "nbformat_minor": 0,
  "metadata": {
    "colab": {
      "provenance": [],
      "authorship_tag": "ABX9TyOyHNtj3sRJaxEWhvYRnFaM",
      "include_colab_link": true
    },
    "kernelspec": {
      "name": "python3",
      "display_name": "Python 3"
    },
    "language_info": {
      "name": "python"
    }
  },
  "cells": [
    {
      "cell_type": "markdown",
      "metadata": {
        "id": "view-in-github",
        "colab_type": "text"
      },
      "source": [
        "<a href=\"https://colab.research.google.com/github/SandeeeeeeeeepDey/data-science-11-weeks-progg/blob/main/logical_op_torch.ipynb\" target=\"_parent\"><img src=\"https://colab.research.google.com/assets/colab-badge.svg\" alt=\"Open In Colab\"/></a>"
      ]
    },
    {
      "cell_type": "markdown",
      "source": [
        "# XOR using MLP in Torch"
      ],
      "metadata": {
        "id": "uljt5qip_xn0"
      }
    },
    {
      "cell_type": "markdown",
      "source": [
        "It is said that XOR operation can not be performed by single perceptrons,\n",
        "**BUT**\n",
        "by using Multi Layer Perceptron, it is possible."
      ],
      "metadata": {
        "id": "LqVZRMvq_KIA"
      }
    },
    {
      "cell_type": "code",
      "execution_count": 1,
      "metadata": {
        "id": "BGcsaR9-_FXf"
      },
      "outputs": [],
      "source": [
        "import torch\n",
        "from torch import nn\n"
      ]
    },
    {
      "cell_type": "code",
      "source": [
        "batch = { 'x1': torch.tensor([[1],[0],[1],[0]]), 'x2': torch.tensor([[1],[1],[0],[0]])}"
      ],
      "metadata": {
        "id": "pdt_4IO0AX06"
      },
      "execution_count": 132,
      "outputs": []
    },
    {
      "cell_type": "code",
      "source": [
        "class XOR(nn.Module):\n",
        "  def __init__(self):\n",
        "    super().__init__()\n",
        "    self.weight_l0 = torch.tensor([[1,1],[1,1]])\n",
        "    self.weight_l1 = torch.tensor([[-1],[1]])\n",
        "    self.bias_l0 = torch.tensor([[-1.5,-0.5]])\n",
        "    self.bias_l1 = torch.tensor([[-0.5]])\n",
        "\n",
        "  def step(self,x):\n",
        "    return (x >= 0).long()\n",
        "\n",
        "  def forward(self,x):\n",
        "    x1,x2 = x['x1'], x['x2']\n",
        "    input_l0 = torch.cat([x1,x2], axis=1)\n",
        "    output_0 = self.step(input_l0 @ self.weight_l0 + self.bias_l0)\n",
        "    output_1 = self.step(output_0 @ self.weight_l1 + self.bias_l1)\n",
        "    return output_1"
      ],
      "metadata": {
        "id": "zUFfOIeDN2qE"
      },
      "execution_count": 22,
      "outputs": []
    },
    {
      "cell_type": "markdown",
      "source": [
        "##test"
      ],
      "metadata": {
        "id": "u1ntVu-6TEyT"
      }
    },
    {
      "cell_type": "code",
      "source": [
        "weight_l0 = torch.tensor([[1,1],[1,1]])\n",
        "input_l0 = torch.cat([batch['x1'],batch['x2']], axis=1)\n",
        "input_l0"
      ],
      "metadata": {
        "colab": {
          "base_uri": "https://localhost:8080/"
        },
        "id": "kMFjneF-RLoQ",
        "outputId": "87a73560-49a8-44ab-d4c4-9b3028ab3f0e"
      },
      "execution_count": 10,
      "outputs": [
        {
          "output_type": "execute_result",
          "data": {
            "text/plain": [
              "tensor([[1, 1],\n",
              "        [0, 1],\n",
              "        [1, 0],\n",
              "        [0, 0]])"
            ]
          },
          "metadata": {},
          "execution_count": 10
        }
      ]
    },
    {
      "cell_type": "code",
      "source": [
        "bias_l0 = torch.tensor([[-1.5,-0.5]])\n",
        "bias_l0"
      ],
      "metadata": {
        "colab": {
          "base_uri": "https://localhost:8080/"
        },
        "id": "0U-HaGkaRw_g",
        "outputId": "b4dfac09-2670-4a3d-e5d3-3827e3803ce0"
      },
      "execution_count": 14,
      "outputs": [
        {
          "output_type": "execute_result",
          "data": {
            "text/plain": [
              "tensor([[-1.5000, -0.5000]])"
            ]
          },
          "metadata": {},
          "execution_count": 14
        }
      ]
    },
    {
      "cell_type": "code",
      "source": [
        "input_l0 @ weight_l0"
      ],
      "metadata": {
        "colab": {
          "base_uri": "https://localhost:8080/"
        },
        "id": "TPJRZAsmSJK0",
        "outputId": "ad1be462-29bc-44a4-a6be-e4d7a8a9e8e7"
      },
      "execution_count": 15,
      "outputs": [
        {
          "output_type": "execute_result",
          "data": {
            "text/plain": [
              "tensor([[2, 2],\n",
              "        [1, 1],\n",
              "        [1, 1],\n",
              "        [0, 0]])"
            ]
          },
          "metadata": {},
          "execution_count": 15
        }
      ]
    },
    {
      "cell_type": "code",
      "source": [
        "output_0 = ((input_l0 @ weight_l0 + bias_l0) >= 0).long()\n",
        "output_0"
      ],
      "metadata": {
        "colab": {
          "base_uri": "https://localhost:8080/"
        },
        "id": "uf-p0vMuRc4A",
        "outputId": "15e731fa-c41a-4fc4-eca4-2c6734023918"
      },
      "execution_count": 18,
      "outputs": [
        {
          "output_type": "execute_result",
          "data": {
            "text/plain": [
              "tensor([[1, 1],\n",
              "        [0, 1],\n",
              "        [0, 1],\n",
              "        [0, 0]])"
            ]
          },
          "metadata": {},
          "execution_count": 18
        }
      ]
    },
    {
      "cell_type": "code",
      "source": [
        "weight_l1 = torch.tensor([[-1],[1]])\n",
        "bias_l1 = torch.tensor([[-0.5]])\n",
        "((output_0 @ weight_l1 + bias_l1) >= 0).long()"
      ],
      "metadata": {
        "colab": {
          "base_uri": "https://localhost:8080/"
        },
        "id": "kiy38WqsSrvk",
        "outputId": "e6ab26cf-da02-4524-d4cc-15b45bfd18ea"
      },
      "execution_count": 19,
      "outputs": [
        {
          "output_type": "execute_result",
          "data": {
            "text/plain": [
              "tensor([[0],\n",
              "        [1],\n",
              "        [1],\n",
              "        [0]])"
            ]
          },
          "metadata": {},
          "execution_count": 19
        }
      ]
    },
    {
      "cell_type": "markdown",
      "source": [
        "##Implementing"
      ],
      "metadata": {
        "id": "nR78ZbcFTIoh"
      }
    },
    {
      "cell_type": "code",
      "source": [
        "device = (\n",
        "    'cuda'\n",
        "    if torch.cuda.is_available()\n",
        "    else 'cpu'\n",
        ")"
      ],
      "metadata": {
        "id": "J2yJxE1oP9zU"
      },
      "execution_count": 4,
      "outputs": []
    },
    {
      "cell_type": "code",
      "source": [
        "model = XOR().to(device)\n",
        "batch = {k: v.to(device) for k,v in batch.items()}\n",
        "model(batch)"
      ],
      "metadata": {
        "colab": {
          "base_uri": "https://localhost:8080/"
        },
        "id": "eoIGeFa9P2M1",
        "outputId": "46bc5731-e20b-43a8-e4eb-7d92b4476e41"
      },
      "execution_count": 23,
      "outputs": [
        {
          "output_type": "execute_result",
          "data": {
            "text/plain": [
              "tensor([[0],\n",
              "        [1],\n",
              "        [1],\n",
              "        [0]])"
            ]
          },
          "metadata": {},
          "execution_count": 23
        }
      ]
    },
    {
      "cell_type": "markdown",
      "source": [
        "#Idenitity Op"
      ],
      "metadata": {
        "id": "Jf_IPyJBTx9Y"
      }
    },
    {
      "cell_type": "code",
      "source": [
        "batch_i = {\"a\":torch.tensor([[1],[0]])}"
      ],
      "metadata": {
        "id": "Gg3m-mtWp63r"
      },
      "execution_count": 122,
      "outputs": []
    },
    {
      "cell_type": "code",
      "source": [
        "class Identity(nn.Module):\n",
        "  def __init__(self):\n",
        "    super().__init__()\n",
        "\n",
        "  def forward(self,x):\n",
        "    x = x['a']\n",
        "    input = torch.cat([x,x], dim=1)\n",
        "    operation = torch.sum(input, axis=1, keepdim = True)\n",
        "    output = (operation >= 2).long()\n",
        "    return output"
      ],
      "metadata": {
        "id": "_0BMkSQZRx0o"
      },
      "execution_count": 125,
      "outputs": []
    },
    {
      "cell_type": "markdown",
      "source": [
        "##exp"
      ],
      "metadata": {
        "id": "WDtX4wW9ap4h"
      }
    },
    {
      "cell_type": "code",
      "source": [],
      "metadata": {
        "colab": {
          "base_uri": "https://localhost:8080/"
        },
        "id": "hsd77z6MXMY4",
        "outputId": "e831a9b0-4186-400b-b88f-3cfe10c27bf7"
      },
      "execution_count": 41,
      "outputs": [
        {
          "output_type": "execute_result",
          "data": {
            "text/plain": [
              "tensor([[2, 1],\n",
              "        [1, 2]])"
            ]
          },
          "metadata": {},
          "execution_count": 41
        }
      ]
    },
    {
      "cell_type": "markdown",
      "source": [
        "##implement"
      ],
      "metadata": {
        "id": "9jXSOd0sasH3"
      }
    },
    {
      "cell_type": "code",
      "source": [
        "identity = Identity().to(device)\n",
        "identity(batch_i)"
      ],
      "metadata": {
        "colab": {
          "base_uri": "https://localhost:8080/"
        },
        "id": "WIMkh61aUFk_",
        "outputId": "90b73be0-6136-4514-b75a-af66cdc8d09c"
      },
      "execution_count": 131,
      "outputs": [
        {
          "output_type": "execute_result",
          "data": {
            "text/plain": [
              "tensor([[1],\n",
              "        [0]])"
            ]
          },
          "metadata": {},
          "execution_count": 131
        }
      ]
    },
    {
      "cell_type": "markdown",
      "source": [
        "##AND Op"
      ],
      "metadata": {
        "id": "pM5B6jxnZ1wk"
      }
    },
    {
      "cell_type": "code",
      "source": [
        "class AND(nn.Module):\n",
        "  def __init__(self):\n",
        "    super().__init__()\n",
        "\n",
        "  def forward(self,x):\n",
        "    x1,x2 = x[\"x1\"], x[\"x2\"]\n",
        "    #output = (x1 or x2).long() not working for some reason   #err: Boolean value of Tensor with more than one value is ambiguous\n",
        "    input = torch.cat([x1,x2], axis=1)\n",
        "    operation = torch.sum(input, axis=1, keepdim= True)\n",
        "    output = operation >= 2\n",
        "    return output.long()"
      ],
      "metadata": {
        "id": "aX2-zfUIZu4s"
      },
      "execution_count": 133,
      "outputs": []
    },
    {
      "cell_type": "markdown",
      "source": [
        "##exp"
      ],
      "metadata": {
        "id": "EeOnJCk3tj2q"
      }
    },
    {
      "cell_type": "code",
      "source": [
        "x1,x2 = batch[\"x1\"], batch[\"x2\"]\n",
        "#output = (x1 or x2).long() not working for some reason   #err: Boolean value of Tensor with more than one value is ambiguous\n",
        "input = torch.cat([x1,x2], axis=1)\n",
        "operation = torch.sum(input, axis=1, keepdim= True)\n",
        "operation"
      ],
      "metadata": {
        "colab": {
          "base_uri": "https://localhost:8080/"
        },
        "id": "wYqBs00BtUOI",
        "outputId": "881a00f4-b80e-4270-aa94-9c19654e5e95"
      },
      "execution_count": 135,
      "outputs": [
        {
          "output_type": "execute_result",
          "data": {
            "text/plain": [
              "tensor([[2],\n",
              "        [1],\n",
              "        [1],\n",
              "        [0]])"
            ]
          },
          "metadata": {},
          "execution_count": 135
        }
      ]
    },
    {
      "cell_type": "markdown",
      "source": [
        "##implementation"
      ],
      "metadata": {
        "id": "OiV-O3LjtlwY"
      }
    },
    {
      "cell_type": "code",
      "source": [
        "and_ = AND().to(device)\n",
        "and_(batch)"
      ],
      "metadata": {
        "colab": {
          "base_uri": "https://localhost:8080/"
        },
        "id": "O_tryzMYa_P8",
        "outputId": "e216ccbe-7eaf-4b22-bf72-ae0159cbd9df"
      },
      "execution_count": 134,
      "outputs": [
        {
          "output_type": "execute_result",
          "data": {
            "text/plain": [
              "tensor([[1],\n",
              "        [0],\n",
              "        [0],\n",
              "        [0]])"
            ]
          },
          "metadata": {},
          "execution_count": 134
        }
      ]
    },
    {
      "cell_type": "markdown",
      "source": [
        "#OR Op"
      ],
      "metadata": {
        "id": "TIv8VIj6fBwk"
      }
    },
    {
      "cell_type": "code",
      "source": [
        "class OR(nn.Module):\n",
        "  def __init__(self):\n",
        "    super().__init__()\n",
        "\n",
        "  def forward(self,x):\n",
        "    input_1 = torch.cat([x1,x1], axis=1)\n",
        "    operation_1 = torch.sum(input_1, axis=1, keepdim= True)\n",
        "    input_2 = torch.cat([x2,x2], axis=1)\n",
        "    operation_2 = torch.sum(input_2, axis=1, keepdim=True)\n",
        "\n",
        "    input_final = torch.cat([input_1,input_2], dim=1)\n",
        "    operation_final = torch.sum(input_final, axis=1, keepdim=True)\n",
        "\n",
        "    output = operation_final >= 2\n",
        "    return output.long()"
      ],
      "metadata": {
        "id": "CHmCPHw4bL_Y"
      },
      "execution_count": 142,
      "outputs": []
    },
    {
      "cell_type": "markdown",
      "source": [
        "##exp"
      ],
      "metadata": {
        "id": "MqLyQhM-vzBe"
      }
    },
    {
      "cell_type": "code",
      "source": [
        "x1,x2 = batch[\"x1\"], batch[\"x2\"]\n",
        "#output = (x1 or x2).long() not working for some reason   #err: Boolean value of Tensor with more than one value is ambiguous\n",
        "input_1 = torch.cat([x1,x1], axis=1)\n",
        "operation_1 = torch.sum(input_1, axis=1, keepdim= True)\n",
        "print(operation_1)\n",
        "input_2 = torch.cat([x2,x2], axis=1)\n",
        "operation_2 = torch.sum(input_2, axis=1, keepdim=True)\n",
        "print(operation_2)\n",
        "\n",
        "input_final = torch.cat([input_1,input_2], dim=1)\n",
        "operation_final = torch.sum(input_final, axis=1, keepdim=True)\n",
        "print(operation_final)\n",
        "\n",
        "output = operation_final >= 2\n",
        "output.long()"
      ],
      "metadata": {
        "colab": {
          "base_uri": "https://localhost:8080/"
        },
        "id": "loKxl9Cft7bm",
        "outputId": "b7dbd40d-993b-465b-8f51-bbd0fec956ce"
      },
      "execution_count": 141,
      "outputs": [
        {
          "output_type": "stream",
          "name": "stdout",
          "text": [
            "tensor([[2],\n",
            "        [0],\n",
            "        [2],\n",
            "        [0]])\n",
            "tensor([[2],\n",
            "        [2],\n",
            "        [0],\n",
            "        [0]])\n",
            "tensor([[4],\n",
            "        [2],\n",
            "        [2],\n",
            "        [0]])\n",
            "tensor([[ True],\n",
            "        [ True],\n",
            "        [ True],\n",
            "        [False]])\n"
          ]
        },
        {
          "output_type": "execute_result",
          "data": {
            "text/plain": [
              "tensor([[1],\n",
              "        [1],\n",
              "        [1],\n",
              "        [0]])"
            ]
          },
          "metadata": {},
          "execution_count": 141
        }
      ]
    },
    {
      "cell_type": "markdown",
      "source": [
        "##implementation"
      ],
      "metadata": {
        "id": "T6Cu9jeTv1zg"
      }
    },
    {
      "cell_type": "code",
      "source": [
        "or_ = OR().to(device)\n",
        "or_(batch)"
      ],
      "metadata": {
        "colab": {
          "base_uri": "https://localhost:8080/"
        },
        "id": "pk2HyvtbcKF_",
        "outputId": "9426caca-397d-470f-a426-75383521d573"
      },
      "execution_count": 143,
      "outputs": [
        {
          "output_type": "execute_result",
          "data": {
            "text/plain": [
              "tensor([[1],\n",
              "        [1],\n",
              "        [1],\n",
              "        [0]])"
            ]
          },
          "metadata": {},
          "execution_count": 143
        }
      ]
    },
    {
      "cell_type": "markdown",
      "source": [
        "#Not Op"
      ],
      "metadata": {
        "id": "wJoSldhjfGNb"
      }
    },
    {
      "cell_type": "code",
      "source": [
        "# batch_not = {'x1': torch.tensor([[1],[1],[1],[1]]), 'x2': torch.tensor([[1],[0]])}"
      ],
      "metadata": {
        "id": "BDk9RKdRk7Ce"
      },
      "execution_count": null,
      "outputs": []
    },
    {
      "cell_type": "code",
      "source": [
        "class NOT(nn.Module):\n",
        "  def __init__(self):\n",
        "    super().__init__()\n",
        "\n",
        "  def forward(self,x):\n",
        "    x1,x2 = x[\"x1\"], x[\"x2\"]\n",
        "    input_1 = torch.cat([x1,x1], axis=1)\n",
        "    operation_1 = torch.sum(input_1, axis=1, keepdim=True)\n",
        "\n",
        "    operation = operation_1 + -x2\n",
        "    output = operation >= 2\n",
        "\n",
        "    return output.long()"
      ],
      "metadata": {
        "id": "--fn2l89cN0o"
      },
      "execution_count": 150,
      "outputs": []
    },
    {
      "cell_type": "markdown",
      "source": [
        "##exp"
      ],
      "metadata": {
        "id": "raj79B8YxykG"
      }
    },
    {
      "cell_type": "code",
      "source": [
        "x1,x2 = batch[\"x1\"], batch[\"x2\"]\n",
        "input_1 = torch.cat([x1,x1], axis=1)\n",
        "operation_1 = torch.sum(input_1, axis=1, keepdim=True)\n",
        "\n",
        "operation = operation_1 + -x2\n",
        "output = operation >= 2\n",
        "\n",
        "output.long()"
      ],
      "metadata": {
        "colab": {
          "base_uri": "https://localhost:8080/"
        },
        "id": "Rx7IiArthcm2",
        "outputId": "f9f66f53-4af2-4c0c-d2b9-5558a307f97c"
      },
      "execution_count": 149,
      "outputs": [
        {
          "output_type": "execute_result",
          "data": {
            "text/plain": [
              "tensor([[0],\n",
              "        [0],\n",
              "        [1],\n",
              "        [0]])"
            ]
          },
          "metadata": {},
          "execution_count": 149
        }
      ]
    },
    {
      "cell_type": "markdown",
      "source": [
        "##implementation"
      ],
      "metadata": {
        "id": "H1Wv9E3qx0Re"
      }
    },
    {
      "cell_type": "code",
      "source": [
        "not_ = NOT().to(device)\n",
        "not_(batch)"
      ],
      "metadata": {
        "colab": {
          "base_uri": "https://localhost:8080/"
        },
        "id": "VNbffVAwfVM0",
        "outputId": "016f7d06-efda-4b7a-ac05-3cd795ba25ef"
      },
      "execution_count": 151,
      "outputs": [
        {
          "output_type": "execute_result",
          "data": {
            "text/plain": [
              "tensor([[0],\n",
              "        [0],\n",
              "        [1],\n",
              "        [0]])"
            ]
          },
          "metadata": {},
          "execution_count": 151
        }
      ]
    }
  ]
}