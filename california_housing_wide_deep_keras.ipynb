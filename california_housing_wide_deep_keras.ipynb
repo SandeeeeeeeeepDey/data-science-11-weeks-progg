{
  "nbformat": 4,
  "nbformat_minor": 0,
  "metadata": {
    "colab": {
      "provenance": [],
      "include_colab_link": true
    },
    "kernelspec": {
      "name": "python3",
      "display_name": "Python 3"
    },
    "language_info": {
      "name": "python"
    }
  },
  "cells": [
    {
      "cell_type": "markdown",
      "metadata": {
        "id": "view-in-github",
        "colab_type": "text"
      },
      "source": [
        "<a href=\"https://colab.research.google.com/github/SandeeeeeeeeepDey/data-science-11-weeks-progg/blob/main/california_housing_wide_deep_keras.ipynb\" target=\"_parent\"><img src=\"https://colab.research.google.com/assets/colab-badge.svg\" alt=\"Open In Colab\"/></a>"
      ]
    },
    {
      "cell_type": "markdown",
      "source": [
        "#California housing using wide & deep architecture"
      ],
      "metadata": {
        "id": "Tq6LBWRm0cO1"
      }
    },
    {
      "cell_type": "markdown",
      "source": [
        "#![Screenshot from 2024-03-04 10-24-50.png](data:image/png;base64,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)"
      ],
      "metadata": {
        "id": "t8bwzWJT0Ldk"
      }
    },
    {
      "cell_type": "code",
      "execution_count": null,
      "metadata": {
        "id": "gegKNWs1z2rU"
      },
      "outputs": [],
      "source": [
        "import tensorflow as tf\n",
        "from sklearn.datasets import fetch_california_housing\n",
        "import pandas as pd"
      ]
    },
    {
      "cell_type": "code",
      "source": [
        "cali_init = fetch_california_housing()"
      ],
      "metadata": {
        "id": "UNMmRTJY0s-W"
      },
      "execution_count": null,
      "outputs": []
    },
    {
      "cell_type": "code",
      "source": [
        "data = pd.DataFrame(cali_init[\"data\"], columns = cali_init[\"feature_names\"])\n",
        "target = pd.Series(cali_init[\"target\"], name = cali_init[\"target_names\"][0])"
      ],
      "metadata": {
        "id": "FHgM6LFJ03eC"
      },
      "execution_count": null,
      "outputs": []
    },
    {
      "cell_type": "code",
      "source": [
        "data.info()"
      ],
      "metadata": {
        "id": "VzNG_FxCIX0a",
        "outputId": "1cd7758d-1e38-4914-954f-5f094c1a5932",
        "colab": {
          "base_uri": "https://localhost:8080/"
        }
      },
      "execution_count": null,
      "outputs": [
        {
          "output_type": "stream",
          "name": "stdout",
          "text": [
            "<class 'pandas.core.frame.DataFrame'>\n",
            "RangeIndex: 20640 entries, 0 to 20639\n",
            "Data columns (total 8 columns):\n",
            " #   Column      Non-Null Count  Dtype  \n",
            "---  ------      --------------  -----  \n",
            " 0   MedInc      20640 non-null  float64\n",
            " 1   HouseAge    20640 non-null  float64\n",
            " 2   AveRooms    20640 non-null  float64\n",
            " 3   AveBedrms   20640 non-null  float64\n",
            " 4   Population  20640 non-null  float64\n",
            " 5   AveOccup    20640 non-null  float64\n",
            " 6   Latitude    20640 non-null  float64\n",
            " 7   Longitude   20640 non-null  float64\n",
            "dtypes: float64(8)\n",
            "memory usage: 1.3 MB\n"
          ]
        }
      ]
    },
    {
      "cell_type": "code",
      "source": [
        "target.info()"
      ],
      "metadata": {
        "id": "hhSynQBeIUHu",
        "outputId": "f62d3d07-3455-4188-b23e-d0c707ac95e1",
        "colab": {
          "base_uri": "https://localhost:8080/"
        }
      },
      "execution_count": null,
      "outputs": [
        {
          "output_type": "stream",
          "name": "stdout",
          "text": [
            "<class 'pandas.core.series.Series'>\n",
            "RangeIndex: 20640 entries, 0 to 20639\n",
            "Series name: MedHouseVal\n",
            "Non-Null Count  Dtype  \n",
            "--------------  -----  \n",
            "20640 non-null  float64\n",
            "dtypes: float64(1)\n",
            "memory usage: 161.4 KB\n"
          ]
        }
      ]
    },
    {
      "cell_type": "code",
      "source": [
        "train_size = int(len(data)*0.8)\n",
        "test_size = int(len(data)*0.1)"
      ],
      "metadata": {
        "id": "EmWU24sr1qTK"
      },
      "execution_count": null,
      "outputs": []
    },
    {
      "cell_type": "code",
      "source": [
        "X_train, y_train = data[:train_size], target[:train_size]\n",
        "X_test, y_test = data[train_size:train_size+test_size], target[train_size:train_size+test_size]\n",
        "X_valid, y_valid = data[train_size+test_size:], target[train_size+test_size:]"
      ],
      "metadata": {
        "id": "G94H382W1rUQ"
      },
      "execution_count": null,
      "outputs": []
    },
    {
      "cell_type": "code",
      "source": [
        "X_valid"
      ],
      "metadata": {
        "colab": {
          "base_uri": "https://localhost:8080/",
          "height": 423
        },
        "id": "bXnEh7VlHEXH",
        "outputId": "600af8b5-28e7-4617-afb5-b28c9119373b"
      },
      "execution_count": null,
      "outputs": [
        {
          "output_type": "execute_result",
          "data": {
            "text/plain": [
              "       MedInc  HouseAge  AveRooms  AveBedrms  Population  AveOccup  Latitude  \\\n",
              "18576  2.0775      44.0  3.053156   1.026578      1321.0  4.388704     36.90   \n",
              "18577  2.4375      20.0  4.790741   1.012963      1534.0  2.840741     36.93   \n",
              "18578  3.0192      24.0  4.214751   0.969631      1844.0  4.000000     36.93   \n",
              "18579  3.2813      33.0  4.671096   1.053156      1075.0  3.571429     36.93   \n",
              "18580  2.6434      20.0  4.404918   1.044262      2154.0  3.531148     36.92   \n",
              "...       ...       ...       ...        ...         ...       ...       ...   \n",
              "20635  1.5603      25.0  5.045455   1.133333       845.0  2.560606     39.48   \n",
              "20636  2.5568      18.0  6.114035   1.315789       356.0  3.122807     39.49   \n",
              "20637  1.7000      17.0  5.205543   1.120092      1007.0  2.325635     39.43   \n",
              "20638  1.8672      18.0  5.329513   1.171920       741.0  2.123209     39.43   \n",
              "20639  2.3886      16.0  5.254717   1.162264      1387.0  2.616981     39.37   \n",
              "\n",
              "       Longitude  \n",
              "18576    -121.76  \n",
              "18577    -121.77  \n",
              "18578    -121.77  \n",
              "18579    -121.77  \n",
              "18580    -121.76  \n",
              "...          ...  \n",
              "20635    -121.09  \n",
              "20636    -121.21  \n",
              "20637    -121.22  \n",
              "20638    -121.32  \n",
              "20639    -121.24  \n",
              "\n",
              "[2064 rows x 8 columns]"
            ],
            "text/html": [
              "\n",
              "  <div id=\"df-8c7214d7-85ee-4813-a75a-a6b5c6218466\" class=\"colab-df-container\">\n",
              "    <div>\n",
              "<style scoped>\n",
              "    .dataframe tbody tr th:only-of-type {\n",
              "        vertical-align: middle;\n",
              "    }\n",
              "\n",
              "    .dataframe tbody tr th {\n",
              "        vertical-align: top;\n",
              "    }\n",
              "\n",
              "    .dataframe thead th {\n",
              "        text-align: right;\n",
              "    }\n",
              "</style>\n",
              "<table border=\"1\" class=\"dataframe\">\n",
              "  <thead>\n",
              "    <tr style=\"text-align: right;\">\n",
              "      <th></th>\n",
              "      <th>MedInc</th>\n",
              "      <th>HouseAge</th>\n",
              "      <th>AveRooms</th>\n",
              "      <th>AveBedrms</th>\n",
              "      <th>Population</th>\n",
              "      <th>AveOccup</th>\n",
              "      <th>Latitude</th>\n",
              "      <th>Longitude</th>\n",
              "    </tr>\n",
              "  </thead>\n",
              "  <tbody>\n",
              "    <tr>\n",
              "      <th>18576</th>\n",
              "      <td>2.0775</td>\n",
              "      <td>44.0</td>\n",
              "      <td>3.053156</td>\n",
              "      <td>1.026578</td>\n",
              "      <td>1321.0</td>\n",
              "      <td>4.388704</td>\n",
              "      <td>36.90</td>\n",
              "      <td>-121.76</td>\n",
              "    </tr>\n",
              "    <tr>\n",
              "      <th>18577</th>\n",
              "      <td>2.4375</td>\n",
              "      <td>20.0</td>\n",
              "      <td>4.790741</td>\n",
              "      <td>1.012963</td>\n",
              "      <td>1534.0</td>\n",
              "      <td>2.840741</td>\n",
              "      <td>36.93</td>\n",
              "      <td>-121.77</td>\n",
              "    </tr>\n",
              "    <tr>\n",
              "      <th>18578</th>\n",
              "      <td>3.0192</td>\n",
              "      <td>24.0</td>\n",
              "      <td>4.214751</td>\n",
              "      <td>0.969631</td>\n",
              "      <td>1844.0</td>\n",
              "      <td>4.000000</td>\n",
              "      <td>36.93</td>\n",
              "      <td>-121.77</td>\n",
              "    </tr>\n",
              "    <tr>\n",
              "      <th>18579</th>\n",
              "      <td>3.2813</td>\n",
              "      <td>33.0</td>\n",
              "      <td>4.671096</td>\n",
              "      <td>1.053156</td>\n",
              "      <td>1075.0</td>\n",
              "      <td>3.571429</td>\n",
              "      <td>36.93</td>\n",
              "      <td>-121.77</td>\n",
              "    </tr>\n",
              "    <tr>\n",
              "      <th>18580</th>\n",
              "      <td>2.6434</td>\n",
              "      <td>20.0</td>\n",
              "      <td>4.404918</td>\n",
              "      <td>1.044262</td>\n",
              "      <td>2154.0</td>\n",
              "      <td>3.531148</td>\n",
              "      <td>36.92</td>\n",
              "      <td>-121.76</td>\n",
              "    </tr>\n",
              "    <tr>\n",
              "      <th>...</th>\n",
              "      <td>...</td>\n",
              "      <td>...</td>\n",
              "      <td>...</td>\n",
              "      <td>...</td>\n",
              "      <td>...</td>\n",
              "      <td>...</td>\n",
              "      <td>...</td>\n",
              "      <td>...</td>\n",
              "    </tr>\n",
              "    <tr>\n",
              "      <th>20635</th>\n",
              "      <td>1.5603</td>\n",
              "      <td>25.0</td>\n",
              "      <td>5.045455</td>\n",
              "      <td>1.133333</td>\n",
              "      <td>845.0</td>\n",
              "      <td>2.560606</td>\n",
              "      <td>39.48</td>\n",
              "      <td>-121.09</td>\n",
              "    </tr>\n",
              "    <tr>\n",
              "      <th>20636</th>\n",
              "      <td>2.5568</td>\n",
              "      <td>18.0</td>\n",
              "      <td>6.114035</td>\n",
              "      <td>1.315789</td>\n",
              "      <td>356.0</td>\n",
              "      <td>3.122807</td>\n",
              "      <td>39.49</td>\n",
              "      <td>-121.21</td>\n",
              "    </tr>\n",
              "    <tr>\n",
              "      <th>20637</th>\n",
              "      <td>1.7000</td>\n",
              "      <td>17.0</td>\n",
              "      <td>5.205543</td>\n",
              "      <td>1.120092</td>\n",
              "      <td>1007.0</td>\n",
              "      <td>2.325635</td>\n",
              "      <td>39.43</td>\n",
              "      <td>-121.22</td>\n",
              "    </tr>\n",
              "    <tr>\n",
              "      <th>20638</th>\n",
              "      <td>1.8672</td>\n",
              "      <td>18.0</td>\n",
              "      <td>5.329513</td>\n",
              "      <td>1.171920</td>\n",
              "      <td>741.0</td>\n",
              "      <td>2.123209</td>\n",
              "      <td>39.43</td>\n",
              "      <td>-121.32</td>\n",
              "    </tr>\n",
              "    <tr>\n",
              "      <th>20639</th>\n",
              "      <td>2.3886</td>\n",
              "      <td>16.0</td>\n",
              "      <td>5.254717</td>\n",
              "      <td>1.162264</td>\n",
              "      <td>1387.0</td>\n",
              "      <td>2.616981</td>\n",
              "      <td>39.37</td>\n",
              "      <td>-121.24</td>\n",
              "    </tr>\n",
              "  </tbody>\n",
              "</table>\n",
              "<p>2064 rows × 8 columns</p>\n",
              "</div>\n",
              "    <div class=\"colab-df-buttons\">\n",
              "\n",
              "  <div class=\"colab-df-container\">\n",
              "    <button class=\"colab-df-convert\" onclick=\"convertToInteractive('df-8c7214d7-85ee-4813-a75a-a6b5c6218466')\"\n",
              "            title=\"Convert this dataframe to an interactive table.\"\n",
              "            style=\"display:none;\">\n",
              "\n",
              "  <svg xmlns=\"http://www.w3.org/2000/svg\" height=\"24px\" viewBox=\"0 -960 960 960\">\n",
              "    <path d=\"M120-120v-720h720v720H120Zm60-500h600v-160H180v160Zm220 220h160v-160H400v160Zm0 220h160v-160H400v160ZM180-400h160v-160H180v160Zm440 0h160v-160H620v160ZM180-180h160v-160H180v160Zm440 0h160v-160H620v160Z\"/>\n",
              "  </svg>\n",
              "    </button>\n",
              "\n",
              "  <style>\n",
              "    .colab-df-container {\n",
              "      display:flex;\n",
              "      gap: 12px;\n",
              "    }\n",
              "\n",
              "    .colab-df-convert {\n",
              "      background-color: #E8F0FE;\n",
              "      border: none;\n",
              "      border-radius: 50%;\n",
              "      cursor: pointer;\n",
              "      display: none;\n",
              "      fill: #1967D2;\n",
              "      height: 32px;\n",
              "      padding: 0 0 0 0;\n",
              "      width: 32px;\n",
              "    }\n",
              "\n",
              "    .colab-df-convert:hover {\n",
              "      background-color: #E2EBFA;\n",
              "      box-shadow: 0px 1px 2px rgba(60, 64, 67, 0.3), 0px 1px 3px 1px rgba(60, 64, 67, 0.15);\n",
              "      fill: #174EA6;\n",
              "    }\n",
              "\n",
              "    .colab-df-buttons div {\n",
              "      margin-bottom: 4px;\n",
              "    }\n",
              "\n",
              "    [theme=dark] .colab-df-convert {\n",
              "      background-color: #3B4455;\n",
              "      fill: #D2E3FC;\n",
              "    }\n",
              "\n",
              "    [theme=dark] .colab-df-convert:hover {\n",
              "      background-color: #434B5C;\n",
              "      box-shadow: 0px 1px 3px 1px rgba(0, 0, 0, 0.15);\n",
              "      filter: drop-shadow(0px 1px 2px rgba(0, 0, 0, 0.3));\n",
              "      fill: #FFFFFF;\n",
              "    }\n",
              "  </style>\n",
              "\n",
              "    <script>\n",
              "      const buttonEl =\n",
              "        document.querySelector('#df-8c7214d7-85ee-4813-a75a-a6b5c6218466 button.colab-df-convert');\n",
              "      buttonEl.style.display =\n",
              "        google.colab.kernel.accessAllowed ? 'block' : 'none';\n",
              "\n",
              "      async function convertToInteractive(key) {\n",
              "        const element = document.querySelector('#df-8c7214d7-85ee-4813-a75a-a6b5c6218466');\n",
              "        const dataTable =\n",
              "          await google.colab.kernel.invokeFunction('convertToInteractive',\n",
              "                                                    [key], {});\n",
              "        if (!dataTable) return;\n",
              "\n",
              "        const docLinkHtml = 'Like what you see? Visit the ' +\n",
              "          '<a target=\"_blank\" href=https://colab.research.google.com/notebooks/data_table.ipynb>data table notebook</a>'\n",
              "          + ' to learn more about interactive tables.';\n",
              "        element.innerHTML = '';\n",
              "        dataTable['output_type'] = 'display_data';\n",
              "        await google.colab.output.renderOutput(dataTable, element);\n",
              "        const docLink = document.createElement('div');\n",
              "        docLink.innerHTML = docLinkHtml;\n",
              "        element.appendChild(docLink);\n",
              "      }\n",
              "    </script>\n",
              "  </div>\n",
              "\n",
              "\n",
              "<div id=\"df-a05a1bb8-5ec7-4ca1-b4b9-19417c977a55\">\n",
              "  <button class=\"colab-df-quickchart\" onclick=\"quickchart('df-a05a1bb8-5ec7-4ca1-b4b9-19417c977a55')\"\n",
              "            title=\"Suggest charts\"\n",
              "            style=\"display:none;\">\n",
              "\n",
              "<svg xmlns=\"http://www.w3.org/2000/svg\" height=\"24px\"viewBox=\"0 0 24 24\"\n",
              "     width=\"24px\">\n",
              "    <g>\n",
              "        <path d=\"M19 3H5c-1.1 0-2 .9-2 2v14c0 1.1.9 2 2 2h14c1.1 0 2-.9 2-2V5c0-1.1-.9-2-2-2zM9 17H7v-7h2v7zm4 0h-2V7h2v10zm4 0h-2v-4h2v4z\"/>\n",
              "    </g>\n",
              "</svg>\n",
              "  </button>\n",
              "\n",
              "<style>\n",
              "  .colab-df-quickchart {\n",
              "      --bg-color: #E8F0FE;\n",
              "      --fill-color: #1967D2;\n",
              "      --hover-bg-color: #E2EBFA;\n",
              "      --hover-fill-color: #174EA6;\n",
              "      --disabled-fill-color: #AAA;\n",
              "      --disabled-bg-color: #DDD;\n",
              "  }\n",
              "\n",
              "  [theme=dark] .colab-df-quickchart {\n",
              "      --bg-color: #3B4455;\n",
              "      --fill-color: #D2E3FC;\n",
              "      --hover-bg-color: #434B5C;\n",
              "      --hover-fill-color: #FFFFFF;\n",
              "      --disabled-bg-color: #3B4455;\n",
              "      --disabled-fill-color: #666;\n",
              "  }\n",
              "\n",
              "  .colab-df-quickchart {\n",
              "    background-color: var(--bg-color);\n",
              "    border: none;\n",
              "    border-radius: 50%;\n",
              "    cursor: pointer;\n",
              "    display: none;\n",
              "    fill: var(--fill-color);\n",
              "    height: 32px;\n",
              "    padding: 0;\n",
              "    width: 32px;\n",
              "  }\n",
              "\n",
              "  .colab-df-quickchart:hover {\n",
              "    background-color: var(--hover-bg-color);\n",
              "    box-shadow: 0 1px 2px rgba(60, 64, 67, 0.3), 0 1px 3px 1px rgba(60, 64, 67, 0.15);\n",
              "    fill: var(--button-hover-fill-color);\n",
              "  }\n",
              "\n",
              "  .colab-df-quickchart-complete:disabled,\n",
              "  .colab-df-quickchart-complete:disabled:hover {\n",
              "    background-color: var(--disabled-bg-color);\n",
              "    fill: var(--disabled-fill-color);\n",
              "    box-shadow: none;\n",
              "  }\n",
              "\n",
              "  .colab-df-spinner {\n",
              "    border: 2px solid var(--fill-color);\n",
              "    border-color: transparent;\n",
              "    border-bottom-color: var(--fill-color);\n",
              "    animation:\n",
              "      spin 1s steps(1) infinite;\n",
              "  }\n",
              "\n",
              "  @keyframes spin {\n",
              "    0% {\n",
              "      border-color: transparent;\n",
              "      border-bottom-color: var(--fill-color);\n",
              "      border-left-color: var(--fill-color);\n",
              "    }\n",
              "    20% {\n",
              "      border-color: transparent;\n",
              "      border-left-color: var(--fill-color);\n",
              "      border-top-color: var(--fill-color);\n",
              "    }\n",
              "    30% {\n",
              "      border-color: transparent;\n",
              "      border-left-color: var(--fill-color);\n",
              "      border-top-color: var(--fill-color);\n",
              "      border-right-color: var(--fill-color);\n",
              "    }\n",
              "    40% {\n",
              "      border-color: transparent;\n",
              "      border-right-color: var(--fill-color);\n",
              "      border-top-color: var(--fill-color);\n",
              "    }\n",
              "    60% {\n",
              "      border-color: transparent;\n",
              "      border-right-color: var(--fill-color);\n",
              "    }\n",
              "    80% {\n",
              "      border-color: transparent;\n",
              "      border-right-color: var(--fill-color);\n",
              "      border-bottom-color: var(--fill-color);\n",
              "    }\n",
              "    90% {\n",
              "      border-color: transparent;\n",
              "      border-bottom-color: var(--fill-color);\n",
              "    }\n",
              "  }\n",
              "</style>\n",
              "\n",
              "  <script>\n",
              "    async function quickchart(key) {\n",
              "      const quickchartButtonEl =\n",
              "        document.querySelector('#' + key + ' button');\n",
              "      quickchartButtonEl.disabled = true;  // To prevent multiple clicks.\n",
              "      quickchartButtonEl.classList.add('colab-df-spinner');\n",
              "      try {\n",
              "        const charts = await google.colab.kernel.invokeFunction(\n",
              "            'suggestCharts', [key], {});\n",
              "      } catch (error) {\n",
              "        console.error('Error during call to suggestCharts:', error);\n",
              "      }\n",
              "      quickchartButtonEl.classList.remove('colab-df-spinner');\n",
              "      quickchartButtonEl.classList.add('colab-df-quickchart-complete');\n",
              "    }\n",
              "    (() => {\n",
              "      let quickchartButtonEl =\n",
              "        document.querySelector('#df-a05a1bb8-5ec7-4ca1-b4b9-19417c977a55 button');\n",
              "      quickchartButtonEl.style.display =\n",
              "        google.colab.kernel.accessAllowed ? 'block' : 'none';\n",
              "    })();\n",
              "  </script>\n",
              "</div>\n",
              "    </div>\n",
              "  </div>\n"
            ],
            "application/vnd.google.colaboratory.intrinsic+json": {
              "type": "dataframe",
              "variable_name": "X_valid",
              "summary": "{\n  \"name\": \"X_valid\",\n  \"rows\": 2064,\n  \"fields\": [\n    {\n      \"column\": \"MedInc\",\n      \"properties\": {\n        \"dtype\": \"number\",\n        \"std\": 1.5113835140994105,\n        \"min\": 0.4999,\n        \"max\": 12.632,\n        \"num_unique_values\": 1816,\n        \"samples\": [\n          2.8561,\n          3.1094,\n          2.6792\n        ],\n        \"semantic_type\": \"\",\n        \"description\": \"\"\n      }\n    },\n    {\n      \"column\": \"HouseAge\",\n      \"properties\": {\n        \"dtype\": \"number\",\n        \"std\": 11.006995459906342,\n        \"min\": 1.0,\n        \"max\": 52.0,\n        \"num_unique_values\": 52,\n        \"samples\": [\n          39.0,\n          8.0,\n          4.0\n        ],\n        \"semantic_type\": \"\",\n        \"description\": \"\"\n      }\n    },\n    {\n      \"column\": \"AveRooms\",\n      \"properties\": {\n        \"dtype\": \"number\",\n        \"std\": 1.7106855178948968,\n        \"min\": 2.111111111111111,\n        \"max\": 37.06349206349206,\n        \"num_unique_values\": 2030,\n        \"samples\": [\n          4.174757281553398,\n          5.539115646258503,\n          5.767857142857143\n        ],\n        \"semantic_type\": \"\",\n        \"description\": \"\"\n      }\n    },\n    {\n      \"column\": \"AveBedrms\",\n      \"properties\": {\n        \"dtype\": \"number\",\n        \"std\": 0.35413144609349356,\n        \"min\": 0.3333333333333333,\n        \"max\": 7.185185185185185,\n        \"num_unique_values\": 1895,\n        \"samples\": [\n          1.1131221719457014,\n          1.0032467532467533,\n          1.0677570093457944\n        ],\n        \"semantic_type\": \"\",\n        \"description\": \"\"\n      }\n    },\n    {\n      \"column\": \"Population\",\n      \"properties\": {\n        \"dtype\": \"number\",\n        \"std\": 1037.4728639701168,\n        \"min\": 9.0,\n        \"max\": 11956.0,\n        \"num_unique_values\": 1434,\n        \"samples\": [\n          1923.0,\n          795.0,\n          1518.0\n        ],\n        \"semantic_type\": \"\",\n        \"description\": \"\"\n      }\n    },\n    {\n      \"column\": \"AveOccup\",\n      \"properties\": {\n        \"dtype\": \"number\",\n        \"std\": 27.317640657928568,\n        \"min\": 0.9705882352941176,\n        \"max\": 1243.3333333333333,\n        \"num_unique_values\": 2021,\n        \"samples\": [\n          3.5247252747252746,\n          2.9336043360433606,\n          2.6954545454545453\n        ],\n        \"semantic_type\": \"\",\n        \"description\": \"\"\n      }\n    },\n    {\n      \"column\": \"Latitude\",\n      \"properties\": {\n        \"dtype\": \"number\",\n        \"std\": 1.9305111788245768,\n        \"min\": 34.08,\n        \"max\": 41.95,\n        \"num_unique_values\": 425,\n        \"samples\": [\n          39.04,\n          40.82,\n          38.7\n        ],\n        \"semantic_type\": \"\",\n        \"description\": \"\"\n      }\n    },\n    {\n      \"column\": \"Longitude\",\n      \"properties\": {\n        \"dtype\": \"number\",\n        \"std\": 1.4328301102801118,\n        \"min\": -123.53,\n        \"max\": -118.37,\n        \"num_unique_values\": 355,\n        \"samples\": [\n          -123.43,\n          -121.67,\n          -119.32\n        ],\n        \"semantic_type\": \"\",\n        \"description\": \"\"\n      }\n    }\n  ]\n}"
            }
          },
          "metadata": {},
          "execution_count": 6
        }
      ]
    },
    {
      "cell_type": "code",
      "source": [
        "normalization_layer = tf.keras.layers.Normalization()\n",
        "hidden_layer1 = tf.keras.layers.Dense(30, activation = \"relu\")\n",
        "hidden_layer2 = tf.keras.layers.Dense(30, activation = \"relu\")\n",
        "concat_layer = tf.keras.layers.Concatenate()\n",
        "output_layer = tf.keras.layers.Dense(1)"
      ],
      "metadata": {
        "id": "LY3BYYSU40BO"
      },
      "execution_count": null,
      "outputs": []
    },
    {
      "cell_type": "code",
      "source": [
        "input_ = tf.keras.layers.Input(shape = X_train.shape[1:])\n",
        "normalized = normalization_layer(input_)\n",
        "hidden1 = hidden_layer1(normalized)\n",
        "hidden2 = hidden_layer2(hidden1)\n",
        "concat = concat_layer([normalized, hidden2])\n",
        "output = output_layer(concat)"
      ],
      "metadata": {
        "id": "GV_TyHAM7AzL"
      },
      "execution_count": null,
      "outputs": []
    },
    {
      "cell_type": "code",
      "source": [
        "model = tf.keras.Model(inputs = [input_], outputs = [output])"
      ],
      "metadata": {
        "id": "qbPO-G4N8sHt"
      },
      "execution_count": null,
      "outputs": []
    },
    {
      "cell_type": "code",
      "source": [
        "optimizer = tf.keras.optimizers.Adam(learning_rate = 1e-3)"
      ],
      "metadata": {
        "id": "CAe9ZCvo82i0"
      },
      "execution_count": null,
      "outputs": []
    },
    {
      "cell_type": "code",
      "source": [
        "model.compile(loss = \"mse\", optimizer = optimizer, metrics = \"RootMeanSquaredError\")"
      ],
      "metadata": {
        "id": "VJxfnCov9li3"
      },
      "execution_count": 104,
      "outputs": []
    },
    {
      "cell_type": "code",
      "source": [
        "normalization_layer.adapt(X_train)"
      ],
      "metadata": {
        "id": "vFYjsbBYCjHu"
      },
      "execution_count": 105,
      "outputs": []
    },
    {
      "cell_type": "code",
      "source": [
        "history = model.fit(X_train, y_train, epochs = 20, validation_data = (X_valid, y_valid))"
      ],
      "metadata": {
        "colab": {
          "base_uri": "https://localhost:8080/"
        },
        "id": "V3EYEmSY-rQV",
        "outputId": "b06a42bc-41f1-4d9f-abde-35db1b1fd694"
      },
      "execution_count": 106,
      "outputs": [
        {
          "output_type": "stream",
          "name": "stdout",
          "text": [
            "Epoch 1/20\n",
            "516/516 [==============================] - 2s 2ms/step - loss: 1.2212 - root_mean_squared_error: 1.1051 - val_loss: 3.1458 - val_root_mean_squared_error: 1.7737\n",
            "Epoch 2/20\n",
            "516/516 [==============================] - 1s 2ms/step - loss: 0.4767 - root_mean_squared_error: 0.6904 - val_loss: 0.3644 - val_root_mean_squared_error: 0.6037\n",
            "Epoch 3/20\n",
            "516/516 [==============================] - 1s 2ms/step - loss: 0.3746 - root_mean_squared_error: 0.6121 - val_loss: 0.2779 - val_root_mean_squared_error: 0.5271\n",
            "Epoch 4/20\n",
            "516/516 [==============================] - 1s 2ms/step - loss: 0.3551 - root_mean_squared_error: 0.5959 - val_loss: 0.2760 - val_root_mean_squared_error: 0.5253\n",
            "Epoch 5/20\n",
            "516/516 [==============================] - 1s 3ms/step - loss: 0.3442 - root_mean_squared_error: 0.5867 - val_loss: 0.3330 - val_root_mean_squared_error: 0.5771\n",
            "Epoch 6/20\n",
            "516/516 [==============================] - 2s 3ms/step - loss: 0.3300 - root_mean_squared_error: 0.5744 - val_loss: 0.5241 - val_root_mean_squared_error: 0.7239\n",
            "Epoch 7/20\n",
            "516/516 [==============================] - 1s 2ms/step - loss: 0.3195 - root_mean_squared_error: 0.5653 - val_loss: 0.2908 - val_root_mean_squared_error: 0.5393\n",
            "Epoch 8/20\n",
            "516/516 [==============================] - 1s 2ms/step - loss: 0.3118 - root_mean_squared_error: 0.5584 - val_loss: 0.3004 - val_root_mean_squared_error: 0.5481\n",
            "Epoch 9/20\n",
            "516/516 [==============================] - 1s 2ms/step - loss: 0.3392 - root_mean_squared_error: 0.5824 - val_loss: 0.3643 - val_root_mean_squared_error: 0.6035\n",
            "Epoch 10/20\n",
            "516/516 [==============================] - 1s 2ms/step - loss: 0.3064 - root_mean_squared_error: 0.5535 - val_loss: 0.5769 - val_root_mean_squared_error: 0.7595\n",
            "Epoch 11/20\n",
            "516/516 [==============================] - 1s 2ms/step - loss: 0.3023 - root_mean_squared_error: 0.5498 - val_loss: 1.0001 - val_root_mean_squared_error: 1.0000\n",
            "Epoch 12/20\n",
            "516/516 [==============================] - 1s 2ms/step - loss: 0.2995 - root_mean_squared_error: 0.5473 - val_loss: 0.4345 - val_root_mean_squared_error: 0.6592\n",
            "Epoch 13/20\n",
            "516/516 [==============================] - 1s 2ms/step - loss: 0.2922 - root_mean_squared_error: 0.5406 - val_loss: 0.4461 - val_root_mean_squared_error: 0.6679\n",
            "Epoch 14/20\n",
            "516/516 [==============================] - 1s 2ms/step - loss: 0.3010 - root_mean_squared_error: 0.5486 - val_loss: 0.8013 - val_root_mean_squared_error: 0.8951\n",
            "Epoch 15/20\n",
            "516/516 [==============================] - 1s 2ms/step - loss: 0.2953 - root_mean_squared_error: 0.5434 - val_loss: 0.7687 - val_root_mean_squared_error: 0.8768\n",
            "Epoch 16/20\n",
            "516/516 [==============================] - 1s 3ms/step - loss: 0.2900 - root_mean_squared_error: 0.5385 - val_loss: 0.5127 - val_root_mean_squared_error: 0.7160\n",
            "Epoch 17/20\n",
            "516/516 [==============================] - 2s 3ms/step - loss: 0.2826 - root_mean_squared_error: 0.5316 - val_loss: 0.3269 - val_root_mean_squared_error: 0.5718\n",
            "Epoch 18/20\n",
            "516/516 [==============================] - 1s 2ms/step - loss: 0.2917 - root_mean_squared_error: 0.5401 - val_loss: 0.3185 - val_root_mean_squared_error: 0.5644\n",
            "Epoch 19/20\n",
            "516/516 [==============================] - 1s 2ms/step - loss: 0.2816 - root_mean_squared_error: 0.5307 - val_loss: 0.9696 - val_root_mean_squared_error: 0.9847\n",
            "Epoch 20/20\n",
            "516/516 [==============================] - 1s 2ms/step - loss: 0.2851 - root_mean_squared_error: 0.5339 - val_loss: 0.2880 - val_root_mean_squared_error: 0.5367\n"
          ]
        }
      ]
    },
    {
      "cell_type": "code",
      "source": [
        "model.evaluate(X_valid, y_valid)"
      ],
      "metadata": {
        "colab": {
          "base_uri": "https://localhost:8080/"
        },
        "id": "NTN9DeYHJULu",
        "outputId": "714b9092-ac05-47bd-fddd-6c3bf977282a"
      },
      "execution_count": 107,
      "outputs": [
        {
          "output_type": "stream",
          "name": "stdout",
          "text": [
            "65/65 [==============================] - 0s 3ms/step - loss: 0.2880 - root_mean_squared_error: 0.5367\n"
          ]
        },
        {
          "output_type": "execute_result",
          "data": {
            "text/plain": [
              "[0.2880299389362335, 0.5366842150688171]"
            ]
          },
          "metadata": {},
          "execution_count": 107
        }
      ]
    },
    {
      "cell_type": "code",
      "source": [
        "model.predict(X_test[:3])"
      ],
      "metadata": {
        "colab": {
          "base_uri": "https://localhost:8080/"
        },
        "id": "OBong4Y1JYrF",
        "outputId": "12f0f7d5-f541-4cf3-d3ae-bc224f2077f5"
      },
      "execution_count": 108,
      "outputs": [
        {
          "output_type": "stream",
          "name": "stdout",
          "text": [
            "1/1 [==============================] - 0s 104ms/step\n"
          ]
        },
        {
          "output_type": "execute_result",
          "data": {
            "text/plain": [
              "array([[1.0355068 ],\n",
              "       [1.3763465 ],\n",
              "       [0.91227067]], dtype=float32)"
            ]
          },
          "metadata": {},
          "execution_count": 108
        }
      ]
    }
  ]
}