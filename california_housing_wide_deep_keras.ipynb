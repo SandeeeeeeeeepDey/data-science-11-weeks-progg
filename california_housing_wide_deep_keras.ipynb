{
  "nbformat": 4,
  "nbformat_minor": 0,
  "metadata": {
    "colab": {
      "provenance": [],
      "include_colab_link": true
    },
    "kernelspec": {
      "name": "python3",
      "display_name": "Python 3"
    },
    "language_info": {
      "name": "python"
    }
  },
  "cells": [
    {
      "cell_type": "markdown",
      "metadata": {
        "id": "view-in-github",
        "colab_type": "text"
      },
      "source": [
        "<a href=\"https://colab.research.google.com/github/SandeeeeeeeeepDey/data-science-11-weeks-progg/blob/main/california_housing_wide_deep_keras.ipynb\" target=\"_parent\"><img src=\"https://colab.research.google.com/assets/colab-badge.svg\" alt=\"Open In Colab\"/></a>"
      ]
    },
    {
      "cell_type": "markdown",
      "source": [
        "#California housing using wide & deep architecture"
      ],
      "metadata": {
        "id": "Tq6LBWRm0cO1"
      }
    },
    {
      "cell_type": "markdown",
      "source": [
        "#![Screenshot from 2024-03-04 10-24-50.png](data:image/png;base64,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)"
      ],
      "metadata": {
        "id": "t8bwzWJT0Ldk"
      }
    },
    {
      "cell_type": "code",
      "execution_count": 1,
      "metadata": {
        "id": "gegKNWs1z2rU"
      },
      "outputs": [],
      "source": [
        "import tensorflow as tf\n",
        "from sklearn.datasets import fetch_california_housing\n",
        "import pandas as pd"
      ]
    },
    {
      "cell_type": "code",
      "source": [
        "cali_init = fetch_california_housing()"
      ],
      "metadata": {
        "id": "UNMmRTJY0s-W"
      },
      "execution_count": 2,
      "outputs": []
    },
    {
      "cell_type": "code",
      "source": [
        "data = pd.DataFrame(cali_init[\"data\"], columns = cali_init[\"feature_names\"])\n",
        "target = pd.Series(cali_init[\"target\"], name = cali_init[\"target_names\"][0])"
      ],
      "metadata": {
        "id": "FHgM6LFJ03eC"
      },
      "execution_count": 3,
      "outputs": []
    },
    {
      "cell_type": "code",
      "source": [
        "train_size = int(len(data)*0.8)\n",
        "test_size = int(len(data)*0.1)"
      ],
      "metadata": {
        "id": "EmWU24sr1qTK"
      },
      "execution_count": 4,
      "outputs": []
    },
    {
      "cell_type": "code",
      "source": [
        "X_train, y_train = data[:train_size], target[:train_size]\n",
        "X_test, y_test = data[train_size:train_size+test_size], target[train_size:train_size+test_size]\n",
        "X_valid, y_valid = data[train_size+test_size:], target[train_size+test_size:]"
      ],
      "metadata": {
        "id": "G94H382W1rUQ"
      },
      "execution_count": 27,
      "outputs": []
    },
    {
      "cell_type": "markdown",
      "source": [
        "Make layers"
      ],
      "metadata": {
        "id": "x16VSuJL6r-C"
      }
    },
    {
      "cell_type": "code",
      "source": [
        "normalization_layer = tf.keras.layers.Normalization()\n",
        "hidden_layer1 = tf.keras.layers.Dense(30, activation = \"relu\")\n",
        "hidden_layer2 = tf.keras.layers.Dense(30, activation = \"relu\")\n",
        "concat_layer = tf.keras.layers.Concatenate()  # Keep in mind the difference between .Concatinate and .concatinate\n",
        "output_layer = tf.keras.layers.Dense(1)"
      ],
      "metadata": {
        "id": "LY3BYYSU40BO"
      },
      "execution_count": null,
      "outputs": []
    },
    {
      "cell_type": "markdown",
      "source": [
        "Call Layers"
      ],
      "metadata": {
        "id": "JyFuht6L6uhx"
      }
    },
    {
      "cell_type": "code",
      "source": [
        "input_ = tf.keras.layers.Input(shape = X_train.shape[1:])\n",
        "normalized = normalization_layer(input_)\n",
        "hidden1 = hidden_layer1(normalized)\n",
        "hidden2 = hidden_layer2(hidden1)\n",
        "concat = concat_layer([normalized, hidden2])\n",
        "output = output_layer(concat)"
      ],
      "metadata": {
        "id": "GV_TyHAM7AzL"
      },
      "execution_count": null,
      "outputs": []
    },
    {
      "cell_type": "code",
      "source": [
        "model = tf.keras.Model(inputs = [input_], outputs = [output])"
      ],
      "metadata": {
        "id": "qbPO-G4N8sHt"
      },
      "execution_count": null,
      "outputs": []
    },
    {
      "cell_type": "code",
      "source": [
        "optimizer = tf.keras.optimizers.Adam(learning_rate = 1e-3)"
      ],
      "metadata": {
        "id": "CAe9ZCvo82i0"
      },
      "execution_count": null,
      "outputs": []
    },
    {
      "cell_type": "code",
      "source": [
        "model.compile(loss = \"mse\", optimizer = optimizer, metrics = \"RootMeanSquaredError\")"
      ],
      "metadata": {
        "id": "VJxfnCov9li3"
      },
      "execution_count": 104,
      "outputs": []
    },
    {
      "cell_type": "code",
      "source": [
        "normalization_layer.adapt(X_train)"
      ],
      "metadata": {
        "id": "vFYjsbBYCjHu"
      },
      "execution_count": 105,
      "outputs": []
    },
    {
      "cell_type": "code",
      "source": [
        "history = model.fit(X_train, y_train, epochs = 20, validation_data = (X_valid, y_valid))"
      ],
      "metadata": {
        "colab": {
          "base_uri": "https://localhost:8080/"
        },
        "id": "V3EYEmSY-rQV",
        "outputId": "b06a42bc-41f1-4d9f-abde-35db1b1fd694"
      },
      "execution_count": 106,
      "outputs": [
        {
          "output_type": "stream",
          "name": "stdout",
          "text": [
            "Epoch 1/20\n",
            "516/516 [==============================] - 2s 2ms/step - loss: 1.2212 - root_mean_squared_error: 1.1051 - val_loss: 3.1458 - val_root_mean_squared_error: 1.7737\n",
            "Epoch 2/20\n",
            "516/516 [==============================] - 1s 2ms/step - loss: 0.4767 - root_mean_squared_error: 0.6904 - val_loss: 0.3644 - val_root_mean_squared_error: 0.6037\n",
            "Epoch 3/20\n",
            "516/516 [==============================] - 1s 2ms/step - loss: 0.3746 - root_mean_squared_error: 0.6121 - val_loss: 0.2779 - val_root_mean_squared_error: 0.5271\n",
            "Epoch 4/20\n",
            "516/516 [==============================] - 1s 2ms/step - loss: 0.3551 - root_mean_squared_error: 0.5959 - val_loss: 0.2760 - val_root_mean_squared_error: 0.5253\n",
            "Epoch 5/20\n",
            "516/516 [==============================] - 1s 3ms/step - loss: 0.3442 - root_mean_squared_error: 0.5867 - val_loss: 0.3330 - val_root_mean_squared_error: 0.5771\n",
            "Epoch 6/20\n",
            "516/516 [==============================] - 2s 3ms/step - loss: 0.3300 - root_mean_squared_error: 0.5744 - val_loss: 0.5241 - val_root_mean_squared_error: 0.7239\n",
            "Epoch 7/20\n",
            "516/516 [==============================] - 1s 2ms/step - loss: 0.3195 - root_mean_squared_error: 0.5653 - val_loss: 0.2908 - val_root_mean_squared_error: 0.5393\n",
            "Epoch 8/20\n",
            "516/516 [==============================] - 1s 2ms/step - loss: 0.3118 - root_mean_squared_error: 0.5584 - val_loss: 0.3004 - val_root_mean_squared_error: 0.5481\n",
            "Epoch 9/20\n",
            "516/516 [==============================] - 1s 2ms/step - loss: 0.3392 - root_mean_squared_error: 0.5824 - val_loss: 0.3643 - val_root_mean_squared_error: 0.6035\n",
            "Epoch 10/20\n",
            "516/516 [==============================] - 1s 2ms/step - loss: 0.3064 - root_mean_squared_error: 0.5535 - val_loss: 0.5769 - val_root_mean_squared_error: 0.7595\n",
            "Epoch 11/20\n",
            "516/516 [==============================] - 1s 2ms/step - loss: 0.3023 - root_mean_squared_error: 0.5498 - val_loss: 1.0001 - val_root_mean_squared_error: 1.0000\n",
            "Epoch 12/20\n",
            "516/516 [==============================] - 1s 2ms/step - loss: 0.2995 - root_mean_squared_error: 0.5473 - val_loss: 0.4345 - val_root_mean_squared_error: 0.6592\n",
            "Epoch 13/20\n",
            "516/516 [==============================] - 1s 2ms/step - loss: 0.2922 - root_mean_squared_error: 0.5406 - val_loss: 0.4461 - val_root_mean_squared_error: 0.6679\n",
            "Epoch 14/20\n",
            "516/516 [==============================] - 1s 2ms/step - loss: 0.3010 - root_mean_squared_error: 0.5486 - val_loss: 0.8013 - val_root_mean_squared_error: 0.8951\n",
            "Epoch 15/20\n",
            "516/516 [==============================] - 1s 2ms/step - loss: 0.2953 - root_mean_squared_error: 0.5434 - val_loss: 0.7687 - val_root_mean_squared_error: 0.8768\n",
            "Epoch 16/20\n",
            "516/516 [==============================] - 1s 3ms/step - loss: 0.2900 - root_mean_squared_error: 0.5385 - val_loss: 0.5127 - val_root_mean_squared_error: 0.7160\n",
            "Epoch 17/20\n",
            "516/516 [==============================] - 2s 3ms/step - loss: 0.2826 - root_mean_squared_error: 0.5316 - val_loss: 0.3269 - val_root_mean_squared_error: 0.5718\n",
            "Epoch 18/20\n",
            "516/516 [==============================] - 1s 2ms/step - loss: 0.2917 - root_mean_squared_error: 0.5401 - val_loss: 0.3185 - val_root_mean_squared_error: 0.5644\n",
            "Epoch 19/20\n",
            "516/516 [==============================] - 1s 2ms/step - loss: 0.2816 - root_mean_squared_error: 0.5307 - val_loss: 0.9696 - val_root_mean_squared_error: 0.9847\n",
            "Epoch 20/20\n",
            "516/516 [==============================] - 1s 2ms/step - loss: 0.2851 - root_mean_squared_error: 0.5339 - val_loss: 0.2880 - val_root_mean_squared_error: 0.5367\n"
          ]
        }
      ]
    },
    {
      "cell_type": "code",
      "source": [
        "model.evaluate(X_valid, y_valid)"
      ],
      "metadata": {
        "colab": {
          "base_uri": "https://localhost:8080/"
        },
        "id": "NTN9DeYHJULu",
        "outputId": "714b9092-ac05-47bd-fddd-6c3bf977282a"
      },
      "execution_count": 107,
      "outputs": [
        {
          "output_type": "stream",
          "name": "stdout",
          "text": [
            "65/65 [==============================] - 0s 3ms/step - loss: 0.2880 - root_mean_squared_error: 0.5367\n"
          ]
        },
        {
          "output_type": "execute_result",
          "data": {
            "text/plain": [
              "[0.2880299389362335, 0.5366842150688171]"
            ]
          },
          "metadata": {},
          "execution_count": 107
        }
      ]
    },
    {
      "cell_type": "code",
      "source": [
        "model.predict(X_test[:3])"
      ],
      "metadata": {
        "colab": {
          "base_uri": "https://localhost:8080/"
        },
        "id": "OBong4Y1JYrF",
        "outputId": "12f0f7d5-f541-4cf3-d3ae-bc224f2077f5"
      },
      "execution_count": 108,
      "outputs": [
        {
          "output_type": "stream",
          "name": "stdout",
          "text": [
            "1/1 [==============================] - 0s 104ms/step\n"
          ]
        },
        {
          "output_type": "execute_result",
          "data": {
            "text/plain": [
              "array([[1.0355068 ],\n",
              "       [1.3763465 ],\n",
              "       [0.91227067]], dtype=float32)"
            ]
          },
          "metadata": {},
          "execution_count": 108
        }
      ]
    },
    {
      "cell_type": "markdown",
      "source": [
        "#Wide and Deep(passing possibly overlapping subsets through selective layers)"
      ],
      "metadata": {
        "id": "yDlrVJF0J_Wq"
      }
    },
    {
      "cell_type": "markdown",
      "source": [
        "#![Screenshot from 2024-03-04 12-05-28.png](data:image/png;base64,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)"
      ],
      "metadata": {
        "id": "GkvXoMNYLI4l"
      }
    },
    {
      "cell_type": "code",
      "source": [
        "input_wide = tf.keras.layers.Input(shape = [5])\n",
        "input_deep = tf.keras.layers.Input(shape = [6])"
      ],
      "metadata": {
        "id": "9ls7v2-xLDXY"
      },
      "execution_count": 42,
      "outputs": []
    },
    {
      "cell_type": "code",
      "source": [
        "norm_layer_wide = tf.keras.layers.Normalization()\n",
        "norm_layer_deep = tf.keras.layers.Normalization()\n",
        "norm_wide = norm_layer_wide(input_wide)\n",
        "norm_deep = norm_layer_deep(input_deep)\n",
        "hidden1_ = tf.keras.layers.Dense(30, activation = \"relu\")(norm_deep)\n",
        "hidden2_ = tf.keras.layers.Dense(30, activation = \"relu\")(hidden1_)\n",
        "concat_ = tf.keras.layers.concatenate([norm_wide, hidden2_])\n",
        "output_ = tf.keras.layers.Dense(1)(concat_)"
      ],
      "metadata": {
        "id": "60__N3yOMngy"
      },
      "execution_count": 43,
      "outputs": []
    },
    {
      "cell_type": "code",
      "source": [
        "model_dnw = tf.keras.Model(inputs = [input_wide, input_deep], outputs = [output_])"
      ],
      "metadata": {
        "id": "CT8nfUspOzmx"
      },
      "execution_count": 44,
      "outputs": []
    },
    {
      "cell_type": "code",
      "source": [
        "optimizer_ = tf.keras.optimizers.Adam(learning_rate = 1e-3)"
      ],
      "metadata": {
        "id": "GYp-R1m83weV"
      },
      "execution_count": 45,
      "outputs": []
    },
    {
      "cell_type": "code",
      "source": [
        "model_dnw.compile(loss=\"mse\", optimizer = optimizer_, metrics = [\"RootMeanSquaredError\"])"
      ],
      "metadata": {
        "id": "BDAKNf0A7l65"
      },
      "execution_count": 46,
      "outputs": []
    },
    {
      "cell_type": "code",
      "source": [
        "X_train_wide, X_train_deep = X_train.iloc[:, :5], X_train.iloc[:, 2:]\n",
        "X_valid_wide, X_valid_deep = X_valid.iloc[:, :5], X_valid.iloc[:, 2:]\n",
        "X_test_wide, X_test_deep = X_test.iloc[:, :5], X_valid.iloc[:, 2:]\n",
        "X_new_wide, X_new_deep = X_test_wide[:3], X_test_wide[:3]"
      ],
      "metadata": {
        "id": "SAbuwGW371Vq"
      },
      "execution_count": 47,
      "outputs": []
    },
    {
      "cell_type": "code",
      "source": [
        "norm_layer_wide.adapt(X_train_wide)\n",
        "norm_layer_deep.adapt(X_train_deep)\n",
        "history = model_dnw.fit((X_train_wide, X_train_deep), y_train, epochs = 20, validation_data = ((X_valid_wide, X_valid_deep), y_valid))"
      ],
      "metadata": {
        "colab": {
          "base_uri": "https://localhost:8080/"
        },
        "id": "HFEeSbbP9yWS",
        "outputId": "0207e4b1-2baf-468c-afb6-ff75eb74db57"
      },
      "execution_count": 48,
      "outputs": [
        {
          "output_type": "stream",
          "name": "stdout",
          "text": [
            "Epoch 1/20\n",
            "516/516 [==============================] - 2s 3ms/step - loss: 1.1230 - root_mean_squared_error: 1.0597 - val_loss: 0.3601 - val_root_mean_squared_error: 0.6001\n",
            "Epoch 2/20\n",
            "516/516 [==============================] - 1s 2ms/step - loss: 0.4349 - root_mean_squared_error: 0.6595 - val_loss: 0.3464 - val_root_mean_squared_error: 0.5886\n",
            "Epoch 3/20\n",
            "516/516 [==============================] - 1s 2ms/step - loss: 0.3909 - root_mean_squared_error: 0.6252 - val_loss: 0.3270 - val_root_mean_squared_error: 0.5718\n",
            "Epoch 4/20\n",
            "516/516 [==============================] - 1s 2ms/step - loss: 0.3683 - root_mean_squared_error: 0.6068 - val_loss: 0.4725 - val_root_mean_squared_error: 0.6874\n",
            "Epoch 5/20\n",
            "516/516 [==============================] - 1s 3ms/step - loss: 0.3768 - root_mean_squared_error: 0.6139 - val_loss: 0.4584 - val_root_mean_squared_error: 0.6771\n",
            "Epoch 6/20\n",
            "516/516 [==============================] - 2s 3ms/step - loss: 0.3480 - root_mean_squared_error: 0.5899 - val_loss: 0.4253 - val_root_mean_squared_error: 0.6522\n",
            "Epoch 7/20\n",
            "516/516 [==============================] - 1s 2ms/step - loss: 0.3507 - root_mean_squared_error: 0.5922 - val_loss: 0.3608 - val_root_mean_squared_error: 0.6007\n",
            "Epoch 8/20\n",
            "516/516 [==============================] - 1s 2ms/step - loss: 0.3405 - root_mean_squared_error: 0.5835 - val_loss: 0.3972 - val_root_mean_squared_error: 0.6302\n",
            "Epoch 9/20\n",
            "516/516 [==============================] - 1s 2ms/step - loss: 0.3327 - root_mean_squared_error: 0.5768 - val_loss: 0.4264 - val_root_mean_squared_error: 0.6530\n",
            "Epoch 10/20\n",
            "516/516 [==============================] - 1s 2ms/step - loss: 0.3330 - root_mean_squared_error: 0.5771 - val_loss: 0.4428 - val_root_mean_squared_error: 0.6654\n",
            "Epoch 11/20\n",
            "516/516 [==============================] - 1s 2ms/step - loss: 0.3315 - root_mean_squared_error: 0.5757 - val_loss: 0.4321 - val_root_mean_squared_error: 0.6574\n",
            "Epoch 12/20\n",
            "516/516 [==============================] - 1s 2ms/step - loss: 0.3273 - root_mean_squared_error: 0.5721 - val_loss: 0.6564 - val_root_mean_squared_error: 0.8102\n",
            "Epoch 13/20\n",
            "516/516 [==============================] - 1s 2ms/step - loss: 0.3263 - root_mean_squared_error: 0.5712 - val_loss: 0.3582 - val_root_mean_squared_error: 0.5985\n",
            "Epoch 14/20\n",
            "516/516 [==============================] - 1s 2ms/step - loss: 0.3246 - root_mean_squared_error: 0.5697 - val_loss: 0.3158 - val_root_mean_squared_error: 0.5620\n",
            "Epoch 15/20\n",
            "516/516 [==============================] - 3s 5ms/step - loss: 0.3174 - root_mean_squared_error: 0.5634 - val_loss: 0.3025 - val_root_mean_squared_error: 0.5500\n",
            "Epoch 16/20\n",
            "516/516 [==============================] - 3s 6ms/step - loss: 0.3154 - root_mean_squared_error: 0.5616 - val_loss: 0.3438 - val_root_mean_squared_error: 0.5863\n",
            "Epoch 17/20\n",
            "516/516 [==============================] - 2s 3ms/step - loss: 0.3118 - root_mean_squared_error: 0.5584 - val_loss: 0.3045 - val_root_mean_squared_error: 0.5518\n",
            "Epoch 18/20\n",
            "516/516 [==============================] - 3s 5ms/step - loss: 0.3093 - root_mean_squared_error: 0.5562 - val_loss: 0.4352 - val_root_mean_squared_error: 0.6597\n",
            "Epoch 19/20\n",
            "516/516 [==============================] - 2s 4ms/step - loss: 0.3108 - root_mean_squared_error: 0.5575 - val_loss: 0.4193 - val_root_mean_squared_error: 0.6475\n",
            "Epoch 20/20\n",
            "516/516 [==============================] - 2s 4ms/step - loss: 0.3129 - root_mean_squared_error: 0.5593 - val_loss: 0.3204 - val_root_mean_squared_error: 0.5660\n"
          ]
        }
      ]
    },
    {
      "cell_type": "code",
      "source": [
        "mse__, rmse__ = model_dnw.evaluate((X_valid_wide,X_valid_deep), y_valid)"
      ],
      "metadata": {
        "colab": {
          "base_uri": "https://localhost:8080/"
        },
        "id": "p2gwmWUb-kC7",
        "outputId": "7db699b1-9116-4baa-b099-7a2256709cf5"
      },
      "execution_count": 57,
      "outputs": [
        {
          "output_type": "stream",
          "name": "stdout",
          "text": [
            "65/65 [==============================] - 0s 2ms/step - loss: 0.3204 - root_mean_squared_error: 0.5660\n"
          ]
        }
      ]
    },
    {
      "cell_type": "code",
      "source": [
        "y_pred = model_dnw.predict((X_test_wide[:3], X_test_deep[:3]))\n",
        "y_pred"
      ],
      "metadata": {
        "colab": {
          "base_uri": "https://localhost:8080/"
        },
        "id": "wS-VPP1UDlX0",
        "outputId": "d03091e0-089c-459a-9338-5676a88fe131"
      },
      "execution_count": 61,
      "outputs": [
        {
          "output_type": "stream",
          "name": "stdout",
          "text": [
            "1/1 [==============================] - 0s 53ms/step\n"
          ]
        },
        {
          "output_type": "execute_result",
          "data": {
            "text/plain": [
              "array([[1.1735864],\n",
              "       [2.0687258],\n",
              "       [1.3667786]], dtype=float32)"
            ]
          },
          "metadata": {},
          "execution_count": 61
        }
      ]
    },
    {
      "cell_type": "code",
      "source": [
        "y_test[:3]"
      ],
      "metadata": {
        "colab": {
          "base_uri": "https://localhost:8080/"
        },
        "id": "V2wBJBRbDuCp",
        "outputId": "3f543db1-51ea-4cb2-f6ae-5a8ee4831a7c"
      },
      "execution_count": 62,
      "outputs": [
        {
          "output_type": "execute_result",
          "data": {
            "text/plain": [
              "16512    1.656\n",
              "16513    1.261\n",
              "16514    0.944\n",
              "Name: MedHouseVal, dtype: float64"
            ]
          },
          "metadata": {},
          "execution_count": 62
        }
      ]
    },
    {
      "cell_type": "code",
      "source": [],
      "metadata": {
        "id": "iFcLnm24E3ZV"
      },
      "execution_count": null,
      "outputs": []
    }
  ]
}