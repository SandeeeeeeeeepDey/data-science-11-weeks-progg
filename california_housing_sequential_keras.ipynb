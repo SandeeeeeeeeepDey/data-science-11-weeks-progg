{
  "nbformat": 4,
  "nbformat_minor": 0,
  "metadata": {
    "colab": {
      "provenance": [],
      "authorship_tag": "ABX9TyPwRlMIeGNvHgxwgzNpBirt",
      "include_colab_link": true
    },
    "kernelspec": {
      "name": "python3",
      "display_name": "Python 3"
    },
    "language_info": {
      "name": "python"
    }
  },
  "cells": [
    {
      "cell_type": "markdown",
      "metadata": {
        "id": "view-in-github",
        "colab_type": "text"
      },
      "source": [
        "<a href=\"https://colab.research.google.com/github/SandeeeeeeeeepDey/data-science-11-weeks-progg/blob/main/california_housing_sequential_keras.ipynb\" target=\"_parent\"><img src=\"https://colab.research.google.com/assets/colab-badge.svg\" alt=\"Open In Colab\"/></a>"
      ]
    },
    {
      "cell_type": "code",
      "execution_count": 1,
      "metadata": {
        "id": "amVZDHi261cd"
      },
      "outputs": [],
      "source": [
        "import tensorflow as tf\n",
        "from sklearn.datasets import fetch_california_housing\n",
        "import pandas as pd"
      ]
    },
    {
      "cell_type": "code",
      "source": [
        "cali = fetch_california_housing()\n",
        "cali_data = pd.DataFrame(cali['data'], columns=cali[\"feature_names\"])\n",
        "cali_target = pd.Series(cali[\"target\"], name=cali[\"target_names\"][0])\n",
        "\n",
        "train_size = int(0.8 * len(cali_data))\n",
        "valid_size = int(0.1 * len(cali_data))\n",
        "test_size = len(cali_data) - train_size - valid_size\n",
        "\n",
        "X_train, X_valid, X_test = (\n",
        "    cali_data[:train_size],\n",
        "    cali_data[train_size:train_size + valid_size],\n",
        "    cali_data[train_size + valid_size:]\n",
        ")\n",
        "\n",
        "y_train, y_valid, y_test = (\n",
        "    cali_target[:train_size],\n",
        "    cali_target[train_size:train_size + valid_size],\n",
        "    cali_target[train_size + valid_size:]\n",
        ")\n"
      ],
      "metadata": {
        "id": "-UntE3EF68XM"
      },
      "execution_count": 2,
      "outputs": []
    },
    {
      "cell_type": "code",
      "source": [
        "tf.random.set_seed = 24\n",
        "norm_l = tf.keras.layers.Normalization(input_shape=X_train.shape[1:])\n",
        "model = tf.keras.Sequential([\n",
        "    norm_l,\n",
        "    tf.keras.layers.Dense(50, activation=\"relu\"),\n",
        "    tf.keras.layers.Dense(50, activation = \"relu\"),\n",
        "    tf.keras.layers.Dense(50, activation = \"relu\"),\n",
        "    tf.keras.layers.Dense(1)\n",
        "])\n",
        "optimizer = tf.keras.optimizers.Adam(learning_rate = 1e-3)\n",
        "model.compile(loss=\"mse\", optimizer = optimizer, metrics = \"RootMeanSquaredError\")\n"
      ],
      "metadata": {
        "id": "M_LeSdyk8VKB"
      },
      "execution_count": 3,
      "outputs": []
    },
    {
      "cell_type": "code",
      "source": [
        "norm_l.adapt(X_train)\n",
        "history = model.fit(X_train, y_train, epochs = 20, validation_data =(X_valid, y_valid))\n",
        "\n",
        "mse_test, rmse_test = model.evaluate(X_test, y_test)\n",
        "X_new = X_test[:3]\n",
        "y_pred = model.predict(X_new)\n",
        "print(y_pred)"
      ],
      "metadata": {
        "colab": {
          "base_uri": "https://localhost:8080/"
        },
        "id": "teGaSbUeQ0ib",
        "outputId": "170caa9d-94b8-4f1d-beca-1a3a3ae95be2"
      },
      "execution_count": 5,
      "outputs": [
        {
          "output_type": "stream",
          "name": "stdout",
          "text": [
            "Epoch 1/20\n",
            "516/516 [==============================] - 1s 1ms/step - loss: 0.3020 - root_mean_squared_error: 0.5495 - val_loss: 0.6480 - val_root_mean_squared_error: 0.8050\n",
            "Epoch 2/20\n",
            "516/516 [==============================] - 1s 1ms/step - loss: 0.2917 - root_mean_squared_error: 0.5401 - val_loss: 0.6392 - val_root_mean_squared_error: 0.7995\n",
            "Epoch 3/20\n",
            "516/516 [==============================] - 1s 1ms/step - loss: 0.2885 - root_mean_squared_error: 0.5371 - val_loss: 0.5864 - val_root_mean_squared_error: 0.7658\n",
            "Epoch 4/20\n",
            "516/516 [==============================] - 1s 2ms/step - loss: 0.2817 - root_mean_squared_error: 0.5308 - val_loss: 0.5750 - val_root_mean_squared_error: 0.7583\n",
            "Epoch 5/20\n",
            "516/516 [==============================] - 1s 2ms/step - loss: 0.2834 - root_mean_squared_error: 0.5324 - val_loss: 0.5211 - val_root_mean_squared_error: 0.7219\n",
            "Epoch 6/20\n",
            "516/516 [==============================] - 1s 1ms/step - loss: 0.2803 - root_mean_squared_error: 0.5295 - val_loss: 0.7150 - val_root_mean_squared_error: 0.8456\n",
            "Epoch 7/20\n",
            "516/516 [==============================] - 1s 1ms/step - loss: 0.2753 - root_mean_squared_error: 0.5247 - val_loss: 0.6264 - val_root_mean_squared_error: 0.7914\n",
            "Epoch 8/20\n",
            "516/516 [==============================] - 1s 1ms/step - loss: 0.2719 - root_mean_squared_error: 0.5214 - val_loss: 0.5364 - val_root_mean_squared_error: 0.7324\n",
            "Epoch 9/20\n",
            "516/516 [==============================] - 1s 1ms/step - loss: 0.2682 - root_mean_squared_error: 0.5179 - val_loss: 0.6479 - val_root_mean_squared_error: 0.8049\n",
            "Epoch 10/20\n",
            "516/516 [==============================] - 1s 1ms/step - loss: 0.2660 - root_mean_squared_error: 0.5157 - val_loss: 0.5109 - val_root_mean_squared_error: 0.7147\n",
            "Epoch 11/20\n",
            "516/516 [==============================] - 1s 1ms/step - loss: 0.2635 - root_mean_squared_error: 0.5133 - val_loss: 0.5007 - val_root_mean_squared_error: 0.7076\n",
            "Epoch 12/20\n",
            "516/516 [==============================] - 1s 1ms/step - loss: 0.2596 - root_mean_squared_error: 0.5096 - val_loss: 0.4984 - val_root_mean_squared_error: 0.7060\n",
            "Epoch 13/20\n",
            "516/516 [==============================] - 1s 1ms/step - loss: 0.2571 - root_mean_squared_error: 0.5070 - val_loss: 0.5288 - val_root_mean_squared_error: 0.7272\n",
            "Epoch 14/20\n",
            "516/516 [==============================] - 1s 1ms/step - loss: 0.2568 - root_mean_squared_error: 0.5068 - val_loss: 0.4782 - val_root_mean_squared_error: 0.6915\n",
            "Epoch 15/20\n",
            "516/516 [==============================] - 1s 1ms/step - loss: 0.2575 - root_mean_squared_error: 0.5075 - val_loss: 0.4773 - val_root_mean_squared_error: 0.6908\n",
            "Epoch 16/20\n",
            "516/516 [==============================] - 1s 1ms/step - loss: 0.2553 - root_mean_squared_error: 0.5053 - val_loss: 0.4621 - val_root_mean_squared_error: 0.6798\n",
            "Epoch 17/20\n",
            "516/516 [==============================] - 1s 1ms/step - loss: 0.2497 - root_mean_squared_error: 0.4997 - val_loss: 0.5589 - val_root_mean_squared_error: 0.7476\n",
            "Epoch 18/20\n",
            "516/516 [==============================] - 1s 1ms/step - loss: 0.2496 - root_mean_squared_error: 0.4996 - val_loss: 0.4628 - val_root_mean_squared_error: 0.6803\n",
            "Epoch 19/20\n",
            "516/516 [==============================] - 1s 1ms/step - loss: 0.2484 - root_mean_squared_error: 0.4984 - val_loss: 0.4583 - val_root_mean_squared_error: 0.6770\n",
            "Epoch 20/20\n",
            "516/516 [==============================] - 1s 1ms/step - loss: 0.2438 - root_mean_squared_error: 0.4938 - val_loss: 0.5934 - val_root_mean_squared_error: 0.7703\n",
            "65/65 [==============================] - 0s 1ms/step - loss: 0.3527 - root_mean_squared_error: 0.5938\n",
            "1/1 [==============================] - 0s 73ms/step\n",
            "[[1.2567123]\n",
            " [1.3568879]\n",
            " [1.395263 ]]\n"
          ]
        }
      ]
    }
  ]
}