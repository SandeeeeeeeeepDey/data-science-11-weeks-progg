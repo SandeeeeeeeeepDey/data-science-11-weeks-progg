{
  "nbformat": 4,
  "nbformat_minor": 0,
  "metadata": {
    "colab": {
      "provenance": [],
      "authorship_tag": "ABX9TyMNRrUdsjpjbpWHDimz1rTc",
      "include_colab_link": true
    },
    "kernelspec": {
      "name": "python3",
      "display_name": "Python 3"
    },
    "language_info": {
      "name": "python"
    }
  },
  "cells": [
    {
      "cell_type": "markdown",
      "metadata": {
        "id": "view-in-github",
        "colab_type": "text"
      },
      "source": [
        "<a href=\"https://colab.research.google.com/github/SandeeeeeeeeepDey/data-science-11-weeks-progg/blob/main/california_housing_sequential_keras.ipynb\" target=\"_parent\"><img src=\"https://colab.research.google.com/assets/colab-badge.svg\" alt=\"Open In Colab\"/></a>"
      ]
    },
    {
      "cell_type": "code",
      "execution_count": null,
      "metadata": {
        "id": "amVZDHi261cd"
      },
      "outputs": [],
      "source": [
        "import tensorflow as tf\n",
        "from sklearn.datasets import fetch_california_housing\n",
        "import pandas as pd"
      ]
    },
    {
      "cell_type": "code",
      "source": [
        "cali = fetch_california_housing()\n",
        "cali_data = pd.DataFrame(cali['data'], columns=cali[\"feature_names\"])\n",
        "cali_target = pd.Series(cali[\"target\"], name=cali[\"target_names\"][0])\n",
        "\n",
        "# Split the dataset into train, validation, and test sets\n",
        "train_size = int(0.8 * len(cali_data))\n",
        "valid_size = int(0.1 * len(cali_data))\n",
        "test_size = len(cali_data) - train_size - valid_size\n",
        "\n",
        "X_train, X_valid, X_test = (\n",
        "    cali_data[:train_size],\n",
        "    cali_data[train_size:train_size + valid_size],\n",
        "    cali_data[train_size + valid_size:]\n",
        ")\n",
        "\n",
        "y_train, y_valid, y_test = (\n",
        "    cali_target[:train_size],\n",
        "    cali_target[train_size:train_size + valid_size],\n",
        "    cali_target[train_size + valid_size:]\n",
        ")\n"
      ],
      "metadata": {
        "id": "-UntE3EF68XM"
      },
      "execution_count": null,
      "outputs": []
    },
    {
      "cell_type": "code",
      "source": [
        "tf.random.set_seed = 24\n",
        "norm_l = tf.keras.layers.Normalization(input_shape=X_train.shape[1:])\n",
        "model = tf.keras.Sequential([\n",
        "    norm_l,\n",
        "    tf.keras.layers.Dense(50, activation=\"relu\"),\n",
        "    tf.keras.layers.Dense(50, activation = \"relu\"),\n",
        "    tf.keras.layers.Dense(50, activation = \"relu\"),\n",
        "    tf.keras.layers.Dense(1)\n",
        "])\n",
        "optimizer = tf.keras.optimizers.Adam(learning_rate = 1e-3)\n",
        "model.compile(loss=\"mse\", optimizer = optimizer, metrics = \"RootMeanSquaredError\")\n"
      ],
      "metadata": {
        "id": "M_LeSdyk8VKB"
      },
      "execution_count": null,
      "outputs": []
    },
    {
      "cell_type": "code",
      "source": [
        "norm_l.adapt(X_train)\n",
        "history = model.fit(X_train, y_train, epochs = 20, validation_data =(X_valid, y_valid))\n",
        "\n",
        "mse_test, rmse_test = model.evaluate(X_test, y_test)\n",
        "X_new = X_test[:3]\n",
        "y_pred = model.predict(X_new)"
      ],
      "metadata": {
        "colab": {
          "base_uri": "https://localhost:8080/"
        },
        "id": "teGaSbUeQ0ib",
        "outputId": "90480c17-5cda-4974-de79-f7ffbcc679a2"
      },
      "execution_count": null,
      "outputs": [
        {
          "output_type": "stream",
          "name": "stdout",
          "text": [
            "Epoch 1/20\n",
            "516/516 [==============================] - 3s 3ms/step - loss: 0.7124 - root_mean_squared_error: 0.8440 - val_loss: 0.7694 - val_root_mean_squared_error: 0.8771\n",
            "Epoch 2/20\n",
            "516/516 [==============================] - 1s 3ms/step - loss: 0.3652 - root_mean_squared_error: 0.6043 - val_loss: 0.6073 - val_root_mean_squared_error: 0.7793\n",
            "Epoch 3/20\n",
            "516/516 [==============================] - 2s 3ms/step - loss: 0.3357 - root_mean_squared_error: 0.5794 - val_loss: 0.6746 - val_root_mean_squared_error: 0.8213\n",
            "Epoch 4/20\n",
            "516/516 [==============================] - 1s 3ms/step - loss: 0.3157 - root_mean_squared_error: 0.5618 - val_loss: 0.6914 - val_root_mean_squared_error: 0.8315\n",
            "Epoch 5/20\n",
            "516/516 [==============================] - 1s 3ms/step - loss: 0.3014 - root_mean_squared_error: 0.5490 - val_loss: 0.6620 - val_root_mean_squared_error: 0.8136\n",
            "Epoch 6/20\n",
            "516/516 [==============================] - 2s 3ms/step - loss: 0.3095 - root_mean_squared_error: 0.5563 - val_loss: 0.6463 - val_root_mean_squared_error: 0.8039\n",
            "Epoch 7/20\n",
            "516/516 [==============================] - 3s 5ms/step - loss: 0.2891 - root_mean_squared_error: 0.5377 - val_loss: 0.5645 - val_root_mean_squared_error: 0.7513\n",
            "Epoch 8/20\n",
            "516/516 [==============================] - 2s 4ms/step - loss: 0.2849 - root_mean_squared_error: 0.5338 - val_loss: 0.6203 - val_root_mean_squared_error: 0.7876\n",
            "Epoch 9/20\n",
            "516/516 [==============================] - 2s 3ms/step - loss: 0.2796 - root_mean_squared_error: 0.5288 - val_loss: 0.5774 - val_root_mean_squared_error: 0.7598\n",
            "Epoch 10/20\n",
            "516/516 [==============================] - 2s 3ms/step - loss: 0.2776 - root_mean_squared_error: 0.5268 - val_loss: 0.5888 - val_root_mean_squared_error: 0.7674\n",
            "Epoch 11/20\n",
            "516/516 [==============================] - 1s 3ms/step - loss: 0.2779 - root_mean_squared_error: 0.5272 - val_loss: 0.5564 - val_root_mean_squared_error: 0.7459\n",
            "Epoch 12/20\n",
            "516/516 [==============================] - 1s 3ms/step - loss: 0.2727 - root_mean_squared_error: 0.5222 - val_loss: 0.5610 - val_root_mean_squared_error: 0.7490\n",
            "Epoch 13/20\n",
            "516/516 [==============================] - 1s 3ms/step - loss: 0.2703 - root_mean_squared_error: 0.5199 - val_loss: 0.7306 - val_root_mean_squared_error: 0.8548\n",
            "Epoch 14/20\n",
            "516/516 [==============================] - 2s 4ms/step - loss: 0.2665 - root_mean_squared_error: 0.5162 - val_loss: 0.5605 - val_root_mean_squared_error: 0.7487\n",
            "Epoch 15/20\n",
            "516/516 [==============================] - 2s 4ms/step - loss: 0.2632 - root_mean_squared_error: 0.5130 - val_loss: 0.5754 - val_root_mean_squared_error: 0.7586\n",
            "Epoch 16/20\n",
            "516/516 [==============================] - 2s 3ms/step - loss: 0.2634 - root_mean_squared_error: 0.5133 - val_loss: 0.6416 - val_root_mean_squared_error: 0.8010\n",
            "Epoch 17/20\n",
            "516/516 [==============================] - 1s 3ms/step - loss: 0.2618 - root_mean_squared_error: 0.5116 - val_loss: 0.6007 - val_root_mean_squared_error: 0.7751\n",
            "Epoch 18/20\n",
            "516/516 [==============================] - 1s 3ms/step - loss: 0.2592 - root_mean_squared_error: 0.5091 - val_loss: 0.5999 - val_root_mean_squared_error: 0.7745\n",
            "Epoch 19/20\n",
            "516/516 [==============================] - 2s 3ms/step - loss: 0.2563 - root_mean_squared_error: 0.5063 - val_loss: 0.5824 - val_root_mean_squared_error: 0.7631\n",
            "Epoch 20/20\n",
            "516/516 [==============================] - 2s 3ms/step - loss: 0.2511 - root_mean_squared_error: 0.5011 - val_loss: 0.6068 - val_root_mean_squared_error: 0.7790\n",
            "65/65 [==============================] - 0s 2ms/step - loss: 0.3272 - root_mean_squared_error: 0.5720\n",
            "1/1 [==============================] - 0s 70ms/step\n"
          ]
        }
      ]
    },
    {
      "cell_type": "code",
      "source": [
        "import tensorflow as tf\n",
        "from sklearn.datasets import fetch_california_housing\n",
        "import pandas as pd\n",
        "\n",
        "# Load California housing dataset\n",
        "cali = fetch_california_housing()\n",
        "cali_data = pd.DataFrame(cali['data'], columns=cali[\"feature_names\"])\n",
        "cali_target = pd.Series(cali[\"target\"], name=cali[\"target_names\"][0])\n",
        "\n",
        "# Split the dataset into train, validation, and test sets\n",
        "train_size = int(0.8 * len(cali_data))\n",
        "valid_size = int(0.1 * len(cali_data))\n",
        "test_size = len(cali_data) - train_size - valid_size\n",
        "\n",
        "X_train, X_valid, X_test = (\n",
        "    cali_data[:train_size],\n",
        "    cali_data[train_size:train_size + valid_size],\n",
        "    cali_data[train_size + valid_size:]\n",
        ")\n",
        "\n",
        "y_train, y_valid, y_test = (\n",
        "    cali_target[:train_size],\n",
        "    cali_target[train_size:train_size + valid_size],\n",
        "    cali_target[train_size + valid_size:]\n",
        ")\n",
        "\n",
        "# Normalize input features\n",
        "normalizer = tf.keras.layers.Normalization(input_shape=X_train.shape[1:])\n",
        "normalizer.adapt(X_train)\n",
        "\n",
        "# Build the model\n",
        "model = tf.keras.Sequential([\n",
        "    normalizer,\n",
        "    tf.keras.layers.Dense(50, activation=\"relu\"),\n",
        "    tf.keras.layers.Dense(50, activation=\"relu\"),\n",
        "    tf.keras.layers.Dense(50, activation=\"relu\"),\n",
        "    tf.keras.layers.Dense(1)\n",
        "])\n",
        "\n",
        "# Compile the model\n",
        "optimizer = tf.keras.optimizers.Adam(learning_rate=1e-3)\n",
        "model.compile(loss=\"mse\", optimizer=optimizer, metrics=[\"RootMeanSquaredError\"])\n",
        "\n",
        "# Train the model\n",
        "history = model.fit(X_train, y_train, epochs=20, validation_data=(X_valid, y_valid))\n",
        "\n",
        "# Evaluate the model on the test set\n",
        "mse_test, rmse_test = model.evaluate(X_test, y_test)\n",
        "print(\"Test RMSE:\", rmse_test)\n",
        "\n",
        "# Make predictions on new data\n",
        "X_new = X_test[:3]\n",
        "y_pred = model.predict(X_new)\n",
        "print(\"Predictions:\", y_pred)\n"
      ],
      "metadata": {
        "colab": {
          "base_uri": "https://localhost:8080/"
        },
        "id": "QKkesWGfVlQ3",
        "outputId": "4bee12a0-918c-4381-d378-a6a13b16eacc"
      },
      "execution_count": null,
      "outputs": [
        {
          "output_type": "stream",
          "name": "stdout",
          "text": [
            "Epoch 1/20\n",
            "516/516 [==============================] - 4s 3ms/step - loss: 0.6620 - root_mean_squared_error: 0.8136 - val_loss: 0.7385 - val_root_mean_squared_error: 0.8593\n",
            "Epoch 2/20\n",
            "516/516 [==============================] - 2s 3ms/step - loss: 0.3557 - root_mean_squared_error: 0.5964 - val_loss: 0.6850 - val_root_mean_squared_error: 0.8277\n",
            "Epoch 3/20\n",
            "516/516 [==============================] - 2s 3ms/step - loss: 0.3223 - root_mean_squared_error: 0.5677 - val_loss: 0.7189 - val_root_mean_squared_error: 0.8479\n",
            "Epoch 4/20\n",
            "516/516 [==============================] - 2s 3ms/step - loss: 0.3222 - root_mean_squared_error: 0.5677 - val_loss: 0.6699 - val_root_mean_squared_error: 0.8185\n",
            "Epoch 5/20\n",
            "516/516 [==============================] - 2s 4ms/step - loss: 0.2983 - root_mean_squared_error: 0.5462 - val_loss: 0.6756 - val_root_mean_squared_error: 0.8220\n",
            "Epoch 6/20\n",
            "516/516 [==============================] - 3s 6ms/step - loss: 0.3024 - root_mean_squared_error: 0.5499 - val_loss: 0.8588 - val_root_mean_squared_error: 0.9267\n",
            "Epoch 7/20\n",
            "516/516 [==============================] - 2s 4ms/step - loss: 0.3019 - root_mean_squared_error: 0.5495 - val_loss: 0.6739 - val_root_mean_squared_error: 0.8209\n",
            "Epoch 8/20\n",
            "516/516 [==============================] - 1s 3ms/step - loss: 0.2823 - root_mean_squared_error: 0.5313 - val_loss: 0.6247 - val_root_mean_squared_error: 0.7904\n",
            "Epoch 9/20\n",
            "516/516 [==============================] - 1s 3ms/step - loss: 0.2791 - root_mean_squared_error: 0.5283 - val_loss: 0.6126 - val_root_mean_squared_error: 0.7827\n",
            "Epoch 10/20\n",
            "516/516 [==============================] - 2s 3ms/step - loss: 0.2758 - root_mean_squared_error: 0.5251 - val_loss: 0.6818 - val_root_mean_squared_error: 0.8257\n",
            "Epoch 11/20\n",
            "516/516 [==============================] - 1s 3ms/step - loss: 0.2740 - root_mean_squared_error: 0.5235 - val_loss: 0.5722 - val_root_mean_squared_error: 0.7564\n",
            "Epoch 12/20\n",
            "516/516 [==============================] - 1s 3ms/step - loss: 0.2726 - root_mean_squared_error: 0.5221 - val_loss: 0.5824 - val_root_mean_squared_error: 0.7631\n",
            "Epoch 13/20\n",
            "516/516 [==============================] - 2s 3ms/step - loss: 0.2678 - root_mean_squared_error: 0.5175 - val_loss: 0.6233 - val_root_mean_squared_error: 0.7895\n",
            "Epoch 14/20\n",
            "516/516 [==============================] - 2s 4ms/step - loss: 0.2704 - root_mean_squared_error: 0.5200 - val_loss: 0.5669 - val_root_mean_squared_error: 0.7529\n",
            "Epoch 15/20\n",
            "516/516 [==============================] - 2s 3ms/step - loss: 0.2634 - root_mean_squared_error: 0.5133 - val_loss: 0.5714 - val_root_mean_squared_error: 0.7559\n",
            "Epoch 16/20\n",
            "516/516 [==============================] - 2s 3ms/step - loss: 0.2621 - root_mean_squared_error: 0.5120 - val_loss: 0.5878 - val_root_mean_squared_error: 0.7667\n",
            "Epoch 17/20\n",
            "516/516 [==============================] - 2s 3ms/step - loss: 0.2654 - root_mean_squared_error: 0.5151 - val_loss: 0.6230 - val_root_mean_squared_error: 0.7893\n",
            "Epoch 18/20\n",
            "516/516 [==============================] - 2s 4ms/step - loss: 0.2583 - root_mean_squared_error: 0.5082 - val_loss: 0.5939 - val_root_mean_squared_error: 0.7707\n",
            "Epoch 19/20\n",
            "516/516 [==============================] - 2s 4ms/step - loss: 0.2555 - root_mean_squared_error: 0.5055 - val_loss: 0.5310 - val_root_mean_squared_error: 0.7287\n",
            "Epoch 20/20\n",
            "516/516 [==============================] - 2s 4ms/step - loss: 0.2581 - root_mean_squared_error: 0.5081 - val_loss: 0.5704 - val_root_mean_squared_error: 0.7552\n",
            "65/65 [==============================] - 0s 2ms/step - loss: 0.3043 - root_mean_squared_error: 0.5516\n",
            "Test RMSE: 0.5516197085380554\n",
            "1/1 [==============================] - 0s 122ms/step\n",
            "Predictions: [[1.7104546]\n",
            " [1.5327188]\n",
            " [1.4931535]]\n"
          ]
        }
      ]
    },
    {
      "cell_type": "code",
      "source": [],
      "metadata": {
        "id": "s5KoNsOmhmcg"
      },
      "execution_count": null,
      "outputs": []
    }
  ]
}