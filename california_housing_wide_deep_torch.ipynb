{
  "nbformat": 4,
  "nbformat_minor": 0,
  "metadata": {
    "colab": {
      "provenance": [],
      "collapsed_sections": [
        "zFIga923jcxA",
        "DVJxh0JasI4z"
      ],
      "authorship_tag": "ABX9TyMWTWHQgrfYPrpMVQOJLkNn",
      "include_colab_link": true
    },
    "kernelspec": {
      "name": "python3",
      "display_name": "Python 3"
    },
    "language_info": {
      "name": "python"
    }
  },
  "cells": [
    {
      "cell_type": "markdown",
      "metadata": {
        "id": "view-in-github",
        "colab_type": "text"
      },
      "source": [
        "<a href=\"https://colab.research.google.com/github/SandeeeeeeeeepDey/data-science-11-weeks-progg/blob/main/california_housing_wide_deep_torch.ipynb\" target=\"_parent\"><img src=\"https://colab.research.google.com/assets/colab-badge.svg\" alt=\"Open In Colab\"/></a>"
      ]
    },
    {
      "cell_type": "markdown",
      "source": [
        "#Trying the two architectures of Deep and Wide using PyTorch"
      ],
      "metadata": {
        "id": "cOKIiAwMY-PO"
      }
    },
    {
      "cell_type": "code",
      "execution_count": 37,
      "metadata": {
        "id": "vTEyrSAJFsf7"
      },
      "outputs": [],
      "source": [
        "import torch\n",
        "from torch import nn\n",
        "from torch.utils.data import DataLoader, Dataset\n",
        "from torchvision import datasets\n",
        "from torchvision.transforms import ToTensor\n",
        "from sklearn.datasets import fetch_california_housing\n",
        "import pandas as pd"
      ]
    },
    {
      "cell_type": "code",
      "source": [
        "cali_complete = fetch_california_housing()\n",
        "data = pd.DataFrame(cali_complete[\"data\"], columns = cali_complete[\"feature_names\"])\n",
        "target = pd.Series(cali_complete[\"target\"], name = cali_complete[\"target_names\"][0])"
      ],
      "metadata": {
        "id": "iTIJ0iMfZtB9"
      },
      "execution_count": 38,
      "outputs": []
    },
    {
      "cell_type": "code",
      "source": [
        "train_size = int(len(data)*0.8)\n",
        "valid_size = round(len(data)*0.1)"
      ],
      "metadata": {
        "id": "IraYsvxmaUUY"
      },
      "execution_count": 39,
      "outputs": []
    },
    {
      "cell_type": "code",
      "source": [
        "X_train, y_train = data[:train_size], target[:train_size]\n",
        "X_valid, y_valid = data[train_size: train_size+valid_size], target[train_size: train_size+valid_size]\n",
        "X_test, y_test = data[train_size+valid_size:], target[train_size+valid_size:]"
      ],
      "metadata": {
        "id": "ZFYSg75Cbe9k"
      },
      "execution_count": 33,
      "outputs": []
    },
    {
      "cell_type": "code",
      "source": [
        "X_valid"
      ],
      "metadata": {
        "colab": {
          "base_uri": "https://localhost:8080/",
          "height": 424
        },
        "id": "zT-I1vq03nob",
        "outputId": "7d3b4768-4c1f-4835-f301-01e340fb9597"
      },
      "execution_count": 34,
      "outputs": [
        {
          "output_type": "execute_result",
          "data": {
            "text/plain": [
              "       MedInc  HouseAge  AveRooms  AveBedrms  Population  AveOccup  Latitude  \\\n",
              "16512  2.6368      34.0  5.769022   1.051630      1310.0  3.559783     37.72   \n",
              "16513  3.6378      17.0  5.432075   1.022642      1802.0  3.400000     37.81   \n",
              "16514  2.1186      28.0  4.707581   1.039711      1719.0  3.102888     37.80   \n",
              "16515  2.1250      37.0  4.919431   1.052133       521.0  2.469194     37.80   \n",
              "16516  2.9950      18.0  4.750988   0.984190      1531.0  3.025692     37.81   \n",
              "...       ...       ...       ...        ...         ...       ...       ...   \n",
              "18571  3.4125      46.0  3.587121   0.973485      1120.0  4.242424     36.92   \n",
              "18572  1.6875      52.0  3.089286   1.140306      1102.0  2.811224     36.91   \n",
              "18573  1.9609      23.0  3.393617   1.162234      1359.0  3.614362     36.91   \n",
              "18574  2.5599      42.0  2.826446   0.966942      2312.0  4.776860     36.91   \n",
              "18575  2.8348       8.0  3.781337   1.044568      2580.0  3.593315     36.91   \n",
              "\n",
              "       Longitude  \n",
              "16512    -121.22  \n",
              "16513    -121.22  \n",
              "16514    -121.22  \n",
              "16515    -121.22  \n",
              "16516    -121.21  \n",
              "...          ...  \n",
              "18571    -121.76  \n",
              "18572    -121.75  \n",
              "18573    -121.76  \n",
              "18574    -121.75  \n",
              "18575    -121.77  \n",
              "\n",
              "[2064 rows x 8 columns]"
            ],
            "text/html": [
              "\n",
              "  <div id=\"df-aa9f524e-5a3b-4454-9b26-574cbfe3d0c9\" class=\"colab-df-container\">\n",
              "    <div>\n",
              "<style scoped>\n",
              "    .dataframe tbody tr th:only-of-type {\n",
              "        vertical-align: middle;\n",
              "    }\n",
              "\n",
              "    .dataframe tbody tr th {\n",
              "        vertical-align: top;\n",
              "    }\n",
              "\n",
              "    .dataframe thead th {\n",
              "        text-align: right;\n",
              "    }\n",
              "</style>\n",
              "<table border=\"1\" class=\"dataframe\">\n",
              "  <thead>\n",
              "    <tr style=\"text-align: right;\">\n",
              "      <th></th>\n",
              "      <th>MedInc</th>\n",
              "      <th>HouseAge</th>\n",
              "      <th>AveRooms</th>\n",
              "      <th>AveBedrms</th>\n",
              "      <th>Population</th>\n",
              "      <th>AveOccup</th>\n",
              "      <th>Latitude</th>\n",
              "      <th>Longitude</th>\n",
              "    </tr>\n",
              "  </thead>\n",
              "  <tbody>\n",
              "    <tr>\n",
              "      <th>16512</th>\n",
              "      <td>2.6368</td>\n",
              "      <td>34.0</td>\n",
              "      <td>5.769022</td>\n",
              "      <td>1.051630</td>\n",
              "      <td>1310.0</td>\n",
              "      <td>3.559783</td>\n",
              "      <td>37.72</td>\n",
              "      <td>-121.22</td>\n",
              "    </tr>\n",
              "    <tr>\n",
              "      <th>16513</th>\n",
              "      <td>3.6378</td>\n",
              "      <td>17.0</td>\n",
              "      <td>5.432075</td>\n",
              "      <td>1.022642</td>\n",
              "      <td>1802.0</td>\n",
              "      <td>3.400000</td>\n",
              "      <td>37.81</td>\n",
              "      <td>-121.22</td>\n",
              "    </tr>\n",
              "    <tr>\n",
              "      <th>16514</th>\n",
              "      <td>2.1186</td>\n",
              "      <td>28.0</td>\n",
              "      <td>4.707581</td>\n",
              "      <td>1.039711</td>\n",
              "      <td>1719.0</td>\n",
              "      <td>3.102888</td>\n",
              "      <td>37.80</td>\n",
              "      <td>-121.22</td>\n",
              "    </tr>\n",
              "    <tr>\n",
              "      <th>16515</th>\n",
              "      <td>2.1250</td>\n",
              "      <td>37.0</td>\n",
              "      <td>4.919431</td>\n",
              "      <td>1.052133</td>\n",
              "      <td>521.0</td>\n",
              "      <td>2.469194</td>\n",
              "      <td>37.80</td>\n",
              "      <td>-121.22</td>\n",
              "    </tr>\n",
              "    <tr>\n",
              "      <th>16516</th>\n",
              "      <td>2.9950</td>\n",
              "      <td>18.0</td>\n",
              "      <td>4.750988</td>\n",
              "      <td>0.984190</td>\n",
              "      <td>1531.0</td>\n",
              "      <td>3.025692</td>\n",
              "      <td>37.81</td>\n",
              "      <td>-121.21</td>\n",
              "    </tr>\n",
              "    <tr>\n",
              "      <th>...</th>\n",
              "      <td>...</td>\n",
              "      <td>...</td>\n",
              "      <td>...</td>\n",
              "      <td>...</td>\n",
              "      <td>...</td>\n",
              "      <td>...</td>\n",
              "      <td>...</td>\n",
              "      <td>...</td>\n",
              "    </tr>\n",
              "    <tr>\n",
              "      <th>18571</th>\n",
              "      <td>3.4125</td>\n",
              "      <td>46.0</td>\n",
              "      <td>3.587121</td>\n",
              "      <td>0.973485</td>\n",
              "      <td>1120.0</td>\n",
              "      <td>4.242424</td>\n",
              "      <td>36.92</td>\n",
              "      <td>-121.76</td>\n",
              "    </tr>\n",
              "    <tr>\n",
              "      <th>18572</th>\n",
              "      <td>1.6875</td>\n",
              "      <td>52.0</td>\n",
              "      <td>3.089286</td>\n",
              "      <td>1.140306</td>\n",
              "      <td>1102.0</td>\n",
              "      <td>2.811224</td>\n",
              "      <td>36.91</td>\n",
              "      <td>-121.75</td>\n",
              "    </tr>\n",
              "    <tr>\n",
              "      <th>18573</th>\n",
              "      <td>1.9609</td>\n",
              "      <td>23.0</td>\n",
              "      <td>3.393617</td>\n",
              "      <td>1.162234</td>\n",
              "      <td>1359.0</td>\n",
              "      <td>3.614362</td>\n",
              "      <td>36.91</td>\n",
              "      <td>-121.76</td>\n",
              "    </tr>\n",
              "    <tr>\n",
              "      <th>18574</th>\n",
              "      <td>2.5599</td>\n",
              "      <td>42.0</td>\n",
              "      <td>2.826446</td>\n",
              "      <td>0.966942</td>\n",
              "      <td>2312.0</td>\n",
              "      <td>4.776860</td>\n",
              "      <td>36.91</td>\n",
              "      <td>-121.75</td>\n",
              "    </tr>\n",
              "    <tr>\n",
              "      <th>18575</th>\n",
              "      <td>2.8348</td>\n",
              "      <td>8.0</td>\n",
              "      <td>3.781337</td>\n",
              "      <td>1.044568</td>\n",
              "      <td>2580.0</td>\n",
              "      <td>3.593315</td>\n",
              "      <td>36.91</td>\n",
              "      <td>-121.77</td>\n",
              "    </tr>\n",
              "  </tbody>\n",
              "</table>\n",
              "<p>2064 rows × 8 columns</p>\n",
              "</div>\n",
              "    <div class=\"colab-df-buttons\">\n",
              "\n",
              "  <div class=\"colab-df-container\">\n",
              "    <button class=\"colab-df-convert\" onclick=\"convertToInteractive('df-aa9f524e-5a3b-4454-9b26-574cbfe3d0c9')\"\n",
              "            title=\"Convert this dataframe to an interactive table.\"\n",
              "            style=\"display:none;\">\n",
              "\n",
              "  <svg xmlns=\"http://www.w3.org/2000/svg\" height=\"24px\" viewBox=\"0 -960 960 960\">\n",
              "    <path d=\"M120-120v-720h720v720H120Zm60-500h600v-160H180v160Zm220 220h160v-160H400v160Zm0 220h160v-160H400v160ZM180-400h160v-160H180v160Zm440 0h160v-160H620v160ZM180-180h160v-160H180v160Zm440 0h160v-160H620v160Z\"/>\n",
              "  </svg>\n",
              "    </button>\n",
              "\n",
              "  <style>\n",
              "    .colab-df-container {\n",
              "      display:flex;\n",
              "      gap: 12px;\n",
              "    }\n",
              "\n",
              "    .colab-df-convert {\n",
              "      background-color: #E8F0FE;\n",
              "      border: none;\n",
              "      border-radius: 50%;\n",
              "      cursor: pointer;\n",
              "      display: none;\n",
              "      fill: #1967D2;\n",
              "      height: 32px;\n",
              "      padding: 0 0 0 0;\n",
              "      width: 32px;\n",
              "    }\n",
              "\n",
              "    .colab-df-convert:hover {\n",
              "      background-color: #E2EBFA;\n",
              "      box-shadow: 0px 1px 2px rgba(60, 64, 67, 0.3), 0px 1px 3px 1px rgba(60, 64, 67, 0.15);\n",
              "      fill: #174EA6;\n",
              "    }\n",
              "\n",
              "    .colab-df-buttons div {\n",
              "      margin-bottom: 4px;\n",
              "    }\n",
              "\n",
              "    [theme=dark] .colab-df-convert {\n",
              "      background-color: #3B4455;\n",
              "      fill: #D2E3FC;\n",
              "    }\n",
              "\n",
              "    [theme=dark] .colab-df-convert:hover {\n",
              "      background-color: #434B5C;\n",
              "      box-shadow: 0px 1px 3px 1px rgba(0, 0, 0, 0.15);\n",
              "      filter: drop-shadow(0px 1px 2px rgba(0, 0, 0, 0.3));\n",
              "      fill: #FFFFFF;\n",
              "    }\n",
              "  </style>\n",
              "\n",
              "    <script>\n",
              "      const buttonEl =\n",
              "        document.querySelector('#df-aa9f524e-5a3b-4454-9b26-574cbfe3d0c9 button.colab-df-convert');\n",
              "      buttonEl.style.display =\n",
              "        google.colab.kernel.accessAllowed ? 'block' : 'none';\n",
              "\n",
              "      async function convertToInteractive(key) {\n",
              "        const element = document.querySelector('#df-aa9f524e-5a3b-4454-9b26-574cbfe3d0c9');\n",
              "        const dataTable =\n",
              "          await google.colab.kernel.invokeFunction('convertToInteractive',\n",
              "                                                    [key], {});\n",
              "        if (!dataTable) return;\n",
              "\n",
              "        const docLinkHtml = 'Like what you see? Visit the ' +\n",
              "          '<a target=\"_blank\" href=https://colab.research.google.com/notebooks/data_table.ipynb>data table notebook</a>'\n",
              "          + ' to learn more about interactive tables.';\n",
              "        element.innerHTML = '';\n",
              "        dataTable['output_type'] = 'display_data';\n",
              "        await google.colab.output.renderOutput(dataTable, element);\n",
              "        const docLink = document.createElement('div');\n",
              "        docLink.innerHTML = docLinkHtml;\n",
              "        element.appendChild(docLink);\n",
              "      }\n",
              "    </script>\n",
              "  </div>\n",
              "\n",
              "\n",
              "<div id=\"df-d678be63-1aaa-4d9a-9dac-2f6867608015\">\n",
              "  <button class=\"colab-df-quickchart\" onclick=\"quickchart('df-d678be63-1aaa-4d9a-9dac-2f6867608015')\"\n",
              "            title=\"Suggest charts\"\n",
              "            style=\"display:none;\">\n",
              "\n",
              "<svg xmlns=\"http://www.w3.org/2000/svg\" height=\"24px\"viewBox=\"0 0 24 24\"\n",
              "     width=\"24px\">\n",
              "    <g>\n",
              "        <path d=\"M19 3H5c-1.1 0-2 .9-2 2v14c0 1.1.9 2 2 2h14c1.1 0 2-.9 2-2V5c0-1.1-.9-2-2-2zM9 17H7v-7h2v7zm4 0h-2V7h2v10zm4 0h-2v-4h2v4z\"/>\n",
              "    </g>\n",
              "</svg>\n",
              "  </button>\n",
              "\n",
              "<style>\n",
              "  .colab-df-quickchart {\n",
              "      --bg-color: #E8F0FE;\n",
              "      --fill-color: #1967D2;\n",
              "      --hover-bg-color: #E2EBFA;\n",
              "      --hover-fill-color: #174EA6;\n",
              "      --disabled-fill-color: #AAA;\n",
              "      --disabled-bg-color: #DDD;\n",
              "  }\n",
              "\n",
              "  [theme=dark] .colab-df-quickchart {\n",
              "      --bg-color: #3B4455;\n",
              "      --fill-color: #D2E3FC;\n",
              "      --hover-bg-color: #434B5C;\n",
              "      --hover-fill-color: #FFFFFF;\n",
              "      --disabled-bg-color: #3B4455;\n",
              "      --disabled-fill-color: #666;\n",
              "  }\n",
              "\n",
              "  .colab-df-quickchart {\n",
              "    background-color: var(--bg-color);\n",
              "    border: none;\n",
              "    border-radius: 50%;\n",
              "    cursor: pointer;\n",
              "    display: none;\n",
              "    fill: var(--fill-color);\n",
              "    height: 32px;\n",
              "    padding: 0;\n",
              "    width: 32px;\n",
              "  }\n",
              "\n",
              "  .colab-df-quickchart:hover {\n",
              "    background-color: var(--hover-bg-color);\n",
              "    box-shadow: 0 1px 2px rgba(60, 64, 67, 0.3), 0 1px 3px 1px rgba(60, 64, 67, 0.15);\n",
              "    fill: var(--button-hover-fill-color);\n",
              "  }\n",
              "\n",
              "  .colab-df-quickchart-complete:disabled,\n",
              "  .colab-df-quickchart-complete:disabled:hover {\n",
              "    background-color: var(--disabled-bg-color);\n",
              "    fill: var(--disabled-fill-color);\n",
              "    box-shadow: none;\n",
              "  }\n",
              "\n",
              "  .colab-df-spinner {\n",
              "    border: 2px solid var(--fill-color);\n",
              "    border-color: transparent;\n",
              "    border-bottom-color: var(--fill-color);\n",
              "    animation:\n",
              "      spin 1s steps(1) infinite;\n",
              "  }\n",
              "\n",
              "  @keyframes spin {\n",
              "    0% {\n",
              "      border-color: transparent;\n",
              "      border-bottom-color: var(--fill-color);\n",
              "      border-left-color: var(--fill-color);\n",
              "    }\n",
              "    20% {\n",
              "      border-color: transparent;\n",
              "      border-left-color: var(--fill-color);\n",
              "      border-top-color: var(--fill-color);\n",
              "    }\n",
              "    30% {\n",
              "      border-color: transparent;\n",
              "      border-left-color: var(--fill-color);\n",
              "      border-top-color: var(--fill-color);\n",
              "      border-right-color: var(--fill-color);\n",
              "    }\n",
              "    40% {\n",
              "      border-color: transparent;\n",
              "      border-right-color: var(--fill-color);\n",
              "      border-top-color: var(--fill-color);\n",
              "    }\n",
              "    60% {\n",
              "      border-color: transparent;\n",
              "      border-right-color: var(--fill-color);\n",
              "    }\n",
              "    80% {\n",
              "      border-color: transparent;\n",
              "      border-right-color: var(--fill-color);\n",
              "      border-bottom-color: var(--fill-color);\n",
              "    }\n",
              "    90% {\n",
              "      border-color: transparent;\n",
              "      border-bottom-color: var(--fill-color);\n",
              "    }\n",
              "  }\n",
              "</style>\n",
              "\n",
              "  <script>\n",
              "    async function quickchart(key) {\n",
              "      const quickchartButtonEl =\n",
              "        document.querySelector('#' + key + ' button');\n",
              "      quickchartButtonEl.disabled = true;  // To prevent multiple clicks.\n",
              "      quickchartButtonEl.classList.add('colab-df-spinner');\n",
              "      try {\n",
              "        const charts = await google.colab.kernel.invokeFunction(\n",
              "            'suggestCharts', [key], {});\n",
              "      } catch (error) {\n",
              "        console.error('Error during call to suggestCharts:', error);\n",
              "      }\n",
              "      quickchartButtonEl.classList.remove('colab-df-spinner');\n",
              "      quickchartButtonEl.classList.add('colab-df-quickchart-complete');\n",
              "    }\n",
              "    (() => {\n",
              "      let quickchartButtonEl =\n",
              "        document.querySelector('#df-d678be63-1aaa-4d9a-9dac-2f6867608015 button');\n",
              "      quickchartButtonEl.style.display =\n",
              "        google.colab.kernel.accessAllowed ? 'block' : 'none';\n",
              "    })();\n",
              "  </script>\n",
              "</div>\n",
              "    </div>\n",
              "  </div>\n"
            ],
            "application/vnd.google.colaboratory.intrinsic+json": {
              "type": "dataframe",
              "variable_name": "X_valid",
              "summary": "{\n  \"name\": \"X_valid\",\n  \"rows\": 2064,\n  \"fields\": [\n    {\n      \"column\": \"MedInc\",\n      \"properties\": {\n        \"dtype\": \"number\",\n        \"std\": 2.1474231508075063,\n        \"min\": 0.7025,\n        \"max\": 15.0001,\n        \"num_unique_values\": 1885,\n        \"samples\": [\n          5.4364,\n          4.2407,\n          6.1228\n        ],\n        \"semantic_type\": \"\",\n        \"description\": \"\"\n      }\n    },\n    {\n      \"column\": \"HouseAge\",\n      \"properties\": {\n        \"dtype\": \"number\",\n        \"std\": 11.485936039922292,\n        \"min\": 2.0,\n        \"max\": 52.0,\n        \"num_unique_values\": 51,\n        \"samples\": [\n          39.0,\n          25.0,\n          50.0\n        ],\n        \"semantic_type\": \"\",\n        \"description\": \"\"\n      }\n    },\n    {\n      \"column\": \"AveRooms\",\n      \"properties\": {\n        \"dtype\": \"number\",\n        \"std\": 1.3258370371138306,\n        \"min\": 1.1304347826086956,\n        \"max\": 14.666666666666666,\n        \"num_unique_values\": 2040,\n        \"samples\": [\n          5.775956284153006,\n          5.712,\n          3.850920245398773\n        ],\n        \"semantic_type\": \"\",\n        \"description\": \"\"\n      }\n    },\n    {\n      \"column\": \"AveBedrms\",\n      \"properties\": {\n        \"dtype\": \"number\",\n        \"std\": 0.10061125699066403,\n        \"min\": 0.75,\n        \"max\": 2.246031746031746,\n        \"num_unique_values\": 1898,\n        \"samples\": [\n          1.1024096385542168,\n          0.988009592326139,\n          1.018216682646213\n        ],\n        \"semantic_type\": \"\",\n        \"description\": \"\"\n      }\n    },\n    {\n      \"column\": \"Population\",\n      \"properties\": {\n        \"dtype\": \"number\",\n        \"std\": 982.6099099137481,\n        \"min\": 8.0,\n        \"max\": 12427.0,\n        \"num_unique_values\": 1405,\n        \"samples\": [\n          1598.0,\n          1722.0,\n          1041.0\n        ],\n        \"semantic_type\": \"\",\n        \"description\": \"\"\n      }\n    },\n    {\n      \"column\": \"AveOccup\",\n      \"properties\": {\n        \"dtype\": \"number\",\n        \"std\": 11.036590371605843,\n        \"min\": 1.3263009845288327,\n        \"max\": 502.46153846153845,\n        \"num_unique_values\": 2027,\n        \"samples\": [\n          3.789285714285714,\n          2.4208333333333334,\n          2.8184818481848186\n        ],\n        \"semantic_type\": \"\",\n        \"description\": \"\"\n      }\n    },\n    {\n      \"column\": \"Latitude\",\n      \"properties\": {\n        \"dtype\": \"number\",\n        \"std\": 1.0856769995013433,\n        \"min\": 34.35,\n        \"max\": 37.88,\n        \"num_unique_values\": 193,\n        \"samples\": [\n          35.29,\n          34.91,\n          37.69\n        ],\n        \"semantic_type\": \"\",\n        \"description\": \"\"\n      }\n    },\n    {\n      \"column\": \"Longitude\",\n      \"properties\": {\n        \"dtype\": \"number\",\n        \"std\": 0.7935513370612036,\n        \"min\": -122.55,\n        \"max\": -119.49,\n        \"num_unique_values\": 229,\n        \"samples\": [\n          -121.63,\n          -120.76,\n          -121.3\n        ],\n        \"semantic_type\": \"\",\n        \"description\": \"\"\n      }\n    }\n  ]\n}"
            }
          },
          "metadata": {},
          "execution_count": 34
        }
      ]
    },
    {
      "cell_type": "code",
      "source": [
        "X = X_train.iloc[:, :5], X_train.iloc[:, 2:]"
      ],
      "metadata": {
        "id": "jfAlfxl6brMr"
      },
      "execution_count": 142,
      "outputs": []
    },
    {
      "cell_type": "code",
      "source": [
        "X_train_wide, X_train_deep = X"
      ],
      "metadata": {
        "id": "r5voh_dwbuJ3"
      },
      "execution_count": 143,
      "outputs": []
    },
    {
      "cell_type": "code",
      "source": [
        "X_train_wide"
      ],
      "metadata": {
        "id": "2fgtPNIbbyLW"
      },
      "execution_count": null,
      "outputs": []
    },
    {
      "cell_type": "code",
      "source": [
        "X_train_wide, X_train_deep = X_train.iloc[:, :5], X_train.iloc[:, 2:]\n",
        "X_valid_wide, X_valid_deep = X_valid.iloc[:, :5], X_valid.iloc[:, 2:]\n",
        "X_test_wide, X_test_deep = X_test.iloc[:, :5], X_test.iloc[:, 2:]"
      ],
      "metadata": {
        "id": "RyUSwC72ZmAh"
      },
      "execution_count": 71,
      "outputs": []
    },
    {
      "cell_type": "markdown",
      "source": [
        "##Dataset and DataLoader"
      ],
      "metadata": {
        "id": "Lca5-QiQj0DE"
      }
    },
    {
      "cell_type": "code",
      "source": [
        "class CaliforniaHousing(Dataset):\n",
        "  def __init__(self, data, target):\n",
        "    self.data = torch.tensor(data.values).float()\n",
        "    self.target = torch.tensor(target.values).float()\n",
        "    self.means = torch.tensor(data.values.mean(axis=0)).float()\n",
        "    self.stds = torch.tensor(data.values.std(axis=0)).float()\n",
        "    self.data = (self.data - self.means) / self.stds\n",
        "\n",
        "  def __len__(self):\n",
        "    return len(self.data)\n",
        "\n",
        "  def __getitem__(self, idx):\n",
        "     return self.data[idx], self.target[idx]"
      ],
      "metadata": {
        "id": "IIn-R6KucX17"
      },
      "execution_count": 40,
      "outputs": []
    },
    {
      "cell_type": "code",
      "source": [
        "train_dataset = CaliforniaHousing(X_train, y_train)\n",
        "valid_dataset = CaliforniaHousing(X_valid, y_valid)\n",
        "test_dataset = CaliforniaHousing(X_test, y_test)"
      ],
      "metadata": {
        "id": "Fvxr9eX2Il1y"
      },
      "execution_count": 6,
      "outputs": []
    },
    {
      "cell_type": "code",
      "source": [
        "batch_size = 32"
      ],
      "metadata": {
        "id": "xvRASwaSNYWm"
      },
      "execution_count": 7,
      "outputs": []
    },
    {
      "cell_type": "code",
      "source": [
        "train_dataloader = DataLoader(train_dataset, batch_size = batch_size)\n",
        "valid_dataloader = DataLoader(valid_dataset, batch_size = batch_size)\n",
        "test_dataloader = DataLoader(test_dataset, batch_size = batch_size)"
      ],
      "metadata": {
        "id": "B4tvFjmNJcOu"
      },
      "execution_count": 8,
      "outputs": []
    },
    {
      "cell_type": "markdown",
      "source": [
        "##NeuralNets"
      ],
      "metadata": {
        "id": "XCFAzulsj4t6"
      }
    },
    {
      "cell_type": "code",
      "source": [
        "device = (\n",
        "    \"cuda\"\n",
        "    if torch.cuda.is_available()\n",
        "    else \"mps\"\n",
        "    if torch.backends.mps.is_available()\n",
        "    else \"cpu\"\n",
        ")\n"
      ],
      "metadata": {
        "id": "lY2G8MQxNjBv"
      },
      "execution_count": 9,
      "outputs": []
    },
    {
      "cell_type": "markdown",
      "source": [
        "###Deep Wide One"
      ],
      "metadata": {
        "id": "3crH0DU0ktpg"
      }
    },
    {
      "cell_type": "code",
      "source": [
        "class CaliNet(nn.Module):\n",
        "  def __init__(self):\n",
        "    super().__init__()\n",
        "    self.linear_relu_concat = nn.Sequential(\n",
        "        nn.Linear(8, 30),\n",
        "        nn.ReLU(),\n",
        "        nn.Linear(30,30),\n",
        "        nn.ReLU()\n",
        "\n",
        "    )\n",
        "    self.op = nn.Linear(38,1)\n",
        "\n",
        "  def forward(self,x):\n",
        "    through = self.linear_relu_concat(x)\n",
        "    # print(x.shape,\" and \", through.shape)\n",
        "    concat = torch.cat([x,through], dim = 1)\n",
        "    output = self.op(concat)\n",
        "    return output"
      ],
      "metadata": {
        "id": "61Lb4vOUOqop"
      },
      "execution_count": 47,
      "outputs": []
    },
    {
      "cell_type": "code",
      "source": [
        "cali_net = CaliNet().to(device)"
      ],
      "metadata": {
        "id": "Z_b6-J1ucgfT"
      },
      "execution_count": 48,
      "outputs": []
    },
    {
      "cell_type": "markdown",
      "source": [
        "####Sanity Check"
      ],
      "metadata": {
        "id": "zFIga923jcxA"
      }
    },
    {
      "cell_type": "code",
      "source": [
        "d,t = next(iter(train_dataloader))"
      ],
      "metadata": {
        "id": "uhDp_1vddmcu"
      },
      "execution_count": 119,
      "outputs": []
    },
    {
      "cell_type": "code",
      "source": [
        "d= d.to(device)\n",
        "t = t.to(device)"
      ],
      "metadata": {
        "id": "-LWs-J76ecDS"
      },
      "execution_count": 120,
      "outputs": []
    },
    {
      "cell_type": "code",
      "source": [
        "g = cali_net(d)"
      ],
      "metadata": {
        "colab": {
          "base_uri": "https://localhost:8080/"
        },
        "id": "u7ikmTI4d6Hh",
        "outputId": "91baacee-b23c-4a21-b253-25cca49e9009"
      },
      "execution_count": 121,
      "outputs": [
        {
          "output_type": "stream",
          "name": "stdout",
          "text": [
            "torch.Size([32, 8])  and  torch.Size([32, 30])\n"
          ]
        }
      ]
    },
    {
      "cell_type": "markdown",
      "source": [
        "####Continue"
      ],
      "metadata": {
        "id": "IN46iniPjd99"
      }
    },
    {
      "cell_type": "code",
      "source": [
        "loss_fn = nn.MSELoss()\n",
        "optimizer = torch.optim.Adam(cali_net.parameters(), lr = 1e-3)"
      ],
      "metadata": {
        "id": "6QRg9RiXc4yN"
      },
      "execution_count": 130,
      "outputs": []
    },
    {
      "cell_type": "code",
      "source": [
        "def train(model, dataloader, loss_fn, optimizer):\n",
        "  size = len(dataloader.dataset)\n",
        "  model.train()\n",
        "\n",
        "  for batch, (X,y) in enumerate(dataloader):\n",
        "    X, y = X.to(device), y.to(device)\n",
        "    pred = model(X)\n",
        "    loss = loss_fn(pred, y)\n",
        "\n",
        "    loss.backward()\n",
        "    optimizer.step()\n",
        "    optimizer.zero_grad()\n",
        "\n",
        "    if batch % 100 == 0:\n",
        "      loss, current = loss.item(), (batch+1)*size\n",
        "      print(f\"loss={loss:>8f}, current={current:>5d}, size={size:>5d}\")"
      ],
      "metadata": {
        "id": "jLgClf29juU0"
      },
      "execution_count": 65,
      "outputs": []
    },
    {
      "cell_type": "code",
      "source": [
        "def valid(model, dataloader, loss_fn):\n",
        "  size = len(dataloader.dataset)\n",
        "  num_batch = len(dataloader)\n",
        "\n",
        "  model.eval()\n",
        "  loss, correct = 0,0\n",
        "  with torch.no_grad():\n",
        "    for X, y in dataloader:\n",
        "      X, y = X.to(device), y.to(device)\n",
        "      pred = model(X)\n",
        "\n",
        "      loss += loss_fn(pred, y).item()\n",
        "      correct += torch.sqrt(loss_fn(pred, y))\n",
        "\n",
        "  loss /= num_batch\n",
        "  correct /= num_batch\n",
        "\n",
        "  print(f\"acc:{correct:>8f}, loss:{loss:>8f} \")"
      ],
      "metadata": {
        "id": "78RI182zn6wP"
      },
      "execution_count": 66,
      "outputs": []
    },
    {
      "cell_type": "code",
      "source": [
        "epoch = 150\n",
        "for i in range(epoch):\n",
        "  train(cali_net, train_dataloader, loss_fn, optimizer)\n",
        "  valid(cali_net, valid_dataloader, loss_fn)\n",
        "  print(i+1,\"th epoch done.\")"
      ],
      "metadata": {
        "colab": {
          "base_uri": "https://localhost:8080/",
          "height": 1000
        },
        "id": "H-IaO-fHqSST",
        "outputId": "034c7570-b860-441d-a34d-dcdbdac643cd"
      },
      "execution_count": 67,
      "outputs": [
        {
          "output_type": "stream",
          "name": "stdout",
          "text": [
            "loss=1.417081, current=16512, size=16512\n",
            "loss=0.106106, current=1667712, size=16512\n",
            "loss=1.580430, current=3318912, size=16512\n",
            "loss=0.119552, current=4970112, size=16512\n",
            "loss=0.557487, current=6621312, size=16512\n",
            "loss=1.056013, current=8272512, size=16512\n",
            "acc:1.485203, loss:2.601893 \n",
            "1 th epoch done.\n",
            "loss=1.316974, current=16512, size=16512\n",
            "loss=0.093328, current=1667712, size=16512\n",
            "loss=1.577389, current=3318912, size=16512\n",
            "loss=0.117042, current=4970112, size=16512\n",
            "loss=0.557173, current=6621312, size=16512\n",
            "loss=1.074784, current=8272512, size=16512\n",
            "acc:1.497792, loss:2.641179 \n",
            "2 th epoch done.\n",
            "loss=1.307108, current=16512, size=16512\n",
            "loss=0.087218, current=1667712, size=16512\n",
            "loss=1.566471, current=3318912, size=16512\n",
            "loss=0.116274, current=4970112, size=16512\n",
            "loss=0.555575, current=6621312, size=16512\n",
            "loss=1.079746, current=8272512, size=16512\n",
            "acc:1.509650, loss:2.680113 \n",
            "3 th epoch done.\n",
            "loss=1.309372, current=16512, size=16512\n",
            "loss=0.084050, current=1667712, size=16512\n",
            "loss=1.553747, current=3318912, size=16512\n",
            "loss=0.115841, current=4970112, size=16512\n",
            "loss=0.553593, current=6621312, size=16512\n",
            "loss=1.082879, current=8272512, size=16512\n",
            "acc:1.518799, loss:2.711412 \n",
            "4 th epoch done.\n",
            "loss=1.311747, current=16512, size=16512\n",
            "loss=0.081568, current=1667712, size=16512\n",
            "loss=1.542936, current=3318912, size=16512\n",
            "loss=0.116026, current=4970112, size=16512\n",
            "loss=0.550304, current=6621312, size=16512\n",
            "loss=1.084161, current=8272512, size=16512\n",
            "acc:1.528100, loss:2.744008 \n",
            "5 th epoch done.\n",
            "loss=1.314013, current=16512, size=16512\n",
            "loss=0.079783, current=1667712, size=16512\n",
            "loss=1.533627, current=3318912, size=16512\n",
            "loss=0.116141, current=4970112, size=16512\n",
            "loss=0.548411, current=6621312, size=16512\n",
            "loss=1.081730, current=8272512, size=16512\n",
            "acc:1.536432, loss:2.774127 \n",
            "6 th epoch done.\n",
            "loss=1.317333, current=16512, size=16512\n",
            "loss=0.078529, current=1667712, size=16512\n",
            "loss=1.525283, current=3318912, size=16512\n",
            "loss=0.116451, current=4970112, size=16512\n",
            "loss=0.547216, current=6621312, size=16512\n",
            "loss=1.079429, current=8272512, size=16512\n",
            "acc:1.544116, loss:2.803135 \n",
            "7 th epoch done.\n",
            "loss=1.318784, current=16512, size=16512\n",
            "loss=0.077579, current=1667712, size=16512\n",
            "loss=1.518070, current=3318912, size=16512\n",
            "loss=0.116839, current=4970112, size=16512\n",
            "loss=0.546739, current=6621312, size=16512\n",
            "loss=1.078233, current=8272512, size=16512\n",
            "acc:1.548968, loss:2.820260 \n",
            "8 th epoch done.\n",
            "loss=1.317853, current=16512, size=16512\n",
            "loss=0.076606, current=1667712, size=16512\n",
            "loss=1.511992, current=3318912, size=16512\n",
            "loss=0.117164, current=4970112, size=16512\n",
            "loss=0.545868, current=6621312, size=16512\n",
            "loss=1.075766, current=8272512, size=16512\n",
            "acc:1.553683, loss:2.836968 \n",
            "9 th epoch done.\n",
            "loss=1.317657, current=16512, size=16512\n",
            "loss=0.075837, current=1667712, size=16512\n",
            "loss=1.507013, current=3318912, size=16512\n",
            "loss=0.117238, current=4970112, size=16512\n",
            "loss=0.544942, current=6621312, size=16512\n",
            "loss=1.072521, current=8272512, size=16512\n",
            "acc:1.557369, loss:2.850045 \n",
            "10 th epoch done.\n",
            "loss=1.317595, current=16512, size=16512\n",
            "loss=0.075295, current=1667712, size=16512\n",
            "loss=1.502969, current=3318912, size=16512\n",
            "loss=0.117386, current=4970112, size=16512\n",
            "loss=0.544577, current=6621312, size=16512\n",
            "loss=1.070958, current=8272512, size=16512\n",
            "acc:1.561821, loss:2.865767 \n",
            "11 th epoch done.\n",
            "loss=1.315674, current=16512, size=16512\n",
            "loss=0.074684, current=1667712, size=16512\n",
            "loss=1.499492, current=3318912, size=16512\n",
            "loss=0.117509, current=4970112, size=16512\n",
            "loss=0.544043, current=6621312, size=16512\n",
            "loss=1.067339, current=8272512, size=16512\n",
            "acc:1.565112, loss:2.877184 \n",
            "12 th epoch done.\n",
            "loss=1.316605, current=16512, size=16512\n",
            "loss=0.073992, current=1667712, size=16512\n",
            "loss=1.496679, current=3318912, size=16512\n",
            "loss=0.117493, current=4970112, size=16512\n",
            "loss=0.543761, current=6621312, size=16512\n",
            "loss=1.063527, current=8272512, size=16512\n",
            "acc:1.568193, loss:2.887713 \n",
            "13 th epoch done.\n",
            "loss=1.316866, current=16512, size=16512\n",
            "loss=0.073628, current=1667712, size=16512\n",
            "loss=1.494342, current=3318912, size=16512\n",
            "loss=0.117519, current=4970112, size=16512\n",
            "loss=0.544042, current=6621312, size=16512\n",
            "loss=1.060628, current=8272512, size=16512\n",
            "acc:1.572142, loss:2.901699 \n",
            "14 th epoch done.\n",
            "loss=1.317617, current=16512, size=16512\n",
            "loss=0.073256, current=1667712, size=16512\n",
            "loss=1.492111, current=3318912, size=16512\n",
            "loss=0.117552, current=4970112, size=16512\n",
            "loss=0.544220, current=6621312, size=16512\n",
            "loss=1.058339, current=8272512, size=16512\n",
            "acc:1.576025, loss:2.915486 \n",
            "15 th epoch done.\n",
            "loss=1.318032, current=16512, size=16512\n",
            "loss=0.072790, current=1667712, size=16512\n",
            "loss=1.490195, current=3318912, size=16512\n",
            "loss=0.117221, current=4970112, size=16512\n",
            "loss=0.544072, current=6621312, size=16512\n",
            "loss=1.055151, current=8272512, size=16512\n",
            "acc:1.579308, loss:2.927058 \n",
            "16 th epoch done.\n",
            "loss=1.319869, current=16512, size=16512\n",
            "loss=0.072256, current=1667712, size=16512\n"
          ]
        },
        {
          "output_type": "error",
          "ename": "KeyboardInterrupt",
          "evalue": "",
          "traceback": [
            "\u001b[0;31m---------------------------------------------------------------------------\u001b[0m",
            "\u001b[0;31mKeyboardInterrupt\u001b[0m                         Traceback (most recent call last)",
            "\u001b[0;32m<ipython-input-67-ab012be854e2>\u001b[0m in \u001b[0;36m<cell line: 2>\u001b[0;34m()\u001b[0m\n\u001b[1;32m      1\u001b[0m \u001b[0mepoch\u001b[0m \u001b[0;34m=\u001b[0m \u001b[0;36m150\u001b[0m\u001b[0;34m\u001b[0m\u001b[0;34m\u001b[0m\u001b[0m\n\u001b[1;32m      2\u001b[0m \u001b[0;32mfor\u001b[0m \u001b[0mi\u001b[0m \u001b[0;32min\u001b[0m \u001b[0mrange\u001b[0m\u001b[0;34m(\u001b[0m\u001b[0mepoch\u001b[0m\u001b[0;34m)\u001b[0m\u001b[0;34m:\u001b[0m\u001b[0;34m\u001b[0m\u001b[0;34m\u001b[0m\u001b[0m\n\u001b[0;32m----> 3\u001b[0;31m   \u001b[0mtrain\u001b[0m\u001b[0;34m(\u001b[0m\u001b[0mcali_net\u001b[0m\u001b[0;34m,\u001b[0m \u001b[0mtrain_dataloader\u001b[0m\u001b[0;34m,\u001b[0m \u001b[0mloss_fn\u001b[0m\u001b[0;34m,\u001b[0m \u001b[0moptimizer\u001b[0m\u001b[0;34m)\u001b[0m\u001b[0;34m\u001b[0m\u001b[0;34m\u001b[0m\u001b[0m\n\u001b[0m\u001b[1;32m      4\u001b[0m   \u001b[0mvalid\u001b[0m\u001b[0;34m(\u001b[0m\u001b[0mcali_net\u001b[0m\u001b[0;34m,\u001b[0m \u001b[0mvalid_dataloader\u001b[0m\u001b[0;34m,\u001b[0m \u001b[0mloss_fn\u001b[0m\u001b[0;34m)\u001b[0m\u001b[0;34m\u001b[0m\u001b[0;34m\u001b[0m\u001b[0m\n\u001b[1;32m      5\u001b[0m   \u001b[0mprint\u001b[0m\u001b[0;34m(\u001b[0m\u001b[0mi\u001b[0m\u001b[0;34m+\u001b[0m\u001b[0;36m1\u001b[0m\u001b[0;34m,\u001b[0m\u001b[0;34m\"th epoch done.\"\u001b[0m\u001b[0;34m)\u001b[0m\u001b[0;34m\u001b[0m\u001b[0;34m\u001b[0m\u001b[0m\n",
            "\u001b[0;32m<ipython-input-65-62137df2a89f>\u001b[0m in \u001b[0;36mtrain\u001b[0;34m(model, dataloader, loss_fn, optimizer)\u001b[0m\n\u001b[1;32m      5\u001b[0m   \u001b[0;32mfor\u001b[0m \u001b[0mbatch\u001b[0m\u001b[0;34m,\u001b[0m \u001b[0;34m(\u001b[0m\u001b[0mX\u001b[0m\u001b[0;34m,\u001b[0m\u001b[0my\u001b[0m\u001b[0;34m)\u001b[0m \u001b[0;32min\u001b[0m \u001b[0menumerate\u001b[0m\u001b[0;34m(\u001b[0m\u001b[0mdataloader\u001b[0m\u001b[0;34m)\u001b[0m\u001b[0;34m:\u001b[0m\u001b[0;34m\u001b[0m\u001b[0;34m\u001b[0m\u001b[0m\n\u001b[1;32m      6\u001b[0m     \u001b[0mX\u001b[0m\u001b[0;34m,\u001b[0m \u001b[0my\u001b[0m \u001b[0;34m=\u001b[0m \u001b[0mX\u001b[0m\u001b[0;34m.\u001b[0m\u001b[0mto\u001b[0m\u001b[0;34m(\u001b[0m\u001b[0mdevice\u001b[0m\u001b[0;34m)\u001b[0m\u001b[0;34m,\u001b[0m \u001b[0my\u001b[0m\u001b[0;34m.\u001b[0m\u001b[0mto\u001b[0m\u001b[0;34m(\u001b[0m\u001b[0mdevice\u001b[0m\u001b[0;34m)\u001b[0m\u001b[0;34m\u001b[0m\u001b[0;34m\u001b[0m\u001b[0m\n\u001b[0;32m----> 7\u001b[0;31m     \u001b[0mpred\u001b[0m \u001b[0;34m=\u001b[0m \u001b[0mmodel\u001b[0m\u001b[0;34m(\u001b[0m\u001b[0mX\u001b[0m\u001b[0;34m)\u001b[0m\u001b[0;34m\u001b[0m\u001b[0;34m\u001b[0m\u001b[0m\n\u001b[0m\u001b[1;32m      8\u001b[0m     \u001b[0mloss\u001b[0m \u001b[0;34m=\u001b[0m \u001b[0mloss_fn\u001b[0m\u001b[0;34m(\u001b[0m\u001b[0mpred\u001b[0m\u001b[0;34m,\u001b[0m \u001b[0my\u001b[0m\u001b[0;34m)\u001b[0m\u001b[0;34m\u001b[0m\u001b[0;34m\u001b[0m\u001b[0m\n\u001b[1;32m      9\u001b[0m \u001b[0;34m\u001b[0m\u001b[0m\n",
            "\u001b[0;32m/usr/local/lib/python3.10/dist-packages/torch/nn/modules/module.py\u001b[0m in \u001b[0;36m_wrapped_call_impl\u001b[0;34m(self, *args, **kwargs)\u001b[0m\n\u001b[1;32m   1516\u001b[0m             \u001b[0;32mreturn\u001b[0m \u001b[0mself\u001b[0m\u001b[0;34m.\u001b[0m\u001b[0m_compiled_call_impl\u001b[0m\u001b[0;34m(\u001b[0m\u001b[0;34m*\u001b[0m\u001b[0margs\u001b[0m\u001b[0;34m,\u001b[0m \u001b[0;34m**\u001b[0m\u001b[0mkwargs\u001b[0m\u001b[0;34m)\u001b[0m  \u001b[0;31m# type: ignore[misc]\u001b[0m\u001b[0;34m\u001b[0m\u001b[0;34m\u001b[0m\u001b[0m\n\u001b[1;32m   1517\u001b[0m         \u001b[0;32melse\u001b[0m\u001b[0;34m:\u001b[0m\u001b[0;34m\u001b[0m\u001b[0;34m\u001b[0m\u001b[0m\n\u001b[0;32m-> 1518\u001b[0;31m             \u001b[0;32mreturn\u001b[0m \u001b[0mself\u001b[0m\u001b[0;34m.\u001b[0m\u001b[0m_call_impl\u001b[0m\u001b[0;34m(\u001b[0m\u001b[0;34m*\u001b[0m\u001b[0margs\u001b[0m\u001b[0;34m,\u001b[0m \u001b[0;34m**\u001b[0m\u001b[0mkwargs\u001b[0m\u001b[0;34m)\u001b[0m\u001b[0;34m\u001b[0m\u001b[0;34m\u001b[0m\u001b[0m\n\u001b[0m\u001b[1;32m   1519\u001b[0m \u001b[0;34m\u001b[0m\u001b[0m\n\u001b[1;32m   1520\u001b[0m     \u001b[0;32mdef\u001b[0m \u001b[0m_call_impl\u001b[0m\u001b[0;34m(\u001b[0m\u001b[0mself\u001b[0m\u001b[0;34m,\u001b[0m \u001b[0;34m*\u001b[0m\u001b[0margs\u001b[0m\u001b[0;34m,\u001b[0m \u001b[0;34m**\u001b[0m\u001b[0mkwargs\u001b[0m\u001b[0;34m)\u001b[0m\u001b[0;34m:\u001b[0m\u001b[0;34m\u001b[0m\u001b[0;34m\u001b[0m\u001b[0m\n",
            "\u001b[0;32m/usr/local/lib/python3.10/dist-packages/torch/nn/modules/module.py\u001b[0m in \u001b[0;36m_call_impl\u001b[0;34m(self, *args, **kwargs)\u001b[0m\n\u001b[1;32m   1525\u001b[0m                 \u001b[0;32mor\u001b[0m \u001b[0m_global_backward_pre_hooks\u001b[0m \u001b[0;32mor\u001b[0m \u001b[0m_global_backward_hooks\u001b[0m\u001b[0;34m\u001b[0m\u001b[0;34m\u001b[0m\u001b[0m\n\u001b[1;32m   1526\u001b[0m                 or _global_forward_hooks or _global_forward_pre_hooks):\n\u001b[0;32m-> 1527\u001b[0;31m             \u001b[0;32mreturn\u001b[0m \u001b[0mforward_call\u001b[0m\u001b[0;34m(\u001b[0m\u001b[0;34m*\u001b[0m\u001b[0margs\u001b[0m\u001b[0;34m,\u001b[0m \u001b[0;34m**\u001b[0m\u001b[0mkwargs\u001b[0m\u001b[0;34m)\u001b[0m\u001b[0;34m\u001b[0m\u001b[0;34m\u001b[0m\u001b[0m\n\u001b[0m\u001b[1;32m   1528\u001b[0m \u001b[0;34m\u001b[0m\u001b[0m\n\u001b[1;32m   1529\u001b[0m         \u001b[0;32mtry\u001b[0m\u001b[0;34m:\u001b[0m\u001b[0;34m\u001b[0m\u001b[0;34m\u001b[0m\u001b[0m\n",
            "\u001b[0;32m<ipython-input-47-e6c003b06fde>\u001b[0m in \u001b[0;36mforward\u001b[0;34m(self, x)\u001b[0m\n\u001b[1;32m     12\u001b[0m \u001b[0;34m\u001b[0m\u001b[0m\n\u001b[1;32m     13\u001b[0m   \u001b[0;32mdef\u001b[0m \u001b[0mforward\u001b[0m\u001b[0;34m(\u001b[0m\u001b[0mself\u001b[0m\u001b[0;34m,\u001b[0m\u001b[0mx\u001b[0m\u001b[0;34m)\u001b[0m\u001b[0;34m:\u001b[0m\u001b[0;34m\u001b[0m\u001b[0;34m\u001b[0m\u001b[0m\n\u001b[0;32m---> 14\u001b[0;31m     \u001b[0mthrough\u001b[0m \u001b[0;34m=\u001b[0m \u001b[0mself\u001b[0m\u001b[0;34m.\u001b[0m\u001b[0mlinear_relu_concat\u001b[0m\u001b[0;34m(\u001b[0m\u001b[0mx\u001b[0m\u001b[0;34m)\u001b[0m\u001b[0;34m\u001b[0m\u001b[0;34m\u001b[0m\u001b[0m\n\u001b[0m\u001b[1;32m     15\u001b[0m     \u001b[0;31m# print(x.shape,\" and \", through.shape)\u001b[0m\u001b[0;34m\u001b[0m\u001b[0;34m\u001b[0m\u001b[0m\n\u001b[1;32m     16\u001b[0m     \u001b[0mconcat\u001b[0m \u001b[0;34m=\u001b[0m \u001b[0mtorch\u001b[0m\u001b[0;34m.\u001b[0m\u001b[0mcat\u001b[0m\u001b[0;34m(\u001b[0m\u001b[0;34m[\u001b[0m\u001b[0mx\u001b[0m\u001b[0;34m,\u001b[0m\u001b[0mthrough\u001b[0m\u001b[0;34m]\u001b[0m\u001b[0;34m,\u001b[0m \u001b[0mdim\u001b[0m \u001b[0;34m=\u001b[0m \u001b[0;36m1\u001b[0m\u001b[0;34m)\u001b[0m\u001b[0;34m\u001b[0m\u001b[0;34m\u001b[0m\u001b[0m\n",
            "\u001b[0;32m/usr/local/lib/python3.10/dist-packages/torch/nn/modules/module.py\u001b[0m in \u001b[0;36m_wrapped_call_impl\u001b[0;34m(self, *args, **kwargs)\u001b[0m\n\u001b[1;32m   1516\u001b[0m             \u001b[0;32mreturn\u001b[0m \u001b[0mself\u001b[0m\u001b[0;34m.\u001b[0m\u001b[0m_compiled_call_impl\u001b[0m\u001b[0;34m(\u001b[0m\u001b[0;34m*\u001b[0m\u001b[0margs\u001b[0m\u001b[0;34m,\u001b[0m \u001b[0;34m**\u001b[0m\u001b[0mkwargs\u001b[0m\u001b[0;34m)\u001b[0m  \u001b[0;31m# type: ignore[misc]\u001b[0m\u001b[0;34m\u001b[0m\u001b[0;34m\u001b[0m\u001b[0m\n\u001b[1;32m   1517\u001b[0m         \u001b[0;32melse\u001b[0m\u001b[0;34m:\u001b[0m\u001b[0;34m\u001b[0m\u001b[0;34m\u001b[0m\u001b[0m\n\u001b[0;32m-> 1518\u001b[0;31m             \u001b[0;32mreturn\u001b[0m \u001b[0mself\u001b[0m\u001b[0;34m.\u001b[0m\u001b[0m_call_impl\u001b[0m\u001b[0;34m(\u001b[0m\u001b[0;34m*\u001b[0m\u001b[0margs\u001b[0m\u001b[0;34m,\u001b[0m \u001b[0;34m**\u001b[0m\u001b[0mkwargs\u001b[0m\u001b[0;34m)\u001b[0m\u001b[0;34m\u001b[0m\u001b[0;34m\u001b[0m\u001b[0m\n\u001b[0m\u001b[1;32m   1519\u001b[0m \u001b[0;34m\u001b[0m\u001b[0m\n\u001b[1;32m   1520\u001b[0m     \u001b[0;32mdef\u001b[0m \u001b[0m_call_impl\u001b[0m\u001b[0;34m(\u001b[0m\u001b[0mself\u001b[0m\u001b[0;34m,\u001b[0m \u001b[0;34m*\u001b[0m\u001b[0margs\u001b[0m\u001b[0;34m,\u001b[0m \u001b[0;34m**\u001b[0m\u001b[0mkwargs\u001b[0m\u001b[0;34m)\u001b[0m\u001b[0;34m:\u001b[0m\u001b[0;34m\u001b[0m\u001b[0;34m\u001b[0m\u001b[0m\n",
            "\u001b[0;32m/usr/local/lib/python3.10/dist-packages/torch/nn/modules/module.py\u001b[0m in \u001b[0;36m_call_impl\u001b[0;34m(self, *args, **kwargs)\u001b[0m\n\u001b[1;32m   1525\u001b[0m                 \u001b[0;32mor\u001b[0m \u001b[0m_global_backward_pre_hooks\u001b[0m \u001b[0;32mor\u001b[0m \u001b[0m_global_backward_hooks\u001b[0m\u001b[0;34m\u001b[0m\u001b[0;34m\u001b[0m\u001b[0m\n\u001b[1;32m   1526\u001b[0m                 or _global_forward_hooks or _global_forward_pre_hooks):\n\u001b[0;32m-> 1527\u001b[0;31m             \u001b[0;32mreturn\u001b[0m \u001b[0mforward_call\u001b[0m\u001b[0;34m(\u001b[0m\u001b[0;34m*\u001b[0m\u001b[0margs\u001b[0m\u001b[0;34m,\u001b[0m \u001b[0;34m**\u001b[0m\u001b[0mkwargs\u001b[0m\u001b[0;34m)\u001b[0m\u001b[0;34m\u001b[0m\u001b[0;34m\u001b[0m\u001b[0m\n\u001b[0m\u001b[1;32m   1528\u001b[0m \u001b[0;34m\u001b[0m\u001b[0m\n\u001b[1;32m   1529\u001b[0m         \u001b[0;32mtry\u001b[0m\u001b[0;34m:\u001b[0m\u001b[0;34m\u001b[0m\u001b[0;34m\u001b[0m\u001b[0m\n",
            "\u001b[0;32m/usr/local/lib/python3.10/dist-packages/torch/nn/modules/container.py\u001b[0m in \u001b[0;36mforward\u001b[0;34m(self, input)\u001b[0m\n\u001b[1;32m    213\u001b[0m     \u001b[0;32mdef\u001b[0m \u001b[0mforward\u001b[0m\u001b[0;34m(\u001b[0m\u001b[0mself\u001b[0m\u001b[0;34m,\u001b[0m \u001b[0minput\u001b[0m\u001b[0;34m)\u001b[0m\u001b[0;34m:\u001b[0m\u001b[0;34m\u001b[0m\u001b[0;34m\u001b[0m\u001b[0m\n\u001b[1;32m    214\u001b[0m         \u001b[0;32mfor\u001b[0m \u001b[0mmodule\u001b[0m \u001b[0;32min\u001b[0m \u001b[0mself\u001b[0m\u001b[0;34m:\u001b[0m\u001b[0;34m\u001b[0m\u001b[0;34m\u001b[0m\u001b[0m\n\u001b[0;32m--> 215\u001b[0;31m             \u001b[0minput\u001b[0m \u001b[0;34m=\u001b[0m \u001b[0mmodule\u001b[0m\u001b[0;34m(\u001b[0m\u001b[0minput\u001b[0m\u001b[0;34m)\u001b[0m\u001b[0;34m\u001b[0m\u001b[0;34m\u001b[0m\u001b[0m\n\u001b[0m\u001b[1;32m    216\u001b[0m         \u001b[0;32mreturn\u001b[0m \u001b[0minput\u001b[0m\u001b[0;34m\u001b[0m\u001b[0;34m\u001b[0m\u001b[0m\n\u001b[1;32m    217\u001b[0m \u001b[0;34m\u001b[0m\u001b[0m\n",
            "\u001b[0;32m/usr/local/lib/python3.10/dist-packages/torch/nn/modules/module.py\u001b[0m in \u001b[0;36m_wrapped_call_impl\u001b[0;34m(self, *args, **kwargs)\u001b[0m\n\u001b[1;32m   1516\u001b[0m             \u001b[0;32mreturn\u001b[0m \u001b[0mself\u001b[0m\u001b[0;34m.\u001b[0m\u001b[0m_compiled_call_impl\u001b[0m\u001b[0;34m(\u001b[0m\u001b[0;34m*\u001b[0m\u001b[0margs\u001b[0m\u001b[0;34m,\u001b[0m \u001b[0;34m**\u001b[0m\u001b[0mkwargs\u001b[0m\u001b[0;34m)\u001b[0m  \u001b[0;31m# type: ignore[misc]\u001b[0m\u001b[0;34m\u001b[0m\u001b[0;34m\u001b[0m\u001b[0m\n\u001b[1;32m   1517\u001b[0m         \u001b[0;32melse\u001b[0m\u001b[0;34m:\u001b[0m\u001b[0;34m\u001b[0m\u001b[0;34m\u001b[0m\u001b[0m\n\u001b[0;32m-> 1518\u001b[0;31m             \u001b[0;32mreturn\u001b[0m \u001b[0mself\u001b[0m\u001b[0;34m.\u001b[0m\u001b[0m_call_impl\u001b[0m\u001b[0;34m(\u001b[0m\u001b[0;34m*\u001b[0m\u001b[0margs\u001b[0m\u001b[0;34m,\u001b[0m \u001b[0;34m**\u001b[0m\u001b[0mkwargs\u001b[0m\u001b[0;34m)\u001b[0m\u001b[0;34m\u001b[0m\u001b[0;34m\u001b[0m\u001b[0m\n\u001b[0m\u001b[1;32m   1519\u001b[0m \u001b[0;34m\u001b[0m\u001b[0m\n\u001b[1;32m   1520\u001b[0m     \u001b[0;32mdef\u001b[0m \u001b[0m_call_impl\u001b[0m\u001b[0;34m(\u001b[0m\u001b[0mself\u001b[0m\u001b[0;34m,\u001b[0m \u001b[0;34m*\u001b[0m\u001b[0margs\u001b[0m\u001b[0;34m,\u001b[0m \u001b[0;34m**\u001b[0m\u001b[0mkwargs\u001b[0m\u001b[0;34m)\u001b[0m\u001b[0;34m:\u001b[0m\u001b[0;34m\u001b[0m\u001b[0;34m\u001b[0m\u001b[0m\n",
            "\u001b[0;32m/usr/local/lib/python3.10/dist-packages/torch/nn/modules/module.py\u001b[0m in \u001b[0;36m_call_impl\u001b[0;34m(self, *args, **kwargs)\u001b[0m\n\u001b[1;32m   1525\u001b[0m                 \u001b[0;32mor\u001b[0m \u001b[0m_global_backward_pre_hooks\u001b[0m \u001b[0;32mor\u001b[0m \u001b[0m_global_backward_hooks\u001b[0m\u001b[0;34m\u001b[0m\u001b[0;34m\u001b[0m\u001b[0m\n\u001b[1;32m   1526\u001b[0m                 or _global_forward_hooks or _global_forward_pre_hooks):\n\u001b[0;32m-> 1527\u001b[0;31m             \u001b[0;32mreturn\u001b[0m \u001b[0mforward_call\u001b[0m\u001b[0;34m(\u001b[0m\u001b[0;34m*\u001b[0m\u001b[0margs\u001b[0m\u001b[0;34m,\u001b[0m \u001b[0;34m**\u001b[0m\u001b[0mkwargs\u001b[0m\u001b[0;34m)\u001b[0m\u001b[0;34m\u001b[0m\u001b[0;34m\u001b[0m\u001b[0m\n\u001b[0m\u001b[1;32m   1528\u001b[0m \u001b[0;34m\u001b[0m\u001b[0m\n\u001b[1;32m   1529\u001b[0m         \u001b[0;32mtry\u001b[0m\u001b[0;34m:\u001b[0m\u001b[0;34m\u001b[0m\u001b[0;34m\u001b[0m\u001b[0m\n",
            "\u001b[0;32m/usr/local/lib/python3.10/dist-packages/torch/nn/modules/linear.py\u001b[0m in \u001b[0;36mforward\u001b[0;34m(self, input)\u001b[0m\n\u001b[1;32m    112\u001b[0m \u001b[0;34m\u001b[0m\u001b[0m\n\u001b[1;32m    113\u001b[0m     \u001b[0;32mdef\u001b[0m \u001b[0mforward\u001b[0m\u001b[0;34m(\u001b[0m\u001b[0mself\u001b[0m\u001b[0;34m,\u001b[0m \u001b[0minput\u001b[0m\u001b[0;34m:\u001b[0m \u001b[0mTensor\u001b[0m\u001b[0;34m)\u001b[0m \u001b[0;34m->\u001b[0m \u001b[0mTensor\u001b[0m\u001b[0;34m:\u001b[0m\u001b[0;34m\u001b[0m\u001b[0;34m\u001b[0m\u001b[0m\n\u001b[0;32m--> 114\u001b[0;31m         \u001b[0;32mreturn\u001b[0m \u001b[0mF\u001b[0m\u001b[0;34m.\u001b[0m\u001b[0mlinear\u001b[0m\u001b[0;34m(\u001b[0m\u001b[0minput\u001b[0m\u001b[0;34m,\u001b[0m \u001b[0mself\u001b[0m\u001b[0;34m.\u001b[0m\u001b[0mweight\u001b[0m\u001b[0;34m,\u001b[0m \u001b[0mself\u001b[0m\u001b[0;34m.\u001b[0m\u001b[0mbias\u001b[0m\u001b[0;34m)\u001b[0m\u001b[0;34m\u001b[0m\u001b[0;34m\u001b[0m\u001b[0m\n\u001b[0m\u001b[1;32m    115\u001b[0m \u001b[0;34m\u001b[0m\u001b[0m\n\u001b[1;32m    116\u001b[0m     \u001b[0;32mdef\u001b[0m \u001b[0mextra_repr\u001b[0m\u001b[0;34m(\u001b[0m\u001b[0mself\u001b[0m\u001b[0;34m)\u001b[0m \u001b[0;34m->\u001b[0m \u001b[0mstr\u001b[0m\u001b[0;34m:\u001b[0m\u001b[0;34m\u001b[0m\u001b[0;34m\u001b[0m\u001b[0m\n",
            "\u001b[0;31mKeyboardInterrupt\u001b[0m: "
          ]
        }
      ]
    },
    {
      "cell_type": "markdown",
      "source": [
        "###Deep Wide Two"
      ],
      "metadata": {
        "id": "DVJxh0JasI4z"
      }
    },
    {
      "cell_type": "code",
      "source": [
        "class XCaliNet(nn.Module):\n",
        "  def __init__(self):\n",
        "    super().__init__()\n",
        "    self.deep_seq = nn.Sequential(\n",
        "        nn.Linear(6,30),\n",
        "        nn.ReLU(),\n",
        "        nn.Linear(30,30),\n",
        "        nn.ReLU()\n",
        "    )\n",
        "    self.op = nn.Linear(35,1)\n",
        "\n",
        "  def forward(self, x):\n",
        "    wide, deep = x\n",
        "    # print(\"z\")\n",
        "    # print(deep.shape)\n",
        "    # print(wide.shape)\n",
        "    deep = self.deep_seq(deep)\n",
        "    # print(\"z\")\n",
        "    concat = torch.cat([deep, wide], axis = 1)\n",
        "    # print(\"z\")\n",
        "    output = self.op(concat)\n",
        "    # print(\"z\")\n",
        "    return output"
      ],
      "metadata": {
        "id": "J--cRFibT8yc"
      },
      "execution_count": 132,
      "outputs": []
    },
    {
      "cell_type": "code",
      "source": [
        "xcal = XCaliNet().to(device)"
      ],
      "metadata": {
        "id": "ONaptN6vWgqR"
      },
      "execution_count": 133,
      "outputs": []
    },
    {
      "cell_type": "code",
      "source": [
        "def train_dnw(model, dataloader, loss_fn, optimizer):\n",
        "  size = len(dataloader.dataset)\n",
        "  model.train()\n",
        "\n",
        "  for batch, (X,y) in enumerate(dataloader):\n",
        "    X_a, X_b = X[:, :5], X[:, 2:]\n",
        "    X_a, X_b, y = X_a.to(device), X_b.to(device), y.to(device)\n",
        "    X = X_a, X_b\n",
        "    pred = model(X)\n",
        "\n",
        "    loss = loss_fn(pred, y)\n",
        "\n",
        "    loss.backward()\n",
        "    optimizer.step()\n",
        "    optimizer.zero_grad()\n",
        "\n",
        "    if batch % 100 == 0:\n",
        "      current = (1+batch)*size\n",
        "      print(f\"loss:{loss.item():>8f}, current:{current:>5d}\")"
      ],
      "metadata": {
        "id": "fFlUj4ez87HN"
      },
      "execution_count": 134,
      "outputs": []
    },
    {
      "cell_type": "code",
      "source": [
        "def valid_dnw(model, dataloader, loss_fn):\n",
        "  size = len(dataloader.dataset)\n",
        "  num_batch = len(dataloader)\n",
        "  model.eval()\n",
        "\n",
        "  loss, metrics = 0, 0\n",
        "  with torch.no_grad():\n",
        "    for X, y in dataloader:\n",
        "      X_a, X_b = X[:, :5], X[:, 2:]\n",
        "      X_a, X_b, y = X_a.to(device), X_b.to(device), y.to(device)\n",
        "      X = X_a, X_b\n",
        "      pred = model(X)\n",
        "      l = loss_fn(pred, y)\n",
        "      loss += l.item()\n",
        "      metrics += torch.sqrt(l).item()\n",
        "\n",
        "  loss /= num_batch\n",
        "  metrics /= num_batch\n",
        "  print(f\"mse={loss:>8f}, rmse={metrics:>8f}\")"
      ],
      "metadata": {
        "id": "J_qO1qomAZoB"
      },
      "execution_count": 137,
      "outputs": []
    },
    {
      "cell_type": "code",
      "source": [
        "for i in range(20):\n",
        "  train_dnw(xcal, train_dataloader, loss_fn, optimizer)\n",
        "  valid_dnw(xcal, valid_dataloader, loss_fn)"
      ],
      "metadata": {
        "colab": {
          "base_uri": "https://localhost:8080/"
        },
        "id": "__48Hf1vCW99",
        "outputId": "84c3578d-c782-43c2-a922-289657cae2e9"
      },
      "execution_count": 138,
      "outputs": [
        {
          "output_type": "stream",
          "name": "stderr",
          "text": [
            "/usr/local/lib/python3.10/dist-packages/torch/nn/modules/loss.py:535: UserWarning: Using a target size (torch.Size([32])) that is different to the input size (torch.Size([32, 1])). This will likely lead to incorrect results due to broadcasting. Please ensure they have the same size.\n",
            "  return F.mse_loss(input, target, reduction=self.reduction)\n"
          ]
        },
        {
          "output_type": "stream",
          "name": "stdout",
          "text": [
            "loss:5.677817, current:16512\n",
            "loss:0.586614, current:1667712\n",
            "loss:7.678383, current:3318912\n",
            "loss:0.745359, current:4970112\n",
            "loss:1.691922, current:6621312\n",
            "loss:14.158963, current:8272512\n",
            "mse=9.641601, rmse=2.978421\n",
            "loss:5.677817, current:16512\n"
          ]
        },
        {
          "output_type": "stream",
          "name": "stderr",
          "text": [
            "/usr/local/lib/python3.10/dist-packages/torch/nn/modules/loss.py:535: UserWarning: Using a target size (torch.Size([16])) that is different to the input size (torch.Size([16, 1])). This will likely lead to incorrect results due to broadcasting. Please ensure they have the same size.\n",
            "  return F.mse_loss(input, target, reduction=self.reduction)\n"
          ]
        },
        {
          "output_type": "stream",
          "name": "stdout",
          "text": [
            "loss:0.586614, current:1667712\n",
            "loss:7.678383, current:3318912\n",
            "loss:0.745359, current:4970112\n",
            "loss:1.691922, current:6621312\n",
            "loss:14.158963, current:8272512\n",
            "mse=9.641601, rmse=2.978421\n",
            "loss:5.677817, current:16512\n",
            "loss:0.586614, current:1667712\n",
            "loss:7.678383, current:3318912\n",
            "loss:0.745359, current:4970112\n",
            "loss:1.691922, current:6621312\n",
            "loss:14.158963, current:8272512\n",
            "mse=9.641601, rmse=2.978421\n",
            "loss:5.677817, current:16512\n",
            "loss:0.586614, current:1667712\n",
            "loss:7.678383, current:3318912\n",
            "loss:0.745359, current:4970112\n",
            "loss:1.691922, current:6621312\n",
            "loss:14.158963, current:8272512\n",
            "mse=9.641601, rmse=2.978421\n",
            "loss:5.677817, current:16512\n",
            "loss:0.586614, current:1667712\n",
            "loss:7.678383, current:3318912\n",
            "loss:0.745359, current:4970112\n",
            "loss:1.691922, current:6621312\n",
            "loss:14.158963, current:8272512\n",
            "mse=9.641601, rmse=2.978421\n",
            "loss:5.677817, current:16512\n",
            "loss:0.586614, current:1667712\n",
            "loss:7.678383, current:3318912\n",
            "loss:0.745359, current:4970112\n",
            "loss:1.691922, current:6621312\n",
            "loss:14.158963, current:8272512\n",
            "mse=9.641601, rmse=2.978421\n",
            "loss:5.677817, current:16512\n",
            "loss:0.586614, current:1667712\n",
            "loss:7.678383, current:3318912\n",
            "loss:0.745359, current:4970112\n",
            "loss:1.691922, current:6621312\n",
            "loss:14.158963, current:8272512\n",
            "mse=9.641601, rmse=2.978421\n",
            "loss:5.677817, current:16512\n",
            "loss:0.586614, current:1667712\n",
            "loss:7.678383, current:3318912\n",
            "loss:0.745359, current:4970112\n",
            "loss:1.691922, current:6621312\n",
            "loss:14.158963, current:8272512\n",
            "mse=9.641601, rmse=2.978421\n",
            "loss:5.677817, current:16512\n",
            "loss:0.586614, current:1667712\n",
            "loss:7.678383, current:3318912\n",
            "loss:0.745359, current:4970112\n",
            "loss:1.691922, current:6621312\n",
            "loss:14.158963, current:8272512\n",
            "mse=9.641601, rmse=2.978421\n",
            "loss:5.677817, current:16512\n",
            "loss:0.586614, current:1667712\n",
            "loss:7.678383, current:3318912\n",
            "loss:0.745359, current:4970112\n",
            "loss:1.691922, current:6621312\n",
            "loss:14.158963, current:8272512\n",
            "mse=9.641601, rmse=2.978421\n",
            "loss:5.677817, current:16512\n",
            "loss:0.586614, current:1667712\n",
            "loss:7.678383, current:3318912\n",
            "loss:0.745359, current:4970112\n",
            "loss:1.691922, current:6621312\n",
            "loss:14.158963, current:8272512\n",
            "mse=9.641601, rmse=2.978421\n",
            "loss:5.677817, current:16512\n",
            "loss:0.586614, current:1667712\n",
            "loss:7.678383, current:3318912\n",
            "loss:0.745359, current:4970112\n",
            "loss:1.691922, current:6621312\n",
            "loss:14.158963, current:8272512\n",
            "mse=9.641601, rmse=2.978421\n",
            "loss:5.677817, current:16512\n",
            "loss:0.586614, current:1667712\n",
            "loss:7.678383, current:3318912\n",
            "loss:0.745359, current:4970112\n",
            "loss:1.691922, current:6621312\n",
            "loss:14.158963, current:8272512\n",
            "mse=9.641601, rmse=2.978421\n",
            "loss:5.677817, current:16512\n",
            "loss:0.586614, current:1667712\n",
            "loss:7.678383, current:3318912\n",
            "loss:0.745359, current:4970112\n",
            "loss:1.691922, current:6621312\n",
            "loss:14.158963, current:8272512\n",
            "mse=9.641601, rmse=2.978421\n",
            "loss:5.677817, current:16512\n",
            "loss:0.586614, current:1667712\n",
            "loss:7.678383, current:3318912\n",
            "loss:0.745359, current:4970112\n",
            "loss:1.691922, current:6621312\n",
            "loss:14.158963, current:8272512\n",
            "mse=9.641601, rmse=2.978421\n",
            "loss:5.677817, current:16512\n",
            "loss:0.586614, current:1667712\n",
            "loss:7.678383, current:3318912\n",
            "loss:0.745359, current:4970112\n",
            "loss:1.691922, current:6621312\n",
            "loss:14.158963, current:8272512\n",
            "mse=9.641601, rmse=2.978421\n",
            "loss:5.677817, current:16512\n",
            "loss:0.586614, current:1667712\n",
            "loss:7.678383, current:3318912\n",
            "loss:0.745359, current:4970112\n",
            "loss:1.691922, current:6621312\n",
            "loss:14.158963, current:8272512\n",
            "mse=9.641601, rmse=2.978421\n",
            "loss:5.677817, current:16512\n",
            "loss:0.586614, current:1667712\n",
            "loss:7.678383, current:3318912\n",
            "loss:0.745359, current:4970112\n",
            "loss:1.691922, current:6621312\n",
            "loss:14.158963, current:8272512\n",
            "mse=9.641601, rmse=2.978421\n",
            "loss:5.677817, current:16512\n",
            "loss:0.586614, current:1667712\n",
            "loss:7.678383, current:3318912\n",
            "loss:0.745359, current:4970112\n",
            "loss:1.691922, current:6621312\n",
            "loss:14.158963, current:8272512\n",
            "mse=9.641601, rmse=2.978421\n",
            "loss:5.677817, current:16512\n",
            "loss:0.586614, current:1667712\n",
            "loss:7.678383, current:3318912\n",
            "loss:0.745359, current:4970112\n",
            "loss:1.691922, current:6621312\n",
            "loss:14.158963, current:8272512\n",
            "mse=9.641601, rmse=2.978421\n"
          ]
        }
      ]
    },
    {
      "cell_type": "code",
      "source": [],
      "metadata": {
        "id": "4PFd3Y7sDCMB"
      },
      "execution_count": null,
      "outputs": []
    }
  ]
}